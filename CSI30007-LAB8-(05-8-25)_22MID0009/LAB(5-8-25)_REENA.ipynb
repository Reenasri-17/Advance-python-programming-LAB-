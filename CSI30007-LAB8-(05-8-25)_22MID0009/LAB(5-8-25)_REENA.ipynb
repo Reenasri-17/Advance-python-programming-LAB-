{
 "cells": [
  {
   "cell_type": "markdown",
   "id": "1f06a2da-ef27-48a5-9d2e-0e1ab94204a8",
   "metadata": {},
   "source": [
    "LAMBDA FUNCTION"
   ]
  },
  {
   "cell_type": "code",
   "execution_count": null,
   "id": "64de97c8-b5b8-4e90-83e0-a26012b28982",
   "metadata": {},
   "outputs": [],
   "source": [
    "#1.Simple 1-line function"
   ]
  },
  {
   "cell_type": "code",
   "execution_count": 3,
   "id": "24beeba5-837e-4ee6-b428-cdab01242fbe",
   "metadata": {},
   "outputs": [
    {
     "data": {
      "text/plain": [
       "8"
      ]
     },
     "execution_count": 3,
     "metadata": {},
     "output_type": "execute_result"
    }
   ],
   "source": [
    "def double(x): #normal function\n",
    "    return x*2\n",
    "double(4) #function call"
   ]
  },
  {
   "cell_type": "code",
   "execution_count": 28,
   "id": "90197027-2803-4dbe-900b-c13bf60f77a5",
   "metadata": {},
   "outputs": [
    {
     "data": {
      "text/plain": [
       "4"
      ]
     },
     "execution_count": 28,
     "metadata": {},
     "output_type": "execute_result"
    }
   ],
   "source": [
    "y=lambda x:x*2 #using lambda function to double te number\n",
    "y(2)"
   ]
  },
  {
   "cell_type": "code",
   "execution_count": 30,
   "id": "8790f5f4-4962-4f58-8062-4e0c8cbd8d5e",
   "metadata": {},
   "outputs": [
    {
     "data": {
      "text/plain": [
       "5"
      ]
     },
     "execution_count": 30,
     "metadata": {},
     "output_type": "execute_result"
    }
   ],
   "source": [
    "def add(x,y): #function to add 2 numbers\n",
    "    return x+y\n",
    "add(2,3) #function call"
   ]
  },
  {
   "cell_type": "code",
   "execution_count": 29,
   "id": "52e75174-82bd-4f26-b827-c05e7fe1b595",
   "metadata": {},
   "outputs": [
    {
     "data": {
      "text/plain": [
       "5"
      ]
     },
     "execution_count": 29,
     "metadata": {},
     "output_type": "execute_result"
    }
   ],
   "source": [
    "y=lambda x,y:x+y #using lambda function\n",
    "y(2,3) #calling lambda function"
   ]
  },
  {
   "cell_type": "code",
   "execution_count": 31,
   "id": "037b194f-43dd-4b82-94d1-abeb10667ee1",
   "metadata": {},
   "outputs": [
    {
     "data": {
      "text/plain": [
       "6"
      ]
     },
     "execution_count": 31,
     "metadata": {},
     "output_type": "execute_result"
    }
   ],
   "source": [
    "def mx(x,y): #function to ind the maximum of 2 numbers\n",
    "    if x>y:\n",
    "        return x #x is the maximum\n",
    "    else:\n",
    "        return y #y is the maximum\n",
    "mx(5,6) #function call"
   ]
  },
  {
   "cell_type": "code",
   "execution_count": 32,
   "id": "51c3fbb2-db56-449c-8c6c-5776837c5874",
   "metadata": {},
   "outputs": [
    {
     "data": {
      "text/plain": [
       "6"
      ]
     },
     "execution_count": 32,
     "metadata": {},
     "output_type": "execute_result"
    }
   ],
   "source": [
    "x=lambda x,y : x if x>y else y #using lambda function to find the max\n",
    "x(5,6)"
   ]
  },
  {
   "cell_type": "markdown",
   "id": "30ce4e4f-e546-4154-bfb5-a53d687cd660",
   "metadata": {},
   "source": [
    "ITERABLES"
   ]
  },
  {
   "cell_type": "code",
   "execution_count": 4,
   "id": "89e04346-49d5-4006-8c6c-4ef9a205fdd5",
   "metadata": {},
   "outputs": [
    {
     "name": "stdout",
     "output_type": "stream",
     "text": [
      "1\n",
      "2\n",
      "3\n",
      "4\n",
      "5\n"
     ]
    }
   ],
   "source": [
    "num=[1,2,3,4,5] #LIST IS ITERABLE\n",
    "for i in num: #traversal\n",
    "    print(i)"
   ]
  },
  {
   "cell_type": "code",
   "execution_count": 5,
   "id": "04417267-29c7-4af7-a3a9-3f09f43175f7",
   "metadata": {},
   "outputs": [
    {
     "name": "stdout",
     "output_type": "stream",
     "text": [
      "1\n",
      "2\n",
      "3\n",
      "4\n",
      "5\n"
     ]
    }
   ],
   "source": [
    "num=(1,2,3,4,5) #TUPLE IS ITERABLE\n",
    "for i in num: #traversal\n",
    "    print(i)"
   ]
  },
  {
   "cell_type": "code",
   "execution_count": 8,
   "id": "3000fc9e-bdd8-441c-86bb-ddcb9531a4ce",
   "metadata": {},
   "outputs": [
    {
     "name": "stdout",
     "output_type": "stream",
     "text": [
      "1\n",
      "2\n",
      "3\n",
      "4\n",
      "5\n"
     ]
    }
   ],
   "source": [
    "num={1:'a',2:'b',3:'c',4:'d',5:'e'} #DICTIONARY IS ITERABLE\n",
    "for i in num: #traversal\n",
    "    print(i) #PRINTING KEYS"
   ]
  },
  {
   "cell_type": "code",
   "execution_count": 10,
   "id": "b38b7dff-27af-4487-9a6a-5c7de73307a0",
   "metadata": {},
   "outputs": [
    {
     "name": "stdout",
     "output_type": "stream",
     "text": [
      "R\n",
      "E\n",
      "E\n",
      "N\n",
      "A\n",
      "S\n",
      "R\n",
      "I\n"
     ]
    }
   ],
   "source": [
    "NUM=\"REENASRI\" #STRINGS IS ITERABLE\n",
    "for i in NUM: #traversal\n",
    "    print(i) "
   ]
  },
  {
   "cell_type": "code",
   "execution_count": 14,
   "id": "f40b3530-58f3-4713-a098-e2e3fa7e6928",
   "metadata": {},
   "outputs": [
    {
     "ename": "TypeError",
     "evalue": "'int' object is not iterable",
     "output_type": "error",
     "traceback": [
      "\u001b[0;31m---------------------------------------------------------------------------\u001b[0m",
      "\u001b[0;31mTypeError\u001b[0m                                 Traceback (most recent call last)",
      "Cell \u001b[0;32mIn[14], line 2\u001b[0m\n\u001b[1;32m      1\u001b[0m c\u001b[38;5;241m=\u001b[39m\u001b[38;5;241m456789\u001b[39m \u001b[38;5;66;03m#INTEGERS ARE NOT ITERABLE\u001b[39;00m\n\u001b[0;32m----> 2\u001b[0m \u001b[38;5;28;01mfor\u001b[39;00m i \u001b[38;5;129;01min\u001b[39;00m c: \u001b[38;5;66;03m#traversal\u001b[39;00m\n\u001b[1;32m      3\u001b[0m     \u001b[38;5;28mprint\u001b[39m(i)\n",
      "\u001b[0;31mTypeError\u001b[0m: 'int' object is not iterable"
     ]
    }
   ],
   "source": [
    "c=456789 #INTEGERS ARE NOT ITERABLE\n",
    "for i in c: #traversal\n",
    "    print(i) \n"
   ]
  },
  {
   "cell_type": "markdown",
   "id": "a9ac2987-4862-4e95-93b5-6594b83d28d6",
   "metadata": {},
   "source": [
    "Fixing the error that integers are not iterable"
   ]
  },
  {
   "cell_type": "code",
   "execution_count": 16,
   "id": "7d7a1981-437c-4dd4-81c4-573cec861b73",
   "metadata": {},
   "outputs": [
    {
     "name": "stdout",
     "output_type": "stream",
     "text": [
      "[4, 5, 6, 7, 8, 9]\n"
     ]
    }
   ],
   "source": [
    "c=456789 #integer assignment\n",
    "digits=[ int(d) for d in str(c)] #converting integer into strings and fetching character wise\n",
    "print(digits) #it gives us a list of elements"
   ]
  },
  {
   "cell_type": "markdown",
   "id": "7fbe581a-aa7a-4468-bd5e-16bc76bd4911",
   "metadata": {},
   "source": [
    "CHECKING IF A DATATYPE IS ITERABLE"
   ]
  },
  {
   "cell_type": "code",
   "execution_count": 15,
   "id": "450cf721-cc61-4671-9b19-47a01f079c51",
   "metadata": {},
   "outputs": [
    {
     "name": "stdout",
     "output_type": "stream",
     "text": [
      "['__add__', '__class__', '__class_getitem__', '__contains__', '__delattr__', '__delitem__', '__dir__', '__doc__', '__eq__', '__format__', '__ge__', '__getattribute__', '__getitem__', '__getstate__', '__gt__', '__hash__', '__iadd__', '__imul__', '__init__', '__init_subclass__', '__iter__', '__le__', '__len__', '__lt__', '__mul__', '__ne__', '__new__', '__reduce__', '__reduce_ex__', '__repr__', '__reversed__', '__rmul__', '__setattr__', '__setitem__', '__sizeof__', '__str__', '__subclasshook__', 'append', 'clear', 'copy', 'count', 'extend', 'index', 'insert', 'pop', 'remove', 'reverse', 'sort']\n"
     ]
    }
   ],
   "source": [
    "num=[1,2,3,4,5] #LIST\n",
    "print(dir(num)) #To check if the datatype suport__iter__"
   ]
  },
  {
   "cell_type": "markdown",
   "id": "1b47676f-a997-4f26-acee-d063bbf9e168",
   "metadata": {},
   "source": [
    "COLLECTIONS"
   ]
  },
  {
   "cell_type": "code",
   "execution_count": 17,
   "id": "57b02421-7dfa-49f8-9194-f9a143154b65",
   "metadata": {},
   "outputs": [
    {
     "name": "stdout",
     "output_type": "stream",
     "text": [
      "<list_iterator object at 0x7603145736a0>\n",
      "<class 'list'>\n",
      "<class 'list_iterator'>\n"
     ]
    }
   ],
   "source": [
    "names=['Ema','Tom','Hinton'] #list of strings\n",
    "looper=names.__iter__() #collections __iter__\n",
    "print(looper) #printing the elements in looper\n",
    "print(type(names)) #displaying type of names\n",
    "print(type(looper)) #displaying type of looper"
   ]
  },
  {
   "cell_type": "code",
   "execution_count": 18,
   "id": "02001fd9-e9d2-44a2-bb03-3584da2b330f",
   "metadata": {},
   "outputs": [
    {
     "name": "stdout",
     "output_type": "stream",
     "text": [
      "Ema\n"
     ]
    }
   ],
   "source": [
    "#__next__()\n",
    "print(next(looper)) #accesing the elements one by one"
   ]
  },
  {
   "cell_type": "code",
   "execution_count": 19,
   "id": "86120a3f-040c-4f3d-967a-3a366a2c639a",
   "metadata": {},
   "outputs": [
    {
     "name": "stdout",
     "output_type": "stream",
     "text": [
      "Tom\n"
     ]
    }
   ],
   "source": [
    "print(next(looper)) #accesing the elements one by one (2)"
   ]
  },
  {
   "cell_type": "code",
   "execution_count": 20,
   "id": "21b6a169-7774-4e3b-81d5-e8e1de76f9eb",
   "metadata": {},
   "outputs": [
    {
     "name": "stdout",
     "output_type": "stream",
     "text": [
      "Hinton\n"
     ]
    }
   ],
   "source": [
    "print(next(looper)) #accesing the elements one by one (3)"
   ]
  },
  {
   "cell_type": "code",
   "execution_count": 21,
   "id": "05801816-f1c2-4dc2-aa5b-6cc76d627341",
   "metadata": {},
   "outputs": [
    {
     "ename": "StopIteration",
     "evalue": "",
     "output_type": "error",
     "traceback": [
      "\u001b[0;31m---------------------------------------------------------------------------\u001b[0m",
      "\u001b[0;31mStopIteration\u001b[0m                             Traceback (most recent call last)",
      "Cell \u001b[0;32mIn[21], line 1\u001b[0m\n\u001b[0;32m----> 1\u001b[0m \u001b[38;5;28mprint\u001b[39m(\u001b[38;5;28mnext\u001b[39m(looper))\n",
      "\u001b[0;31mStopIteration\u001b[0m: "
     ]
    }
   ],
   "source": [
    "print(next(looper)) #accesing the elements one by one (4)"
   ]
  },
  {
   "cell_type": "markdown",
   "id": "6a27e113-bc2c-4324-97a1-d34bf9a9f2d8",
   "metadata": {},
   "source": [
    "#FIXING EXHAUSTIVE ERROR"
   ]
  },
  {
   "cell_type": "code",
   "execution_count": 22,
   "id": "b27034bf-537b-475e-9d2e-482c1bee32a9",
   "metadata": {},
   "outputs": [
    {
     "ename": "TypeError",
     "evalue": "'list' object is not an iterator",
     "output_type": "error",
     "traceback": [
      "\u001b[0;31m---------------------------------------------------------------------------\u001b[0m",
      "\u001b[0;31mTypeError\u001b[0m                                 Traceback (most recent call last)",
      "Cell \u001b[0;32mIn[22], line 4\u001b[0m\n\u001b[1;32m      2\u001b[0m \u001b[38;5;28;01mwhile\u001b[39;00m \u001b[38;5;28;01mTrue\u001b[39;00m:\n\u001b[1;32m      3\u001b[0m     \u001b[38;5;28;01mtry\u001b[39;00m:\n\u001b[0;32m----> 4\u001b[0m         name\u001b[38;5;241m=\u001b[39m\u001b[38;5;28mnext\u001b[39m(names) \u001b[38;5;66;03m#raises an error because names are lists \u001b[39;00m\n\u001b[1;32m      5\u001b[0m         \u001b[38;5;28mprint\u001b[39m(name)\n\u001b[1;32m      6\u001b[0m     \u001b[38;5;28;01mexcept\u001b[39;00m \u001b[38;5;167;01mStopIteration\u001b[39;00m: \u001b[38;5;66;03m#handling exhaustive iteration error\u001b[39;00m\n",
      "\u001b[0;31mTypeError\u001b[0m: 'list' object is not an iterator"
     ]
    }
   ],
   "source": [
    "looper=iter(names) #interating through elements through collections\n",
    "while True:\n",
    "    try:\n",
    "        name=next(names) #raises an error because names are lists \n",
    "        print(name)\n",
    "    except StopIteration: #handling exhaustive iteration error\n",
    "        break"
   ]
  },
  {
   "cell_type": "code",
   "execution_count": 23,
   "id": "a6d501a8-ad8a-4722-bde1-17e24adb468c",
   "metadata": {},
   "outputs": [
    {
     "name": "stdout",
     "output_type": "stream",
     "text": [
      "Ema\n",
      "Tom\n",
      "Hinton\n"
     ]
    }
   ],
   "source": [
    "#error fixation \n",
    "looper=iter(names) #interating through elements through collections\n",
    "while True:\n",
    "    try:\n",
    "        name=next(looper) #fixing error with iterable object\n",
    "        print(name)\n",
    "    except StopIteration: #handling exhaustive iteration error\n",
    "        break"
   ]
  },
  {
   "cell_type": "markdown",
   "id": "89d44cd8-e839-4264-92f2-faefe649ccc6",
   "metadata": {},
   "source": [
    "OBJECT OF INTREST"
   ]
  },
  {
   "cell_type": "markdown",
   "id": "11193d4d-fb30-4ad4-805a-09f051abd6d5",
   "metadata": {},
   "source": [
    "MAP FUNCTION"
   ]
  },
  {
   "cell_type": "code",
   "execution_count": 25,
   "id": "d40ef03a-ba60-475e-88ff-bafe39de5994",
   "metadata": {},
   "outputs": [
    {
     "name": "stdout",
     "output_type": "stream",
     "text": [
      "<map object at 0x760314579060>\n"
     ]
    }
   ],
   "source": [
    "def square(x): #defining a function\n",
    "    return x*x #returning the square of a number\n",
    "numbers=[1,2,3,4,5] #list \n",
    "print(map(square,numbers)) #using map function to iterate through elements AND SUBJECT THEM TO FUNCTION"
   ]
  },
  {
   "cell_type": "code",
   "execution_count": 26,
   "id": "3f70e0c3-389d-429d-9369-647fc3a4bdb4",
   "metadata": {},
   "outputs": [
    {
     "name": "stdout",
     "output_type": "stream",
     "text": [
      "[1, 4, 9, 16, 25]\n"
     ]
    }
   ],
   "source": [
    "print(list(map(square,numbers))) #to read the elements store in a list by map function"
   ]
  },
  {
   "cell_type": "markdown",
   "id": "8aa1c690-df8b-4bff-8428-ac93a4af96be",
   "metadata": {},
   "source": [
    "PART 5"
   ]
  },
  {
   "cell_type": "code",
   "execution_count": 27,
   "id": "807eac84-57a2-4cee-916e-80ce54b33eea",
   "metadata": {},
   "outputs": [
    {
     "name": "stdout",
     "output_type": "stream",
     "text": [
      "[1, 4, 9, 16, 25]\n"
     ]
    }
   ],
   "source": [
    "numbers=[1,2,3,4,5] #list \n",
    "print(list(map(lambda x: x*x,numbers))) #using lambda function instead of square function"
   ]
  },
  {
   "cell_type": "markdown",
   "id": "28d02536-0a2c-436d-b0b5-db2dc16b359f",
   "metadata": {},
   "source": [
    "FILTER FUNCTION"
   ]
  },
  {
   "cell_type": "code",
   "execution_count": 37,
   "id": "2bc17d5c-a0dc-4c18-bf48-37e37f89c9df",
   "metadata": {},
   "outputs": [
    {
     "name": "stdout",
     "output_type": "stream",
     "text": [
      "[4, 5]\n"
     ]
    }
   ],
   "source": [
    "print(list(filter(lambda x:x>3,numbers))) #using filter function , elements that satisfy the condition gets printed\n",
    "#still similar to map function that traverse lements one by one , subjecting to function"
   ]
  },
  {
   "cell_type": "code",
   "execution_count": 36,
   "id": "d4e2b264-4c5e-4674-aa30-46176c066719",
   "metadata": {},
   "outputs": [
    {
     "data": {
      "text/plain": [
       "'reena'"
      ]
     },
     "execution_count": 36,
     "metadata": {},
     "output_type": "execute_result"
    }
   ],
   "source": [
    "#write a function that accepts strings and returns the lowercase of it\n",
    "def str(s):\n",
    "    return s.lower() #Returning the lowercase\n",
    "str(\"REENA\") #passing string as an argument"
   ]
  },
  {
   "cell_type": "code",
   "execution_count": 38,
   "id": "0b895f04-2358-4bdf-8fcd-b5848a064f24",
   "metadata": {},
   "outputs": [
    {
     "name": "stdout",
     "output_type": "stream",
     "text": [
      "['Ema', 'Tom', 'Hinton']\n",
      "['ema', 'tom', 'hinton']\n"
     ]
    }
   ],
   "source": [
    "#create a list of 3 elements as names with lowercases convert them into uppercase but using map, lambda functions\n",
    "names=[\"Ema\",\"Tom\",\"Hinton\"] #lists\n",
    "for i in names:\n",
    "    i.upper()\n",
    "print(names)\n",
    "print(list(map(lambda x:x.lower(),names))) #using map, lambda functions"
   ]
  },
  {
   "cell_type": "markdown",
   "id": "3ebfb66b-1849-45cf-baef-0cf2321b38ca",
   "metadata": {},
   "source": [
    "REDUCE FUNCTION"
   ]
  },
  {
   "cell_type": "code",
   "execution_count": 39,
   "id": "fa91cf08-dfc0-462b-a31d-85dfc6b2d12c",
   "metadata": {},
   "outputs": [
    {
     "name": "stdout",
     "output_type": "stream",
     "text": [
      "15\n"
     ]
    }
   ],
   "source": [
    "from functools import reduce\n",
    "numbers=[1,2,3,4,5] #lists\n",
    "print(reduce(lambda x,y:x+y,numbers)) #reduce function cumulatively adds up 2 elements and performs function in a sequence"
   ]
  },
  {
   "cell_type": "code",
   "execution_count": 41,
   "id": "9e4354f3-350f-4dc0-87d4-5d5b9a975e33",
   "metadata": {},
   "outputs": [
    {
     "name": "stdout",
     "output_type": "stream",
     "text": [
      "All is well\n"
     ]
    }
   ],
   "source": [
    "from functools import reduce\n",
    "tokens=[\"All\",\"is\",\"well\"] #lists of quotes\n",
    "#use reduce function with lambda function to join words\n",
    "#the lambda function combines 2 strings with space\n",
    "quote=reduce(lambda combined_string,word: combined_string+ \" \"+word, tokens)\n",
    "print(quote)\n"
   ]
  },
  {
   "cell_type": "markdown",
   "id": "84d01d2a-ca50-4624-bc80-a56fda129a7a",
   "metadata": {},
   "source": [
    "THEME: MAP,FILTER,REDUCE TOGETHER FORM A COMPLETE FUNCTIONABLE PIPELINE FOR TRANSFORMING,SELECTING AND AGGREGATING DATA."
   ]
  },
  {
   "cell_type": "code",
   "execution_count": null,
   "id": "b3d12c1f-1adc-488a-b9d7-01153f62fd06",
   "metadata": {},
   "outputs": [],
   "source": []
  }
 ],
 "metadata": {
  "kernelspec": {
   "display_name": "Python 3 (ipykernel)",
   "language": "python",
   "name": "python3"
  },
  "language_info": {
   "codemirror_mode": {
    "name": "ipython",
    "version": 3
   },
   "file_extension": ".py",
   "mimetype": "text/x-python",
   "name": "python",
   "nbconvert_exporter": "python",
   "pygments_lexer": "ipython3",
   "version": "3.12.4"
  }
 },
 "nbformat": 4,
 "nbformat_minor": 5
}
