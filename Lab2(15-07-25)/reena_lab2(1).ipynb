{
 "cells": [
  {
   "cell_type": "markdown",
   "id": "1650a08e-bdd8-4b9e-a4ea-99e4436d9872",
   "metadata": {},
   "source": [
    "Lab2"
   ]
  },
  {
   "cell_type": "markdown",
   "id": "93db0089-7003-4fd6-82cc-95ddf7793213",
   "metadata": {},
   "source": [
    "#Strings"
   ]
  },
  {
   "cell_type": "code",
   "execution_count": 1,
   "id": "e0a4cccc-84eb-4407-a386-25f7b94641cf",
   "metadata": {},
   "outputs": [
    {
     "name": "stdout",
     "output_type": "stream",
     "text": [
      "Reenasri\n"
     ]
    }
   ],
   "source": [
    "first_name=\"Reena\"\n",
    "last_name=\"sri\"\n",
    "full_name=f\"{first_name}{last_name}\"\n",
    "print(full_name)"
   ]
  },
  {
   "cell_type": "code",
   "execution_count": 2,
   "id": "208b27cf-1f31-4cf3-81d8-c46961d54ebc",
   "metadata": {},
   "outputs": [
    {
     "name": "stdout",
     "output_type": "stream",
     "text": [
      "Hello  REENASRI\n"
     ]
    }
   ],
   "source": [
    "print(\"Hello \", full_name.upper())"
   ]
  },
  {
   "cell_type": "code",
   "execution_count": 3,
   "id": "99c4e3a3-15ff-4f0c-9aec-f9a67466a751",
   "metadata": {},
   "outputs": [
    {
     "name": "stdout",
     "output_type": "stream",
     "text": [
      "Reenasri\n"
     ]
    }
   ],
   "source": [
    "print(full_name.title())"
   ]
  },
  {
   "cell_type": "code",
   "execution_count": 4,
   "id": "0f2464b0-e436-4f35-8695-510b2075fb00",
   "metadata": {},
   "outputs": [
    {
     "name": "stdout",
     "output_type": "stream",
     "text": [
      "reenasri\n"
     ]
    }
   ],
   "source": [
    "print(full_name.lower())"
   ]
  },
  {
   "cell_type": "code",
   "execution_count": 5,
   "id": "8e17d106-ee4c-4dfd-b839-0a5c0fee7ee7",
   "metadata": {},
   "outputs": [
    {
     "name": "stdout",
     "output_type": "stream",
     "text": [
      " ree'na'\n"
     ]
    }
   ],
   "source": [
    "print(\" ree'na'\")"
   ]
  },
  {
   "cell_type": "code",
   "execution_count": 6,
   "id": "b848ef1a-10bd-4342-a1be-2408460470a1",
   "metadata": {},
   "outputs": [
    {
     "name": "stdout",
     "output_type": "stream",
     "text": [
      "ree\"na\"\n"
     ]
    }
   ],
   "source": [
    "print('ree\"na\"')"
   ]
  },
  {
   "cell_type": "code",
   "execution_count": 8,
   "id": "af02d108-a5e1-4ef9-bcbb-0b5a8f30d38a",
   "metadata": {},
   "outputs": [
    {
     "name": "stdout",
     "output_type": "stream",
     "text": [
      "'reena'\n"
     ]
    }
   ],
   "source": [
    "print(\"'reena'\")"
   ]
  },
  {
   "cell_type": "code",
   "execution_count": 9,
   "id": "06c28d14-0065-404d-b2ae-ec6b7fe26015",
   "metadata": {},
   "outputs": [
    {
     "name": "stdout",
     "output_type": "stream",
     "text": [
      "reena\n"
     ]
    }
   ],
   "source": [
    "print('''reena''')"
   ]
  },
  {
   "cell_type": "code",
   "execution_count": 10,
   "id": "3b8e4f1f-cf7d-4934-a0a8-c8b357a835cd",
   "metadata": {},
   "outputs": [
    {
     "name": "stdout",
     "output_type": "stream",
     "text": [
      "ree\"na\"\n"
     ]
    }
   ],
   "source": [
    "print('''ree\"na\"''')"
   ]
  },
  {
   "cell_type": "code",
   "execution_count": 12,
   "id": "d37fc472-8fb3-4382-85d0-34897a585d58",
   "metadata": {},
   "outputs": [
    {
     "name": "stdout",
     "output_type": "stream",
     "text": [
      "ree'na'sri\n"
     ]
    }
   ],
   "source": [
    "print('''ree'na'sri''')"
   ]
  },
  {
   "cell_type": "code",
   "execution_count": 13,
   "id": "93d336ff-0ab2-4e54-aa15-7955201a115f",
   "metadata": {},
   "outputs": [
    {
     "ename": "SyntaxError",
     "evalue": "unterminated string literal (detected at line 1) (1337299167.py, line 1)",
     "output_type": "error",
     "traceback": [
      "\u001b[0;36m  Cell \u001b[0;32mIn[13], line 1\u001b[0;36m\u001b[0m\n\u001b[0;31m    print('''ree'na'''')\u001b[0m\n\u001b[0m                      ^\u001b[0m\n\u001b[0;31mSyntaxError\u001b[0m\u001b[0;31m:\u001b[0m unterminated string literal (detected at line 1)\n"
     ]
    }
   ],
   "source": [
    "print('''ree'na'''')"
   ]
  },
  {
   "cell_type": "code",
   "execution_count": 16,
   "id": "494c085e-b137-4110-a0e5-8d4675d5cf45",
   "metadata": {},
   "outputs": [
    {
     "name": "stdout",
     "output_type": "stream",
     "text": [
      "hi,REENASRI\n"
     ]
    }
   ],
   "source": [
    "print(f\"hi,{first_name.upper()}{last_name.upper()}\")"
   ]
  },
  {
   "cell_type": "code",
   "execution_count": 42,
   "id": "aedfe249-7c56-49de-891b-bd3842f6c419",
   "metadata": {},
   "outputs": [],
   "source": [
    "a= \"    python    \""
   ]
  },
  {
   "cell_type": "code",
   "execution_count": 43,
   "id": "a3efd502-d78d-4d86-9697-f2a3ce256e8a",
   "metadata": {},
   "outputs": [
    {
     "name": "stdout",
     "output_type": "stream",
     "text": [
      "python    \n"
     ]
    }
   ],
   "source": [
    "print(a.lstrip())"
   ]
  },
  {
   "cell_type": "code",
   "execution_count": 44,
   "id": "d6e0f4d6-fdd4-41c6-8d30-b7e3d6989885",
   "metadata": {},
   "outputs": [
    {
     "name": "stdout",
     "output_type": "stream",
     "text": [
      "    python\n"
     ]
    }
   ],
   "source": [
    "print(a.rstrip())"
   ]
  },
  {
   "cell_type": "code",
   "execution_count": 17,
   "id": "f8ef36f5-5e90-44db-8803-324b547cb7b4",
   "metadata": {},
   "outputs": [],
   "source": [
    "import nltk"
   ]
  },
  {
   "cell_type": "markdown",
   "id": "cc7d0342-bf64-4330-813f-4ff03d870010",
   "metadata": {},
   "source": [
    "#encoding"
   ]
  },
  {
   "cell_type": "code",
   "execution_count": 19,
   "id": "fc362713-a5a5-4cec-a1f3-1745f684d290",
   "metadata": {},
   "outputs": [
    {
     "name": "stdout",
     "output_type": "stream",
     "text": [
      "Collecting jieba\n",
      "  Downloading jieba-0.42.1.tar.gz (19.2 MB)\n",
      "\u001b[2K     \u001b[38;2;114;156;31m━━━━━━━━━━━━━━━━━━━━━━━━━━━━━━━━━━━━━━━━\u001b[0m \u001b[32m19.2/19.2 MB\u001b[0m \u001b[31m11.5 MB/s\u001b[0m eta \u001b[36m0:00:00\u001b[0mm eta \u001b[36m0:00:01\u001b[0m0:01\u001b[0m:01\u001b[0m\n",
      "\u001b[?25h  Preparing metadata (setup.py) ... \u001b[?25ldone\n",
      "\u001b[?25hBuilding wheels for collected packages: jieba\n",
      "  Building wheel for jieba (setup.py) ... \u001b[?25ldone\n",
      "\u001b[?25h  Created wheel for jieba: filename=jieba-0.42.1-py3-none-any.whl size=19314459 sha256=1c4af0d05d8124e85242a0c6f3d5c39155bdee8f44bc01e75da110dd3d9508a7\n",
      "  Stored in directory: /home/matlab/.cache/pip/wheels/08/a1/a3/5c8ac52cc2f5782ffffc34c95c57c8e5ecb3063dc69541ee7c\n",
      "Successfully built jieba\n",
      "Installing collected packages: jieba\n",
      "Successfully installed jieba-0.42.1\n",
      "Note: you may need to restart the kernel to use updated packages.\n"
     ]
    }
   ],
   "source": [
    "pip install jieba"
   ]
  },
  {
   "cell_type": "code",
   "execution_count": 20,
   "id": "a43ff606-c707-4862-8418-5ed100a889db",
   "metadata": {},
   "outputs": [],
   "source": [
    "import jieba"
   ]
  },
  {
   "cell_type": "code",
   "execution_count": 21,
   "id": "13a817e9-6725-4f84-8990-e45f90b6313e",
   "metadata": {},
   "outputs": [],
   "source": [
    "with open('rrrr.txt','r',encoding='utf8') as text:\n",
    "    data=text.read()"
   ]
  },
  {
   "cell_type": "code",
   "execution_count": 22,
   "id": "a32485a0-c0c8-42ba-b18e-bee93f7be0cf",
   "metadata": {},
   "outputs": [
    {
     "data": {
      "text/plain": [
       "\"书、杂志等中区别于图片的）正文，文字材料\\n这本书正文有500页。\\n移动电话或传呼机发送的）短消息，短信\\nI'll send you a text as soon as I have any news.\\n我一得到任何消息，就立刻给你发短信。\\n\\n\""
      ]
     },
     "execution_count": 22,
     "metadata": {},
     "output_type": "execute_result"
    }
   ],
   "source": [
    "data"
   ]
  },
  {
   "cell_type": "code",
   "execution_count": 23,
   "id": "843078fd-a372-4760-81aa-d44f868d7061",
   "metadata": {},
   "outputs": [],
   "source": [
    "seg_list= jieba.cut(data, cut_all=True)"
   ]
  },
  {
   "cell_type": "code",
   "execution_count": 24,
   "id": "51de4e58-7e48-442a-b52c-a01bc8027f2b",
   "metadata": {},
   "outputs": [
    {
     "data": {
      "text/plain": [
       "<generator object Tokenizer.cut at 0x7c2ae27c2980>"
      ]
     },
     "execution_count": 24,
     "metadata": {},
     "output_type": "execute_result"
    }
   ],
   "source": [
    "seg_list"
   ]
  },
  {
   "cell_type": "code",
   "execution_count": 25,
   "id": "255d64c2-b8b0-438f-ae98-87593dd2e332",
   "metadata": {},
   "outputs": [
    {
     "name": "stderr",
     "output_type": "stream",
     "text": [
      "Building prefix dict from the default dictionary ...\n",
      "Dumping model to file cache /tmp/jieba.cache\n",
      "Loading model cost 0.883 seconds.\n",
      "Prefix dict has been built successfully.\n"
     ]
    }
   ],
   "source": [
    "new=(\" \".join(seg_list))"
   ]
  },
  {
   "cell_type": "code",
   "execution_count": 26,
   "id": "cfd28911-aa76-4df0-8aa2-ede05e5b7f06",
   "metadata": {},
   "outputs": [
    {
     "data": {
      "text/plain": [
       "\"书 、 杂志 等 中区 区别 于 图片 的 ） 正文 ， 文字 材料  \\n  这本 本书 正文 有 500 页 。 \\n  移动 移动电话 电话 或 传呼 传呼机 呼机 发送 的 ） 短消息 消息 ， 短信  \\n  I ' ll     send     you     a     text     as     soon     as     I     have     any     news .  \\n  我 一得 得到 到任 任何 消息 ， 就 立刻 给 你 发短 发短信 短信 。 \\n  \\n \""
      ]
     },
     "execution_count": 26,
     "metadata": {},
     "output_type": "execute_result"
    }
   ],
   "source": [
    "new"
   ]
  },
  {
   "cell_type": "code",
   "execution_count": 27,
   "id": "534799ff-352c-48a5-82c6-ece5231636f6",
   "metadata": {},
   "outputs": [],
   "source": [
    "f= open('rrrr.txt','wb')\n",
    "f.write(new.encode('utf8'))\n",
    "f.close()   "
   ]
  },
  {
   "cell_type": "markdown",
   "id": "74fa0cd7-f783-4cbe-a830-7597837bdc72",
   "metadata": {},
   "source": [
    "#data extraction pipeline"
   ]
  },
  {
   "cell_type": "code",
   "execution_count": 29,
   "id": "3374f9cf-f21b-443e-9280-ec9c338a6f59",
   "metadata": {},
   "outputs": [],
   "source": [
    "from urllib import request"
   ]
  },
  {
   "cell_type": "code",
   "execution_count": 30,
   "id": "daddfa2f-34db-4c85-8d8d-8d2d0202818e",
   "metadata": {},
   "outputs": [],
   "source": [
    "url=\"https://www.gutenberg.org/cache/epub/76503/pg76503.txt\""
   ]
  },
  {
   "cell_type": "code",
   "execution_count": 33,
   "id": "d29118d5-ff17-4e3c-a1da-59bd7e1824df",
   "metadata": {},
   "outputs": [],
   "source": [
    "response= request.urlopen(url)"
   ]
  },
  {
   "cell_type": "code",
   "execution_count": 34,
   "id": "c1fca3bd-9d25-4f5b-afdf-ab9876be50ff",
   "metadata": {},
   "outputs": [],
   "source": [
    "raw=response.read().decode('utf8')"
   ]
  },
  {
   "cell_type": "code",
   "execution_count": 38,
   "id": "66e263ee-39f1-4a20-ab62-25ff03e9f869",
   "metadata": {},
   "outputs": [
    {
     "ename": "LookupError",
     "evalue": "\n**********************************************************************\n  Resource \u001b[93mpunkt\u001b[0m not found.\n  Please use the NLTK Downloader to obtain the resource:\n\n  \u001b[31m>>> import nltk\n  >>> nltk.download('punkt')\n  \u001b[0m\n  For more information see: https://www.nltk.org/data.html\n\n  Attempted to load \u001b[93mtokenizers/punkt/PY3/english.pickle\u001b[0m\n\n  Searched in:\n    - '/home/matlab/nltk_data'\n    - '/home/software/SOFTWARE/nltk_data'\n    - '/home/software/SOFTWARE/share/nltk_data'\n    - '/home/software/SOFTWARE/lib/nltk_data'\n    - '/usr/share/nltk_data'\n    - '/usr/local/share/nltk_data'\n    - '/usr/lib/nltk_data'\n    - '/usr/local/lib/nltk_data'\n    - ''\n**********************************************************************\n",
     "output_type": "error",
     "traceback": [
      "\u001b[0;31m---------------------------------------------------------------------------\u001b[0m",
      "\u001b[0;31mLookupError\u001b[0m                               Traceback (most recent call last)",
      "Cell \u001b[0;32mIn[38], line 5\u001b[0m\n\u001b[1;32m      3\u001b[0m url\u001b[38;5;241m=\u001b[39m\u001b[38;5;124m\"\u001b[39m\u001b[38;5;124mhttps://www.gutenberg.org/cache/epub/76503/pg76503.txt\u001b[39m\u001b[38;5;124m\"\u001b[39m\n\u001b[1;32m      4\u001b[0m response\u001b[38;5;241m=\u001b[39m request\u001b[38;5;241m.\u001b[39murlopen(url)\n\u001b[0;32m----> 5\u001b[0m tokens \u001b[38;5;241m=\u001b[39m word_tokenize(raw)\n",
      "File \u001b[0;32m/home/software/SOFTWARE/lib/python3.12/site-packages/nltk/tokenize/__init__.py:129\u001b[0m, in \u001b[0;36mword_tokenize\u001b[0;34m(text, language, preserve_line)\u001b[0m\n\u001b[1;32m    114\u001b[0m \u001b[38;5;28;01mdef\u001b[39;00m \u001b[38;5;21mword_tokenize\u001b[39m(text, language\u001b[38;5;241m=\u001b[39m\u001b[38;5;124m\"\u001b[39m\u001b[38;5;124menglish\u001b[39m\u001b[38;5;124m\"\u001b[39m, preserve_line\u001b[38;5;241m=\u001b[39m\u001b[38;5;28;01mFalse\u001b[39;00m):\n\u001b[1;32m    115\u001b[0m \u001b[38;5;250m    \u001b[39m\u001b[38;5;124;03m\"\"\"\u001b[39;00m\n\u001b[1;32m    116\u001b[0m \u001b[38;5;124;03m    Return a tokenized copy of *text*,\u001b[39;00m\n\u001b[1;32m    117\u001b[0m \u001b[38;5;124;03m    using NLTK's recommended word tokenizer\u001b[39;00m\n\u001b[0;32m   (...)\u001b[0m\n\u001b[1;32m    127\u001b[0m \u001b[38;5;124;03m    :type preserve_line: bool\u001b[39;00m\n\u001b[1;32m    128\u001b[0m \u001b[38;5;124;03m    \"\"\"\u001b[39;00m\n\u001b[0;32m--> 129\u001b[0m     sentences \u001b[38;5;241m=\u001b[39m [text] \u001b[38;5;28;01mif\u001b[39;00m preserve_line \u001b[38;5;28;01melse\u001b[39;00m sent_tokenize(text, language)\n\u001b[1;32m    130\u001b[0m     \u001b[38;5;28;01mreturn\u001b[39;00m [\n\u001b[1;32m    131\u001b[0m         token \u001b[38;5;28;01mfor\u001b[39;00m sent \u001b[38;5;129;01min\u001b[39;00m sentences \u001b[38;5;28;01mfor\u001b[39;00m token \u001b[38;5;129;01min\u001b[39;00m _treebank_word_tokenizer\u001b[38;5;241m.\u001b[39mtokenize(sent)\n\u001b[1;32m    132\u001b[0m     ]\n",
      "File \u001b[0;32m/home/software/SOFTWARE/lib/python3.12/site-packages/nltk/tokenize/__init__.py:106\u001b[0m, in \u001b[0;36msent_tokenize\u001b[0;34m(text, language)\u001b[0m\n\u001b[1;32m     96\u001b[0m \u001b[38;5;28;01mdef\u001b[39;00m \u001b[38;5;21msent_tokenize\u001b[39m(text, language\u001b[38;5;241m=\u001b[39m\u001b[38;5;124m\"\u001b[39m\u001b[38;5;124menglish\u001b[39m\u001b[38;5;124m\"\u001b[39m):\n\u001b[1;32m     97\u001b[0m \u001b[38;5;250m    \u001b[39m\u001b[38;5;124;03m\"\"\"\u001b[39;00m\n\u001b[1;32m     98\u001b[0m \u001b[38;5;124;03m    Return a sentence-tokenized copy of *text*,\u001b[39;00m\n\u001b[1;32m     99\u001b[0m \u001b[38;5;124;03m    using NLTK's recommended sentence tokenizer\u001b[39;00m\n\u001b[0;32m   (...)\u001b[0m\n\u001b[1;32m    104\u001b[0m \u001b[38;5;124;03m    :param language: the model name in the Punkt corpus\u001b[39;00m\n\u001b[1;32m    105\u001b[0m \u001b[38;5;124;03m    \"\"\"\u001b[39;00m\n\u001b[0;32m--> 106\u001b[0m     tokenizer \u001b[38;5;241m=\u001b[39m load(\u001b[38;5;124mf\u001b[39m\u001b[38;5;124m\"\u001b[39m\u001b[38;5;124mtokenizers/punkt/\u001b[39m\u001b[38;5;132;01m{\u001b[39;00mlanguage\u001b[38;5;132;01m}\u001b[39;00m\u001b[38;5;124m.pickle\u001b[39m\u001b[38;5;124m\"\u001b[39m)\n\u001b[1;32m    107\u001b[0m     \u001b[38;5;28;01mreturn\u001b[39;00m tokenizer\u001b[38;5;241m.\u001b[39mtokenize(text)\n",
      "File \u001b[0;32m/home/software/SOFTWARE/lib/python3.12/site-packages/nltk/data.py:750\u001b[0m, in \u001b[0;36mload\u001b[0;34m(resource_url, format, cache, verbose, logic_parser, fstruct_reader, encoding)\u001b[0m\n\u001b[1;32m    747\u001b[0m     \u001b[38;5;28mprint\u001b[39m(\u001b[38;5;124mf\u001b[39m\u001b[38;5;124m\"\u001b[39m\u001b[38;5;124m<<Loading \u001b[39m\u001b[38;5;132;01m{\u001b[39;00mresource_url\u001b[38;5;132;01m}\u001b[39;00m\u001b[38;5;124m>>\u001b[39m\u001b[38;5;124m\"\u001b[39m)\n\u001b[1;32m    749\u001b[0m \u001b[38;5;66;03m# Load the resource.\u001b[39;00m\n\u001b[0;32m--> 750\u001b[0m opened_resource \u001b[38;5;241m=\u001b[39m _open(resource_url)\n\u001b[1;32m    752\u001b[0m \u001b[38;5;28;01mif\u001b[39;00m \u001b[38;5;28mformat\u001b[39m \u001b[38;5;241m==\u001b[39m \u001b[38;5;124m\"\u001b[39m\u001b[38;5;124mraw\u001b[39m\u001b[38;5;124m\"\u001b[39m:\n\u001b[1;32m    753\u001b[0m     resource_val \u001b[38;5;241m=\u001b[39m opened_resource\u001b[38;5;241m.\u001b[39mread()\n",
      "File \u001b[0;32m/home/software/SOFTWARE/lib/python3.12/site-packages/nltk/data.py:876\u001b[0m, in \u001b[0;36m_open\u001b[0;34m(resource_url)\u001b[0m\n\u001b[1;32m    873\u001b[0m protocol, path_ \u001b[38;5;241m=\u001b[39m split_resource_url(resource_url)\n\u001b[1;32m    875\u001b[0m \u001b[38;5;28;01mif\u001b[39;00m protocol \u001b[38;5;129;01mis\u001b[39;00m \u001b[38;5;28;01mNone\u001b[39;00m \u001b[38;5;129;01mor\u001b[39;00m protocol\u001b[38;5;241m.\u001b[39mlower() \u001b[38;5;241m==\u001b[39m \u001b[38;5;124m\"\u001b[39m\u001b[38;5;124mnltk\u001b[39m\u001b[38;5;124m\"\u001b[39m:\n\u001b[0;32m--> 876\u001b[0m     \u001b[38;5;28;01mreturn\u001b[39;00m find(path_, path \u001b[38;5;241m+\u001b[39m [\u001b[38;5;124m\"\u001b[39m\u001b[38;5;124m\"\u001b[39m])\u001b[38;5;241m.\u001b[39mopen()\n\u001b[1;32m    877\u001b[0m \u001b[38;5;28;01melif\u001b[39;00m protocol\u001b[38;5;241m.\u001b[39mlower() \u001b[38;5;241m==\u001b[39m \u001b[38;5;124m\"\u001b[39m\u001b[38;5;124mfile\u001b[39m\u001b[38;5;124m\"\u001b[39m:\n\u001b[1;32m    878\u001b[0m     \u001b[38;5;66;03m# urllib might not use mode='rb', so handle this one ourselves:\u001b[39;00m\n\u001b[1;32m    879\u001b[0m     \u001b[38;5;28;01mreturn\u001b[39;00m find(path_, [\u001b[38;5;124m\"\u001b[39m\u001b[38;5;124m\"\u001b[39m])\u001b[38;5;241m.\u001b[39mopen()\n",
      "File \u001b[0;32m/home/software/SOFTWARE/lib/python3.12/site-packages/nltk/data.py:583\u001b[0m, in \u001b[0;36mfind\u001b[0;34m(resource_name, paths)\u001b[0m\n\u001b[1;32m    581\u001b[0m sep \u001b[38;5;241m=\u001b[39m \u001b[38;5;124m\"\u001b[39m\u001b[38;5;124m*\u001b[39m\u001b[38;5;124m\"\u001b[39m \u001b[38;5;241m*\u001b[39m \u001b[38;5;241m70\u001b[39m\n\u001b[1;32m    582\u001b[0m resource_not_found \u001b[38;5;241m=\u001b[39m \u001b[38;5;124mf\u001b[39m\u001b[38;5;124m\"\u001b[39m\u001b[38;5;130;01m\\n\u001b[39;00m\u001b[38;5;132;01m{\u001b[39;00msep\u001b[38;5;132;01m}\u001b[39;00m\u001b[38;5;130;01m\\n\u001b[39;00m\u001b[38;5;132;01m{\u001b[39;00mmsg\u001b[38;5;132;01m}\u001b[39;00m\u001b[38;5;130;01m\\n\u001b[39;00m\u001b[38;5;132;01m{\u001b[39;00msep\u001b[38;5;132;01m}\u001b[39;00m\u001b[38;5;130;01m\\n\u001b[39;00m\u001b[38;5;124m\"\u001b[39m\n\u001b[0;32m--> 583\u001b[0m \u001b[38;5;28;01mraise\u001b[39;00m \u001b[38;5;167;01mLookupError\u001b[39;00m(resource_not_found)\n",
      "\u001b[0;31mLookupError\u001b[0m: \n**********************************************************************\n  Resource \u001b[93mpunkt\u001b[0m not found.\n  Please use the NLTK Downloader to obtain the resource:\n\n  \u001b[31m>>> import nltk\n  >>> nltk.download('punkt')\n  \u001b[0m\n  For more information see: https://www.nltk.org/data.html\n\n  Attempted to load \u001b[93mtokenizers/punkt/PY3/english.pickle\u001b[0m\n\n  Searched in:\n    - '/home/matlab/nltk_data'\n    - '/home/software/SOFTWARE/nltk_data'\n    - '/home/software/SOFTWARE/share/nltk_data'\n    - '/home/software/SOFTWARE/lib/nltk_data'\n    - '/usr/share/nltk_data'\n    - '/usr/local/share/nltk_data'\n    - '/usr/lib/nltk_data'\n    - '/usr/local/lib/nltk_data'\n    - ''\n**********************************************************************\n"
     ]
    }
   ],
   "source": [
    "import nltk\n",
    "from nltk.tokenize import word_tokenize \n",
    "url=\"https://www.gutenberg.org/cache/epub/76503/pg76503.txt\"\n",
    "response= request.urlopen(url)\n",
    "tokens = word_tokenize(raw)"
   ]
  },
  {
   "cell_type": "code",
   "execution_count": 39,
   "id": "29f2cfb7-7621-42be-85f4-79d28daf8626",
   "metadata": {},
   "outputs": [
    {
     "name": "stdout",
     "output_type": "stream",
     "text": [
      "showing info https://raw.githubusercontent.com/nltk/nltk_data/gh-pages/index.xml\n"
     ]
    },
    {
     "data": {
      "text/plain": [
       "True"
      ]
     },
     "execution_count": 39,
     "metadata": {},
     "output_type": "execute_result"
    }
   ],
   "source": [
    "nltk.download()"
   ]
  },
  {
   "cell_type": "code",
   "execution_count": 40,
   "id": "7e3fa475-0a7b-4290-82bc-0b27c8c261eb",
   "metadata": {},
   "outputs": [],
   "source": [
    "import nltk\n",
    "from nltk.tokenize import word_tokenize \n",
    "url=\"https://www.gutenberg.org/cache/epub/76503/pg76503.txt\"\n",
    "response= request.urlopen(url)\n",
    "tokens = word_tokenize(raw)"
   ]
  },
  {
   "cell_type": "code",
   "execution_count": 41,
   "id": "18b6834e-0176-4499-b1fc-db64731dae08",
   "metadata": {},
   "outputs": [
    {
     "name": "stdout",
     "output_type": "stream",
     "text": [
      "['\\ufeffThe', 'Project', 'Gutenberg', 'eBook', 'of', 'The', 'man', 'who', 'mastered', 'time', 'This', 'ebook', 'is', 'for', 'the', 'use', 'of', 'anyone', 'anywhere', 'in', 'the', 'United', 'States', 'and', 'most', 'other', 'parts', 'of', 'the', 'world', 'at', 'no', 'cost', 'and', 'with', 'almost', 'no', 'restrictions', 'whatsoever', '.', 'You', 'may', 'copy', 'it', ',', 'give', 'it', 'away', 'or', 're-use', 'it', 'under', 'the', 'terms', 'of', 'the', 'Project', 'Gutenberg', 'License', 'included', 'with', 'this', 'ebook', 'or', 'online', 'at', 'www.gutenberg.org', '.', 'If', 'you', 'are', 'not', 'located', 'in', 'the', 'United', 'States', ',', 'you', 'will', 'have', 'to', 'check', 'the', 'laws', 'of', 'the', 'country', 'where', 'you', 'are', 'located', 'before', 'using', 'this', 'eBook', '.', 'Title', ':', 'The', 'man', 'who', 'mastered', 'time', 'Author', ':', 'Ray', 'Cummings', 'Release', 'date', ':', 'July', '14', ',', '2025', '[', 'eBook', '#', '76503', ']', 'Language', ':', 'English', 'Original', 'publication', ':', 'New', 'York', ',', 'NY', ':', 'Ace', 'Books', ',', '1929', 'Credits', ':', 'Greg', 'Weeks', ',', 'Paul', 'Ereaut', ',', 'Mary', 'Meehan', '&', 'the', 'Online', 'Distributed', 'Proofreading', 'Canada', 'Team', 'at', 'http', ':', '//www.pgdpcanada.net', '*', '*', '*', 'START', 'OF', 'THE', 'PROJECT', 'GUTENBERG', 'EBOOK', 'THE', 'MAN', 'WHO', 'MASTERED', 'TIME', '*', '*', '*', 'THE', 'MAN', 'WHO', 'MASTERED', 'TIME', 'RAY', 'CUMMINGS', 'ACE', 'BOOKS', 'A', 'Division', 'of', 'A', '.', 'A.', 'Wyn', ',', 'Inc.', '23', 'West', '47th', 'Street', ',', 'New', 'York', '36', ',']\n"
     ]
    }
   ],
   "source": [
    "print(tokens[:200])"
   ]
  },
  {
   "cell_type": "code",
   "execution_count": 46,
   "id": "3c23ed7c-8a17-47e5-889e-bf7733a2901b",
   "metadata": {},
   "outputs": [
    {
     "name": "stdout",
     "output_type": "stream",
     "text": [
      "70822\n"
     ]
    }
   ],
   "source": [
    "print(len(tokens))"
   ]
  },
  {
   "cell_type": "code",
   "execution_count": 47,
   "id": "2c267a2b-a779-4e93-9a5a-62d45035c95b",
   "metadata": {},
   "outputs": [
    {
     "data": {
      "text/plain": [
       "str"
      ]
     },
     "execution_count": 47,
     "metadata": {},
     "output_type": "execute_result"
    }
   ],
   "source": [
    "type(raw)"
   ]
  },
  {
   "cell_type": "code",
   "execution_count": null,
   "id": "faa14ef2-d75c-4a94-a0bc-c21e3ba4740f",
   "metadata": {},
   "outputs": [],
   "source": []
  }
 ],
 "metadata": {
  "kernelspec": {
   "display_name": "Python 3 (ipykernel)",
   "language": "python",
   "name": "python3"
  },
  "language_info": {
   "codemirror_mode": {
    "name": "ipython",
    "version": 3
   },
   "file_extension": ".py",
   "mimetype": "text/x-python",
   "name": "python",
   "nbconvert_exporter": "python",
   "pygments_lexer": "ipython3",
   "version": "3.12.4"
  }
 },
 "nbformat": 4,
 "nbformat_minor": 5
}
