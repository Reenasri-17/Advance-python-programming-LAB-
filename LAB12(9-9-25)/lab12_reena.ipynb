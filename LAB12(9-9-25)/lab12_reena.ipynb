{
 "cells": [
  {
   "cell_type": "markdown",
   "id": "724810c8-c74d-4216-b3a7-0e48dc0451e3",
   "metadata": {},
   "source": [
    "# LAB 12\n",
    "ADVANCE PYTHON PROGRAMMING \n",
    "G REENA SRI - 22MID0009\n"
   ]
  },
  {
   "cell_type": "markdown",
   "id": "aa5948c8-49aa-42b5-8748-1730805d80df",
   "metadata": {},
   "source": [
    "# Handling csv in Python"
   ]
  },
  {
   "cell_type": "markdown",
   "id": "9b1c2906-b835-4c08-a329-4c697e03a837",
   "metadata": {},
   "source": [
    "## 1. Read a CSV File"
   ]
  },
  {
   "cell_type": "code",
   "execution_count": 1,
   "id": "e83c08ff-bace-4da3-895c-a111cc6cb909",
   "metadata": {},
   "outputs": [
    {
     "name": "stdout",
     "output_type": "stream",
     "text": [
      "   ID      Name  Age  Gender Department  Salary Joining_Date Performance_Score\n",
      "0   1  Person_1   56  Female         HR  112800   2010-01-01                 C\n",
      "1   2  Person_2   46  Female         IT   98685   2010-01-02                 A\n",
      "2   3  Person_3   32    Male         HR   54660   2010-01-03                 D\n",
      "3   4  Person_4   25  Female         HR  116064   2010-01-04                 A\n",
      "4   5  Person_5   38    Male         HR   31168   2010-01-05                 A\n"
     ]
    }
   ],
   "source": [
    "import pandas as pd\n",
    "\n",
    "# Reading a CSV file\n",
    "df = pd.read_csv(\"sample_data.csv\")\n",
    "print(df.head()) # accessing first 5 rows in csv file\n"
   ]
  },
  {
   "cell_type": "markdown",
   "id": "a320a34d-baad-421f-9fa9-b8edbd59abf7",
   "metadata": {},
   "source": [
    "## 2. Extract CSV into a Pandas DataFrame"
   ]
  },
  {
   "cell_type": "code",
   "execution_count": 2,
   "id": "e31acfa8-a87a-4858-bd74-8355e40009c0",
   "metadata": {},
   "outputs": [
    {
     "name": "stdout",
     "output_type": "stream",
     "text": [
      "<class 'pandas.core.frame.DataFrame'>\n",
      "RangeIndex: 3000 entries, 0 to 2999\n",
      "Data columns (total 8 columns):\n",
      " #   Column             Non-Null Count  Dtype \n",
      "---  ------             --------------  ----- \n",
      " 0   ID                 3000 non-null   int64 \n",
      " 1   Name               3000 non-null   object\n",
      " 2   Age                3000 non-null   int64 \n",
      " 3   Gender             3000 non-null   object\n",
      " 4   Department         3000 non-null   object\n",
      " 5   Salary             3000 non-null   int64 \n",
      " 6   Joining_Date       3000 non-null   object\n",
      " 7   Performance_Score  3000 non-null   object\n",
      "dtypes: int64(3), object(5)\n",
      "memory usage: 187.6+ KB\n",
      "None\n",
      "                ID          Age         Salary\n",
      "count  3000.000000  3000.000000    3000.000000\n",
      "mean   1500.500000    38.644000   74858.263333\n",
      "std     866.169729    12.050104   26368.878797\n",
      "min       1.000000    18.000000   30002.000000\n",
      "25%     750.750000    28.000000   51357.250000\n",
      "50%    1500.500000    39.000000   74661.000000\n",
      "75%    2250.250000    49.000000   98136.000000\n",
      "max    3000.000000    59.000000  119941.000000\n"
     ]
    }
   ],
   "source": [
    "# DataFrame is already created when reading CSV\n",
    "df = pd.read_csv(\"sample_data.csv\")\n",
    "\n",
    "# Show basic info\n",
    "print(df.info())\n",
    "print(df.describe())\n"
   ]
  },
  {
   "cell_type": "code",
   "execution_count": 3,
   "id": "aeb49281-c1ff-4aa4-ad76-4f29fac3ffcf",
   "metadata": {},
   "outputs": [
    {
     "name": "stdout",
     "output_type": "stream",
     "text": [
      "        ID         Name  Age  Gender Department  Salary Joining_Date  \\\n",
      "0        1     Person_1   56  Female         HR  112800   2010-01-01   \n",
      "1        2     Person_2   46  Female         IT   98685   2010-01-02   \n",
      "2        3     Person_3   32    Male         HR   54660   2010-01-03   \n",
      "3        4     Person_4   25  Female         HR  116064   2010-01-04   \n",
      "4        5     Person_5   38    Male         HR   31168   2010-01-05   \n",
      "...    ...          ...  ...     ...        ...     ...          ...   \n",
      "2995  2996  Person_2996   36    Male  Marketing   83811   2018-03-15   \n",
      "2996  2997  Person_2997   59    Male    Finance   34001   2018-03-16   \n",
      "2997  2998  Person_2998   18    Male         HR   90848   2018-03-17   \n",
      "2998  2999  Person_2999   46  Female  Marketing   82635   2018-03-18   \n",
      "2999  3000  Person_3000   52    Male         HR   50946   2018-03-19   \n",
      "\n",
      "     Performance_Score  \n",
      "0                    C  \n",
      "1                    A  \n",
      "2                    D  \n",
      "3                    A  \n",
      "4                    A  \n",
      "...                ...  \n",
      "2995                 A  \n",
      "2996                 A  \n",
      "2997                 D  \n",
      "2998                 D  \n",
      "2999                 B  \n",
      "\n",
      "[3000 rows x 8 columns]\n"
     ]
    }
   ],
   "source": [
    "#priting df\n",
    "print(df)"
   ]
  },
  {
   "cell_type": "code",
   "execution_count": 4,
   "id": "c40c269e-03e6-418f-913a-4aac7040ac3a",
   "metadata": {},
   "outputs": [
    {
     "name": "stdout",
     "output_type": "stream",
     "text": [
      "Index(['ID', 'Name', 'Age', 'Gender', 'Department', 'Salary', 'Joining_Date',\n",
      "       'Performance_Score'],\n",
      "      dtype='object')\n"
     ]
    }
   ],
   "source": [
    "#extracting columns in a csv file\n",
    "print(df.columns)"
   ]
  },
  {
   "cell_type": "code",
   "execution_count": 5,
   "id": "501cc4fe-dcab-41f4-ad99-18189969b580",
   "metadata": {},
   "outputs": [
    {
     "name": "stdout",
     "output_type": "stream",
     "text": [
      "Shape of the dataset:  (3000, 8)\n"
     ]
    }
   ],
   "source": [
    "#displaying the shape of dataset\n",
    "print(\"Shape of the dataset: \",df.shape)"
   ]
  },
  {
   "cell_type": "code",
   "execution_count": 6,
   "id": "b73b81e2-d269-45a0-9b17-4e92648f1503",
   "metadata": {},
   "outputs": [
    {
     "name": "stdout",
     "output_type": "stream",
     "text": [
      "[[1 'Person_1' 56 ... 112800 '2010-01-01' 'C']\n",
      " [2 'Person_2' 46 ... 98685 '2010-01-02' 'A']\n",
      " [3 'Person_3' 32 ... 54660 '2010-01-03' 'D']\n",
      " ...\n",
      " [2998 'Person_2998' 18 ... 90848 '2018-03-17' 'D']\n",
      " [2999 'Person_2999' 46 ... 82635 '2018-03-18' 'D']\n",
      " [3000 'Person_3000' 52 ... 50946 '2018-03-19' 'B']]\n"
     ]
    }
   ],
   "source": [
    "#printing values in a dataframe \n",
    "print(df.values)"
   ]
  },
  {
   "cell_type": "markdown",
   "id": "86c88ad7-70b2-4bec-a77a-2bc8565fc833",
   "metadata": {},
   "source": [
    "## EXCEPTION HANDLING WHILE EXTRACTING "
   ]
  },
  {
   "cell_type": "code",
   "execution_count": 7,
   "id": "c7cfbc5c-3ee7-4313-b42a-c3f12df4f5cb",
   "metadata": {},
   "outputs": [
    {
     "name": "stdout",
     "output_type": "stream",
     "text": [
      "   ID      Name  Age  Gender Department  Salary Joining_Date Performance_Score\n",
      "0   1  Person_1   56  Female         HR  112800   2010-01-01                 C\n",
      "1   2  Person_2   46  Female         IT   98685   2010-01-02                 A\n",
      "2   3  Person_3   32    Male         HR   54660   2010-01-03                 D\n",
      "3   4  Person_4   25  Female         HR  116064   2010-01-04                 A\n",
      "4   5  Person_5   38    Male         HR   31168   2010-01-05                 A\n"
     ]
    }
   ],
   "source": [
    "#extracting the contents of csv into df using pandas and handling the exceptions\n",
    "import pandas as pd\n",
    "try:\n",
    "    df=pd.read_csv(\"sample_data.csv\") #reading csv file\n",
    "    print(df.head()) #displaying top 5 rows\n",
    "except FileNotFoundError:\n",
    "    print(\"File not found at the location\") # handling errors in a customised way\n",
    "except Excption as e:\n",
    "    print(f\"Error occured: {e}\") # displaying the error message\n"
   ]
  },
  {
   "cell_type": "markdown",
   "id": "d85cea89-fe4c-49d7-8dac-b73a2a0e8167",
   "metadata": {},
   "source": [
    "## 3. Append to a CSV"
   ]
  },
  {
   "cell_type": "code",
   "execution_count": 8,
   "id": "838c0555-438e-4e21-8ea4-6dc2dd3e0874",
   "metadata": {},
   "outputs": [],
   "source": [
    "# Create new data to append\n",
    "new_data = {\n",
    "    \"ID\": [3001, 3002],\n",
    "    \"Name\": [\"Person_3001\", \"Person_3002\"],\n",
    "    \"Age\": [29, 35],\n",
    "    \"Gender\": [\"Male\", \"Female\"],\n",
    "    \"Department\": [\"IT\", \"HR\"],\n",
    "    \"Salary\": [75000, 64000],\n",
    "    \"Joining_Date\": [\"2025-09-09\", \"2025-09-10\"],\n",
    "    \"Performance_Score\": [\"B\", \"A\"]\n",
    "}\n",
    "\n",
    "new_df = pd.DataFrame(new_data)\n",
    "\n",
    "# Append to CSV\n",
    "new_df.to_csv(\"sample_data.csv\", mode=\"a\", header=False, index=False)\n"
   ]
  },
  {
   "cell_type": "code",
   "execution_count": 9,
   "id": "88368fe6-cdd2-45a6-8076-659744410a40",
   "metadata": {},
   "outputs": [],
   "source": [
    "#above code , new_data is type<dict> therefore , we explicitly convert them into dataframe."
   ]
  },
  {
   "cell_type": "code",
   "execution_count": 11,
   "id": "03409dd4-eb30-46af-bec9-1efd4143edea",
   "metadata": {},
   "outputs": [
    {
     "name": "stdout",
     "output_type": "stream",
     "text": [
      "     ID         Name  Age  Gender Department  Salary Joining_Date  \\\n",
      "0  3001  Person_3001   29    Male         IT   75000   2025-09-09   \n",
      "1  3002  Person_3002   35  Female         HR   64000   2025-09-10   \n",
      "\n",
      "  Performance_Score  \n",
      "0                 B  \n",
      "1                 A  \n"
     ]
    }
   ],
   "source": [
    "# Get the last 2 rows (since we added 2 new rows)\n",
    "new_rows = new_df.tail(2)\n",
    "print(new_rows)"
   ]
  },
  {
   "cell_type": "code",
   "execution_count": 13,
   "id": "0c8e69e8-e6b1-4001-ad5a-201f5ec3e8b3",
   "metadata": {},
   "outputs": [
    {
     "name": "stdout",
     "output_type": "stream",
     "text": [
      "     ID         Name  Age  Gender Department  Salary Joining_Date  \\\n",
      "0  3001  Person_3001   29    Male         IT   75000   2025-09-09   \n",
      "1  3002  Person_3002   35  Female         HR   64000   2025-09-10   \n",
      "\n",
      "  Performance_Score  \n",
      "0                 B  \n",
      "1                 A  \n"
     ]
    }
   ],
   "source": [
    "#Get rows by index position\n",
    "new_rows = new_df.iloc[-2:]  # last 2 rows\n",
    "print(new_rows)"
   ]
  },
  {
   "cell_type": "code",
   "execution_count": 14,
   "id": "93ce186b-fcd5-4020-92b8-c063f41a39da",
   "metadata": {},
   "outputs": [
    {
     "name": "stdout",
     "output_type": "stream",
     "text": [
      "        ID         Name  Age  Gender Department  Salary Joining_Date  \\\n",
      "1000  1001  Person_1001   46  Female    Finance   43237   2012-09-27   \n",
      "1001  1002  Person_1002   21  Female  Marketing   81586   2012-09-28   \n",
      "\n",
      "     Performance_Score  \n",
      "1000                 D  \n",
      "1001                 D  \n"
     ]
    }
   ],
   "source": [
    "#Read only the newly added rows by their IDs\n",
    "access_rows = df[df[\"ID\"].isin([1001, 1002])]\n",
    "print(access_rows)"
   ]
  },
  {
   "cell_type": "markdown",
   "id": "0c674871-a5ef-42ba-b9a9-b32b80032977",
   "metadata": {},
   "source": [
    "## 4. Read a CSV Chunk-by-chunk"
   ]
  },
  {
   "cell_type": "code",
   "execution_count": 15,
   "id": "d20f6273-c285-4413-a9ce-c6d267dbeba3",
   "metadata": {},
   "outputs": [
    {
     "name": "stdout",
     "output_type": "stream",
     "text": [
      "   ID      Name  Age  Gender Department  Salary Joining_Date Performance_Score\n",
      "0   1  Person_1   56  Female         HR  112800   2010-01-01                 C\n",
      "1   2  Person_2   46  Female         IT   98685   2010-01-02                 A\n",
      "      ID        Name  Age  Gender Department  Salary Joining_Date  \\\n",
      "500  501  Person_501   54    Male         HR   96617   2011-05-16   \n",
      "501  502  Person_502   29  Female         HR   50269   2011-05-17   \n",
      "\n",
      "    Performance_Score  \n",
      "500                 B  \n",
      "501                 B  \n",
      "        ID         Name  Age  Gender Department  Salary Joining_Date  \\\n",
      "1000  1001  Person_1001   46  Female    Finance   43237   2012-09-27   \n",
      "1001  1002  Person_1002   21  Female  Marketing   81586   2012-09-28   \n",
      "\n",
      "     Performance_Score  \n",
      "1000                 D  \n",
      "1001                 D  \n",
      "        ID         Name  Age  Gender Department  Salary Joining_Date  \\\n",
      "1500  1501  Person_1501   19    Male    Finance   47459   2014-02-09   \n",
      "1501  1502  Person_1502   31  Female    Finance   65418   2014-02-10   \n",
      "\n",
      "     Performance_Score  \n",
      "1500                 A  \n",
      "1501                 D  \n",
      "        ID         Name  Age  Gender Department  Salary Joining_Date  \\\n",
      "2000  2001  Person_2001   48  Female         HR   58549   2015-06-24   \n",
      "2001  2002  Person_2002   27  Female         IT  111782   2015-06-25   \n",
      "\n",
      "     Performance_Score  \n",
      "2000                 C  \n",
      "2001                 D  \n",
      "        ID         Name  Age  Gender Department  Salary Joining_Date  \\\n",
      "2500  2501  Person_2501   26  Female         IT   43746   2016-11-05   \n",
      "2501  2502  Person_2502   53  Female  Marketing  116457   2016-11-06   \n",
      "\n",
      "     Performance_Score  \n",
      "2500                 D  \n",
      "2501                 D  \n",
      "        ID         Name  Age  Gender Department  Salary Joining_Date  \\\n",
      "3000  3001  Person_3001   29    Male         IT   75000   2025-09-09   \n",
      "3001  3002  Person_3002   35  Female         HR   64000   2025-09-10   \n",
      "\n",
      "     Performance_Score  \n",
      "3000                 B  \n",
      "3001                 A  \n"
     ]
    }
   ],
   "source": [
    "# Read CSV in chunks of 500 rows\n",
    "chunk_size = 500\n",
    "for chunk in pd.read_csv(\"sample_data.csv\", chunksize=chunk_size):\n",
    "    print(chunk.head(2))  # Show first 2 rows of each chunk"
   ]
  },
  {
   "cell_type": "markdown",
   "id": "4281eaec-5cb7-46ec-834d-7cc4b5d29066",
   "metadata": {},
   "source": [
    "## ALTERNATIVE METHOD TO READ CSV , USING FILE OBJECT AND ACCESSING THE FILE CHUNK WISE"
   ]
  },
  {
   "cell_type": "code",
   "execution_count": 19,
   "id": "07c34ed5-f7fd-4af0-b344-6cb4c3436260",
   "metadata": {},
   "outputs": [
    {
     "name": "stdout",
     "output_type": "stream",
     "text": [
      "<pandas.io.parsers.readers.TextFileReader object at 0x0000019D1A762950>\n",
      "   ID      Name  Age  Gender Department  Salary Joining_Date Performance_Score\n",
      "0   1  Person_1   56  Female         HR  112800   2010-01-01                 C\n",
      "1   2  Person_2   46  Female         IT   98685   2010-01-02                 A\n",
      "      ID        Name  Age  Gender Department  Salary Joining_Date  \\\n",
      "500  501  Person_501   54    Male         HR   96617   2011-05-16   \n",
      "501  502  Person_502   29  Female         HR   50269   2011-05-17   \n",
      "\n",
      "    Performance_Score  \n",
      "500                 B  \n",
      "501                 B  \n",
      "        ID         Name  Age  Gender Department  Salary Joining_Date  \\\n",
      "1000  1001  Person_1001   46  Female    Finance   43237   2012-09-27   \n",
      "1001  1002  Person_1002   21  Female  Marketing   81586   2012-09-28   \n",
      "\n",
      "     Performance_Score  \n",
      "1000                 D  \n",
      "1001                 D  \n",
      "        ID         Name  Age  Gender Department  Salary Joining_Date  \\\n",
      "1500  1501  Person_1501   19    Male    Finance   47459   2014-02-09   \n",
      "1501  1502  Person_1502   31  Female    Finance   65418   2014-02-10   \n",
      "\n",
      "     Performance_Score  \n",
      "1500                 A  \n",
      "1501                 D  \n",
      "        ID         Name  Age  Gender Department  Salary Joining_Date  \\\n",
      "2000  2001  Person_2001   48  Female         HR   58549   2015-06-24   \n",
      "2001  2002  Person_2002   27  Female         IT  111782   2015-06-25   \n",
      "\n",
      "     Performance_Score  \n",
      "2000                 C  \n",
      "2001                 D  \n",
      "        ID         Name  Age  Gender Department  Salary Joining_Date  \\\n",
      "2500  2501  Person_2501   26  Female         IT   43746   2016-11-05   \n",
      "2501  2502  Person_2502   53  Female  Marketing  116457   2016-11-06   \n",
      "\n",
      "     Performance_Score  \n",
      "2500                 D  \n",
      "2501                 D  \n",
      "        ID         Name  Age  Gender Department  Salary Joining_Date  \\\n",
      "3000  3001  Person_3001   29    Male         IT   75000   2025-09-09   \n",
      "3001  3002  Person_3002   35  Female         HR   64000   2025-09-10   \n",
      "\n",
      "     Performance_Score  \n",
      "3000                 B  \n",
      "3001                 A  \n"
     ]
    }
   ],
   "source": [
    "#reading csv chunk by chunk\n",
    "\n",
    "with pd.read_csv(\"sample_data.csv\",chunksize=500) as reader:\n",
    "    print(reader) # printing file obj\n",
    "    for c in reader:\n",
    "        print(c.head(2)) #accessing first 2 rows of each chunk\n"
   ]
  },
  {
   "cell_type": "code",
   "execution_count": 20,
   "id": "d5fcfb50-aba5-46c7-bc71-436e8c490307",
   "metadata": {},
   "outputs": [
    {
     "name": "stdout",
     "output_type": "stream",
     "text": [
      "<class 'pandas.io.parsers.readers.TextFileReader'>\n",
      "<class 'pandas.core.frame.DataFrame'>\n"
     ]
    }
   ],
   "source": [
    "print(type(reader))\n",
    "print(type(c))"
   ]
  },
  {
   "cell_type": "code",
   "execution_count": 21,
   "id": "cc552522-75d0-4247-b60d-e190b1ec66aa",
   "metadata": {},
   "outputs": [],
   "source": [
    "#c is the dataframe\n",
    "#reader is the iterator\n",
    "#using (with ...as) is the context manager , that makes sure that the file is properly closed."
   ]
  },
  {
   "cell_type": "markdown",
   "id": "c4f55ab1-d2f0-42b5-83c0-ae41149baf2f",
   "metadata": {},
   "source": [
    "## Note :\n",
    "- Appending with to_csv(mode=\"a\") → just adds new rows at the end of the CSV file.\n",
    "\n",
    "- .iloc → is a read-only indexing operation. It only helps you access rows by their position (like slicing in lists). It never modifies or replaces rows unless you explicitly assign values.\n",
    "\n",
    "- What if you do assignment?\n",
    "\n",
    "              df.iloc[10, df.columns.get_loc(\"Salary\")] = 99999\n",
    "\n",
    "- This updates the value in memory (the DataFrame), but the CSV file itself won’t change unless you explicitly save it again with:\n",
    "\n",
    "              df.to_csv(\"sample_data.csv\", index=False)\n",
    "\n",
    "- That index=False you see in to_csv() is just an instruction about whether Pandas should write the DataFrame’s index column into the CSV file."
   ]
  },
  {
   "cell_type": "code",
   "execution_count": 23,
   "id": "c75ef386-bb82-481f-a21a-a759021e3d00",
   "metadata": {},
   "outputs": [
    {
     "name": "stdout",
     "output_type": "stream",
     "text": [
      "   ID      Name  Age  Gender Department  Salary Joining_Date Performance_Score\n",
      "0   1  Person_1   56  Female         HR  112800   2010-01-01                 C\n",
      "1   2  Person_2   46  Female         IT   98685   2010-01-02                 A\n",
      "2   3  Person_3   32    Male         HR   54660   2010-01-03                 D\n",
      "3   4  Person_4   25  Female         HR  116064   2010-01-04                 A\n",
      "4   5  Person_5   38    Male         HR   31168   2010-01-05                 A\n"
     ]
    }
   ],
   "source": [
    "with pd.read_csv(\"sample_data.csv\",chunksize=500) as reader:\n",
    "    print( reader.get_chunk(5)) #reading through specific chunk of data"
   ]
  },
  {
   "cell_type": "markdown",
   "id": "c06c5edb-003b-43a8-9251-47f13b6498dd",
   "metadata": {},
   "source": [
    "## Example: Reading in Chunks and Concatenating"
   ]
  },
  {
   "cell_type": "code",
   "execution_count": 24,
   "id": "eed1fb7e-cc6e-405f-89e7-d514765e74b4",
   "metadata": {},
   "outputs": [
    {
     "name": "stdout",
     "output_type": "stream",
     "text": [
      "(3002, 8)\n",
      "   ID      Name  Age  Gender Department  Salary Joining_Date Performance_Score\n",
      "0   1  Person_1   56  Female         HR  112800   2010-01-01                 C\n",
      "1   2  Person_2   46  Female         IT   98685   2010-01-02                 A\n",
      "2   3  Person_3   32    Male         HR   54660   2010-01-03                 D\n",
      "3   4  Person_4   25  Female         HR  116064   2010-01-04                 A\n",
      "4   5  Person_5   38    Male         HR   31168   2010-01-05                 A\n"
     ]
    }
   ],
   "source": [
    "import pandas as pd\n",
    "\n",
    "chunk_size = 500\n",
    "chunks = []\n",
    "\n",
    "# Read CSV in chunks\n",
    "for chunk in pd.read_csv(\"sample_data.csv\", chunksize=chunk_size):\n",
    "    # You can process each chunk here if needed\n",
    "    chunks.append(chunk)\n",
    "\n",
    "# Concatenate all chunks into a single DataFrame\n",
    "full_df = pd.concat(chunks, ignore_index=True)\n",
    "\n",
    "print(full_df.shape)   # (3002, 8) if we had appended 2 new rows earlier\n",
    "print(full_df.head())\n"
   ]
  },
  {
   "cell_type": "markdown",
   "id": "64b005a2-28c2-45ae-99df-4caa200975b9",
   "metadata": {},
   "source": [
    "## Notes:\n",
    "Why concat is needed here?\n",
    "\n",
    "- Each chunk is a separate DataFrame.\n",
    "\n",
    "- concat() stitches them back together (row-wise).\n",
    "\n",
    "- Without concat, you’d just have a list of DataFrames instead of one complete DataFrame.\n",
    "\n",
    "So:\n",
    "\n",
    "- pd.concat() = “merge/join multiple DataFrames or Series”\n",
    "\n",
    "- pd.DataFrame() = “convert raw data (list, dict, array) into a DataFrame”"
   ]
  },
  {
   "cell_type": "markdown",
   "id": "464aaf8e-5b9b-4175-bb4b-27a11b92e6b5",
   "metadata": {},
   "source": [
    "## Using Enumerate function to read the csv chunk by chunk"
   ]
  },
  {
   "cell_type": "code",
   "execution_count": 25,
   "id": "dfab113a-88fc-4bb2-9d58-c5b18dccddd7",
   "metadata": {},
   "outputs": [
    {
     "name": "stdout",
     "output_type": "stream",
     "text": [
      "\n",
      "--- Chunk 1 ---\n",
      "   ID      Name  Age  Gender Department  Salary Joining_Date Performance_Score\n",
      "0   1  Person_1   56  Female         HR  112800   2010-01-01                 C\n",
      "1   2  Person_2   46  Female         IT   98685   2010-01-02                 A\n",
      "\n",
      "--- Chunk 2 ---\n",
      "      ID        Name  Age  Gender Department  Salary Joining_Date  \\\n",
      "500  501  Person_501   54    Male         HR   96617   2011-05-16   \n",
      "501  502  Person_502   29  Female         HR   50269   2011-05-17   \n",
      "\n",
      "    Performance_Score  \n",
      "500                 B  \n",
      "501                 B  \n",
      "\n",
      "--- Chunk 3 ---\n",
      "        ID         Name  Age  Gender Department  Salary Joining_Date  \\\n",
      "1000  1001  Person_1001   46  Female    Finance   43237   2012-09-27   \n",
      "1001  1002  Person_1002   21  Female  Marketing   81586   2012-09-28   \n",
      "\n",
      "     Performance_Score  \n",
      "1000                 D  \n",
      "1001                 D  \n",
      "\n",
      "--- Chunk 4 ---\n",
      "        ID         Name  Age  Gender Department  Salary Joining_Date  \\\n",
      "1500  1501  Person_1501   19    Male    Finance   47459   2014-02-09   \n",
      "1501  1502  Person_1502   31  Female    Finance   65418   2014-02-10   \n",
      "\n",
      "     Performance_Score  \n",
      "1500                 A  \n",
      "1501                 D  \n",
      "\n",
      "--- Chunk 5 ---\n",
      "        ID         Name  Age  Gender Department  Salary Joining_Date  \\\n",
      "2000  2001  Person_2001   48  Female         HR   58549   2015-06-24   \n",
      "2001  2002  Person_2002   27  Female         IT  111782   2015-06-25   \n",
      "\n",
      "     Performance_Score  \n",
      "2000                 C  \n",
      "2001                 D  \n",
      "\n",
      "--- Chunk 6 ---\n",
      "        ID         Name  Age  Gender Department  Salary Joining_Date  \\\n",
      "2500  2501  Person_2501   26  Female         IT   43746   2016-11-05   \n",
      "2501  2502  Person_2502   53  Female  Marketing  116457   2016-11-06   \n",
      "\n",
      "     Performance_Score  \n",
      "2500                 D  \n",
      "2501                 D  \n",
      "\n",
      "--- Chunk 7 ---\n",
      "        ID         Name  Age  Gender Department  Salary Joining_Date  \\\n",
      "3000  3001  Person_3001   29    Male         IT   75000   2025-09-09   \n",
      "3001  3002  Person_3002   35  Female         HR   64000   2025-09-10   \n",
      "\n",
      "     Performance_Score  \n",
      "3000                 B  \n",
      "3001                 A  \n"
     ]
    }
   ],
   "source": [
    "import pandas as pd\n",
    "\n",
    "chunk_size = 500\n",
    "\n",
    "for i, chunk in enumerate(pd.read_csv(\"sample_data.csv\", chunksize=chunk_size)): #using enumerate function\n",
    "    print(f\"\\n--- Chunk {i+1} ---\")\n",
    "    print(chunk.head(2))   # Show first 2 rows of this chunk\n"
   ]
  },
  {
   "cell_type": "markdown",
   "id": "75acadd3-bf08-4cfb-b08a-cc9e1eebc0ac",
   "metadata": {},
   "source": [
    "## EXPLANATION:\n",
    "- pd.read_csv(..., chunksize=500) → returns an iterator of DataFrames.\n",
    "\n",
    "- enumerate() → gives you (index, chunk) while looping.\n",
    "\n",
    "- i+1 → human-readable chunk number (since enumerate starts at 0)."
   ]
  },
  {
   "cell_type": "markdown",
   "id": "7a2d7a78-6dd7-4ee0-a999-ed01c173d8da",
   "metadata": {},
   "source": [
    "## 5. Write Numeric Data into CSV"
   ]
  },
  {
   "cell_type": "code",
   "execution_count": 26,
   "id": "3ffa6487-e02d-4935-82a8-e21a37004d92",
   "metadata": {},
   "outputs": [
    {
     "name": "stdout",
     "output_type": "stream",
     "text": [
      "Numeric CSV written successfully!\n",
      "   ID  Value1  Value2\n",
      "0   1      71    7.92\n",
      "1   2      16    1.77\n",
      "2   3      29    8.48\n",
      "3   4      24    7.57\n",
      "4   5      80    2.31\n",
      "5   6      13    6.09\n",
      "6   7      67    8.73\n",
      "7   8      17    7.19\n",
      "8   9      90    8.50\n",
      "9  10      21    2.63\n"
     ]
    }
   ],
   "source": [
    "import pandas as pd\n",
    "import numpy as np\n",
    "\n",
    "# Create numeric dataset\n",
    "numeric_data = pd.DataFrame({\n",
    "    \"ID\": np.arange(1, 11),  # 1 to 10\n",
    "    \"Value1\": np.random.randint(10, 100, size=10),\n",
    "    \"Value2\": np.random.uniform(1.5, 9.9, size=10).round(2)\n",
    "})\n",
    "\n",
    "# Save numeric data into CSV\n",
    "numeric_data.to_csv(\"numeric_data.csv\", index=False)\n",
    "\n",
    "print(\"Numeric CSV written successfully!\")\n",
    "print(numeric_data)\n"
   ]
  },
  {
   "cell_type": "markdown",
   "id": "70c164aa-b864-436e-8218-b88ecdb89ccf",
   "metadata": {},
   "source": [
    "## 6. Write Text Data into CSV"
   ]
  },
  {
   "cell_type": "code",
   "execution_count": 27,
   "id": "e1fdb055-a147-4603-896f-ffe35e443cae",
   "metadata": {},
   "outputs": [
    {
     "name": "stdout",
     "output_type": "stream",
     "text": [
      "Text CSV written successfully!\n",
      "      Name      City Department\n",
      "0    Alice  New York         HR\n",
      "1      Bob    London         IT\n",
      "2  Charlie     Tokyo    Finance\n",
      "3    Diana     Paris  Marketing\n",
      "4    Ethan    Berlin      Sales\n"
     ]
    }
   ],
   "source": [
    "# Create text dataset\n",
    "text_data = pd.DataFrame({\n",
    "    \"Name\": [\"Alice\", \"Bob\", \"Charlie\", \"Diana\", \"Ethan\"],\n",
    "    \"City\": [\"New York\", \"London\", \"Tokyo\", \"Paris\", \"Berlin\"],\n",
    "    \"Department\": [\"HR\", \"IT\", \"Finance\", \"Marketing\", \"Sales\"]\n",
    "})\n",
    "\n",
    "# Save text data into CSV\n",
    "text_data.to_csv(\"text_data.csv\", index=False)\n",
    "\n",
    "print(\"Text CSV written successfully!\")\n",
    "print(text_data)\n"
   ]
  },
  {
   "cell_type": "code",
   "execution_count": null,
   "id": "44952ca9-c98b-4403-937c-53f612eafc27",
   "metadata": {},
   "outputs": [],
   "source": []
  }
 ],
 "metadata": {
  "kernelspec": {
   "display_name": "Python 3 (ipykernel)",
   "language": "python",
   "name": "python3"
  },
  "language_info": {
   "codemirror_mode": {
    "name": "ipython",
    "version": 3
   },
   "file_extension": ".py",
   "mimetype": "text/x-python",
   "name": "python",
   "nbconvert_exporter": "python",
   "pygments_lexer": "ipython3",
   "version": "3.11.4"
  }
 },
 "nbformat": 4,
 "nbformat_minor": 5
}
