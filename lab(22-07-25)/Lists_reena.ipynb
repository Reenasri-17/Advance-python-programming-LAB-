{
 "cells": [
  {
   "cell_type": "markdown",
   "id": "140c5e8e-ca7b-4079-bbbe-3bfd76503252",
   "metadata": {},
   "source": [
    "Creating a List"
   ]
  },
  {
   "cell_type": "code",
   "execution_count": 1,
   "id": "9e251307-b8eb-4ee7-a0f7-1ddcc43ec01f",
   "metadata": {},
   "outputs": [],
   "source": [
    "my_list = [1, 2, 3, 4, 5]"
   ]
  },
  {
   "cell_type": "code",
   "execution_count": 2,
   "id": "5b4f2d7c-385d-42d8-8004-399bff9ec6f6",
   "metadata": {},
   "outputs": [
    {
     "name": "stdout",
     "output_type": "stream",
     "text": [
      "[1, 2, 3, 4, 5]\n"
     ]
    }
   ],
   "source": [
    "print(my_list) #displaying my_list"
   ]
  },
  {
   "cell_type": "markdown",
   "id": "0773603c-7bf8-4616-84e1-416dc46f49e0",
   "metadata": {},
   "source": [
    "Accessing Elements"
   ]
  },
  {
   "cell_type": "code",
   "execution_count": 3,
   "id": "c6536841-4996-49f1-a0e6-beadc8bfdf88",
   "metadata": {},
   "outputs": [
    {
     "name": "stdout",
     "output_type": "stream",
     "text": [
      "1\n",
      "5\n"
     ]
    }
   ],
   "source": [
    "print(my_list[0])      # First element\n",
    "print(my_list[-1])     # Last element"
   ]
  },
  {
   "cell_type": "markdown",
   "id": "a155287d-0877-407c-b379-a37c656e8bab",
   "metadata": {},
   "source": [
    "Slicing a List"
   ]
  },
  {
   "cell_type": "code",
   "execution_count": 4,
   "id": "ec15a176-afaf-4289-a685-839fe2d4d2ae",
   "metadata": {},
   "outputs": [
    {
     "name": "stdout",
     "output_type": "stream",
     "text": [
      "[2, 3, 4]\n"
     ]
    }
   ],
   "source": [
    "print(my_list[1:4])    "
   ]
  },
  {
   "cell_type": "markdown",
   "id": "fd657c17-f000-4df3-a2f2-c19c5c171535",
   "metadata": {},
   "source": [
    "Updating Elements"
   ]
  },
  {
   "cell_type": "code",
   "execution_count": 5,
   "id": "50859ce7-4c75-47b3-bfd1-a04ba26f5119",
   "metadata": {},
   "outputs": [
    {
     "name": "stdout",
     "output_type": "stream",
     "text": [
      "[1, 2, 10, 4, 5]\n"
     ]
    }
   ],
   "source": [
    "my_list[2] = 10\n",
    "print(my_list)      "
   ]
  },
  {
   "cell_type": "markdown",
   "id": "34fed20e-5cbd-481e-a98a-2542f03f4152",
   "metadata": {},
   "source": [
    "Adding Elements"
   ]
  },
  {
   "cell_type": "code",
   "execution_count": 6,
   "id": "fb389f90-beeb-40f4-a237-92dfc43e6742",
   "metadata": {},
   "outputs": [
    {
     "name": "stdout",
     "output_type": "stream",
     "text": [
      "[1, 2, 10, 4, 5, 6]\n"
     ]
    }
   ],
   "source": [
    "my_list.append(6)           # Add at the end\n",
    "print(my_list)"
   ]
  },
  {
   "cell_type": "code",
   "execution_count": 7,
   "id": "169173b3-f433-4231-90d4-e3ef4b8d165e",
   "metadata": {},
   "outputs": [
    {
     "name": "stdout",
     "output_type": "stream",
     "text": [
      "[1, 2, 7, 10, 4, 5, 6]\n"
     ]
    }
   ],
   "source": [
    "my_list.insert(2, 7)        # Insert 7 at index 2\n",
    "print(my_list)"
   ]
  },
  {
   "cell_type": "markdown",
   "id": "d292939b-1d12-47d7-8287-52e697975d21",
   "metadata": {},
   "source": [
    "Removing Elements"
   ]
  },
  {
   "cell_type": "code",
   "execution_count": 12,
   "id": "b212cf7c-1e4e-403e-8bb7-a6905fff04db",
   "metadata": {},
   "outputs": [
    {
     "name": "stdout",
     "output_type": "stream",
     "text": [
      "[1, 2, 7, 4, 5]\n"
     ]
    }
   ],
   "source": [
    "my_list.remove(10) # Remove value 10\n",
    "print(my_list)"
   ]
  },
  {
   "cell_type": "code",
   "execution_count": 13,
   "id": "b23377ee-b5a5-48d0-be76-581771fa69e3",
   "metadata": {},
   "outputs": [
    {
     "name": "stdout",
     "output_type": "stream",
     "text": [
      "[1, 2, 7, 4]\n"
     ]
    }
   ],
   "source": [
    "popped = my_list.pop() # Removes last element\n",
    "print(my_list)"
   ]
  },
  {
   "cell_type": "code",
   "execution_count": 14,
   "id": "d5b76847-f64d-4707-8df5-cf8e892df9ca",
   "metadata": {},
   "outputs": [
    {
     "name": "stdout",
     "output_type": "stream",
     "text": [
      "[1, 7, 4]\n"
     ]
    }
   ],
   "source": [
    "del my_list[1]              # Delete element at index 1\n",
    "print(my_list)"
   ]
  },
  {
   "cell_type": "markdown",
   "id": "8fb0a608-5cbd-4b6d-8447-adda9a4fef7d",
   "metadata": {},
   "source": [
    "Length of List"
   ]
  },
  {
   "cell_type": "code",
   "execution_count": 15,
   "id": "725b5bb9-6cd3-4d82-9c8c-e383d6097836",
   "metadata": {},
   "outputs": [
    {
     "name": "stdout",
     "output_type": "stream",
     "text": [
      "3\n"
     ]
    }
   ],
   "source": [
    "length = len(my_list)\n",
    "print(length)"
   ]
  },
  {
   "cell_type": "markdown",
   "id": "2cf00f6c-a10a-4c00-a18c-11ad08fe954a",
   "metadata": {},
   "source": [
    "Searching / Checking Membership"
   ]
  },
  {
   "cell_type": "code",
   "execution_count": 24,
   "id": "a7a88931-6baf-4fbf-a79e-b175959d7ff0",
   "metadata": {},
   "outputs": [
    {
     "name": "stdout",
     "output_type": "stream",
     "text": [
      "True\n",
      "1\n"
     ]
    }
   ],
   "source": [
    "print(4 in my_list)         # True or False\n",
    "print(my_list.index(4))     # Returns index of first occurrence of 4"
   ]
  },
  {
   "cell_type": "markdown",
   "id": "0244b168-23a2-40f5-83d9-370fb1d62d69",
   "metadata": {},
   "source": [
    "Sorting and Reversing"
   ]
  },
  {
   "cell_type": "code",
   "execution_count": 17,
   "id": "2e076d28-0182-45ea-8bc4-ecdcbcabacc5",
   "metadata": {},
   "outputs": [
    {
     "name": "stdout",
     "output_type": "stream",
     "text": [
      "[1, 4, 7]\n"
     ]
    }
   ],
   "source": [
    "my_list.sort()              # Sorts in ascending order\n",
    "print(my_list)"
   ]
  },
  {
   "cell_type": "code",
   "execution_count": 18,
   "id": "b0d1c800-146c-4868-99f1-b9fe7a082724",
   "metadata": {},
   "outputs": [],
   "source": [
    "my_list.reverse()           # Reverses the list"
   ]
  },
  {
   "cell_type": "code",
   "execution_count": 19,
   "id": "4f40954b-9826-4f7f-9d7e-ff15fc80e9b0",
   "metadata": {},
   "outputs": [
    {
     "name": "stdout",
     "output_type": "stream",
     "text": [
      "[7, 4, 1]\n"
     ]
    }
   ],
   "source": [
    "print(my_list)"
   ]
  },
  {
   "cell_type": "markdown",
   "id": "9f21f13c-b3a0-4f51-bb2c-7bbf27d0d6b4",
   "metadata": {},
   "source": [
    "Copying a List"
   ]
  },
  {
   "cell_type": "code",
   "execution_count": 20,
   "id": "d3b42840-c840-4281-8915-49a35e3f37c7",
   "metadata": {},
   "outputs": [],
   "source": [
    "copy_list = my_list.copy()"
   ]
  },
  {
   "cell_type": "code",
   "execution_count": 21,
   "id": "23c27623-0a33-461a-9f6b-1b23078a93f8",
   "metadata": {},
   "outputs": [
    {
     "name": "stdout",
     "output_type": "stream",
     "text": [
      "[7, 4, 1]\n"
     ]
    }
   ],
   "source": [
    "print(copy_list)"
   ]
  },
  {
   "cell_type": "markdown",
   "id": "46f6265b-328f-4524-8fc6-e4fe07001eab",
   "metadata": {},
   "source": [
    "Combining Lists"
   ]
  },
  {
   "cell_type": "code",
   "execution_count": 22,
   "id": "57cad99d-c607-4b41-abd3-931a1394b0ee",
   "metadata": {},
   "outputs": [],
   "source": [
    "list2 = [7, 8]\n",
    "combined = my_list + list2"
   ]
  },
  {
   "cell_type": "code",
   "execution_count": 23,
   "id": "070fa920-6b54-46cd-9d17-7da8a08e52eb",
   "metadata": {},
   "outputs": [
    {
     "name": "stdout",
     "output_type": "stream",
     "text": [
      "[7, 4, 1, 7, 8]\n"
     ]
    }
   ],
   "source": [
    "print(combined)"
   ]
  },
  {
   "cell_type": "markdown",
   "id": "b7b09b09-1211-4997-afe1-8d7bcb57b595",
   "metadata": {},
   "source": [
    "Clearing a list"
   ]
  },
  {
   "cell_type": "code",
   "execution_count": 25,
   "id": "fa98671e-fc4b-4068-928f-b365edb605df",
   "metadata": {},
   "outputs": [
    {
     "name": "stdout",
     "output_type": "stream",
     "text": [
      "[]\n"
     ]
    }
   ],
   "source": [
    "my_list.clear()\n",
    "print(my_list)"
   ]
  },
  {
   "cell_type": "code",
   "execution_count": null,
   "id": "912daff6-e55d-4a24-b06e-97f33e5ab117",
   "metadata": {},
   "outputs": [],
   "source": []
  }
 ],
 "metadata": {
  "kernelspec": {
   "display_name": "Python 3 (ipykernel)",
   "language": "python",
   "name": "python3"
  },
  "language_info": {
   "codemirror_mode": {
    "name": "ipython",
    "version": 3
   },
   "file_extension": ".py",
   "mimetype": "text/x-python",
   "name": "python",
   "nbconvert_exporter": "python",
   "pygments_lexer": "ipython3",
   "version": "3.11.4"
  }
 },
 "nbformat": 4,
 "nbformat_minor": 5
}
