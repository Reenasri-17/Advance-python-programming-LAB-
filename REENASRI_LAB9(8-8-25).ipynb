{
 "cells": [
  {
   "cell_type": "markdown",
   "id": "6c457ad5-0e68-4da2-a9b3-f2c95de7f477",
   "metadata": {},
   "source": [
    "lab-9\n",
    "CLASS AND OBJECCTS"
   ]
  },
  {
   "cell_type": "markdown",
   "id": "2957612e-e102-48c0-a6ab-b293ce78b0e5",
   "metadata": {},
   "source": [
    "22MID0009\n",
    "G REENA SRI"
   ]
  },
  {
   "cell_type": "code",
   "execution_count": 1,
   "id": "5a466c75-2959-425d-8196-84d326a3c799",
   "metadata": {},
   "outputs": [
    {
     "name": "stdout",
     "output_type": "stream",
     "text": [
      "<class '__main__.Emp'>\n",
      "<__main__.Emp object at 0x7a46c3050ad0>\n"
     ]
    }
   ],
   "source": [
    "class Emp: #creating a class\n",
    "    pass #indicating that a class is present\n",
    "\n",
    "print(Emp) #printing class\n",
    "e1=Emp() #creating an object\n",
    "print(e1) #printing an object\n",
    "    "
   ]
  },
  {
   "cell_type": "code",
   "execution_count": 2,
   "id": "4e91f78d-7d26-4ba4-b818-b147a48aa7a6",
   "metadata": {},
   "outputs": [],
   "source": [
    "e1.first='Donald' #assinging vlues to the attributes of an object in a class\n",
    "e1.last='Trump'\n",
    "e1.pay=50000"
   ]
  },
  {
   "cell_type": "code",
   "execution_count": 3,
   "id": "8b18ec05-3fae-40f9-98c1-81aa5ae1c0f1",
   "metadata": {},
   "outputs": [
    {
     "name": "stdout",
     "output_type": "stream",
     "text": [
      "Donald\n",
      "Trump\n",
      "50000\n"
     ]
    }
   ],
   "source": [
    "print(e1.first) #accessing the elements\n",
    "print(e1.last)\n",
    "print(e1.pay)"
   ]
  },
  {
   "cell_type": "markdown",
   "id": "b443de6f-8f66-4477-8e93-9f09f06a748e",
   "metadata": {},
   "source": [
    "#e1 is the instance"
   ]
  },
  {
   "cell_type": "code",
   "execution_count": 4,
   "id": "a3b8de9f-b7ba-4f83-b087-a2b9b9cadf5b",
   "metadata": {},
   "outputs": [],
   "source": [
    "#def to initialize values\n",
    "class Employee: #creating another class\n",
    "    def __init__(self,first,last,pay): #self is the obect to initialize the function\n",
    "        self.first=first #argument assignments\n",
    "        self.last=last\n",
    "        self.pay=pay\n",
    "        self.email=first+' '+last+'@company.com'\n",
    "        "
   ]
  },
  {
   "cell_type": "code",
   "execution_count": 5,
   "id": "6b378471-ba45-4fe6-83e3-12928e5a833e",
   "metadata": {},
   "outputs": [
    {
     "name": "stdout",
     "output_type": "stream",
     "text": [
      "Donald\n",
      "Trump\n",
      "500000\n",
      "Donald Trump@company.com\n"
     ]
    }
   ],
   "source": [
    "e2=Employee(\"Donald\",\"Trump\",\"500000\") #creating an instancefor the Employee class\n",
    "print(e2.first) #accessing elements\n",
    "print(e2.last)\n",
    "print(e2.pay)\n",
    "print(e2.email)"
   ]
  },
  {
   "cell_type": "markdown",
   "id": "ba5912b1-c26d-44ff-b2df-69d65f831fb8",
   "metadata": {},
   "source": [
    "INSTANCE VARIABLE & CLASS VARIABLE"
   ]
  },
  {
   "cell_type": "code",
   "execution_count": 6,
   "id": "0f5de6b2-254c-4e01-8490-7f5b21398ed9",
   "metadata": {},
   "outputs": [],
   "source": [
    "class Employee_1: #creating another class\n",
    "    raise_amt=1.05 #class variable\n",
    "    def __init__(self,first,last,pay): #self is the instance variable\n",
    "        self.first=first #argument assignments\n",
    "        self.last=last\n",
    "        self.pay=pay\n",
    "        self.email=first+' '+last+'@company.com'\n",
    "        \n",
    "    def fullname(self): #accessing object within a class\n",
    "        return'{}{}'.format(self.first,self.last)\n"
   ]
  },
  {
   "cell_type": "code",
   "execution_count": 7,
   "id": "829ead2a-b8cb-4266-b30f-884715df67a7",
   "metadata": {},
   "outputs": [
    {
     "name": "stdout",
     "output_type": "stream",
     "text": [
      "Donald\n",
      "Trump\n",
      "500000\n",
      "Donald Trump@company.com\n"
     ]
    }
   ],
   "source": [
    "e3=Employee_1(\"Donald\",\"Trump\",\"500000\") #creating an instancefor the Employee class\n",
    "print(e3.first) #accessing elements\n",
    "print(e3.last)\n",
    "print(e3.pay)\n",
    "print(e3.email)"
   ]
  },
  {
   "cell_type": "code",
   "execution_count": 8,
   "id": "ddac6297-c0fd-4567-ba75-9edaa28e4161",
   "metadata": {},
   "outputs": [
    {
     "name": "stdout",
     "output_type": "stream",
     "text": [
      "<bound method Employee_1.fullname of <__main__.Employee_1 object at 0x7a46c30512b0>>\n",
      "DonaldTrump\n"
     ]
    }
   ],
   "source": [
    "print(e3.fullname) #it doesnot raise an attribute error\n",
    "print(e3.fullname()) #function call through obj instance"
   ]
  },
  {
   "cell_type": "markdown",
   "id": "5c590027-94c6-460b-8155-d51801f1e0b1",
   "metadata": {},
   "source": [
    "#bound method of Employee"
   ]
  },
  {
   "cell_type": "code",
   "execution_count": null,
   "id": "7f156551-c8ec-45d3-8b5a-b25cc920048a",
   "metadata": {},
   "outputs": [],
   "source": []
  }
 ],
 "metadata": {
  "kernelspec": {
   "display_name": "Python 3 (ipykernel)",
   "language": "python",
   "name": "python3"
  },
  "language_info": {
   "codemirror_mode": {
    "name": "ipython",
    "version": 3
   },
   "file_extension": ".py",
   "mimetype": "text/x-python",
   "name": "python",
   "nbconvert_exporter": "python",
   "pygments_lexer": "ipython3",
   "version": "3.12.4"
  }
 },
 "nbformat": 4,
 "nbformat_minor": 5
}
