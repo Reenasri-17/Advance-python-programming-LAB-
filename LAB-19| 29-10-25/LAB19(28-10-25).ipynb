{
 "cells": [
  {
   "cell_type": "markdown",
   "id": "1c1352bc-e4d9-403f-94b2-2989a06cc45e",
   "metadata": {},
   "source": [
    "## Advance python programming (ELA)\n",
    "### Lab- 19\n",
    "## Reena Sri G\n",
    "## REG.NO : 22MID0009\n",
    "\n",
    "#### pandas - Series and dataframes with multiindexes"
   ]
  },
  {
   "cell_type": "code",
   "execution_count": 2,
   "id": "8e8ee6db-f7ed-4877-a97d-295b6d78000e",
   "metadata": {},
   "outputs": [
    {
     "name": "stdout",
     "output_type": "stream",
     "text": [
      "0     11\n",
      "1    2.9\n",
      "2      b\n",
      "3      5\n",
      "4      7\n",
      "dtype: object\n"
     ]
    }
   ],
   "source": [
    "import pandas as pd #using alias and importing the library\n",
    "\n",
    "# Initializing a Series from a list\n",
    "data = [11, 2.9, 'b', 5, 7] #assigning different kinds of values to the list -> integer,float,character\n",
    "series_from_list = pd.Series(data) #converting the list into series \n",
    "print(series_from_list)\n"
   ]
  },
  {
   "cell_type": "code",
   "execution_count": 3,
   "id": "db5bb5d0-9e03-4e2b-9298-b2ba4a8e23fe",
   "metadata": {},
   "outputs": [
    {
     "name": "stdout",
     "output_type": "stream",
     "text": [
      "      Name  Age  Score\n",
      "0    Reena   21     95\n",
      "1    Gokul   27     80\n",
      "2  Chandru   31     68\n",
      "3    Henry   27     72\n"
     ]
    }
   ],
   "source": [
    "# Creating a DataFrame using pandas\n",
    "data = {\n",
    "    'Name': ['Reena', 'Gokul', 'Chandru', 'Henry'],\n",
    "    'Age': [21, 27, 31, 27],\n",
    "    'Score': [95, 80, 68, 72]\n",
    "} \n",
    "\n",
    "df1 = pd.DataFrame(data) # converting dictionary data type to data frame\n",
    "print(df1)\n"
   ]
  },
  {
   "cell_type": "code",
   "execution_count": 4,
   "id": "529c1af2-b513-4c1a-997b-4075dfe9768d",
   "metadata": {},
   "outputs": [
    {
     "name": "stdout",
     "output_type": "stream",
     "text": [
      "w       NaN\n",
      "x       NaN\n",
      "y     800.0\n",
      "z    1500.0\n",
      "dtype: float64\n"
     ]
    }
   ],
   "source": [
    "# Demonstrates alignment of Series for operations.\n",
    "s1 = pd.Series([10, 20, 30], index=[\"x\", \"y\", \"z\"])  # Create Series with custom index.\n",
    "s2 = pd.Series([40, 50, 60], index=[\"y\", \"z\", \"w\"])  # Create another Series with index.\n",
    "print(s1 * s2)  # Multiplies aligned values, returns NaN otherwise."
   ]
  },
  {
   "cell_type": "code",
   "execution_count": 5,
   "id": "3239715a-b5f5-4f40-8b2f-b98b7170d8f6",
   "metadata": {},
   "outputs": [
    {
     "name": "stdout",
     "output_type": "stream",
     "text": [
      "0    50\n",
      "1    70\n",
      "2    90\n",
      "dtype: int64\n"
     ]
    }
   ],
   "source": [
    "# Create the first pandas Series.\n",
    "series_a = pd.Series([10, 20, 30])  \n",
    "# Create the second pandas Series.\n",
    "series_b = pd.Series([40, 50, 60])  \n",
    "# Add the two Series element-wise.\n",
    "sum_series = series_a + series_b  # Performs element-wise addition based on position.\n",
    "# Print the resulting Series.\n",
    "print(sum_series)  # Shows the new Series with summed values."
   ]
  },
  {
   "cell_type": "code",
   "execution_count": 6,
   "id": "20100282-19a2-415d-bee7-9deb537c0021",
   "metadata": {},
   "outputs": [
    {
     "name": "stdout",
     "output_type": "stream",
     "text": [
      "Letter  Subject\n",
      "X       English    95\n",
      "        History    80\n",
      "Y       English    75\n",
      "        History    98\n",
      "dtype: int64\n"
     ]
    }
   ],
   "source": [
    "# Create MultiIndex Series\n",
    "# first level of index.\n",
    "arrays = [['X', 'X', 'Y', 'Y'],\n",
    "          ['English', 'History', 'English', 'History']] # second level of index.\n",
    "# Create MultiIndex from the arrays.\n",
    "index = pd.MultiIndex.from_arrays(arrays, names=('Letter', 'Subject'))\n",
    "# Create Series with MultiIndex and new values.\n",
    "multi_s = pd.Series([95, 80, 75, 98], index=index)\n",
    "# Print the new MultiIndex Series.\n",
    "print(multi_s)"
   ]
  },
  {
   "cell_type": "code",
   "execution_count": 7,
   "id": "b7935bb6-bc35-4312-b512-319b14e7c13d",
   "metadata": {},
   "outputs": [
    {
     "name": "stdout",
     "output_type": "stream",
     "text": [
      "Letter  Subject\n",
      "X       English    95\n",
      "        History    80\n",
      "Y       English    75\n",
      "        History    98\n",
      "dtype: int64\n"
     ]
    }
   ],
   "source": [
    "import pandas as pd  # Import the pandas library.\n",
    "\n",
    "# This line creates a list of tuples, where each tuple represents a single hierarchical key.\n",
    "tuples = [('X', 'English'), ('X', 'History'), ('Y', 'English'), ('Y', 'History')]\n",
    "\n",
    "# This line creates a MultiIndex from the list of tuples.\n",
    "# It also assigns names to each level of the index.\n",
    "index = pd.MultiIndex.from_tuples(tuples, names=('Letter', 'Subject'))\n",
    "\n",
    "# This line creates a pandas Series using the new MultiIndex.\n",
    "# The values are now associated with the new hierarchical index.\n",
    "multi_s = pd.Series([95, 80, 75, 98], index=index)\n",
    "\n",
    "# This line prints the final MultiIndex Series.\n",
    "print(multi_s)"
   ]
  },
  {
   "cell_type": "code",
   "execution_count": 8,
   "id": "f7ec1446-31c0-4a28-b82a-f7f089b1a7dd",
   "metadata": {},
   "outputs": [
    {
     "name": "stdout",
     "output_type": "stream",
     "text": [
      "Letter  Subject\n",
      "X       English    95\n",
      "        History    80\n",
      "Y       English    75\n",
      "        History    98\n",
      "dtype: int64\n"
     ]
    }
   ],
   "source": [
    "# Create MultiIndex using from_product.\n",
    "index = pd.MultiIndex.from_product([['X', 'Y'], ['English', 'History']], # first list of category\n",
    "                                 names=('Letter', 'Subject')) # the second list of categories.\n",
    "# Create a new Series with new values.\n",
    "multi_s = pd.Series([95, 80, 75, 98], index=index)\n",
    "# Print the final Series.\n",
    "print(multi_s)"
   ]
  },
  {
   "cell_type": "code",
   "execution_count": 9,
   "id": "cb7e1fa4-9134-4de8-94c4-e7c79f7fcd41",
   "metadata": {},
   "outputs": [
    {
     "name": "stdout",
     "output_type": "stream",
     "text": [
      "Letter  Topic  \n",
      "X       English    95\n",
      "        History    80\n",
      "Y       English    75\n",
      "        History    98\n",
      "dtype: int64\n"
     ]
    }
   ],
   "source": [
    "# Create a DataFrame from a dictionary.\n",
    "df = pd.DataFrame({\n",
    "    'Letter': ['X', 'X', 'Y', 'Y'],  \n",
    "    'Topic': ['English', 'History', 'English', 'History'] \n",
    "})\n",
    "\n",
    "# Create a MultiIndex from the DataFrame.\n",
    "index = pd.MultiIndex.from_frame(df, names=('Letter', 'Topic'))\n",
    "\n",
    "# Create a Series with the new MultiIndex and new values.\n",
    "multi_s = pd.Series([95, 80, 75, 98], index=index)\n",
    "\n",
    "# Print the resulting Series.\n",
    "print(multi_s)"
   ]
  },
  {
   "cell_type": "code",
   "execution_count": 10,
   "id": "cc95804c-207e-407f-9760-2bf88f24a3a7",
   "metadata": {},
   "outputs": [
    {
     "name": "stdout",
     "output_type": "stream",
     "text": [
      "MultiIndex Series from arrays:\n",
      " Letter  Subject\n",
      "X       English    95\n",
      "        History    80\n",
      "Y       English    75\n",
      "        History    98\n",
      "dtype: int64 \n",
      "\n",
      "MultiIndex Series from tuples:\n",
      " Letter  Subject\n",
      "X       English    85\n",
      "        History    92\n",
      "Y       English    78\n",
      "        History    88\n",
      "dtype: int64 \n",
      "\n",
      "MultiIndex Series from product:\n",
      " Letter  Subject\n",
      "X       English    73\n",
      "        History    82\n",
      "Y       English    93\n",
      "        History    95\n",
      "dtype: int64 \n",
      "\n",
      "Access all subjects for 'X':\n",
      " Subject\n",
      "English    95\n",
      "History    80\n",
      "dtype: int64 \n",
      "\n",
      "Access element ('Y', 'History'):\n",
      " 98 \n",
      "\n",
      "Slicing from X to Y:\n",
      " Letter  Subject\n",
      "X       English    95\n",
      "        History    80\n",
      "Y       English    75\n",
      "        History    98\n",
      "dtype: int64 \n",
      "\n",
      "Partial slice for all English:\n",
      " Letter\n",
      "X    95\n",
      "Y    75\n",
      "dtype: int64 \n",
      "\n",
      "Swapping level order:\n",
      " Subject  Letter\n",
      "English  X         95\n",
      "History  X         80\n",
      "English  Y         75\n",
      "History  Y         98\n",
      "dtype: int64 \n",
      "\n",
      "Reordering levels explicitly:\n",
      " Subject  Letter\n",
      "English  X         73\n",
      "History  X         82\n",
      "English  Y         93\n",
      "History  Y         95\n",
      "dtype: int64 \n",
      "\n",
      "Auto-constructed MultiIndex Series:\n",
      " G1  C1    0.332904\n",
      "    C2   -0.516672\n",
      "G2  C1   -0.319089\n",
      "    C2    1.257584\n",
      "dtype: float64 \n",
      "\n",
      "DataFrame with MultiIndex automatically:\n",
      "               Metric1   Metric2\n",
      "Sect1 PartA  0.218399 -0.329443\n",
      "      PartB  0.081705 -1.019125\n",
      "Sect2 PartA -0.265101 -0.738321\n",
      "      PartB  1.538677 -1.413396 \n",
      "\n",
      "Original DataFrame:\n",
      "            Test1  Test2\n",
      "Alpha one     85     82\n",
      "      two     90     88\n",
      "Beta  one     95     92\n",
      "      two     80     84 \n",
      "\n",
      "Mean by group:\n",
      "        Test1  Test2\n",
      "Alpha   87.5   85.0\n",
      "Beta    87.5   88.0 \n",
      "\n",
      "Reindexed to align:\n",
      "            Test1  Test2\n",
      "Alpha one   87.5   85.0\n",
      "      two   87.5   85.0\n",
      "Beta  one   87.5   88.0\n",
      "      two   87.5   88.0 \n",
      "\n",
      "Cross-section for level 'two':\n",
      "        Test1  Test2\n",
      "Alpha     90     88\n",
      "Beta      80     84 \n",
      "\n",
      "Unsorted MultiIndex Series:\n",
      " G2  C2    1.257584\n",
      "G1  C2   -0.516672\n",
      "G2  C1   -0.319089\n",
      "G1  C1    0.332904\n",
      "dtype: float64 \n",
      "\n",
      "Sorted by index:\n",
      " G1  C1    0.332904\n",
      "    C2   -0.516672\n",
      "G2  C1   -0.319089\n",
      "    C2    1.257584\n",
      "dtype: float64 \n",
      "\n"
     ]
    },
    {
     "ename": "AttributeError",
     "evalue": "'Index' object has no attribute 'levels'",
     "output_type": "error",
     "traceback": [
      "\u001b[0;31m---------------------------------------------------------------------------\u001b[0m",
      "\u001b[0;31mAttributeError\u001b[0m                            Traceback (most recent call last)",
      "Cell \u001b[0;32mIn[10], line 104\u001b[0m\n\u001b[1;32m    101\u001b[0m \u001b[38;5;28mprint\u001b[39m(\u001b[38;5;124m\"\u001b[39m\u001b[38;5;124mSorted by index:\u001b[39m\u001b[38;5;130;01m\\n\u001b[39;00m\u001b[38;5;124m\"\u001b[39m, unsorted\u001b[38;5;241m.\u001b[39msort_index(), \u001b[38;5;124m\"\u001b[39m\u001b[38;5;130;01m\\n\u001b[39;00m\u001b[38;5;124m\"\u001b[39m) \u001b[38;5;66;03m# Sorts by the index.\u001b[39;00m\n\u001b[1;32m    103\u001b[0m sub_df \u001b[38;5;241m=\u001b[39m df_auto[[\u001b[38;5;124m\"\u001b[39m\u001b[38;5;124mMetric1\u001b[39m\u001b[38;5;124m\"\u001b[39m]] \u001b[38;5;66;03m# Removes one column.\u001b[39;00m\n\u001b[0;32m--> 104\u001b[0m \u001b[38;5;28mprint\u001b[39m(\u001b[38;5;124m\"\u001b[39m\u001b[38;5;124mUnused levels before removing:\u001b[39m\u001b[38;5;130;01m\\n\u001b[39;00m\u001b[38;5;124m\"\u001b[39m, sub_df\u001b[38;5;241m.\u001b[39mcolumns\u001b[38;5;241m.\u001b[39mlevels, \u001b[38;5;124m\"\u001b[39m\u001b[38;5;130;01m\\n\u001b[39;00m\u001b[38;5;124m\"\u001b[39m) \u001b[38;5;66;03m# Prints all column levels.\u001b[39;00m\n\u001b[1;32m    105\u001b[0m \u001b[38;5;28mprint\u001b[39m(\u001b[38;5;124m\"\u001b[39m\u001b[38;5;124mAfter remove_unused_levels:\u001b[39m\u001b[38;5;130;01m\\n\u001b[39;00m\u001b[38;5;124m\"\u001b[39m, sub_df\u001b[38;5;241m.\u001b[39mcolumns\u001b[38;5;241m.\u001b[39mremove_unused_levels()\u001b[38;5;241m.\u001b[39mlevels, \u001b[38;5;124m\"\u001b[39m\u001b[38;5;130;01m\\n\u001b[39;00m\u001b[38;5;124m\"\u001b[39m)\n",
      "\u001b[0;31mAttributeError\u001b[0m: 'Index' object has no attribute 'levels'"
     ]
    }
   ],
   "source": [
    "import pandas as pd\n",
    "import numpy as np\n",
    "\n",
    "# -----------------------------------------------------------\n",
    "# 1. Creating a MultiIndex Series in Different Ways\n",
    "# -----------------------------------------------------------\n",
    "\n",
    "# Form arrays\n",
    "arrays = [\n",
    "    [\"X\", \"X\", \"Y\", \"Y\"],  \n",
    "    [\"English\", \"History\", \"English\", \"History\"]  \n",
    "]\n",
    "index = pd.MultiIndex.from_arrays(arrays, names=(\"Letter\", \"Subject\"))\n",
    "multi_s = pd.Series([95, 80, 75, 98], index=index)  \n",
    "print(\"MultiIndex Series from arrays:\\n\", multi_s, \"\\n\")\n",
    "\n",
    "# Form tuples\n",
    "tuples = [\n",
    "    (\"X\", \"English\"), (\"X\", \"History\"),\n",
    "    (\"Y\", \"English\"), (\"Y\", \"History\") \n",
    "]\n",
    "index2 = pd.MultiIndex.from_tuples(tuples, names=(\"Letter\", \"Subject\"))  \n",
    "multi_s2 = pd.Series([85, 92, 78, 88], index=index2)  \n",
    "print(\"MultiIndex Series from tuples:\\n\", multi_s2, \"\\n\")\n",
    "\n",
    "# From product (Cartesian product of iterables)\n",
    "iterables = [[\"X\", \"Y\"], [\"English\", \"History\"]] # iterable values.\n",
    "index3 = pd.MultiIndex.from_product(iterables, names=(\"Letter\", \"Subject\")) # names.\n",
    "multi_s3 = pd.Series(np.random.randint(70, 100, size=4), index=index3) # Generate new random values.\n",
    "print(\"MultiIndex Series from product:\\n\", multi_s3, \"\\n\")\n",
    "\n",
    "# -----------------------------------------------------------\n",
    "# 2. Accessing and Indexing\n",
    "# -----------------------------------------------------------\n",
    "\n",
    "print(\"Access all subjects for 'X':\\n\", multi_s.loc[\"X\"], \"\\n\")  # Accessing new label 'X'.\n",
    "print(\"Access element ('Y', 'History'):\\n\", multi_s.loc[(\"Y\", \"History\")], \"\\n\") # Accessing new label.\n",
    "\n",
    "# -----------------------------------------------------------\n",
    "# 3. Slicing in MultiIndex\n",
    "# -----------------------------------------------------------\n",
    "\n",
    "print(\"Slicing from X to Y:\\n\", multi_s.loc[\"X\":\"Y\"], \"\\n\") # Slicing new labels.\n",
    "print(\"Partial slice for all English:\\n\", multi_s.loc[:, \"English\"], \"\\n\") # Slicing a different label.\n",
    "\n",
    "# -----------------------------------------------------------\n",
    "# 4. Swapping and Reordering Levels\n",
    "# -----------------------------------------------------------\n",
    "\n",
    "print(\"Swapping level order:\\n\", multi_s.swaplevel(), \"\\n\") # Swapping the levels.\n",
    "print(\"Reordering levels explicitly:\\n\", multi_s3.reorder_levels([\"Subject\", \"Letter\"]), \"\\n\") # Reordering levels by name.\n",
    "\n",
    "# -----------------------------------------------------------\n",
    "# 5. Passing List of Arrays directly to Series / DataFrame\n",
    "# -----------------------------------------------------------\n",
    "\n",
    "multi_s_auto = pd.Series(\n",
    "    np.random.randn(4),\n",
    "    index=pd.MultiIndex.from_arrays([[\"G1\", \"G1\", \"G2\", \"G2\"], [\"C1\", \"C2\", \"C1\", \"C2\"]]) # index values.\n",
    ")\n",
    "print(\"Auto-constructed MultiIndex Series:\\n\", multi_s_auto, \"\\n\")\n",
    "\n",
    "df_auto = pd.DataFrame(\n",
    "    np.random.randn(4, 2),\n",
    "    index=pd.MultiIndex.from_arrays([[\"Sect1\", \"Sect1\", \"Sect2\", \"Sect2\"], # index values.\n",
    "                                     [\"PartA\", \"PartB\", \"PartA\", \"PartB\"]]),\n",
    "    columns=[\"Metric1\", \"Metric2\"] # column names.\n",
    ")\n",
    "print(\"DataFrame with MultiIndex automatically:\\n\", df_auto, \"\\n\")\n",
    "\n",
    "# -----------------------------------------------------------\n",
    "# 6. Data Alignment and Reindexing\n",
    "# -----------------------------------------------------------\n",
    "\n",
    "df = pd.DataFrame({\n",
    "    \"Test1\": [85, 90, 95, 80], # column names and values.\n",
    "    \"Test2\": [82, 88, 92, 84]\n",
    "}, index=pd.MultiIndex.from_arrays([[\"Alpha\", \"Alpha\", \"Beta\", \"Beta\"], [\"one\", \"two\", \"one\", \"two\"]])) # index values.\n",
    "print(\"Original DataFrame:\\n\", df, \"\\n\")\n",
    "\n",
    "# Group by first level and compute mean\n",
    "mean_by_group = df.groupby(level=0).mean() # Groups by first level.\n",
    "print(\"Mean by group:\\n\", mean_by_group, \"\\n\")\n",
    "\n",
    "# Reindexing with MultiIndex\n",
    "aligned = mean_by_group.reindex(df.index, level=0) # Aligns mean with original index.\n",
    "print(\"Reindexed to align:\\n\", aligned, \"\\n\")\n",
    "\n",
    "# -----------------------------------------------------------\n",
    "# 7. Using xs() for Cross-Section\n",
    "# -----------------------------------------------------------\n",
    "\n",
    "print(\"Cross-section for level 'two':\\n\", df.xs(\"two\", level=1), \"\\n\") # Accesses a cross-section.\n",
    "\n",
    "# -----------------------------------------------------------\n",
    "# 8. Sorting and Removing Unused Levels\n",
    "# -----------------------------------------------------------\n",
    "\n",
    "unsorted = multi_s_auto.sample(frac=1) # Randomly shuffles the Series.\n",
    "print(\"Unsorted MultiIndex Series:\\n\", unsorted, \"\\n\")\n",
    "print(\"Sorted by index:\\n\", unsorted.sort_index(), \"\\n\") # Sorts by the index.\n",
    "\n",
    "sub_df = df_auto[[\"Metric1\"]] # Removes one column.\n",
    "print(\"Unused levels before removing:\\n\", sub_df.columns.levels, \"\\n\") # Prints all column levels.\n",
    "print(\"After remove_unused_levels:\\n\", sub_df.columns.remove_unused_levels().levels, \"\\n\") # Removes unused column levels."
   ]
  },
  {
   "cell_type": "markdown",
   "id": "b32408f1-e4f5-47c2-b6a0-d94a0cdd8bbb",
   "metadata": {},
   "source": [
    "### encountered an AttributeError because df_auto's columns were a simple Index object after slicing, not a MultiIndex. \n",
    "### The levels attribute is exclusive to MultiIndex objects. \n",
    "### The fix is to slice in a way that preserves the hierarchical structure, preventing the Index conversion."
   ]
  },
  {
   "cell_type": "code",
   "execution_count": 11,
   "id": "b8686289-a5ee-4cf7-b847-48faab75a517",
   "metadata": {},
   "outputs": [
    {
     "name": "stdout",
     "output_type": "stream",
     "text": [
      "Unused levels before removing:\n",
      " [['Score1'], ['PartA', 'PartB']] \n",
      "\n",
      "After remove_unused_levels:\n",
      " [['Score1'], ['PartA']] \n",
      "\n"
     ]
    }
   ],
   "source": [
    "# Create a DataFrame with a MultiIndex for its columns\n",
    "df_auto = pd.DataFrame(\n",
    "    np.random.randn(4, 2),\n",
    "    index=pd.MultiIndex.from_arrays([[\"Group1\", \"Group1\", \"Group2\", \"Group2\"],\n",
    "                                     [\"One\", \"Two\", \"One\", \"Two\"]]),\n",
    "    columns=pd.MultiIndex.from_arrays([[\"Score1\", \"Score1\"],\n",
    "                                       [\"PartA\", \"PartB\"]])\n",
    ")\n",
    "\n",
    "# This slicing operation retains the MultiIndex structure\n",
    "sub_df = df_auto[[(\"Score1\", \"PartA\")]]\n",
    "\n",
    "# Now, `sub_df.columns` is still a MultiIndex and has a 'levels' attribute\n",
    "print(\"Unused levels before removing:\\n\", sub_df.columns.levels, \"\\n\")\n",
    "print(\"After remove_unused_levels:\\n\", sub_df.columns.remove_unused_levels().levels, \"\\n\")"
   ]
  },
  {
   "cell_type": "code",
   "execution_count": 12,
   "id": "783c59e4-df15-4fb6-b507-675bd897ba9a",
   "metadata": {},
   "outputs": [
    {
     "name": "stdout",
     "output_type": "stream",
     "text": [
      "MultiIndex Series from arrays:\n",
      " Letter  Topic  \n",
      "X       English    95\n",
      "        History    80\n",
      "Y       English    75\n",
      "        History    98\n",
      "dtype: int64 \n",
      "\n",
      "MultiIndex Series from tuples:\n",
      " Letter  Topic  \n",
      "X       English    85\n",
      "        History    92\n",
      "Y       English    78\n",
      "        History    88\n",
      "dtype: int64 \n",
      "\n",
      "MultiIndex Series from product:\n",
      " Letter  Topic  \n",
      "X       English    96\n",
      "        History    87\n",
      "Y       English    87\n",
      "        History    71\n",
      "dtype: int64 \n",
      "\n"
     ]
    }
   ],
   "source": [
    "# Program 1: Creating MultiIndex Series in different ways\n",
    "import pandas as pd  # Import pandas library.\n",
    "import numpy as np  # Import numpy library.\n",
    "\n",
    "# Form arrays\n",
    "arrays = [[\"X\", \"X\", \"Y\", \"Y\"], [\"English\", \"History\", \"English\", \"History\"]]  # hierarchical array values.\n",
    "index = pd.MultiIndex.from_arrays(arrays, names=(\"Letter\", \"Topic\"))  # index names.\n",
    "multi_s = pd.Series([95, 80, 75, 98], index=index)  # series data values.\n",
    "print(\"MultiIndex Series from arrays:\\n\", multi_s, \"\\n\") # Prints the series created.\n",
    "\n",
    "# Form tuples\n",
    "tuples = [(\"X\", \"English\"), (\"X\", \"History\"), (\"Y\", \"English\"), (\"Y\", \"History\")]  # tuples for index.\n",
    "index2 = pd.MultiIndex.from_tuples(tuples, names=(\"Letter\", \"Topic\"))  # index names.\n",
    "multi_s2 = pd.Series([85, 92, 78, 88], index=index2)  # series data values.\n",
    "print(\"MultiIndex Series from tuples:\\n\", multi_s2, \"\\n\") # Prints the series created.\n",
    "\n",
    "# Form product\n",
    "iterables = [[\"X\", \"Y\"], [\"English\", \"History\"]]  # iterables for product.\n",
    "index3 = pd.MultiIndex.from_product(iterables, names=(\"Letter\", \"Topic\"))  # index names.\n",
    "multi_s3 = pd.Series(np.random.randint(70, 100, size=4), index=index3)  # Generates new random data.\n",
    "print(\"MultiIndex Series from product:\\n\", multi_s3, \"\\n\") # Prints the series created."
   ]
  },
  {
   "cell_type": "code",
   "execution_count": 13,
   "id": "75473ee4-f985-4c29-bddf-6baac41be455",
   "metadata": {},
   "outputs": [
    {
     "name": "stdout",
     "output_type": "stream",
     "text": [
      "Example 1: MultiIndex from arrays\n",
      "                 Test1  Test2\n",
      "Letter Topic                \n",
      "X      English     89     60\n",
      "       History     61     84\n",
      "Y      English     78     95\n",
      "       History     94     76 \n",
      "\n",
      "Example 2: MultiIndex from tuples\n",
      "                   ValueA    ValueB\n",
      "Letter Topic                      \n",
      "X      English -0.518211 -0.297877\n",
      "       History -0.191410  1.378010\n",
      "Y      English -0.312854  0.008858\n",
      "       History -0.610243 -0.860322 \n",
      "\n",
      "Example 3: MultiIndex from product\n",
      "              Metric1  Metric2\n",
      "Team  Task                   \n",
      "Team1 Task1       19       18\n",
      "      Task2       16       11\n",
      "Team2 Task1       13       16\n",
      "      Task2       18       12 \n",
      "\n",
      "Example 4: MultiIndex created from DataFrame columns\n",
      "                Result\n",
      "Level1 Level2        \n",
      "P      alpha       95\n",
      "       beta        88\n",
      "Q      alpha       76\n",
      "       beta        91 \n",
      "\n"
     ]
    }
   ],
   "source": [
    "import pandas as pd  # Import the pandas library.\n",
    "import numpy as np  # Import the numpy library.\n",
    "\n",
    "# ------------------------------------------\n",
    "# Example 1: Creating a MultiIndex directly from arrays\n",
    "# ------------------------------------------\n",
    "arrays = [\n",
    "    [\"X\", \"X\", \"Y\", \"Y\"],  # first level values.\n",
    "    [\"English\", \"History\", \"English\", \"History\"]  # second level values.\n",
    "]\n",
    "index = pd.MultiIndex.from_arrays(arrays, names=(\"Letter\", \"Topic\")) # Changed names.\n",
    "\n",
    "df1 = pd.DataFrame(\n",
    "    np.random.randint(60, 100, size=(4, 2)), # random integer range.\n",
    "    index=index,\n",
    "    columns=[\"Test1\", \"Test2\"] # column names.\n",
    ")\n",
    "print(\"Example 1: MultiIndex from arrays\\n\", df1, \"\\n\") # Print DataFrame with new values.\n",
    "\n",
    "# ------------------------------------------\n",
    "# Example 2: Creating a MultiIndex from tuples\n",
    "# ------------------------------------------\n",
    "tuples = [\n",
    "    (\"X\", \"English\"),\n",
    "    (\"X\", \"History\"),\n",
    "    (\"Y\", \"English\"),\n",
    "    (\"Y\", \"History\") # tuple values.\n",
    "]\n",
    "index2 = pd.MultiIndex.from_tuples(tuples, names=(\"Letter\", \"Topic\")) # names.\n",
    "\n",
    "df2 = pd.DataFrame(\n",
    "    np.random.randn(4, 2), # Random values are different each time.\n",
    "    index=index2,\n",
    "    columns=[\"ValueA\", \"ValueB\"] # column names.\n",
    ")\n",
    "print(\"Example 2: MultiIndex from tuples\\n\", df2, \"\\n\") # Print DataFrame with new values.\n",
    "\n",
    "# ------------------------------------------\n",
    "# Example 3: Creating a MultiIndex from product\n",
    "# ------------------------------------------\n",
    "index3 = pd.MultiIndex.from_product(\n",
    "    [[\"Team1\", \"Team2\"], [\"Task1\", \"Task2\"]], # product values.\n",
    "    names=(\"Team\", \"Task\") # Changed names.\n",
    ")\n",
    "\n",
    "df3 = pd.DataFrame(\n",
    "    np.random.randint(10, 20, size=(4, 2)), # random integer range.\n",
    "    index=index3,\n",
    "    columns=[\"Metric1\", \"Metric2\"] # column names.\n",
    ")\n",
    "print(\"Example 3: MultiIndex from product\\n\", df3, \"\\n\") # Print DataFrame with new values.\n",
    "\n",
    "# ------------------------------------------\n",
    "# Example 4: Creating MultiIndex directly from DataFrame\n",
    "# ------------------------------------------\n",
    "data = {\n",
    "    \"Level1\": [\"P\", \"P\", \"Q\", \"Q\"], # level 1 values.\n",
    "    \"Level2\": [\"alpha\", \"beta\", \"alpha\", \"beta\"], # level 2 values.\n",
    "    \"Result\": [95, 88, 76, 91] # data values.\n",
    "}\n",
    "\n",
    "df4 = pd.DataFrame(data)\n",
    "df4 = df4.set_index([\"Level1\", \"Level2\"]) # Sets new columns as index.\n",
    "print(\"Example 4: MultiIndex created from DataFrame columns\\n\", df4, \"\\n\") # Print DataFrame with new values."
   ]
  },
  {
   "cell_type": "code",
   "execution_count": 14,
   "id": "f313d7fd-8879-4b98-b3f9-7d4e7759757d",
   "metadata": {},
   "outputs": [
    {
     "name": "stdout",
     "output_type": "stream",
     "text": [
      "Access all subjects for 'X':\n",
      " Topic\n",
      "English    95\n",
      "History    80\n",
      "dtype: int64 \n",
      "\n",
      "Access specific element (Y, History):\n",
      " 98 \n",
      "\n"
     ]
    }
   ],
   "source": [
    "# Program 2: Accessing and indexing in MultiIndex Series\n",
    "import pandas as pd # Import pandas library.\n",
    "\n",
    "arrays = [[\"X\", \"X\", \"Y\", \"Y\"], [\"English\", \"History\", \"English\", \"History\"]] # index levels.\n",
    "index = pd.MultiIndex.from_arrays(arrays, names=(\"Letter\", \"Topic\")) # index names.\n",
    "multi_s = pd.Series([95, 80, 75, 98], index=index) # data values.\n",
    "\n",
    "print(\"Access all subjects for 'X':\\n\", multi_s.loc[\"X\"], \"\\n\") # Accesses all values for 'X'.\n",
    "print(\"Access specific element (Y, History):\\n\", multi_s.loc[(\"Y\", \"History\")], \"\\n\") # Accesses a single element."
   ]
  },
  {
   "cell_type": "code",
   "execution_count": 15,
   "id": "d38d0616-637c-4d97-a6f2-4b6874c52116",
   "metadata": {},
   "outputs": [
    {
     "name": "stdout",
     "output_type": "stream",
     "text": [
      "Slicing from X to Y:\n",
      " Letter  Topic  \n",
      "X       English    95\n",
      "        History    80\n",
      "Y       English    75\n",
      "        History    98\n",
      "dtype: int64 \n",
      "\n",
      "Partial slice for all English:\n",
      " Letter\n",
      "X    95\n",
      "Y    75\n",
      "dtype: int64 \n",
      "\n"
     ]
    }
   ],
   "source": [
    "# Program 3: Slicing in MultiIndex Series\n",
    "import pandas as pd # Import pandas library.\n",
    "\n",
    "arrays = [[\"X\", \"X\", \"Y\", \"Y\"], [\"English\", \"History\", \"English\", \"History\"]] # index levels.\n",
    "index = pd.MultiIndex.from_arrays(arrays, names=(\"Letter\", \"Topic\")) # index names.\n",
    "multi_s = pd.Series([95, 80, 75, 98], index=index) # data values.\n",
    "\n",
    "print(\"Slicing from X to Y:\\n\", multi_s.loc[\"X\":\"Y\"], \"\\n\") # Slices from X to Y.\n",
    "print(\"Partial slice for all English:\\n\", multi_s.loc[:, \"English\"], \"\\n\") # Slices all 'English' entries."
   ]
  },
  {
   "cell_type": "code",
   "execution_count": 16,
   "id": "8e886028-2f44-43fc-9a9a-b9158069e402",
   "metadata": {},
   "outputs": [
    {
     "name": "stdout",
     "output_type": "stream",
     "text": [
      "Swapping levels:\n",
      " Topic    Letter\n",
      "English  X         95\n",
      "History  X         80\n",
      "English  Y         75\n",
      "History  Y         98\n",
      "dtype: int64 \n",
      "\n",
      "Reordering levels:\n",
      " Topic    Letter\n",
      "English  X         95\n",
      "History  X         80\n",
      "English  Y         75\n",
      "History  Y         98\n",
      "dtype: int64 \n",
      "\n"
     ]
    }
   ],
   "source": [
    "# Program 4: Swapping and reordering levels\n",
    "import pandas as pd # Import pandas library.\n",
    "\n",
    "arrays = [[\"X\", \"X\", \"Y\", \"Y\"], [\"English\", \"History\", \"English\", \"History\"]] # index levels.\n",
    "index = pd.MultiIndex.from_arrays(arrays, names=(\"Letter\", \"Topic\")) # index names.\n",
    "multi_s = pd.Series([95, 80, 75, 98], index=index) # data values.\n",
    "\n",
    "print(\"Swapping levels:\\n\", multi_s.swaplevel(), \"\\n\") # Swaps outer and inner levels.\n",
    "print(\"Reordering levels:\\n\", multi_s.reorder_levels([\"Topic\", \"Letter\"]), \"\\n\") # Reorders levels by name."
   ]
  },
  {
   "cell_type": "code",
   "execution_count": 17,
   "id": "33f520f1-cf25-4535-8d64-4e69cba74324",
   "metadata": {},
   "outputs": [
    {
     "name": "stdout",
     "output_type": "stream",
     "text": [
      "MultiIndex Series constructed automatically:\n",
      " G1  C1    1.123352\n",
      "    C2   -1.219549\n",
      "G2  C1    1.739051\n",
      "    C2   -0.401984\n",
      "dtype: float64 \n",
      "\n",
      "DataFrame with MultiIndex automatically:\n",
      "               Metric1   Metric2\n",
      "Sect1 PartA  0.032986  0.567670\n",
      "      PartB  2.129650 -0.130401\n",
      "Sect2 PartA  0.571433 -1.570788\n",
      "      PartB -0.608508  0.401274 \n",
      "\n"
     ]
    }
   ],
   "source": [
    "# Program 5: Passing arrays directly to create MultiIndex in Series/DataFrame\n",
    "import pandas as pd  # Imports the pandas library.\n",
    "import numpy as np  # Imports the numpy library.\n",
    "\n",
    "# Series with automatic MultiIndex\n",
    "multi_s_auto = pd.Series(\n",
    "    np.random.randn(4),  # Generates four random numbers.\n",
    "    index=pd.MultiIndex.from_arrays([[\"G1\", \"G1\", \"G2\", \"G2\"], [\"C1\", \"C2\", \"C1\", \"C2\"]])  # index labels.\n",
    ")\n",
    "print(\"MultiIndex Series constructed automatically:\\n\", multi_s_auto, \"\\n\") # Prints the new Series.\n",
    "\n",
    "# DataFrame with automatic MultiIndex\n",
    "df_auto = pd.DataFrame(\n",
    "    np.random.randn(4, 2),  # Generates a 4x2 array of random numbers.\n",
    "    index=pd.MultiIndex.from_arrays([[\"Sect1\", \"Sect1\", \"Sect2\", \"Sect2\"],\n",
    "                                     [\"PartA\", \"PartB\", \"PartA\", \"PartB\"]]),  # index labels.\n",
    "    columns=[\"Metric1\", \"Metric2\"]  # column names.\n",
    ")\n",
    "print(\"DataFrame with MultiIndex automatically:\\n\", df_auto, \"\\n\") # Prints the new DataFrame."
   ]
  },
  {
   "cell_type": "code",
   "execution_count": 18,
   "id": "73502759-ed51-4525-b080-4c968c58e61d",
   "metadata": {},
   "outputs": [
    {
     "name": "stdout",
     "output_type": "stream",
     "text": [
      "Original DataFrame:\n",
      "            Test1  Test2\n",
      "G1 first      90     88\n",
      "   second     85     91\n",
      "G2 first      92     85\n",
      "   second     88     94 \n",
      "\n",
      "Mean by group:\n",
      "     Test1  Test2\n",
      "G1   87.5   89.5\n",
      "G2   90.0   89.5 \n",
      "\n",
      "Reindexed to align with original index:\n",
      "            Test1  Test2\n",
      "G1 first    87.5   89.5\n",
      "   second   87.5   89.5\n",
      "G2 first    90.0   89.5\n",
      "   second   90.0   89.5 \n",
      "\n"
     ]
    }
   ],
   "source": [
    "# Program 6: Data alignment and reindexing with MultiIndex\n",
    "import pandas as pd  # Imports the pandas library.\n",
    "\n",
    "df = pd.DataFrame({\n",
    "    \"Test1\": [90, 85, 92, 88],  #column names and values.\n",
    "    \"Test2\": [88, 91, 85, 94]\n",
    "}, index=pd.MultiIndex.from_arrays([[\"G1\", \"G1\", \"G2\", \"G2\"], [\"first\", \"second\", \"first\", \"second\"]]))  # index values.\n",
    "print(\"Original DataFrame:\\n\", df, \"\\n\")  # Prints the new DataFrame.\n",
    "\n",
    "# Group by first level and compute mean\n",
    "mean_by_group = df.groupby(level=0).mean()  # Groups by first level.\n",
    "print(\"Mean by group:\\n\", mean_by_group, \"\\n\") # Prints the mean for each group.\n",
    "\n",
    "# Reindexing with MultiIndex\n",
    "aligned = mean_by_group.reindex(df.index, level=0)  # Realigns mean with original index.\n",
    "print(\"Reindexed to align with original index:\\n\", aligned, \"\\n\") # Prints the reindexed Series."
   ]
  },
  {
   "cell_type": "code",
   "execution_count": 19,
   "id": "49e3f886-d0b8-47e3-9dac-04c539957efb",
   "metadata": {},
   "outputs": [
    {
     "name": "stdout",
     "output_type": "stream",
     "text": [
      "Unsorted MultiIndex Series:\n",
      " Y  C   -0.184588\n",
      "X  D    2.049502\n",
      "Y  D   -0.401305\n",
      "X  C    0.405049\n",
      "dtype: float64 \n",
      "\n",
      "Sorted by index:\n",
      " X  C    0.405049\n",
      "   D    2.049502\n",
      "Y  C   -0.184588\n",
      "   D   -0.401305\n",
      "dtype: float64 \n",
      "\n",
      "Before removing unused levels:\n",
      " [['Test1', 'Test2'], ['A', 'B']] \n",
      "\n",
      "After removing unused levels:\n",
      " [['Test1'], ['A']] \n",
      "\n"
     ]
    }
   ],
   "source": [
    "# Program 8: Sorting MultiIndex and removing unused levels\n",
    "import pandas as pd  # Import pandas library.\n",
    "import numpy as np  # Import numpy library.\n",
    "\n",
    "# Unsorted MultiIndex Series\n",
    "multi_s = pd.Series(\n",
    "    np.random.randn(4),  # Generates four random numbers.\n",
    "    index=pd.MultiIndex.from_arrays([[\"Y\", \"X\", \"Y\", \"X\"], [\"C\", \"D\", \"D\", \"C\"]])  # index values.\n",
    ")\n",
    "print(\"Unsorted MultiIndex Series:\\n\", multi_s, \"\\n\")  # Prints the unsorted series.\n",
    "print(\"Sorted by index:\\n\", multi_s.sort_index(), \"\\n\")  # Sorts the series by index.\n",
    "\n",
    "# Removing unused levels\n",
    "df = pd.DataFrame(\n",
    "    np.random.randn(4, 2),  # Generates a 4x2 array of random numbers.\n",
    "    index=pd.MultiIndex.from_arrays([[\"Unit1\", \"Unit1\", \"Unit2\", \"Unit2\"], [\"Alpha\", \"Beta\", \"Alpha\", \"Beta\"]]),  # index values.\n",
    "    columns=pd.MultiIndex.from_arrays([[\"Test1\", \"Test2\"], [\"A\", \"B\"]])  # column values.\n",
    ")\n",
    "print(\"Before removing unused levels:\\n\", df.columns.levels, \"\\n\")  # Prints original column levels.\n",
    "sub_df = df[[\"Test1\"]]  # Keeps only \"Test1\" column.\n",
    "print(\"After removing unused levels:\\n\", sub_df.columns.remove_unused_levels().levels, \"\\n\") # Prints levels after removal."
   ]
  },
  {
   "cell_type": "code",
   "execution_count": null,
   "id": "baf104ab-f52f-484b-a959-cab663a90da3",
   "metadata": {},
   "outputs": [],
   "source": []
  }
 ],
 "metadata": {
  "kernelspec": {
   "display_name": "Python 3 (ipykernel)",
   "language": "python",
   "name": "python3"
  },
  "language_info": {
   "codemirror_mode": {
    "name": "ipython",
    "version": 3
   },
   "file_extension": ".py",
   "mimetype": "text/x-python",
   "name": "python",
   "nbconvert_exporter": "python",
   "pygments_lexer": "ipython3",
   "version": "3.12.4"
  }
 },
 "nbformat": 4,
 "nbformat_minor": 5
}
