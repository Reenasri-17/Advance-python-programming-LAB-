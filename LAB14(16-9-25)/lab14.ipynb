{
 "cells": [
  {
   "cell_type": "markdown",
   "id": "7eb39653-c856-4052-8b91-107d686e3ab1",
   "metadata": {},
   "source": [
    "## Lab- 14\n",
    "## Reena Sri G\n",
    "## Excel Continuation , Performing functions same as csv files"
   ]
  },
  {
   "cell_type": "markdown",
   "id": "6d4cb8d4-cfd5-495b-bf0c-7e2f22d4c721",
   "metadata": {},
   "source": [
    "### Task-1 appending records into excel file"
   ]
  },
  {
   "cell_type": "code",
   "execution_count": 4,
   "id": "d3ba1bbd-a1e1-4bbd-a23f-622608b131b9",
   "metadata": {},
   "outputs": [
    {
     "name": "stdout",
     "output_type": "stream",
     "text": [
      "Successfully appended\n"
     ]
    }
   ],
   "source": [
    "import pandas as pd\n",
    "\n",
    "# Sample new data\n",
    "new_data = pd.DataFrame({\n",
    "    \"ID\": [3001, 3002],\n",
    "    \"Name\": [\"Person_3001\", \"Person_3002\"],\n",
    "    \"Age\": [29, 34],\n",
    "    \"Department\": [\"Finance\", \"IT\"],\n",
    "    \"Salary\": [75000, 82000],\n",
    "    \"Experience\": [5, 7],\n",
    "    \"Joining_Date\": pd.to_datetime([\"2022-01-15\", \"2023-06-20\"]),\n",
    "    \"Performance_Score\": [8, 9]\n",
    "})\n",
    "\n",
    "# Append to existing file in a new sheet\n",
    "with pd.ExcelWriter(\"input.xlsx\", mode=\"a\", engine=\"openpyxl\") as writer:\n",
    "    new_data.to_excel(writer, sheet_name=\"Appended_Datas\", index=False)\n",
    "    print(\"Successfully appended\")\n"
   ]
  },
  {
   "cell_type": "markdown",
   "id": "7edb87e6-8d80-43e0-993d-74b4e1fbe475",
   "metadata": {},
   "source": [
    "## Task-2 Read Excel Chunk-by-chunk"
   ]
  },
  {
   "cell_type": "code",
   "execution_count": 5,
   "id": "b3ea70a2-2ff1-4488-a04e-58e988a89843",
   "metadata": {},
   "outputs": [
    {
     "ename": "TypeError",
     "evalue": "read_excel() got an unexpected keyword argument 'chunksize'",
     "output_type": "error",
     "traceback": [
      "\u001b[31m---------------------------------------------------------------------------\u001b[39m",
      "\u001b[31mTypeError\u001b[39m                                 Traceback (most recent call last)",
      "\u001b[36mCell\u001b[39m\u001b[36m \u001b[39m\u001b[32mIn[5]\u001b[39m\u001b[32m, line 2\u001b[39m\n\u001b[32m      1\u001b[39m chunksize = \u001b[32m500\u001b[39m  \u001b[38;5;66;03m# read 500 rows at a time\u001b[39;00m\n\u001b[32m----> \u001b[39m\u001b[32m2\u001b[39m \u001b[38;5;28;01mfor\u001b[39;00m chunk \u001b[38;5;129;01min\u001b[39;00m \u001b[43mpd\u001b[49m\u001b[43m.\u001b[49m\u001b[43mread_excel\u001b[49m\u001b[43m(\u001b[49m\u001b[33;43m\"\u001b[39;49m\u001b[33;43minput.xlsx\u001b[39;49m\u001b[33;43m\"\u001b[39;49m\u001b[43m,\u001b[49m\u001b[43m \u001b[49m\u001b[43mchunksize\u001b[49m\u001b[43m=\u001b[49m\u001b[43mchunksize\u001b[49m\u001b[43m)\u001b[49m:\n\u001b[32m      3\u001b[39m     \u001b[38;5;28mprint\u001b[39m(\u001b[33m\"\u001b[39m\u001b[33mChunk shape:\u001b[39m\u001b[33m\"\u001b[39m, chunk.shape)\n\u001b[32m      4\u001b[39m     \u001b[38;5;66;03m# Example: process the chunk\u001b[39;00m\n",
      "\u001b[31mTypeError\u001b[39m: read_excel() got an unexpected keyword argument 'chunksize'"
     ]
    }
   ],
   "source": [
    "chunksize = 500  # read 500 rows at a time\n",
    "for chunk in pd.read_excel(\"input.xlsx\", chunksize=chunksize):\n",
    "    print(\"Chunk shape:\", chunk.shape)\n",
    "    # Example: process the chunk\n",
    "    print(chunk.head(2))\n"
   ]
  },
  {
   "cell_type": "markdown",
   "id": "8cbb6c38-06f8-48fc-ad90-e822f711a2c7",
   "metadata": {},
   "source": [
    "## Notes:\n",
    "pd.read_excel() does not support chunksize.\n",
    "That’s only for pd.read_csv().\n",
    "\n",
    "For large Excel files, you have alternatives: eitheir to convert excel into csv or Use openpyxl (row by row streaming)"
   ]
  },
  {
   "cell_type": "code",
   "execution_count": 7,
   "id": "2d1dec60-8da5-46a8-b0f8-76e3eabcbae1",
   "metadata": {},
   "outputs": [
    {
     "name": "stdout",
     "output_type": "stream",
     "text": [
      "Processed chunk with 499 rows\n",
      "   ID      Name  Age Department  Salary  Experience Joining_Date  \\\n",
      "0   1  Person_1   53    Finance  116904           5   2010-01-01   \n",
      "1   2  Person_2   26         IT  107729           6   2010-01-02   \n",
      "\n",
      "   Performance_Score  \n",
      "0                  8  \n",
      "1                  6  \n",
      "Processed chunk with 499 rows\n",
      "   500  Person_500  56  Marketing   55330  10 2011-05-15 00:00:00  8\n",
      "0  501  Person_501  43  Marketing   32291  29          2011-05-16  8\n",
      "1  502  Person_502  49    Finance  116068  18          2011-05-17  4\n",
      "Processed chunk with 499 rows\n",
      "   1000  Person_1000  57  Marketing  111940  5 2012-09-26 00:00:00  1\n",
      "0  1001  Person_1001  34  Marketing  114387  3          2012-09-27  4\n",
      "1  1002  Person_1002  55      Sales  113521  6          2012-09-28  6\n",
      "Processed chunk with 499 rows\n",
      "   1500  Person_1500  23 Sales  44817  28 2014-02-08 00:00:00  9\n",
      "0  1501  Person_1501  55    HR  73672  23          2014-02-09  4\n",
      "1  1502  Person_1502  48    HR  41185  10          2014-02-10  7\n",
      "Processed chunk with 499 rows\n",
      "   2000  Person_2000  56  Finance  91567  22 2015-06-23 00:00:00  8\n",
      "0  2001  Person_2001  33  Finance  76869  11          2015-06-24  8\n",
      "1  2002  Person_2002  21       IT  44446  14          2015-06-25  7\n",
      "Processed chunk with 499 rows\n",
      "   2500  Person_2500  22         IT   48925   4 2016-11-04 00:00:00  4\n",
      "0  2501  Person_2501  25      Sales  109405   2          2016-11-05  9\n",
      "1  2502  Person_2502  30  Marketing  118452  18          2016-11-06  6\n"
     ]
    }
   ],
   "source": [
    "# Option 1: Use openpyxl (row by row streaming)\n",
    "from openpyxl import load_workbook\n",
    "\n",
    "wb = load_workbook(\"input.xlsx\", read_only=True)\n",
    "ws = wb.active\n",
    "\n",
    "chunk_size = 500\n",
    "rows = [] # we create a list to store the records\n",
    "\n",
    "for i, row in enumerate(ws.iter_rows(values_only=True), start=1):\n",
    "    rows.append(row) # accessing each record and appending so that we can work with them\n",
    "\n",
    "    if i % chunk_size == 0:\n",
    "        df = pd.DataFrame(rows[1:], columns=rows[0])  # first row as header\n",
    "        print(f\"Processed chunk with {len(df)} rows\")\n",
    "        print(df.head(2))\n",
    "        rows = []  # reset\n"
   ]
  },
  {
   "cell_type": "code",
   "execution_count": 8,
   "id": "56acfa9c-613a-4f8e-a8df-7d8272d2c128",
   "metadata": {},
   "outputs": [
    {
     "name": "stdout",
     "output_type": "stream",
     "text": [
      "Chunk shape: (500, 8)\n",
      "   ID      Name  Age Department  Salary  Experience Joining_Date  \\\n",
      "0   1  Person_1   53    Finance  116904           5   2010-01-01   \n",
      "1   2  Person_2   26         IT  107729           6   2010-01-02   \n",
      "\n",
      "   Performance_Score  \n",
      "0                  8  \n",
      "1                  6  \n",
      "Chunk shape: (500, 8)\n",
      "      ID        Name  Age Department  Salary  Experience Joining_Date  \\\n",
      "500  501  Person_501   43  Marketing   32291          29   2011-05-16   \n",
      "501  502  Person_502   49    Finance  116068          18   2011-05-17   \n",
      "\n",
      "     Performance_Score  \n",
      "500                  8  \n",
      "501                  4  \n",
      "Chunk shape: (500, 8)\n",
      "        ID         Name  Age Department  Salary  Experience Joining_Date  \\\n",
      "1000  1001  Person_1001   34  Marketing  114387           3   2012-09-27   \n",
      "1001  1002  Person_1002   55      Sales  113521           6   2012-09-28   \n",
      "\n",
      "      Performance_Score  \n",
      "1000                  4  \n",
      "1001                  6  \n",
      "Chunk shape: (500, 8)\n",
      "        ID         Name  Age Department  Salary  Experience Joining_Date  \\\n",
      "1500  1501  Person_1501   55         HR   73672          23   2014-02-09   \n",
      "1501  1502  Person_1502   48         HR   41185          10   2014-02-10   \n",
      "\n",
      "      Performance_Score  \n",
      "1500                  4  \n",
      "1501                  7  \n",
      "Chunk shape: (500, 8)\n",
      "        ID         Name  Age Department  Salary  Experience Joining_Date  \\\n",
      "2000  2001  Person_2001   33    Finance   76869          11   2015-06-24   \n",
      "2001  2002  Person_2002   21         IT   44446          14   2015-06-25   \n",
      "\n",
      "      Performance_Score  \n",
      "2000                  8  \n",
      "2001                  7  \n",
      "Chunk shape: (500, 8)\n",
      "        ID         Name  Age Department  Salary  Experience Joining_Date  \\\n",
      "2500  2501  Person_2501   25      Sales  109405           2   2016-11-05   \n",
      "2501  2502  Person_2502   30  Marketing  118452          18   2016-11-06   \n",
      "\n",
      "      Performance_Score  \n",
      "2500                  9  \n",
      "2501                  6  \n"
     ]
    }
   ],
   "source": [
    "#Option 2: Convert Excel → CSV → Chunk Read\n",
    "\n",
    "df = pd.read_excel(\"input.xlsx\")\n",
    "df.to_csv(\"input.csv\", index=False)\n",
    "\n",
    "# Now read in chunks\n",
    "chunksize = 500\n",
    "for chunk in pd.read_csv(\"input.csv\", chunksize=chunksize):\n",
    "    print(\"Chunk shape:\", chunk.shape)\n",
    "    print(chunk.head(2))\n"
   ]
  },
  {
   "cell_type": "markdown",
   "id": "5346b8de-6a20-46be-9d65-885a5659f8d1",
   "metadata": {},
   "source": [
    "## Task-3 Write Numeric Data into Excel"
   ]
  },
  {
   "cell_type": "code",
   "execution_count": 6,
   "id": "0a78e786-4991-4d9f-b3a1-fd44f8a84899",
   "metadata": {},
   "outputs": [
    {
     "name": "stdout",
     "output_type": "stream",
     "text": [
      "Successfully written numeric data into excel sheet\n"
     ]
    }
   ],
   "source": [
    "## Task-3 Write Numeric Data into Excel\n",
    "import numpy as np\n",
    "\n",
    "numeric_data = pd.DataFrame({\n",
    "    \"Random_Numbers\": np.random.randint(100, 999, 10),\n",
    "    \"Floats\": np.random.random(10) * 100\n",
    "})\n",
    "\n",
    "with pd.ExcelWriter(\"numeric_text_data.xlsx\", engine=\"openpyxl\") as writer:\n",
    "    numeric_data.to_excel(writer, sheet_name=\"Numeric_Data\", index=False)\n",
    "    print(\"Successfully written numeric data into excel sheet\")\n"
   ]
  },
  {
   "cell_type": "markdown",
   "id": "528cb411-b2aa-478b-8824-027d73bf6515",
   "metadata": {},
   "source": [
    "## Task-4 Write Text Data into Excel"
   ]
  },
  {
   "cell_type": "code",
   "execution_count": 9,
   "id": "a6165a38-e152-4fad-a5e0-906f480d17cd",
   "metadata": {},
   "outputs": [
    {
     "name": "stdout",
     "output_type": "stream",
     "text": [
      "Successfully written text data into excel sheet\n"
     ]
    }
   ],
   "source": [
    "## Task-4 Write Text Data into Excel\n",
    "text_data = pd.DataFrame({\n",
    "    \"Names\": [\"Alice\", \"Bob\", \"Charlie\", \"David\", \"Eve\"], # writing text data\n",
    "    \"Departments\": [\"HR\", \"IT\", \"Finance\", \"Sales\", \"Marketing\"]\n",
    "})\n",
    "\n",
    "with pd.ExcelWriter(\"numeric_text_data.xlsx\", mode=\"a\", engine=\"openpyxl\") as writer: # using padas to write into excel\n",
    "    text_data.to_excel(writer, sheet_name=\"Text_Data\", index=False)\n",
    "    print(\"Successfully written text data into excel sheet\")"
   ]
  },
  {
   "cell_type": "markdown",
   "id": "44a5b254-5b31-40eb-b235-a9611630d592",
   "metadata": {},
   "source": [
    "## Task-5 Search for a value in Excel"
   ]
  },
  {
   "cell_type": "code",
   "execution_count": 1,
   "id": "6ebdfdaf-1981-43f7-b1dd-4fa950bb4c78",
   "metadata": {},
   "outputs": [
    {
     "name": "stdout",
     "output_type": "stream",
     "text": [
      "        ID         Name  Age Department  Salary  Experience Joining_Date  \\\n",
      "1        2     Person_2   26         IT  107729           6   2010-01-02   \n",
      "6        7     Person_7   41         IT   31040           6   2010-01-07   \n",
      "21      22    Person_22   28         IT   87250          17   2010-01-22   \n",
      "24      25    Person_25   58         IT   92271          29   2010-01-25   \n",
      "36      37    Person_37   46         IT  106021           5   2010-02-06   \n",
      "...    ...          ...  ...        ...     ...         ...          ...   \n",
      "2973  2974  Person_2974   57         IT   37789          21   2018-02-21   \n",
      "2977  2978  Person_2978   42         IT   53029           7   2018-02-25   \n",
      "2984  2985  Person_2985   43         IT   62781           6   2018-03-04   \n",
      "2992  2993  Person_2993   56         IT   76055          26   2018-03-12   \n",
      "2997  2998  Person_2998   22         IT   89901          28   2018-03-17   \n",
      "\n",
      "      Performance_Score  \n",
      "1                     6  \n",
      "6                     1  \n",
      "21                    7  \n",
      "24                    1  \n",
      "36                    2  \n",
      "...                 ...  \n",
      "2973                  9  \n",
      "2977                  5  \n",
      "2984                  9  \n",
      "2992                  1  \n",
      "2997                  9  \n",
      "\n",
      "[569 rows x 8 columns]\n"
     ]
    }
   ],
   "source": [
    "import pandas as pd\n",
    "df = pd.read_excel(\"input.xlsx\")\n",
    "#Find all rows where Department = \"IT\"\n",
    "result = df[df[\"Department\"] == \"IT\"] #Look for a specific value in a column\n",
    "print(result)\n"
   ]
  },
  {
   "cell_type": "code",
   "execution_count": 2,
   "id": "586f61f0-bd30-4ede-8d32-8e398c3d2d8b",
   "metadata": {},
   "outputs": [
    {
     "name": "stdout",
     "output_type": "stream",
     "text": [
      "Empty DataFrame\n",
      "Columns: [ID, Name, Age, Department, Salary, Experience, Joining_Date, Performance_Score]\n",
      "Index: []\n"
     ]
    }
   ],
   "source": [
    "#Look for a value across all columns\n",
    "mask = df.apply(lambda row: row.astype(str).str.contains(\"Alice\").any(), axis=1) #Check if \"Alice\" exists anywhere:\n",
    "result = df[mask]\n",
    "print(result)\n"
   ]
  },
  {
   "cell_type": "code",
   "execution_count": 3,
   "id": "6a9a482c-af47-4bf0-9578-85f151991362",
   "metadata": {},
   "outputs": [
    {
     "name": "stdout",
     "output_type": "stream",
     "text": [
      "        ID         Name  Age Department  Salary  Experience Joining_Date  \\\n",
      "0        1     Person_1   53    Finance  116904           5   2010-01-01   \n",
      "2        3     Person_3   42    Finance   74951           5   2010-01-03   \n",
      "15      16    Person_16   30    Finance   89978           2   2010-01-16   \n",
      "17      18    Person_18   26    Finance   91279           7   2010-01-18   \n",
      "18      19    Person_19   27    Finance  104715          27   2010-01-19   \n",
      "...    ...          ...  ...        ...     ...         ...          ...   \n",
      "2957  2958  Person_2958   32    Finance   86218           3   2018-02-05   \n",
      "2976  2977  Person_2977   36    Finance   68224          23   2018-02-24   \n",
      "2982  2983  Person_2983   37    Finance   67340          13   2018-03-02   \n",
      "2986  2987  Person_2987   32    Finance   69582          15   2018-03-06   \n",
      "2991  2992  Person_2992   40    Finance   67386          10   2018-03-11   \n",
      "\n",
      "      Performance_Score  \n",
      "0                     8  \n",
      "2                     9  \n",
      "15                    6  \n",
      "17                    5  \n",
      "18                    7  \n",
      "...                 ...  \n",
      "2957                  5  \n",
      "2976                  6  \n",
      "2982                  3  \n",
      "2986                  8  \n",
      "2991                  6  \n",
      "\n",
      "[613 rows x 8 columns]\n"
     ]
    }
   ],
   "source": [
    "#Case-insensitive search\n",
    "mask = df.apply(lambda row: row.astype(str).str.contains(\"finance\", case=False).any(), axis=1)\n",
    "result = df[mask]\n",
    "print(result)\n"
   ]
  },
  {
   "cell_type": "code",
   "execution_count": 4,
   "id": "df69b693-0700-44fb-8b1d-3277eff8aa5b",
   "metadata": {},
   "outputs": [
    {
     "name": "stdout",
     "output_type": "stream",
     "text": [
      "        ID         Name  Age Department  Salary  Experience Joining_Date  \\\n",
      "0        1     Person_1   53    Finance  116904           5   2010-01-01   \n",
      "1        2     Person_2   26         IT  107729           6   2010-01-02   \n",
      "4        5     Person_5   44      Sales  107648           7   2010-01-05   \n",
      "16      17    Person_17   34         HR  103066          23   2010-01-17   \n",
      "18      19    Person_19   27    Finance  104715          27   2010-01-19   \n",
      "...    ...          ...  ...        ...     ...         ...          ...   \n",
      "2978  2979  Person_2979   36  Marketing  113207           3   2018-02-26   \n",
      "2979  2980  Person_2980   28         HR  105780          19   2018-02-27   \n",
      "2985  2986  Person_2986   59         HR  108583          14   2018-03-05   \n",
      "2989  2990  Person_2990   45      Sales  109633          24   2018-03-09   \n",
      "2995  2996  Person_2996   51         HR  107438          11   2018-03-15   \n",
      "\n",
      "      Performance_Score  \n",
      "0                     8  \n",
      "1                     6  \n",
      "4                     3  \n",
      "16                    7  \n",
      "18                    7  \n",
      "...                 ...  \n",
      "2978                  1  \n",
      "2979                  4  \n",
      "2985                  7  \n",
      "2989                  3  \n",
      "2995                  6  \n",
      "\n",
      "[685 rows x 8 columns]\n"
     ]
    }
   ],
   "source": [
    "#Search for numeric values\n",
    "result = df[df[\"Salary\"] > 100000]\n",
    "print(result)"
   ]
  },
  {
   "cell_type": "markdown",
   "id": "eab596e8-9e51-47c5-a71a-741ec488f08a",
   "metadata": {},
   "source": [
    "## HANDLING JSON\n",
    "### 1. Write the output of Python code into JSON"
   ]
  },
  {
   "cell_type": "code",
   "execution_count": 7,
   "id": "80649eb2-837a-4d88-98d2-7289396a3f69",
   "metadata": {},
   "outputs": [
    {
     "name": "stdout",
     "output_type": "stream",
     "text": [
      "Successfully written\n"
     ]
    }
   ],
   "source": [
    "import json\n",
    "\n",
    "# Example Python dictionary\n",
    "data = {\"Name\": \"Alice\", \"Age\": 30, \"Department\": \"IT\"}\n",
    "\n",
    "# Write to JSON file\n",
    "with open(\"output.json\", \"w\") as f:\n",
    "    json.dump(data, f, indent=4)\n",
    "    print(\"Successfully written\")\n"
   ]
  },
  {
   "cell_type": "markdown",
   "id": "a85cfe48-6623-4a66-ac2b-67ffcc957ab1",
   "metadata": {},
   "source": [
    "### 2. Parse a JSON file"
   ]
  },
  {
   "cell_type": "code",
   "execution_count": 8,
   "id": "ff627b1f-c123-49f0-9ac1-0d3d0d87def0",
   "metadata": {},
   "outputs": [
    {
     "name": "stdout",
     "output_type": "stream",
     "text": [
      "TechCorp\n",
      "{'id': 1, 'name': 'Victor_1', 'department': 'Marketing', 'salary': 102947, 'experience': 11, 'performance_score': 1}\n"
     ]
    }
   ],
   "source": [
    "with open(\"data_json.json\", \"r\") as f:\n",
    "    parsed_data = json.load(f)\n",
    "\n",
    "print(parsed_data[\"company\"])       # Access company name\n",
    "print(parsed_data[\"employees\"][0])  # First employee record\n"
   ]
  },
  {
   "cell_type": "markdown",
   "id": "fa9dc685-b068-44ee-b824-60643d762eea",
   "metadata": {},
   "source": [
    "### 3. Search for a value in JSON"
   ]
  },
  {
   "cell_type": "code",
   "execution_count": 10,
   "id": "0770bbc4-5beb-42df-af99-5134cf3602c8",
   "metadata": {},
   "outputs": [
    {
     "name": "stdout",
     "output_type": "stream",
     "text": [
      "Employees in IT Department:\n",
      "{'id': 8, 'name': 'Sara_8', 'department': 'IT', 'salary': 129373, 'experience': 13, 'performance_score': 8}\n",
      "{'id': 12, 'name': 'Grace_12', 'department': 'IT', 'salary': 64495, 'experience': 18, 'performance_score': 3}\n",
      "{'id': 18, 'name': 'Mona_18', 'department': 'IT', 'salary': 54717, 'experience': 6, 'performance_score': 5}\n",
      "{'id': 26, 'name': 'Frank_26', 'department': 'IT', 'salary': 118132, 'experience': 8, 'performance_score': 6}\n",
      "{'id': 30, 'name': 'Xander_30', 'department': 'IT', 'salary': 110498, 'experience': 9, 'performance_score': 1}\n",
      "{'id': 35, 'name': 'Uma_35', 'department': 'IT', 'salary': 67358, 'experience': 19, 'performance_score': 1}\n",
      "{'id': 40, 'name': 'Sara_40', 'department': 'IT', 'salary': 115670, 'experience': 15, 'performance_score': 2}\n",
      "{'id': 54, 'name': 'Charlie_54', 'department': 'IT', 'salary': 70604, 'experience': 5, 'performance_score': 5}\n",
      "{'id': 56, 'name': 'Tom_56', 'department': 'IT', 'salary': 47839, 'experience': 19, 'performance_score': 10}\n",
      "{'id': 74, 'name': 'Xander_74', 'department': 'IT', 'salary': 41068, 'experience': 8, 'performance_score': 4}\n",
      "{'id': 75, 'name': 'Frank_75', 'department': 'IT', 'salary': 129486, 'experience': 4, 'performance_score': 7}\n",
      "{'id': 77, 'name': 'Ivy_77', 'department': 'IT', 'salary': 106461, 'experience': 11, 'performance_score': 10}\n",
      "{'id': 97, 'name': 'Kathy_97', 'department': 'IT', 'salary': 119268, 'experience': 14, 'performance_score': 3}\n",
      "{'id': 101, 'name': 'Zane_101', 'department': 'IT', 'salary': 105539, 'experience': 15, 'performance_score': 9}\n",
      "{'id': 111, 'name': 'Eve_111', 'department': 'IT', 'salary': 109208, 'experience': 5, 'performance_score': 2}\n",
      "{'id': 112, 'name': 'Eve_112', 'department': 'IT', 'salary': 57465, 'experience': 18, 'performance_score': 10}\n",
      "{'id': 114, 'name': 'Sara_114', 'department': 'IT', 'salary': 90671, 'experience': 16, 'performance_score': 9}\n",
      "{'id': 116, 'name': 'Oscar_116', 'department': 'IT', 'salary': 127350, 'experience': 17, 'performance_score': 9}\n",
      "{'id': 122, 'name': 'Charlie_122', 'department': 'IT', 'salary': 93632, 'experience': 6, 'performance_score': 10}\n",
      "{'id': 125, 'name': 'Grace_125', 'department': 'IT', 'salary': 116112, 'experience': 9, 'performance_score': 2}\n",
      "{'id': 130, 'name': 'Grace_130', 'department': 'IT', 'salary': 111485, 'experience': 13, 'performance_score': 3}\n",
      "{'id': 136, 'name': 'Ivy_136', 'department': 'IT', 'salary': 52284, 'experience': 12, 'performance_score': 4}\n",
      "{'id': 139, 'name': 'Frank_139', 'department': 'IT', 'salary': 90054, 'experience': 12, 'performance_score': 9}\n",
      "{'id': 140, 'name': 'Tom_140', 'department': 'IT', 'salary': 124746, 'experience': 2, 'performance_score': 6}\n",
      "{'id': 148, 'name': 'Bob_148', 'department': 'IT', 'salary': 102401, 'experience': 12, 'performance_score': 9}\n",
      "{'id': 153, 'name': 'Victor_153', 'department': 'IT', 'salary': 127731, 'experience': 8, 'performance_score': 3}\n",
      "{'id': 157, 'name': 'Wendy_157', 'department': 'IT', 'salary': 99386, 'experience': 14, 'performance_score': 3}\n",
      "{'id': 179, 'name': 'Paul_179', 'department': 'IT', 'salary': 120619, 'experience': 2, 'performance_score': 1}\n",
      "{'id': 195, 'name': 'Bob_195', 'department': 'IT', 'salary': 41579, 'experience': 6, 'performance_score': 7}\n"
     ]
    }
   ],
   "source": [
    "with open(\"data_json.json\", \"r\") as f:\n",
    "    parsed_data = json.load(f)\n",
    "\n",
    "results = [emp for emp in parsed_data[\"employees\"] if emp[\"department\"] == \"IT\"] #Find employees in the \"IT\" department.\n",
    "\n",
    "print(\"Employees in IT Department:\")\n",
    "for emp in results:\n",
    "    print(emp)\n"
   ]
  },
  {
   "cell_type": "markdown",
   "id": "20833011-68f0-494e-8201-e1eb74006cb0",
   "metadata": {},
   "source": [
    "### 4. Read JSON in Python"
   ]
  },
  {
   "cell_type": "code",
   "execution_count": 12,
   "id": "45920c5d-9cbf-45fe-81c2-3a833fd101fd",
   "metadata": {},
   "outputs": [
    {
     "name": "stdout",
     "output_type": "stream",
     "text": [
      "Company: TechCorp\n",
      "Location: India\n",
      "Total employees: 200\n",
      "{'id': 1, 'name': 'Victor_1', 'department': 'Marketing', 'salary': 102947, 'experience': 11, 'performance_score': 1}\n",
      "{'id': 2, 'name': 'Yara_2', 'department': 'Support', 'salary': 89411, 'experience': 12, 'performance_score': 1}\n",
      "{'id': 3, 'name': 'Leo_3', 'department': 'HR', 'salary': 126796, 'experience': 9, 'performance_score': 3}\n"
     ]
    }
   ],
   "source": [
    "import json\n",
    "\n",
    "# Read the JSON file\n",
    "with open(\"data_json.json\", \"r\") as f:\n",
    "    data = json.load(f)\n",
    "\n",
    "# Show basic details\n",
    "print(\"Company:\", data[\"company\"])\n",
    "print(\"Location:\", data[\"location\"])\n",
    "print(\"Total employees:\", len(data[\"employees\"]))\n",
    "\n",
    "# Show first 3 employees\n",
    "for emp in data[\"employees\"][:3]:\n",
    "    print(emp)\n"
   ]
  },
  {
   "cell_type": "code",
   "execution_count": null,
   "id": "c30885ae-489f-41d1-97b3-cc14ff8c1caa",
   "metadata": {},
   "outputs": [],
   "source": []
  }
 ],
 "metadata": {
  "kernelspec": {
   "display_name": "Python 3 (ipykernel)",
   "language": "python",
   "name": "python3"
  },
  "language_info": {
   "codemirror_mode": {
    "name": "ipython",
    "version": 3
   },
   "file_extension": ".py",
   "mimetype": "text/x-python",
   "name": "python",
   "nbconvert_exporter": "python",
   "pygments_lexer": "ipython3",
   "version": "3.11.4"
  }
 },
 "nbformat": 4,
 "nbformat_minor": 5
}
