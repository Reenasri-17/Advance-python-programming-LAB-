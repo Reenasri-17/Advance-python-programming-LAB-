{
 "cells": [
  {
   "cell_type": "markdown",
   "id": "98c1dbf3-a076-493a-9847-a904613d2489",
   "metadata": {},
   "source": [
    "## Lab-13 ( LAB WORK)\n",
    "## DATE : 12-09-25\n",
    "## NAME: REENA SRI G (22MID0009)\n",
    "\n",
    "### Dealing with Numpy functions and arrays "
   ]
  },
  {
   "cell_type": "markdown",
   "id": "1d6af36e-33fc-4212-9fd2-5628ac6edda7",
   "metadata": {},
   "source": [
    "## 1 . Creating Numpy Arrays"
   ]
  },
  {
   "cell_type": "code",
   "execution_count": 1,
   "id": "d0ed9caa-a32c-4411-948e-22575c36efe6",
   "metadata": {},
   "outputs": [
    {
     "name": "stdout",
     "output_type": "stream",
     "text": [
      "Array: [1 2 3 4 5]\n"
     ]
    }
   ],
   "source": [
    "#1 . Creating Numpy Arrays\n",
    "import numpy as np\n",
    "\n",
    "# Creating array from Python list\n",
    "arr1 = np.array([1, 2, 3, 4, 5])\n",
    "print(\"Array:\", arr1)\n"
   ]
  },
  {
   "cell_type": "markdown",
   "id": "3caf2bf4-2e5d-46de-b57f-078734e5a4dc",
   "metadata": {},
   "source": [
    "## 2. Array Dimension, Size, Shape"
   ]
  },
  {
   "cell_type": "code",
   "execution_count": 3,
   "id": "6482f2a8-1ef7-49a0-b2a4-cbd3123bac3b",
   "metadata": {},
   "outputs": [
    {
     "name": "stdout",
     "output_type": "stream",
     "text": [
      "Array:\n",
      " [[1 2 3]\n",
      " [4 5 6]]\n",
      "Dimension: 2\n",
      "Size: 6\n",
      "Shape: (2, 3)\n"
     ]
    }
   ],
   "source": [
    "# 2. Array Dimension, Size, Shape\n",
    "arr2 = np.array([[1, 2, 3], [4, 5, 6]])  # 2D array\n",
    "\n",
    "print(\"Array:\\n\", arr2)\n",
    "print(\"Dimension:\", arr2.ndim)   # 2 (2D array)\n",
    "print(\"Size:\", arr2.size)        # Total number of elements\n",
    "print(\"Shape:\", arr2.shape)      # (2, 3) => 2 rows, 3 columns\n"
   ]
  },
  {
   "cell_type": "code",
   "execution_count": 4,
   "id": "b0c102d3-8183-4a12-8e08-6a01869ff932",
   "metadata": {},
   "outputs": [
    {
     "name": "stdout",
     "output_type": "stream",
     "text": [
      "Dimension: 1\n"
     ]
    }
   ],
   "source": [
    "# comparing 1 and 2 dimensions , how it is stored\n",
    "print(\"Dimension:\", arr1.ndim) # 1D array"
   ]
  },
  {
   "cell_type": "code",
   "execution_count": 5,
   "id": "13f103b1-6857-4c15-a81d-8238f42ac0b9",
   "metadata": {},
   "outputs": [
    {
     "name": "stdout",
     "output_type": "stream",
     "text": [
      "Shape: (5,)\n"
     ]
    }
   ],
   "source": [
    "# comparing 1 and 2 shape , how it is stored\n",
    "print(\"Shape:\", arr1.shape) # 1 d array"
   ]
  },
  {
   "cell_type": "markdown",
   "id": "639f45af-cd8b-4b80-a817-5d502818ee10",
   "metadata": {},
   "source": [
    "## Explanation:\n",
    "- Why is it not ? 1,5 --> it has only 1 row and 5 columns\n",
    "- ans : it memory space , 1d arrays are stoed at subsequent memory locations and therefore , they are stored as 1 single roes , just like a stack\n",
    "## 3. eye() function (Identity Matrix)"
   ]
  },
  {
   "cell_type": "code",
   "execution_count": 6,
   "id": "6e2683be-6d9d-4c3f-be98-80ea891d3ed5",
   "metadata": {},
   "outputs": [
    {
     "name": "stdout",
     "output_type": "stream",
     "text": [
      "Identity Matrix:\n",
      " [[1. 0. 0. 0.]\n",
      " [0. 1. 0. 0.]\n",
      " [0. 0. 1. 0.]\n",
      " [0. 0. 0. 1.]]\n"
     ]
    }
   ],
   "source": [
    "#3. eye() function (Identity Matrix)\n",
    "eye_arr = np.eye(4)   # 4x4 identity matrix\n",
    "print(\"Identity Matrix:\\n\", eye_arr)\n"
   ]
  },
  {
   "cell_type": "code",
   "execution_count": 8,
   "id": "2444d623-760f-4e0d-adbb-f7baf12d39a7",
   "metadata": {},
   "outputs": [
    {
     "name": "stdout",
     "output_type": "stream",
     "text": [
      "[[1. 0. 0. 0. 0.]\n",
      " [0. 1. 0. 0. 0.]\n",
      " [0. 0. 1. 0. 0.]]\n"
     ]
    }
   ],
   "source": [
    "print(np.eye(3,5)) #5 indicates overall columns"
   ]
  },
  {
   "cell_type": "code",
   "execution_count": 9,
   "id": "e07bd32e-8d8d-4446-8976-654d38a0bd50",
   "metadata": {},
   "outputs": [
    {
     "data": {
      "text/plain": [
       "array([[0., 1., 0., 0., 0.],\n",
       "       [0., 0., 1., 0., 0.],\n",
       "       [0., 0., 0., 1., 0.]])"
      ]
     },
     "execution_count": 9,
     "metadata": {},
     "output_type": "execute_result"
    }
   ],
   "source": [
    "np.eye(3,5,k=1) # k value indicates shifted values over rows and colums, here it is positive , thefore column shift"
   ]
  },
  {
   "cell_type": "code",
   "execution_count": 10,
   "id": "e2500cf7-c77d-473b-9bba-fd5843f6462c",
   "metadata": {},
   "outputs": [
    {
     "data": {
      "text/plain": [
       "array([[0., 0., 0., 0., 0.],\n",
       "       [0., 0., 0., 0., 0.],\n",
       "       [1., 0., 0., 0., 0.]])"
      ]
     },
     "execution_count": 10,
     "metadata": {},
     "output_type": "execute_result"
    }
   ],
   "source": [
    "np.eye(3,5,k=-2) # k value indicates shifted values over rows and colums, here it is negative , therefore row shift"
   ]
  },
  {
   "cell_type": "markdown",
   "id": "44f6d59c-b27d-491a-b3fb-d53db537ac57",
   "metadata": {},
   "source": [
    "## 4. linspace() (Evenly spaced numbers between a range)"
   ]
  },
  {
   "cell_type": "code",
   "execution_count": 11,
   "id": "b35a6494-3ac7-4c4c-9d20-018499aa365b",
   "metadata": {},
   "outputs": [
    {
     "name": "stdout",
     "output_type": "stream",
     "text": [
      "Linspace: [ 0.   2.5  5.   7.5 10. ]\n"
     ]
    }
   ],
   "source": [
    "# 4. linspace() (Evenly spaced numbers between a range)\n",
    "lin_arr = np.linspace(0, 10, 5)  # 5 numbers between 0 and 10\n",
    "print(\"Linspace:\", lin_arr)\n"
   ]
  },
  {
   "cell_type": "markdown",
   "id": "c87b39ab-10ab-4e7e-9fb9-f0ab5f3dd7b7",
   "metadata": {},
   "source": [
    "## Explanation:\n",
    "- ### numpy.linspace will create arrays with a specified number of elements, and spaced equally between the specified beginning and end values.\n",
    "\n",
    "## 5. arange() (Similar to Python’s range but for arrays)"
   ]
  },
  {
   "cell_type": "code",
   "execution_count": 12,
   "id": "dce34d98-0ac1-45b5-8d97-c91c72047e34",
   "metadata": {},
   "outputs": [
    {
     "name": "stdout",
     "output_type": "stream",
     "text": [
      "Arange: [0 2 4 6 8]\n"
     ]
    }
   ],
   "source": [
    "#5. arange() (Similar to Python’s range but for arrays)\n",
    "arange_arr = np.arange(0, 10, 2)  # From 0 to 10 with step 2\n",
    "print(\"Arange:\", arange_arr)\n",
    "# we use step value here"
   ]
  },
  {
   "cell_type": "markdown",
   "id": "661c2d6c-696c-446b-928c-0d4f756b086c",
   "metadata": {},
   "source": [
    "## Explanation:\n",
    "- #best practice for numpy.arange is to use integer start, end, and step values.\n",
    "- arange is specifically used for numpy arrays"
   ]
  },
  {
   "cell_type": "markdown",
   "id": "e4d6c1cd-6941-4995-af9b-1a5c3bd69ca4",
   "metadata": {},
   "source": [
    "## 6. zeros() (Array of zeros)"
   ]
  },
  {
   "cell_type": "code",
   "execution_count": 13,
   "id": "9f8bd446-af6e-4b0b-82b1-be9ebda4e8a4",
   "metadata": {},
   "outputs": [
    {
     "name": "stdout",
     "output_type": "stream",
     "text": [
      "Zeros Array:\n",
      " [[0. 0. 0. 0.]\n",
      " [0. 0. 0. 0.]\n",
      " [0. 0. 0. 0.]]\n"
     ]
    }
   ],
   "source": [
    "# 6. zeros() (Array of zeros)\n",
    "zeros_arr = np.zeros((3, 4))   # 3x4 matrix filled with zeros\n",
    "print(\"Zeros Array:\\n\", zeros_arr)\n"
   ]
  },
  {
   "cell_type": "markdown",
   "id": "0bcb3311-7e11-4bd0-9341-00d1e83308d6",
   "metadata": {},
   "source": [
    "## 7. random() functions"
   ]
  },
  {
   "cell_type": "code",
   "execution_count": 15,
   "id": "b06d3f13-786e-4ddb-af7a-7295415a5514",
   "metadata": {},
   "outputs": [
    {
     "name": "stdout",
     "output_type": "stream",
     "text": [
      "Random Array:\n",
      " [[0.12047731 0.16954618 0.15376204]\n",
      " [0.10825606 0.08893019 0.37257353]]\n",
      "Random Integers:\n",
      " [[7 9 6]\n",
      " [7 6 9]\n",
      " [2 9 6]]\n",
      "Random Normal Distribution:\n",
      " [[ 0.0874856   0.4621275  -0.22146105]\n",
      " [-0.3369807   0.68787804 -0.93549525]\n",
      " [ 0.99334366 -0.08027811 -0.14412556]]\n"
     ]
    }
   ],
   "source": [
    "#7. random() functions\n",
    "# Random values between 0 and 1\n",
    "rand_arr = np.random.rand(2, 3)  # random values in 2 rows , 3 column matrix format \n",
    "print(\"Random Array:\\n\", rand_arr)\n",
    "\n",
    "# Random integers between 1 and 10\n",
    "rand_int_arr = np.random.randint(1, 10, (3, 3))  # can specify the range of values along with matrix dimension\n",
    "print(\"Random Integers:\\n\", rand_int_arr)\n",
    "\n",
    "# Normal distribution (mean=0, std=1)\n",
    "rand_normal = np.random.randn(3, 3)  \n",
    "print(\"Random Normal Distribution:\\n\", rand_normal)\n"
   ]
  },
  {
   "cell_type": "markdown",
   "id": "9049e1a6-92ce-46f2-8a22-61efb77103b9",
   "metadata": {},
   "source": [
    "## 8. Program discussed in class "
   ]
  },
  {
   "cell_type": "code",
   "execution_count": 17,
   "id": "2f8dc174-8da6-4f6d-bf14-8a84a63a57b4",
   "metadata": {},
   "outputs": [
    {
     "data": {
      "text/plain": [
       "[0, 2, 12, 36]"
      ]
     },
     "execution_count": 17,
     "metadata": {},
     "output_type": "execute_result"
    }
   ],
   "source": [
    "# 8. Program discussed in class \n",
    "def pythonsum(n):\n",
    "    a = [0] * n\n",
    "    b = [0] * n\n",
    "    c = []\n",
    "    for i in range(n):\n",
    "        a[i] = i ** 2\n",
    "        b[i] = i ** 3\n",
    "        c.append(a[i] + b[i])\n",
    "    return c\n",
    "   \n",
    "pythonsum(4)"
   ]
  },
  {
   "cell_type": "markdown",
   "id": "f78c8770-dfce-41f6-b513-10190b9a73d6",
   "metadata": {},
   "source": [
    "## Explanation :  for loops are computationally expensive ,  instead we can used this arage to tackle the issue saving space and time"
   ]
  },
  {
   "cell_type": "code",
   "execution_count": 18,
   "id": "06f49958-87ee-44e9-a6f1-7f84101c1072",
   "metadata": {},
   "outputs": [
    {
     "data": {
      "text/plain": [
       "array([ 0,  2, 12, 36])"
      ]
     },
     "execution_count": 18,
     "metadata": {},
     "output_type": "execute_result"
    }
   ],
   "source": [
    "import numpy as np\n",
    "def numpysum(n):\n",
    "  a = np.arange(n) ** 2  #Creates an array [0,1,..n-1] and element-wise sqauring\n",
    "  b = np.arange(n) ** 3\n",
    "  c = a + b #element wise adding - NO LOOP Overhead, hence Memory Efficient\n",
    "  return c\n",
    "\n",
    "numpysum(4)"
   ]
  },
  {
   "cell_type": "markdown",
   "id": "bd8ed385-4c05-4e4f-bc00-8cf7a67efec0",
   "metadata": {},
   "source": [
    "## Note : \n",
    "- Creating Arrays from Sequences\n",
    "- a list of numbers will create a 1D array,\n",
    "- a list of lists will create a 2D array,\n",
    "- further nested lists will create higher-dimensional arrays. \n",
    "- In general, any array object is called an ndarray in NumPy"
   ]
  },
  {
   "cell_type": "code",
   "execution_count": 19,
   "id": "8544485f-f696-4c58-84e5-53fed9192554",
   "metadata": {},
   "outputs": [
    {
     "data": {
      "text/plain": [
       "array([127, 128, 129], dtype=int32)"
      ]
     },
     "execution_count": 19,
     "metadata": {},
     "output_type": "execute_result"
    }
   ],
   "source": [
    "import numpy as np\n",
    "np.array([127, 128, 129], dtype=np.int32) "
   ]
  },
  {
   "cell_type": "code",
   "execution_count": 20,
   "id": "f4a4e13c-fd4c-4d09-a26e-ffff8edbc899",
   "metadata": {},
   "outputs": [
    {
     "ename": "OverflowError",
     "evalue": "Python integer 128 out of bounds for int8",
     "output_type": "error",
     "traceback": [
      "\u001b[31m---------------------------------------------------------------------------\u001b[39m",
      "\u001b[31mOverflowError\u001b[39m                             Traceback (most recent call last)",
      "\u001b[36mCell\u001b[39m\u001b[36m \u001b[39m\u001b[32mIn[20]\u001b[39m\u001b[32m, line 2\u001b[39m\n\u001b[32m      1\u001b[39m \u001b[38;5;28;01mimport\u001b[39;00m\u001b[38;5;250m \u001b[39m\u001b[34;01mnumpy\u001b[39;00m\u001b[38;5;250m \u001b[39m\u001b[38;5;28;01mas\u001b[39;00m\u001b[38;5;250m \u001b[39m\u001b[34;01mnp\u001b[39;00m\n\u001b[32m----> \u001b[39m\u001b[32m2\u001b[39m \u001b[43mnp\u001b[49m\u001b[43m.\u001b[49m\u001b[43marray\u001b[49m\u001b[43m(\u001b[49m\u001b[43m[\u001b[49m\u001b[32;43m127\u001b[39;49m\u001b[43m,\u001b[49m\u001b[43m \u001b[49m\u001b[32;43m128\u001b[39;49m\u001b[43m,\u001b[49m\u001b[43m \u001b[49m\u001b[32;43m129\u001b[39;49m\u001b[43m]\u001b[49m\u001b[43m,\u001b[49m\u001b[43m \u001b[49m\u001b[43mdtype\u001b[49m\u001b[43m=\u001b[49m\u001b[43mnp\u001b[49m\u001b[43m.\u001b[49m\u001b[43mint8\u001b[49m\u001b[43m)\u001b[49m \n",
      "\u001b[31mOverflowError\u001b[39m: Python integer 128 out of bounds for int8"
     ]
    }
   ],
   "source": [
    "import numpy as np\n",
    "np.array([127, 128, 129], dtype=np.int8) "
   ]
  },
  {
   "cell_type": "markdown",
   "id": "ad911dad-5dd9-457f-9251-c4be1cb3e488",
   "metadata": {},
   "source": [
    "## Error explanation: since 128 cant be stored in 8 bit , it raises overflow error"
   ]
  },
  {
   "cell_type": "code",
   "execution_count": 22,
   "id": "fa95efe9-787c-4096-a868-7973ca0c4943",
   "metadata": {},
   "outputs": [
    {
     "name": "stdout",
     "output_type": "stream",
     "text": [
      "[0 1 2 3 4 5 6 7 8 9] 0 TO BEFORE 10, Step Value 1\n",
      "[2. 3. 4. 5. 6. 7. 8. 9.]\n",
      "[2.  2.1 2.2 2.3 2.4 2.5 2.6 2.7 2.8 2.9]\n"
     ]
    }
   ],
   "source": [
    "#ARRAY CREATION FUNCTIONS\n",
    "import numpy as np\n",
    "print(np.arange(10) , \"0 TO BEFORE 10, Step Value 1\")\n",
    "print(np.arange(2, 10, dtype=float)) # 2 to 10-1 range with 1 as step values by default , type as float\n",
    "print(np.arange(2, 3, 0.1)) # 2 to 3-0.1 range with .1 as step values , type as float"
   ]
  },
  {
   "cell_type": "markdown",
   "id": "77009ce7-cd4e-45cc-ad81-697d103834d7",
   "metadata": {},
   "source": [
    "## Diag function"
   ]
  },
  {
   "cell_type": "code",
   "execution_count": null,
   "id": "2c829a40-477e-4f3e-b2db-e2c2c332aba3",
   "metadata": {},
   "outputs": [],
   "source": [
    "# numpy.diag can define either a square 2D array with given values along the diagonal or if given a 2D array \n",
    "# returns a 1D array that is only the diagonal elements. \n",
    "# The two array creation functions can be helpful while doing linear algebra, as such:"
   ]
  },
  {
   "cell_type": "code",
   "execution_count": 23,
   "id": "2ac41770-c87a-4a1b-9645-28362eaa2efb",
   "metadata": {},
   "outputs": [
    {
     "data": {
      "text/plain": [
       "array([[1, 0, 0],\n",
       "       [0, 2, 0],\n",
       "       [0, 0, 3]])"
      ]
     },
     "execution_count": 23,
     "metadata": {},
     "output_type": "execute_result"
    }
   ],
   "source": [
    "import numpy as np\n",
    "np.diag([1, 2, 3])"
   ]
  },
  {
   "cell_type": "code",
   "execution_count": 25,
   "id": "e199c7b2-3207-4f39-9966-89591490dbd9",
   "metadata": {},
   "outputs": [
    {
     "data": {
      "text/plain": [
       "array([[0, 1, 0, 0],\n",
       "       [0, 0, 2, 0],\n",
       "       [0, 0, 0, 3],\n",
       "       [0, 0, 0, 0]])"
      ]
     },
     "execution_count": 25,
     "metadata": {},
     "output_type": "execute_result"
    }
   ],
   "source": [
    "np.diag([1, 2, 3], 1) # here 1 column shift is done"
   ]
  },
  {
   "cell_type": "code",
   "execution_count": 27,
   "id": "35daaf34-e1c6-46d8-b20d-edadf47c3f31",
   "metadata": {},
   "outputs": [
    {
     "data": {
      "text/plain": [
       "array([1, 4])"
      ]
     },
     "execution_count": 27,
     "metadata": {},
     "output_type": "execute_result"
    }
   ],
   "source": [
    "a = np.array([[1, 2], [3, 4]]) # it returns the diagonal elements\n",
    "np.diag(a)"
   ]
  },
  {
   "cell_type": "code",
   "execution_count": 28,
   "id": "2d9e139d-c868-4bbd-9373-2a36fde133ea",
   "metadata": {},
   "outputs": [],
   "source": [
    "# np.diag(v, k=1):\n",
    "\n",
    "# When v is a 1D array, np.diag creates a 2D square matrix with v placed along the k-th diagonal.\n",
    "\n",
    "# k=1 → the diagonal above the main (first superdiagonal).\n",
    "\n",
    "# To hold this upper diagonal, NumPy creates a (n + k) × (n + k) square matrix, where n is the length of the input array.\n",
    "\n",
    "# So for [1, 2, 3]: Length = 3, k = 1, Matrix shape = 4 × 4\n",
    "\n",
    "# # Diagonal values are placed at positions: (0,1), (1,2), (2,3)\n"
   ]
  },
  {
   "cell_type": "markdown",
   "id": "0ee6d26b-db57-4ed7-9718-1bc3bc34164f",
   "metadata": {},
   "source": [
    "## Vandermonde Matrix"
   ]
  },
  {
   "cell_type": "code",
   "execution_count": 29,
   "id": "4eb67a7e-d86c-4196-8227-0e5f8af6fd55",
   "metadata": {},
   "outputs": [
    {
     "data": {
      "text/plain": [
       "array([[0. , 1. ],\n",
       "       [0.5, 1. ],\n",
       "       [1. , 1. ],\n",
       "       [1.5, 1. ],\n",
       "       [2. , 1. ]])"
      ]
     },
     "execution_count": 29,
     "metadata": {},
     "output_type": "execute_result"
    }
   ],
   "source": [
    "import numpy as np\n",
    "np.vander(np.linspace(0, 2, 5), 2) # linspace will split the range from 0 to 2 into 5 equal sets , and 2 is the n value"
   ]
  },
  {
   "cell_type": "markdown",
   "id": "e46c2f30-c099-4d99-b142-bd9ab997b97e",
   "metadata": {},
   "source": [
    "## Explanation:\n",
    "- the element to the power (N-1) .. next element to the power (N-2).. so on till n-x !=0;\n",
    "- in the previous eg , 2 represents number of columns"
   ]
  },
  {
   "cell_type": "code",
   "execution_count": 30,
   "id": "40571d9f-2c71-4b08-8426-7cde29489e24",
   "metadata": {},
   "outputs": [
    {
     "data": {
      "text/plain": [
       "array([[1, 1],\n",
       "       [2, 1],\n",
       "       [3, 1],\n",
       "       [4, 1]])"
      ]
     },
     "execution_count": 30,
     "metadata": {},
     "output_type": "execute_result"
    }
   ],
   "source": [
    "np.vander([1, 2, 3, 4], 2) "
   ]
  },
  {
   "cell_type": "code",
   "execution_count": 31,
   "id": "71b82962-f6fc-4dbb-98cd-9c38acec4c7d",
   "metadata": {},
   "outputs": [
    {
     "data": {
      "text/plain": [
       "array([[ 1,  1,  1,  1],\n",
       "       [ 8,  4,  2,  1],\n",
       "       [27,  9,  3,  1],\n",
       "       [64, 16,  4,  1]])"
      ]
     },
     "execution_count": 31,
     "metadata": {},
     "output_type": "execute_result"
    }
   ],
   "source": [
    "np.vander((1, 2, 3, 4), 4)"
   ]
  },
  {
   "cell_type": "code",
   "execution_count": 32,
   "id": "f09c11a4-0019-4e38-8dea-4a06c680ded1",
   "metadata": {},
   "outputs": [],
   "source": [
    "#np.vander(x, N) creates a Vandermonde matrix from a 1D input array x.\n",
    "\n",
    "# [[x₁**(N-1), x₁**(N-2), ..., x₁**0],\n",
    "#  [x₂**(N-1), x₂**(N-2), ..., x₂**0],\n",
    "#  ...\n",
    "#  [xₙ**(N-1), xₙ**(N-2), ..., xₙ**0]]\n",
    "\n",
    "# So each row is a decreasing power of an element from x."
   ]
  },
  {
   "cell_type": "markdown",
   "id": "0209229a-688c-46d8-ba7e-0580c8584488",
   "metadata": {},
   "source": [
    "## Indexing and Slicing\n",
    "## 1. Slicing a NumPy Array"
   ]
  },
  {
   "cell_type": "code",
   "execution_count": 33,
   "id": "9d1d87af-6290-4cde-9183-0b5955a59163",
   "metadata": {},
   "outputs": [
    {
     "name": "stdout",
     "output_type": "stream",
     "text": [
      "Original Array: [10 20 30 40 50]\n",
      "Slice 1 to 4: [20 30 40]\n",
      "Step of 2: [10 30 50]\n",
      "\n",
      "2D Array:\n",
      " [[1 2 3]\n",
      " [4 5 6]\n",
      " [7 8 9]]\n",
      "First row: [1 2 3]\n",
      "Second column: [2 5 8]\n",
      "Sub-matrix:\n",
      " [[2 3]\n",
      " [5 6]]\n"
     ]
    }
   ],
   "source": [
    "import numpy as np\n",
    "\n",
    "# 1D Array\n",
    "arr1 = np.array([10, 20, 30, 40, 50])\n",
    "print(\"Original Array:\", arr1)\n",
    "print(\"Slice 1 to 4:\", arr1[1:4])   # elements from index 1 to 3\n",
    "print(\"Step of 2:\", arr1[::2])      # every 2nd element\n",
    "\n",
    "# 2D Array\n",
    "arr2 = np.array([[1, 2, 3], [4, 5, 6], [7, 8, 9]])\n",
    "print(\"\\n2D Array:\\n\", arr2)\n",
    "print(\"First row:\", arr2[0, :])     # First row\n",
    "print(\"Second column:\", arr2[:, 1]) # Second column\n",
    "print(\"Sub-matrix:\\n\", arr2[0:2, 1:3])  # Top-left 2x2 slice\n"
   ]
  },
  {
   "cell_type": "markdown",
   "id": "985dc7f5-aedd-41a3-86f8-030859b189bb",
   "metadata": {},
   "source": [
    "## 2. Slicing a Python List"
   ]
  },
  {
   "cell_type": "code",
   "execution_count": 34,
   "id": "d3171304-4df6-4388-b478-629f99eef6e5",
   "metadata": {},
   "outputs": [
    {
     "name": "stdout",
     "output_type": "stream",
     "text": [
      "Original List: [10, 20, 30, 40, 50]\n",
      "Slice 1 to 4: [20, 30, 40]\n",
      "Step of 2: [10, 30, 50]\n"
     ]
    }
   ],
   "source": [
    "# Normal Python list\n",
    "my_list = [10, 20, 30, 40, 50]\n",
    "\n",
    "# Slicing\n",
    "print(\"Original List:\", my_list)\n",
    "print(\"Slice 1 to 4:\", my_list[1:4])  # elements from index 1 to 3\n",
    "print(\"Step of 2:\", my_list[::2])     # every 2nd element\n"
   ]
  },
  {
   "cell_type": "markdown",
   "id": "369deee4-3746-4b24-bb8e-c329bb891895",
   "metadata": {},
   "source": [
    "## 3. Mutability Test (Important Difference)\n",
    "### NumPy slicing gives a view, not a copy → modifying the slice affects the original array."
   ]
  },
  {
   "cell_type": "code",
   "execution_count": 35,
   "id": "f86d6ed5-8db4-4636-8047-032f85a5a8a6",
   "metadata": {},
   "outputs": [
    {
     "name": "stdout",
     "output_type": "stream",
     "text": [
      "Original List after slice change: [1, 2, 3, 4, 5]\n",
      "Original Array after slice change: [ 1 99  3  4  5]\n"
     ]
    }
   ],
   "source": [
    "# Python List - Immutable slice (copy)\n",
    "list1 = [1, 2, 3, 4, 5]\n",
    "list_slice = list1[1:4]\n",
    "list_slice[0] = 99\n",
    "print(\"Original List after slice change:\", list1)   # unchanged\n",
    "\n",
    "# NumPy Array - Mutable slice (view)\n",
    "arr = np.array([1, 2, 3, 4, 5])\n",
    "arr_slice = arr[1:4]\n",
    "arr_slice[0] = 99\n",
    "print(\"Original Array after slice change:\", arr)    # changed\n"
   ]
  },
  {
   "cell_type": "code",
   "execution_count": null,
   "id": "c1750cef-a69c-44e5-8432-12291fe3d853",
   "metadata": {},
   "outputs": [],
   "source": []
  }
 ],
 "metadata": {
  "kernelspec": {
   "display_name": "Python 3 (ipykernel)",
   "language": "python",
   "name": "python3"
  },
  "language_info": {
   "codemirror_mode": {
    "name": "ipython",
    "version": 3
   },
   "file_extension": ".py",
   "mimetype": "text/x-python",
   "name": "python",
   "nbconvert_exporter": "python",
   "pygments_lexer": "ipython3",
   "version": "3.11.4"
  }
 },
 "nbformat": 4,
 "nbformat_minor": 5
}
