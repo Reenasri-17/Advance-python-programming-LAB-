{
 "cells": [
  {
   "cell_type": "markdown",
   "id": "5fc18c9e-2c73-485f-ad5f-e8cdfcc08a60",
   "metadata": {},
   "source": [
    "Sequence unpacking (PART-1)"
   ]
  },
  {
   "cell_type": "code",
   "execution_count": 1,
   "id": "16fe56d0-5722-43c8-aa2e-0d8a0ee5c8e2",
   "metadata": {},
   "outputs": [],
   "source": [
    "odds=[1,3,5,7] #org list\n",
    "a,b,c,d=odds   # assigning list"
   ]
  },
  {
   "cell_type": "code",
   "execution_count": 3,
   "id": "825ba6b2-1095-4003-85a5-abe1b570e034",
   "metadata": {},
   "outputs": [
    {
     "name": "stdout",
     "output_type": "stream",
     "text": [
      "1\n",
      "3\n",
      "5\n",
      "7\n"
     ]
    }
   ],
   "source": [
    "print(a) #displaying elements\n",
    "print(b)\n",
    "print(c)\n",
    "print(d)"
   ]
  },
  {
   "cell_type": "code",
   "execution_count": 4,
   "id": "63959c5d-6216-4fe1-9b9b-aaceb930d978",
   "metadata": {},
   "outputs": [
    {
     "name": "stdout",
     "output_type": "stream",
     "text": [
      "1\n",
      "3\n",
      "[5, 7]\n"
     ]
    }
   ],
   "source": [
    "a,b,*c=odds #c holds the rest of the elements\n",
    "print(a) #displaying elements\n",
    "print(b)\n",
    "print(c)"
   ]
  },
  {
   "cell_type": "code",
   "execution_count": 5,
   "id": "3fbf75d3-39f1-4a7c-b937-78cc59144254",
   "metadata": {},
   "outputs": [
    {
     "name": "stdout",
     "output_type": "stream",
     "text": [
      "1\n",
      "[3, 5]\n",
      "7\n"
     ]
    }
   ],
   "source": [
    "a,*b,c=odds #unpacking list\n",
    "print(a) #displaying elements\n",
    "print(b)\n",
    "print(c)"
   ]
  },
  {
   "cell_type": "code",
   "execution_count": 7,
   "id": "30626e36-67b1-43bd-bf10-bc034caa3a28",
   "metadata": {},
   "outputs": [
    {
     "ename": "TypeError",
     "evalue": "a() takes 3 positional arguments but 4 were given",
     "output_type": "error",
     "traceback": [
      "\u001b[31m---------------------------------------------------------------------------\u001b[39m",
      "\u001b[31mTypeError\u001b[39m                                 Traceback (most recent call last)",
      "\u001b[36mCell\u001b[39m\u001b[36m \u001b[39m\u001b[32mIn[7]\u001b[39m\u001b[32m, line 3\u001b[39m\n\u001b[32m      1\u001b[39m \u001b[38;5;28;01mdef\u001b[39;00m\u001b[38;5;250m \u001b[39m\u001b[34ma\u001b[39m(x,y,z): \u001b[38;5;66;03m#function definition\u001b[39;00m\n\u001b[32m      2\u001b[39m     \u001b[38;5;28;01mreturn\u001b[39;00m(x+y+z)\n\u001b[32m----> \u001b[39m\u001b[32m3\u001b[39m \u001b[38;5;28mprint\u001b[39m(\u001b[43ma\u001b[49m\u001b[43m(\u001b[49m\u001b[43m*\u001b[49m\u001b[43modds\u001b[49m\u001b[43m)\u001b[49m) \u001b[38;5;66;03m# trying to access the first thee elements\u001b[39;00m\n",
      "\u001b[31mTypeError\u001b[39m: a() takes 3 positional arguments but 4 were given"
     ]
    }
   ],
   "source": [
    "def a(x,y,z): #function definition\n",
    "    return(x+y+z)\n",
    "print(a(*odds)) # trying to access the first thee elements"
   ]
  },
  {
   "cell_type": "code",
   "execution_count": 8,
   "id": "ea9a494a-264d-4a76-ac94-253414f5ce62",
   "metadata": {},
   "outputs": [
    {
     "name": "stdout",
     "output_type": "stream",
     "text": [
      "6\n"
     ]
    }
   ],
   "source": [
    "#checking if the above function will work if odds have 3 elements\n",
    "odds=[1,2,3] # assigning a list with 3 elements\n",
    "def a(x,y,z): #function definition\n",
    "    return(x+y+z)\n",
    "print(a(*odds)) # trying to access the elements\n"
   ]
  },
  {
   "cell_type": "code",
   "execution_count": 9,
   "id": "1f82ca5d-4d77-44b6-8028-31df7b06c4b7",
   "metadata": {},
   "outputs": [
    {
     "ename": "TypeError",
     "evalue": "a() missing 2 required positional arguments: 'y' and 'z'",
     "output_type": "error",
     "traceback": [
      "\u001b[31m---------------------------------------------------------------------------\u001b[39m",
      "\u001b[31mTypeError\u001b[39m                                 Traceback (most recent call last)",
      "\u001b[36mCell\u001b[39m\u001b[36m \u001b[39m\u001b[32mIn[9]\u001b[39m\u001b[32m, line 4\u001b[39m\n\u001b[32m      2\u001b[39m \u001b[38;5;28;01mdef\u001b[39;00m\u001b[38;5;250m \u001b[39m\u001b[34ma\u001b[39m(x,y,z): \u001b[38;5;66;03m#function definition\u001b[39;00m\n\u001b[32m      3\u001b[39m     \u001b[38;5;28;01mreturn\u001b[39;00m(x+y+z)\n\u001b[32m----> \u001b[39m\u001b[32m4\u001b[39m \u001b[38;5;28mprint\u001b[39m(\u001b[43ma\u001b[49m\u001b[43m(\u001b[49m\u001b[43modds\u001b[49m\u001b[43m)\u001b[49m) \u001b[38;5;66;03m# trying to access the elements without *\u001b[39;00m\n",
      "\u001b[31mTypeError\u001b[39m: a() missing 2 required positional arguments: 'y' and 'z'"
     ]
    }
   ],
   "source": [
    "#what if we dont use * , just odds\n",
    "def a(x,y,z): #function definition\n",
    "    return(x+y+z)\n",
    "print(a(odds)) # trying to access the elements without *"
   ]
  },
  {
   "cell_type": "markdown",
   "id": "7e6f2083-2c41-4529-94b8-e56bbde369de",
   "metadata": {},
   "source": [
    "Example of unpacking list, passing them as parameters using *"
   ]
  },
  {
   "cell_type": "code",
   "execution_count": 13,
   "id": "6156f859-3475-44ac-9497-a4906098f8d0",
   "metadata": {},
   "outputs": [
    {
     "name": "stdout",
     "output_type": "stream",
     "text": [
      "Hello,Kaushik\n",
      "Hello,hari\n",
      "Hello,dharshini\n"
     ]
    }
   ],
   "source": [
    "def say_hi(*names): #sequence unpacking\n",
    "    for n in names: #traversal through list\n",
    "        print(f\"Hello,{n}\")\n",
    "say_hi(\"Kaushik\",\"hari\",\"dharshini\") # function call"
   ]
  },
  {
   "cell_type": "markdown",
   "id": "1089e1dd-c7cd-4c58-9d34-0758d3016efd",
   "metadata": {},
   "source": [
    "Dictionary"
   ]
  },
  {
   "cell_type": "code",
   "execution_count": 14,
   "id": "6f3a37db-2b49-4324-910b-7539768df0bb",
   "metadata": {},
   "outputs": [],
   "source": [
    "d={} #creating empty dictionary\n",
    "d['name']=\"reena\" #appending new elements\n",
    "d['reg']=\"22mid0009\""
   ]
  },
  {
   "cell_type": "code",
   "execution_count": 15,
   "id": "a9b3d8f6-0cbd-4baa-8505-b746e249729c",
   "metadata": {},
   "outputs": [
    {
     "name": "stdout",
     "output_type": "stream",
     "text": [
      "{'name': 'reena', 'reg': '22mid0009'}\n"
     ]
    }
   ],
   "source": [
    "print(d)"
   ]
  },
  {
   "cell_type": "code",
   "execution_count": 1,
   "id": "93d27880-e6fa-473b-931e-995653175a84",
   "metadata": {},
   "outputs": [
    {
     "ename": "TypeError",
     "evalue": "show_info() takes 0 positional arguments but 1 was given",
     "output_type": "error",
     "traceback": [
      "\u001b[31m---------------------------------------------------------------------------\u001b[39m",
      "\u001b[31mTypeError\u001b[39m                                 Traceback (most recent call last)",
      "\u001b[36mCell\u001b[39m\u001b[36m \u001b[39m\u001b[32mIn[1]\u001b[39m\u001b[32m, line 4\u001b[39m\n\u001b[32m      2\u001b[39m     \u001b[38;5;28;01mfor\u001b[39;00m k,v \u001b[38;5;129;01min\u001b[39;00m info.items(): \u001b[38;5;66;03m# accessing key value pairs\u001b[39;00m\n\u001b[32m      3\u001b[39m         \u001b[38;5;28mprint\u001b[39m(\u001b[33mf\u001b[39m\u001b[33m\"\u001b[39m\u001b[38;5;132;01m{\u001b[39;00mk\u001b[38;5;132;01m}\u001b[39;00m\u001b[33m:\u001b[39m\u001b[38;5;132;01m{\u001b[39;00mv\u001b[38;5;132;01m}\u001b[39;00m\u001b[33m \u001b[39m\u001b[33m\"\u001b[39m)\n\u001b[32m----> \u001b[39m\u001b[32m4\u001b[39m \u001b[43mshow_info\u001b[49m\u001b[43m(\u001b[49m\u001b[43m{\u001b[49m\u001b[33;43m'\u001b[39;49m\u001b[33;43mcode\u001b[39;49m\u001b[33;43m'\u001b[39;49m\u001b[43m:\u001b[49m\u001b[33;43m'\u001b[39;49m\u001b[33;43mCSI3007\u001b[39;49m\u001b[33;43m'\u001b[39;49m\u001b[43m,\u001b[49m\u001b[33;43m'\u001b[39;49m\u001b[33;43mname\u001b[39;49m\u001b[33;43m'\u001b[39;49m\u001b[43m:\u001b[49m\u001b[33;43m'\u001b[39;49m\u001b[33;43mPython\u001b[39;49m\u001b[33;43m'\u001b[39;49m\u001b[43m,\u001b[49m\u001b[33;43m'\u001b[39;49m\u001b[33;43mvenue\u001b[39;49m\u001b[33;43m'\u001b[39;49m\u001b[43m:\u001b[49m\u001b[33;43m'\u001b[39;49m\u001b[33;43mSJT318\u001b[39;49m\u001b[33;43m'\u001b[39;49m\u001b[43m}\u001b[49m\u001b[43m)\u001b[49m\u001b[38;5;66;03m#passing dictionary\u001b[39;00m\n",
      "\u001b[31mTypeError\u001b[39m: show_info() takes 0 positional arguments but 1 was given"
     ]
    }
   ],
   "source": [
    "def show_info(**info): # unpacking dictionary\n",
    "    for k,v in info.items(): # accessing key value pairs\n",
    "        print(f\"{k}:{v} \")\n",
    "show_info({'code':'CSI3007','name':'Python','venue':'SJT318'})#passing dictionary"
   ]
  },
  {
   "cell_type": "code",
   "execution_count": 18,
   "id": "43592bbc-dadf-4974-82ab-716b35dab7af",
   "metadata": {},
   "outputs": [
    {
     "name": "stdout",
     "output_type": "stream",
     "text": [
      "code:CSI3007 \n",
      "name:Python \n",
      "venue:SJT318 \n"
     ]
    }
   ],
   "source": [
    "def show_info(**info): # unpacking dictionary\n",
    "    for k,v in info.items(): # accessing key value pairs\n",
    "        print(f\"{k}:{v} \")\n",
    "data={'code':'CSI3007','name':'Python','venue':'SJT318'}\n",
    "show_info(**data)#passing dictionary"
   ]
  },
  {
   "cell_type": "markdown",
   "id": "9189bea4-da10-45c7-bdbf-a4b773d45652",
   "metadata": {},
   "source": [
    "ACTIVITY ON LEGAL SYSTEMS (PART-2)"
   ]
  },
  {
   "cell_type": "code",
   "execution_count": 19,
   "id": "77f86d84-e824-49a1-96c9-92cd3dda59b8",
   "metadata": {},
   "outputs": [],
   "source": [
    "legal_records = {\n",
    "\"Lawyer1\": {\n",
    "\"Client1\": [\"C101\", \"Property Dispute\", \"Civil\", \"2023-11-15\"],\n",
    "\"Client2\": [\"C102\", \"Cheque Bounce\", \"Criminal\", \"2024-01-22\"]\n",
    "},\n",
    "\"Lawyer2\": {\n",
    "\"Client1\": [\"C201\", \"Divorce Case\", \"Family\", \"2023-09-10\"],\n",
    "\"Client2\": [\"C202\", \"Land Acquisition\", \"Civil\", \"2024-05-05\"]\n",
    "},\n",
    "\"Lawyer3\": {\n",
    "\"Client1\": [\"C301\", \"Cyber Fraud\", \"Criminal\", \"2023-12-30\"],\n",
    "\"Client2\": [\"C302\", \"Will Registration\", \"Civil\", \"2024-02-18\"]\n",
    "}\n",
    "}"
   ]
  },
  {
   "cell_type": "code",
   "execution_count": 21,
   "id": "9eebf1d4-3100-4e12-8a91-4530bdabcd15",
   "metadata": {},
   "outputs": [
    {
     "name": "stdout",
     "output_type": "stream",
     "text": [
      "\n",
      "Lawyer1\n",
      "\n",
      "Lawyer2\n",
      "\n",
      "Lawyer3\n",
      " Client1:\n",
      " Case ID :C301 \n",
      " Type : Cyber Fraud\n",
      " Category : Criminal\n",
      " Date :2023-12-30 \n",
      " Client2:\n",
      " Case ID :C302 \n",
      " Type : Will Registration\n",
      " Category : Civil\n",
      " Date :2024-02-18 \n"
     ]
    }
   ],
   "source": [
    "#sequence unpacking\n",
    "def display(**legal_records):\n",
    "    for lawyer,clients in legal_records.items():\n",
    "        print(f\"\\n{lawyer}\")\n",
    "    for client, (case_id, case_type, category, date) in clients.items():\n",
    "        print(f\" {client}:\")\n",
    "        print(f\" Case ID :{case_id} \")\n",
    "        print(f\" Type : {case_type}\")\n",
    "        print(f\" Category : {category}\")\n",
    "        print(f\" Date :{date} \")\n",
    "\n",
    "display(**legal_records)"
   ]
  },
  {
   "cell_type": "code",
   "execution_count": 22,
   "id": "1d28999a-8c91-4d87-a83d-92b1839d3a3b",
   "metadata": {},
   "outputs": [
    {
     "name": "stdout",
     "output_type": "stream",
     "text": [
      "['c203', 'tax evation', 'criminal', '2025-03-19']\n"
     ]
    }
   ],
   "source": [
    "#appending a dict\n",
    "legal_records = {\n",
    "\"high court\":{\n",
    "\"Lawyer1\": {\n",
    "\"Client1\": [\"C101\", \"Property Dispute\", \"Civil\", \"2023-11-15\"],\n",
    "\"Client2\": [\"C102\", \"Cheque Bounce\", \"Criminal\", \"2024-01-22\"]\n",
    "},\n",
    "\"Lawyer2\": {\n",
    "\"Client1\": [\"C201\", \"Divorce Case\", \"Family\", \"2023-09-10\"],\n",
    "\"Client2\": [\"C202\", \"Land Acquisition\", \"Civil\", \"2024-05-05\"]\n",
    "},\n",
    "\"Lawyer3\": {\n",
    "\"Client1\": [\"C301\", \"Cyber Fraud\", \"Criminal\", \"2023-12-30\"],\n",
    "\"Client2\": [\"C302\", \"Will Registration\", \"Civil\", \"2024-02-18\"]\n",
    "}\n",
    "}\n",
    "}\n",
    "new_client=[\"c203\",\"tax evation\",\"criminal\",\"2025-03-19\"]\n",
    "legal_records[\"high court\"][\"Lawyer2\"][\"client3\"]=new_client\n",
    "print(legal_records[\"high court\"][\"Lawyer2\"][\"client3\"])"
   ]
  },
  {
   "cell_type": "code",
   "execution_count": null,
   "id": "6ae27b27-1c36-4ce8-96d7-843b3a13b037",
   "metadata": {},
   "outputs": [],
   "source": []
  }
 ],
 "metadata": {
  "kernelspec": {
   "display_name": "Python 3 (ipykernel)",
   "language": "python",
   "name": "python3"
  },
  "language_info": {
   "codemirror_mode": {
    "name": "ipython",
    "version": 3
   },
   "file_extension": ".py",
   "mimetype": "text/x-python",
   "name": "python",
   "nbconvert_exporter": "python",
   "pygments_lexer": "ipython3",
   "version": "3.11.4"
  }
 },
 "nbformat": 4,
 "nbformat_minor": 5
}
