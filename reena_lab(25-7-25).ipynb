{
 "cells": [
  {
   "cell_type": "markdown",
   "id": "bee7b467-1815-4731-917c-c28fd31046cf",
   "metadata": {},
   "source": [
    "#Factorial of 100"
   ]
  },
  {
   "cell_type": "code",
   "execution_count": 25,
   "id": "2ca58924-daf5-4bc2-a5bf-fdd041691835",
   "metadata": {},
   "outputs": [
    {
     "name": "stdout",
     "output_type": "stream",
     "text": [
      "933262154439441526816992388562667004907159682643816214685929638952175999932299156089414639761565182862536979208272237582511852109168640000000000000000000000\n"
     ]
    }
   ],
   "source": [
    "a=100;\n",
    "ans=1;\n",
    "for i in range( 1,100):\n",
    "    ans *=i;\n",
    "print(ans)\n",
    "    \n"
   ]
  },
  {
   "cell_type": "markdown",
   "id": "0a5b82c7-ad6b-4b1a-ab8b-0d93e3956466",
   "metadata": {},
   "source": [
    "#Strings is immutable"
   ]
  },
  {
   "cell_type": "code",
   "execution_count": 18,
   "id": "b3a490ab-8332-4830-8876-6ce0d2d96a39",
   "metadata": {},
   "outputs": [
    {
     "name": "stdout",
     "output_type": "stream",
     "text": [
      "9771784\n",
      "9771816\n",
      "9771848\n",
      "9771880\n",
      "9771912\n",
      "9771944\n",
      "9771976\n",
      "9772008\n",
      "9772040\n",
      "9772072\n",
      "9\n"
     ]
    }
   ],
   "source": [
    "s=\" \";\n",
    "for i in range(10):\n",
    "    s =i;\n",
    "    print(id(s))\n",
    "print(s)"
   ]
  },
  {
   "cell_type": "markdown",
   "id": "cd8c60f6-2eab-45f9-845f-387ae6bbbafa",
   "metadata": {},
   "source": [
    "#Handling  Characters not in Keyboard"
   ]
  },
  {
   "cell_type": "code",
   "execution_count": 23,
   "id": "252f25ad-56ee-41e2-9fd4-40f720b90164",
   "metadata": {},
   "outputs": [
    {
     "name": "stdout",
     "output_type": "stream",
     "text": [
      "Ω\n"
     ]
    }
   ],
   "source": [
    "print('\\u03A9')"
   ]
  },
  {
   "cell_type": "code",
   "execution_count": 24,
   "id": "d32f551d-b4bd-4ffc-8150-5392f9615901",
   "metadata": {},
   "outputs": [
    {
     "name": "stdout",
     "output_type": "stream",
     "text": [
      "Ӓ\n"
     ]
    }
   ],
   "source": [
    "print(chr(1234))"
   ]
  },
  {
   "cell_type": "code",
   "execution_count": 2,
   "id": "e3050c21-a06c-4c4e-83b0-449165c232fc",
   "metadata": {},
   "outputs": [
    {
     "name": "stdout",
     "output_type": "stream",
     "text": [
      "😀 Ω\n"
     ]
    }
   ],
   "source": [
    "import unicodedata\n",
    "o= unicodedata.lookup('GREEK CAPITAL LETTER OMEGA')\n",
    "S=unicodedata.lookup('GRINNING FACE')\n",
    "print(S,o)"
   ]
  },
  {
   "cell_type": "code",
   "execution_count": 5,
   "id": "b3df5d33-9857-4154-9aba-22b223a91d6e",
   "metadata": {},
   "outputs": [
    {
     "name": "stdout",
     "output_type": "stream",
     "text": [
      "a\n"
     ]
    }
   ],
   "source": [
    "print(chr(97))"
   ]
  },
  {
   "cell_type": "code",
   "execution_count": 8,
   "id": "ed36927f-d5c0-4957-a7b8-11a544e3d4ff",
   "metadata": {},
   "outputs": [
    {
     "name": "stdin",
     "output_type": "stream",
     "text": [
      "enter a character: A\n"
     ]
    },
    {
     "name": "stdout",
     "output_type": "stream",
     "text": [
      "65\n"
     ]
    }
   ],
   "source": [
    "a=input('enter a character:')\n",
    "print( ord(a))"
   ]
  },
  {
   "cell_type": "code",
   "execution_count": 9,
   "id": "449825d9-046d-4d1e-9568-b6c8e0fad8ac",
   "metadata": {},
   "outputs": [],
   "source": [
    "import nltk"
   ]
  },
  {
   "cell_type": "markdown",
   "id": "ae3b8c5f-2a49-4a67-95f3-693395280bef",
   "metadata": {},
   "source": [
    "#Printing characters in keyboard"
   ]
  },
  {
   "cell_type": "code",
   "execution_count": 19,
   "id": "9d744e37-3c93-450b-9c15-20f01b168f26",
   "metadata": {},
   "outputs": [
    {
     "name": "stdin",
     "output_type": "stream",
     "text": [
      "enter a character: A\n"
     ]
    },
    {
     "name": "stdout",
     "output_type": "stream",
     "text": [
      "The Unicode escape sequence for 'A' is: \\u0041\n"
     ]
    }
   ],
   "source": [
    "def to_unicode_escape_sequence(char):\n",
    "    code_point = ord(char) \n",
    "\n",
    "    if code_point <= 0xFFFF:\n",
    "        return f\"\\\\u{code_point:04x}\" \n",
    "    else:\n",
    "        return f\"\\\\U{code_point:08x}\" \n",
    "\n",
    "char_a = input('enter a character:')\n",
    "escape_a = to_unicode_escape_sequence(char_a)\n",
    "print(f\"The Unicode escape sequence for '{char_a}' is: {escape_a}\")\n"
   ]
  },
  {
   "cell_type": "markdown",
   "id": "6d7778c4-5cfe-4653-83d8-da7957d8e808",
   "metadata": {},
   "source": [
    "#Printing chinese character"
   ]
  },
  {
   "cell_type": "code",
   "execution_count": 22,
   "id": "087780fa-296b-4580-831f-4b07137ddd42",
   "metadata": {},
   "outputs": [
    {
     "name": "stdout",
     "output_type": "stream",
     "text": [
      "The Unicode escape sequence for '你' is: \\u4f60\n"
     ]
    }
   ],
   "source": [
    "def to_unicode_escape_sequence(char): \n",
    "    code_point = ord(char)\n",
    "    if code_point <= 0xFFFF:\n",
    "        return f\"\\\\u{code_point:04x}\"\n",
    "    else:\n",
    "        return f\"\\\\U{code_point:08x}\" \n",
    "    \n",
    "char_a = \"你\" \n",
    "escape_a = to_unicode_escape_sequence(char_a) \n",
    "print(f\"The Unicode escape sequence for '{char_a}' is: {escape_a}\")"
   ]
  },
  {
   "cell_type": "markdown",
   "id": "fdb47daa-3725-4918-8c45-3358daedaa91",
   "metadata": {},
   "source": [
    "#Post tagging in nltk"
   ]
  },
  {
   "cell_type": "code",
   "execution_count": 32,
   "id": "e3ab6864-51fc-45a5-baa4-991a7390ba07",
   "metadata": {},
   "outputs": [
    {
     "name": "stdout",
     "output_type": "stream",
     "text": [
      "[('T', 'NN')]\n",
      "[('h', 'NN')]\n",
      "[('e', 'NN')]\n",
      "[('i', 'NN')]\n",
      "[('n', 'NN')]\n",
      "[('c', 'NNS')]\n",
      "[('i', 'NN')]\n",
      "[('d', 'NN')]\n",
      "[('e', 'NN')]\n",
      "[('n', 'NN')]\n",
      "[('t', 'NN')]\n",
      "[('o', 'NN')]\n",
      "[('c', 'NNS')]\n",
      "[('c', 'NNS')]\n",
      "[('u', 'NN')]\n",
      "[('r', 'NN')]\n",
      "[('r', 'NN')]\n",
      "[('e', 'NN')]\n",
      "[('d', 'NN')]\n",
      "[('a', 'DT')]\n",
      "[('r', 'NN')]\n",
      "[('o', 'NN')]\n",
      "[('u', 'NN')]\n",
      "[('n', 'NN')]\n",
      "[('d', 'NN')]\n",
      "[('7', 'CD')]\n",
      "[('.', '.')]\n",
      "[('4', 'CD')]\n",
      "[('5', 'CD')]\n",
      "[('a', 'DT')]\n",
      "[('m', 'NN')]\n",
      "[('a', 'DT')]\n",
      "[('t', 'NN')]\n",
      "[('t', 'NN')]\n",
      "[('h', 'NN')]\n",
      "[('e', 'NN')]\n",
      "[('G', 'NN')]\n",
      "[('o', 'NN')]\n",
      "[('v', 'NN')]\n",
      "[('e', 'NN')]\n",
      "[('r', 'NN')]\n",
      "[('n', 'NN')]\n",
      "[('m', 'NN')]\n",
      "[('e', 'NN')]\n",
      "[('n', 'NN')]\n",
      "[('t', 'NN')]\n",
      "[('U', 'NN')]\n",
      "[('p', 'NN')]\n",
      "[('p', 'NN')]\n",
      "[('e', 'NN')]\n",
      "[('r', 'NN')]\n",
      "[('P', 'NN')]\n",
      "[('r', 'NN')]\n",
      "[('i', 'NN')]\n",
      "[('m', 'NN')]\n",
      "[('a', 'DT')]\n",
      "[('r', 'NN')]\n",
      "[('y', 'NN')]\n",
      "[('S', 'NN')]\n",
      "[('c', 'NNS')]\n",
      "[('h', 'NN')]\n",
      "[('o', 'NN')]\n",
      "[('o', 'NN')]\n",
      "[('l', 'NN')]\n",
      "[('w', 'NN')]\n",
      "[('h', 'NN')]\n",
      "[('i', 'NN')]\n",
      "[('l', 'NN')]\n",
      "[('e', 'NN')]\n",
      "[('s', 'NN')]\n",
      "[('t', 'NN')]\n",
      "[('u', 'NN')]\n",
      "[('d', 'NN')]\n",
      "[('e', 'NN')]\n",
      "[('n', 'NN')]\n",
      "[('t', 'NN')]\n",
      "[('s', 'NN')]\n",
      "[('w', 'NN')]\n",
      "[('e', 'NN')]\n",
      "[('r', 'NN')]\n",
      "[('e', 'NN')]\n",
      "[('g', 'NN')]\n",
      "[('a', 'DT')]\n",
      "[('t', 'NN')]\n",
      "[('h', 'NN')]\n",
      "[('e', 'NN')]\n",
      "[('r', 'NN')]\n",
      "[('i', 'NN')]\n",
      "[('n', 'NN')]\n",
      "[('g', 'NN')]\n",
      "[('f', 'NN')]\n",
      "[('o', 'NN')]\n",
      "[('r', 'NN')]\n",
      "[('t', 'NN')]\n",
      "[('h', 'NN')]\n",
      "[('e', 'NN')]\n",
      "[('m', 'NN')]\n",
      "[('o', 'NN')]\n",
      "[('r', 'NN')]\n",
      "[('n', 'NN')]\n",
      "[('i', 'NN')]\n",
      "[('n', 'NN')]\n",
      "[('g', 'NN')]\n",
      "[('p', 'NN')]\n",
      "[('r', 'NN')]\n",
      "[('a', 'DT')]\n",
      "[('y', 'NN')]\n",
      "[('e', 'NN')]\n",
      "[('r', 'NN')]\n",
      "[('.', '.')]\n",
      "[('A', 'DT')]\n",
      "[('t', 'NN')]\n",
      "[('l', 'NN')]\n",
      "[('e', 'NN')]\n",
      "[('a', 'DT')]\n",
      "[('s', 'NN')]\n",
      "[('t', 'NN')]\n",
      "[('1', 'CD')]\n",
      "[('7', 'CD')]\n",
      "[('s', 'NN')]\n",
      "[('t', 'NN')]\n",
      "[('u', 'NN')]\n",
      "[('d', 'NN')]\n",
      "[('e', 'NN')]\n",
      "[('n', 'NN')]\n",
      "[('t', 'NN')]\n",
      "[('s', 'NN')]\n",
      "[('w', 'NN')]\n",
      "[('e', 'NN')]\n",
      "[('r', 'NN')]\n",
      "[('e', 'NN')]\n",
      "[('p', 'NN')]\n",
      "[('r', 'NN')]\n",
      "[('e', 'NN')]\n",
      "[('s', 'NN')]\n",
      "[('e', 'NN')]\n",
      "[('n', 'NN')]\n",
      "[('t', 'NN')]\n",
      "[('i', 'NN')]\n",
      "[('n', 'NN')]\n",
      "[('s', 'NN')]\n",
      "[('i', 'NN')]\n",
      "[('d', 'NN')]\n",
      "[('e', 'NN')]\n",
      "[('t', 'NN')]\n",
      "[('h', 'NN')]\n",
      "[('e', 'NN')]\n",
      "[('b', 'NN')]\n",
      "[('u', 'NN')]\n",
      "[('i', 'NN')]\n",
      "[('l', 'NN')]\n",
      "[('d', 'NN')]\n",
      "[('i', 'NN')]\n",
      "[('n', 'NN')]\n",
      "[('g', 'NN')]\n",
      "[('w', 'NN')]\n",
      "[('h', 'NN')]\n",
      "[('e', 'NN')]\n",
      "[('n', 'NN')]\n",
      "[('a', 'DT')]\n",
      "[('s', 'NN')]\n",
      "[('e', 'NN')]\n",
      "[('c', 'NNS')]\n",
      "[('t', 'NN')]\n",
      "[('i', 'NN')]\n",
      "[('o', 'NN')]\n",
      "[('n', 'NN')]\n",
      "[('o', 'NN')]\n",
      "[('f', 'NN')]\n",
      "[('c', 'NNS')]\n",
      "[('l', 'NN')]\n",
      "[('a', 'DT')]\n",
      "[('s', 'NN')]\n",
      "[('s', 'NN')]\n",
      "[('r', 'NN')]\n",
      "[('o', 'NN')]\n",
      "[('o', 'NN')]\n",
      "[('m', 'NN')]\n",
      "[('s', 'NN')]\n",
      "[('f', 'NN')]\n",
      "[('o', 'NN')]\n",
      "[('r', 'NN')]\n",
      "[('C', 'SYM')]\n",
      "[('l', 'NN')]\n",
      "[('a', 'DT')]\n",
      "[('s', 'NN')]\n",
      "[('s', 'NN')]\n",
      "[('e', 'NN')]\n",
      "[('s', 'NN')]\n",
      "[('6', 'CD')]\n",
      "[('a', 'DT')]\n",
      "[('n', 'NN')]\n",
      "[('d', 'NN')]\n",
      "[('7', 'CD')]\n",
      "[('g', 'NN')]\n",
      "[('a', 'DT')]\n",
      "[('v', 'NN')]\n",
      "[('e', 'NN')]\n",
      "[('w', 'NN')]\n",
      "[('a', 'DT')]\n",
      "[('y', 'NN')]\n",
      "[(',', ',')]\n",
      "[('s', 'NN')]\n",
      "[('a', 'DT')]\n",
      "[('i', 'NN')]\n",
      "[('d', 'NN')]\n",
      "[('S', 'NN')]\n",
      "[('H', 'NN')]\n",
      "[('O', 'NN')]\n",
      "[('V', 'NN')]\n",
      "[('i', 'NN')]\n",
      "[('j', 'NN')]\n",
      "[('e', 'NN')]\n",
      "[('n', 'NN')]\n",
      "[('d', 'NN')]\n",
      "[('r', 'NN')]\n",
      "[('a', 'DT')]\n",
      "[('S', 'NN')]\n",
      "[('i', 'NN')]\n",
      "[('n', 'NN')]\n",
      "[('g', 'NN')]\n",
      "[('h', 'NN')]\n",
      "[('o', 'NN')]\n",
      "[('f', 'NN')]\n",
      "[('D', 'NN')]\n",
      "[('a', 'DT')]\n",
      "[('n', 'NN')]\n",
      "[('g', 'NN')]\n",
      "[('i', 'NN')]\n",
      "[('p', 'NN')]\n",
      "[('u', 'NN')]\n",
      "[('r', 'NN')]\n",
      "[('a', 'DT')]\n",
      "[('p', 'NN')]\n",
      "[('o', 'NN')]\n",
      "[('l', 'NN')]\n",
      "[('i', 'NN')]\n",
      "[('c', 'NNS')]\n",
      "[('e', 'NN')]\n",
      "[('s', 'NN')]\n",
      "[('t', 'NN')]\n",
      "[('a', 'DT')]\n",
      "[('t', 'NN')]\n",
      "[('i', 'NN')]\n",
      "[('o', 'NN')]\n",
      "[('n', 'NN')]\n",
      "[('.', '.')]\n"
     ]
    }
   ],
   "source": [
    "import nltk\n",
    "texts=\"The incident occurred around 7.45am at the Government Upper Primary School while students were gathering for the morning prayer.At least 17 students were present inside the building when a section of classrooms for Classes 6 and 7 gave way, said SHO Vijendra Singh of Dangipura police station.\"\n",
    "for text in texts:\n",
    "    sentences =nltk.sent_tokenize(text)\n",
    "    for sentence in sentences:\n",
    "        words =nltk.word_tokenize(sentence)\n",
    "        tagged_words=nltk.pos_tag(words)\n",
    "        print(tagged_words)"
   ]
  },
  {
   "cell_type": "code",
   "execution_count": 29,
   "id": "27c9b418-32aa-4f83-87a6-1c7b2e9e5105",
   "metadata": {},
   "outputs": [
    {
     "name": "stderr",
     "output_type": "stream",
     "text": [
      "[nltk_data] Downloading package punkt to /home/matlab/nltk_data...\n",
      "[nltk_data]   Unzipping tokenizers/punkt.zip.\n"
     ]
    },
    {
     "data": {
      "text/plain": [
       "True"
      ]
     },
     "execution_count": 29,
     "metadata": {},
     "output_type": "execute_result"
    }
   ],
   "source": [
    "import nltk\n",
    "nltk.download('punkt')"
   ]
  },
  {
   "cell_type": "code",
   "execution_count": 31,
   "id": "3a24848d-85d9-4427-b5ab-0e2f0076c9a7",
   "metadata": {},
   "outputs": [
    {
     "name": "stderr",
     "output_type": "stream",
     "text": [
      "[nltk_data] Downloading package averaged_perceptron_tagger to\n",
      "[nltk_data]     /home/matlab/nltk_data...\n",
      "[nltk_data]   Unzipping taggers/averaged_perceptron_tagger.zip.\n"
     ]
    },
    {
     "data": {
      "text/plain": [
       "True"
      ]
     },
     "execution_count": 31,
     "metadata": {},
     "output_type": "execute_result"
    }
   ],
   "source": [
    "nltk.download('averaged_perceptron_tagger')"
   ]
  },
  {
   "cell_type": "code",
   "execution_count": 2,
   "id": "83b45f06-4d36-4a93-89d3-a5d2df851921",
   "metadata": {},
   "outputs": [
    {
     "ename": "NameError",
     "evalue": "name 'request' is not defined",
     "output_type": "error",
     "traceback": [
      "\u001b[0;31m---------------------------------------------------------------------------\u001b[0m",
      "\u001b[0;31mNameError\u001b[0m                                 Traceback (most recent call last)",
      "Cell \u001b[0;32mIn[2], line 4\u001b[0m\n\u001b[1;32m      1\u001b[0m \u001b[38;5;28;01mimport\u001b[39;00m \u001b[38;5;21;01mnltk\u001b[39;00m\n\u001b[1;32m      3\u001b[0m url\u001b[38;5;241m=\u001b[39m\u001b[38;5;124m\"\u001b[39m\u001b[38;5;124mhttps://www.gutenberg.org/cache/epub/76503/pg76503.txt\u001b[39m\u001b[38;5;124m\"\u001b[39m\n\u001b[0;32m----> 4\u001b[0m response\u001b[38;5;241m=\u001b[39m request\u001b[38;5;241m.\u001b[39murlopen(url)\n\u001b[1;32m      5\u001b[0m raw \u001b[38;5;241m=\u001b[39mresponse\u001b[38;5;241m.\u001b[39mread()\u001b[38;5;241m.\u001b[39mdecode(\u001b[38;5;124m'\u001b[39m\u001b[38;5;124mutf-8\u001b[39m\u001b[38;5;124m'\u001b[39m)\n\u001b[1;32m      7\u001b[0m \u001b[38;5;28;01mfor\u001b[39;00m text \u001b[38;5;129;01min\u001b[39;00m raw:  \n",
      "\u001b[0;31mNameError\u001b[0m: name 'request' is not defined"
     ]
    }
   ],
   "source": [
    "import nltk\n",
    "\n",
    "url=\"https://www.gutenberg.org/cache/epub/76503/pg76503.txt\"\n",
    "response= request.urlopen(url)\n",
    "raw =response.read().decode('utf-8')\n",
    "    \n",
    "for text in raw:  \n",
    "    sentences = nltk.sent_tokenize(text)\n",
    "    for sentence in sentences:\n",
    "        words = nltk.word_tokenize(sentence)\n",
    "        tagged_words = nltk.pos_tag(words)\n",
    "        print(tagged_words)\n"
   ]
  },
  {
   "cell_type": "code",
   "execution_count": null,
   "id": "05afaac6-4681-42e9-acf3-b6347d444b06",
   "metadata": {},
   "outputs": [],
   "source": []
  }
 ],
 "metadata": {
  "kernelspec": {
   "display_name": "Python [conda env:base] *",
   "language": "python",
   "name": "conda-base-py"
  },
  "language_info": {
   "codemirror_mode": {
    "name": "ipython",
    "version": 3
   },
   "file_extension": ".py",
   "mimetype": "text/x-python",
   "name": "python",
   "nbconvert_exporter": "python",
   "pygments_lexer": "ipython3",
   "version": "3.12.4"
  }
 },
 "nbformat": 4,
 "nbformat_minor": 5
}
