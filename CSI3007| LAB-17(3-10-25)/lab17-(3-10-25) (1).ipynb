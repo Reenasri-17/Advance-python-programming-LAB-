{
 "cells": [
  {
   "cell_type": "markdown",
   "id": "5a9b154e-df31-4e3b-97f2-7d0f0915987f",
   "metadata": {},
   "source": [
    "### Lab-17 - ADVANCE PYTHON PROGRAMMING\n",
    "### G Reena Sri\n",
    "### 22MID0009- DATAFRAMES"
   ]
  },
  {
   "cell_type": "markdown",
   "id": "dd2113c0-37c0-406a-aed8-b46ed8870f12",
   "metadata": {},
   "source": [
    "## Program 1: Creating DataFrames (different ways)"
   ]
  },
  {
   "cell_type": "code",
   "execution_count": 1,
   "id": "14e18237-130d-4967-a893-7105a7e76c66",
   "metadata": {},
   "outputs": [
    {
     "name": "stdout",
     "output_type": "stream",
     "text": [
      "DataFrame from dictionary of lists:\n",
      "   Student  Years  Rating\n",
      "0     Leo     21      95\n",
      "1     Mia     25      80\n",
      "2     Zoe     29      75 \n",
      "\n",
      "DataFrame from dictionary of Series:\n",
      "      English  History\n",
      "Leo       78       84\n",
      "Mia       85       89\n",
      "Zoe       91       72 \n",
      "\n",
      "DataFrame from NumPy array:\n",
      "    DataA  DataB  DataC\n",
      "0     33     26     29\n",
      "1     32     14     32\n",
      "2     37     29     39 \n",
      "\n"
     ]
    }
   ],
   "source": [
    "# Program 1: Creating DataFrames (different ways)\n",
    "import pandas as pd  # Import pandas library.\n",
    "import numpy as np  # Import numpy library.\n",
    "\n",
    "# ------------------------------------------\n",
    "# 1. From dictionary of lists\n",
    "# ------------------------------------------\n",
    "data1 = {\"Student\": [\"Leo\", \"Mia\", \"Zoe\"],  # dictionary keys and values.\n",
    "         \"Years\": [21, 25, 29],\n",
    "         \"Rating\": [95, 80, 75]}\n",
    "df1 = pd.DataFrame(data1)  # Creates DataFrame from dictionary.\n",
    "print(\"DataFrame from dictionary of lists:\\n\", df1, \"\\n\") # Prints the DataFrame.\n",
    "\n",
    "# ------------------------------------------\n",
    "# 2. From dictionary of Series\n",
    "# ------------------------------------------\n",
    "data2 = {\"English\": pd.Series([78, 85, 91], index=[\"Leo\", \"Mia\", \"Zoe\"]),  # keys and values.\n",
    "         \"History\": pd.Series([84, 89, 72], index=[\"Leo\", \"Mia\", \"Zoe\"])}\n",
    "df2 = pd.DataFrame(data2)  # Creates DataFrame from dictionary of Series.\n",
    "print(\"DataFrame from dictionary of Series:\\n\", df2, \"\\n\") # Prints the new DataFrame.\n",
    "\n",
    "# ------------------------------------------\n",
    "# 3. From NumPy array\n",
    "# ------------------------------------------\n",
    "df3 = pd.DataFrame(np.random.randint(10, 50, size=(3, 3)), # Generates new random data.\n",
    "                   columns=[\"DataA\", \"DataB\", \"DataC\"])  # column names.\n",
    "print(\"DataFrame from NumPy array:\\n\", df3, \"\\n\") # Prints the new DataFrame."
   ]
  },
  {
   "cell_type": "markdown",
   "id": "03dce18c-0108-4b4b-b895-7098b1696cef",
   "metadata": {},
   "source": [
    "### Program 2: Accessing rows and columns"
   ]
  },
  {
   "cell_type": "code",
   "execution_count": 2,
   "id": "d3b6190a-d1dc-4f65-b411-dec604fb6e25",
   "metadata": {},
   "outputs": [
    {
     "name": "stdout",
     "output_type": "stream",
     "text": [
      "Original DataFrame:\n",
      "   Student  Years  Rating\n",
      "0     Leo     21      95\n",
      "1     Mia     25      80\n",
      "2     Zoe     29      75\n",
      "3     Kai     23      98 \n",
      "\n",
      "Accessing single column (Rating):\n",
      " 0    95\n",
      "1    80\n",
      "2    75\n",
      "3    98\n",
      "Name: Rating, dtype: int64 \n",
      "\n",
      "Accessing multiple columns:\n",
      "   Student  Years\n",
      "0     Leo     21\n",
      "1     Mia     25\n",
      "2     Zoe     29\n",
      "3     Kai     23 \n",
      "\n",
      "Access row using loc:\n",
      " Student    Mia\n",
      "Years       25\n",
      "Rating      80\n",
      "Name: 1, dtype: object \n",
      "\n",
      "Access row using iloc:\n",
      " Student    Zoe\n",
      "Years       29\n",
      "Rating      75\n",
      "Name: 2, dtype: object \n",
      "\n"
     ]
    }
   ],
   "source": [
    "# Program 2: Accessing rows and columns\n",
    "import pandas as pd # Imports pandas library.\n",
    "\n",
    "data = {\"Student\": [\"Leo\", \"Mia\", \"Zoe\", \"Kai\"], # keys and values.\n",
    "        \"Years\": [21, 25, 29, 23],\n",
    "        \"Rating\": [95, 80, 75, 98]}\n",
    "df = pd.DataFrame(data) # Creates DataFrame from dictionary.\n",
    "\n",
    "print(\"Original DataFrame:\\n\", df, \"\\n\") # Prints the original DataFrame.\n",
    "\n",
    "# Access single column\n",
    "print(\"Accessing single column (Rating):\\n\", df[\"Rating\"], \"\\n\") # Accesses a single column.\n",
    "\n",
    "# Access multiple columns\n",
    "print(\"Accessing multiple columns:\\n\", df[[\"Student\", \"Years\"]], \"\\n\") # Accesses multiple columns.\n",
    "\n",
    "# Access row by index label\n",
    "print(\"Access row using loc:\\n\", df.loc[1], \"\\n\") # Accesses a row by label.\n",
    "\n",
    "# Access row by integer location\n",
    "print(\"Access row using iloc:\\n\", df.iloc[2], \"\\n\") # Accesses a row by position."
   ]
  },
  {
   "cell_type": "markdown",
   "id": "115f3285-a9ea-4eef-85d4-8ea3a188be24",
   "metadata": {},
   "source": [
    "### Program 3: Indexing and Slicing"
   ]
  },
  {
   "cell_type": "code",
   "execution_count": 4,
   "id": "a94de38a-3360-4a73-9c28-f194f250484d",
   "metadata": {},
   "outputs": [
    {
     "name": "stdout",
     "output_type": "stream",
     "text": [
      "Original DataFrame:\n",
      "   Student  Years  Rating\n",
      "0    Liam     21      95\n",
      "1  Olivia     25      80\n",
      "2    Noah     29      75\n",
      "3    Emma     23      98\n",
      "4     Ava     27      85 \n",
      "\n",
      "First four rows:\n",
      "   Student  Years  Rating\n",
      "0    Liam     21      95\n",
      "1  Olivia     25      80\n",
      "2    Noah     29      75\n",
      "3    Emma     23      98 \n",
      "\n",
      "Rows 0 to 2:\n",
      "   Student  Years  Rating\n",
      "0    Liam     21      95\n",
      "1  Olivia     25      80\n",
      "2    Noah     29      75 \n",
      "\n",
      "Columns Student and Rating:\n",
      "   Student  Rating\n",
      "0    Liam      95\n",
      "1  Olivia      80\n",
      "2    Noah      75\n",
      "3    Emma      98\n",
      "4     Ava      85 \n",
      "\n",
      "Rows where Rating > 90:\n",
      "   Student  Years  Rating\n",
      "0    Liam     21      95\n",
      "3    Emma     23      98 \n",
      "\n"
     ]
    }
   ],
   "source": [
    "# Program 3: Indexing and Slicing\n",
    "import pandas as pd  # Import pandas library.\n",
    "\n",
    "data = {\"Student\": [\"Liam\", \"Olivia\", \"Noah\", \"Emma\", \"Ava\"],  # dictionary data.\n",
    "        \"Years\": [21, 25, 29, 23, 27],\n",
    "        \"Rating\": [95, 80, 75, 98, 85]}\n",
    "df = pd.DataFrame(data)  # Create DataFrame from dictionary.\n",
    "\n",
    "print(\"Original DataFrame:\\n\", df, \"\\n\") # Print the DataFrame.\n",
    "\n",
    "# Slicing rows\n",
    "print(\"First four rows:\\n\", df[:4], \"\\n\") # Slice the first four rows.\n",
    "\n",
    "# Slicing specific rows using loc\n",
    "print(\"Rows 0 to 2:\\n\", df.loc[0:2], \"\\n\") # Slice rows by label.\n",
    "\n",
    "# Slicing specific columns\n",
    "print(\"Columns Student and Rating:\\n\", df.loc[:, [\"Student\", \"Rating\"]], \"\\n\") # Slice specific columns.\n",
    "\n",
    "# Conditional selection\n",
    "print(\"Rows where Rating > 90:\\n\", df[df[\"Rating\"] > 90], \"\\n\") # Select rows based on condition."
   ]
  },
  {
   "cell_type": "markdown",
   "id": "bd4f9193-eb41-4658-8f4a-35ee3f82629d",
   "metadata": {},
   "source": [
    "### Program 4: Adding, Updating, and Deleting Data"
   ]
  },
  {
   "cell_type": "code",
   "execution_count": 5,
   "id": "7210dbe9-1e8e-4f9e-98b4-9cb1abaa2e77",
   "metadata": {},
   "outputs": [
    {
     "name": "stdout",
     "output_type": "stream",
     "text": [
      "Original DataFrame:\n",
      "   Student  Years\n",
      "0    Liam     21\n",
      "1  Olivia     25\n",
      "2    Noah     29 \n",
      "\n",
      "After adding Rating column:\n",
      "   Student  Years  Rating\n",
      "0    Liam     21      95\n",
      "1  Olivia     25      80\n",
      "2    Noah     29      75 \n",
      "\n",
      "After updating years for Olivia:\n",
      "   Student  Years  Rating\n",
      "0    Liam     21      95\n",
      "1  Olivia     26      80\n",
      "2    Noah     29      75 \n",
      "\n",
      "After deleting Rating column:\n",
      "   Student  Years\n",
      "0    Liam     21\n",
      "1  Olivia     26\n",
      "2    Noah     29 \n",
      "\n",
      "After deleting row with index 1:\n",
      "   Student  Years\n",
      "0    Liam     21\n",
      "2    Noah     29 \n",
      "\n"
     ]
    }
   ],
   "source": [
    "# Program 4: Adding, Updating, and Deleting Data\n",
    "import pandas as pd  # Imports the pandas library.\n",
    "\n",
    "df = pd.DataFrame({\"Student\": [\"Liam\", \"Olivia\", \"Noah\"],  # dictionary data.\n",
    "                   \"Years\": [21, 25, 29]})\n",
    "print(\"Original DataFrame:\\n\", df, \"\\n\")  # Prints the DataFrame.\n",
    "\n",
    "# Adding new column\n",
    "df[\"Rating\"] = [95, 80, 75]  # Added a new column with data.\n",
    "print(\"After adding Rating column:\\n\", df, \"\\n\") # Prints the updated DataFrame.\n",
    "\n",
    "# Updating values\n",
    "df.at[1, \"Years\"] = 26  # Updates a specific value.\n",
    "print(\"After updating years for Olivia:\\n\", df, \"\\n\") # Prints the updated DataFrame.\n",
    "\n",
    "# Deleting column\n",
    "df = df.drop(\"Rating\", axis=1) # Deletes a column.\n",
    "print(\"After deleting Rating column:\\n\", df, \"\\n\") # Prints the DataFrame without the column.\n",
    "\n",
    "# Deleting row\n",
    "df = df.drop(1, axis=0) # Deletes a row.\n",
    "print(\"After deleting row with index 1:\\n\", df, \"\\n\") # Prints the DataFrame without the row."
   ]
  },
  {
   "cell_type": "markdown",
   "id": "15be1c3f-6f81-4db7-95c7-a1a05739eb2f",
   "metadata": {},
   "source": [
    "### Program 5: Handling Missing Data"
   ]
  },
  {
   "cell_type": "code",
   "execution_count": 6,
   "id": "5af441b0-0973-465a-b5a9-b515801a53cc",
   "metadata": {},
   "outputs": [
    {
     "name": "stdout",
     "output_type": "stream",
     "text": [
      "Original DataFrame with NaN values:\n",
      "   Student  Years  Rating\n",
      "0    Liam   21.0    95.0\n",
      "1  Olivia    NaN    80.0\n",
      "2    Noah   29.0     NaN \n",
      "\n",
      "Detect missing values:\n",
      "    Student  Years  Rating\n",
      "0    False  False   False\n",
      "1    False   True   False\n",
      "2    False  False    True \n",
      "\n",
      "Fill missing values:\n",
      "   Student  Years  Rating\n",
      "0    Liam   21.0    95.0\n",
      "1  Olivia    0.0    80.0\n",
      "2    Noah   29.0     0.0 \n",
      "\n",
      "Drop rows with missing values:\n",
      "   Student  Years  Rating\n",
      "0    Liam   21.0    95.0 \n",
      "\n"
     ]
    }
   ],
   "source": [
    "# Program 5: Handling Missing Data\n",
    "import pandas as pd  # Imports the pandas library.\n",
    "import numpy as np  # Imports the numpy library.\n",
    "\n",
    "df = pd.DataFrame({\"Student\": [\"Liam\", \"Olivia\", \"Noah\"],  # dictionary data.\n",
    "                   \"Years\": [21, np.nan, 29], # column name and data.\n",
    "                   \"Rating\": [95, 80, np.nan]}) # column name and data.\n",
    "print(\"Original DataFrame with NaN values:\\n\", df, \"\\n\") # Prints DataFrame with missing values.\n",
    "\n",
    "# Detect missing values\n",
    "print(\"Detect missing values:\\n\", df.isnull(), \"\\n\") # Detects and shows boolean True/False.\n",
    "\n",
    "# Fill missing values\n",
    "print(\"Fill missing values:\\n\", df.fillna(0), \"\\n\") # Fills NaN values with zero.\n",
    "\n",
    "# Drop rows with missing values\n",
    "print(\"Drop rows with missing values:\\n\", df.dropna(), \"\\n\") # Drops any row containing NaN."
   ]
  },
  {
   "cell_type": "markdown",
   "id": "e464cd62-f874-47cb-9073-52cbf212a695",
   "metadata": {},
   "source": [
    "### Program 6: Data Alignment and Reindexing"
   ]
  },
  {
   "cell_type": "code",
   "execution_count": 7,
   "id": "ddd2f252-9232-4c81-9c30-7a9e92528a50",
   "metadata": {},
   "outputs": [
    {
     "name": "stdout",
     "output_type": "stream",
     "text": [
      "DataFrame 1:\n",
      "         Rating\n",
      "Liam        95\n",
      "Olivia      80\n",
      "Noah        75 \n",
      "\n",
      "DataFrame 2:\n",
      "         Rating\n",
      "Olivia      88\n",
      "Emma        92 \n",
      "\n",
      "Adding df1 and df2:\n",
      "         Rating\n",
      "Emma       NaN\n",
      "Liam       NaN\n",
      "Noah       NaN\n",
      "Olivia   168.0 \n",
      "\n",
      "Reindexed DataFrame:\n",
      "         Rating\n",
      "Liam        95\n",
      "Olivia      80\n",
      "Noah        75\n",
      "Emma         0 \n",
      "\n"
     ]
    }
   ],
   "source": [
    "# Program 6: Data Alignment and Reindexing\n",
    "import pandas as pd  # Imports pandas library.\n",
    "\n",
    "df1 = pd.DataFrame({\"Rating\": [95, 80, 75]}, index=[\"Liam\", \"Olivia\", \"Noah\"])  # data and index.\n",
    "df2 = pd.DataFrame({\"Rating\": [88, 92]}, index=[\"Olivia\", \"Emma\"])  # data and index.\n",
    "\n",
    "print(\"DataFrame 1:\\n\", df1, \"\\n\")  # Prints the first DataFrame.\n",
    "print(\"DataFrame 2:\\n\", df2, \"\\n\")  # Prints the second DataFrame.\n",
    "\n",
    "# Automatic alignment in arithmetic\n",
    "print(\"Adding df1 and df2:\\n\", df1 + df2, \"\\n\")  # Performs aligned addition.\n",
    "\n",
    "# Reindexing\n",
    "df3 = df1.reindex([\"Liam\", \"Olivia\", \"Noah\", \"Emma\"], fill_value=0) # Reindexes with new index.\n",
    "print(\"Reindexed DataFrame:\\n\", df3, \"\\n\")  # Prints the reindexed DataFrame."
   ]
  },
  {
   "cell_type": "markdown",
   "id": "7269a040-de05-427d-ab8e-46d13beba21a",
   "metadata": {},
   "source": [
    "### Program 7: Sorting and Grouping"
   ]
  },
  {
   "cell_type": "code",
   "execution_count": 8,
   "id": "d4c7b304-161a-446d-bc0c-fe375b5ff098",
   "metadata": {},
   "outputs": [
    {
     "name": "stdout",
     "output_type": "stream",
     "text": [
      "Original DataFrame:\n",
      "   Student  Years  Rating\n",
      "0    Liam     21      95\n",
      "1  Olivia     25      80\n",
      "2    Noah     29      75\n",
      "3    Emma     23      98\n",
      "4     Ava     27      85 \n",
      "\n",
      "Sorted by Rating:\n",
      "   Student  Years  Rating\n",
      "2    Noah     29      75\n",
      "1  Olivia     25      80\n",
      "4     Ava     27      85\n",
      "0    Liam     21      95\n",
      "3    Emma     23      98 \n",
      "\n",
      "Average rating grouped by Years:\n",
      " Years\n",
      "21    95.0\n",
      "23    98.0\n",
      "25    80.0\n",
      "27    85.0\n",
      "29    75.0\n",
      "Name: Rating, dtype: float64 \n",
      "\n"
     ]
    }
   ],
   "source": [
    "# Program 7: Sorting and Grouping\n",
    "import pandas as pd  # Imports the pandas library.\n",
    "\n",
    "data = {\"Student\": [\"Liam\", \"Olivia\", \"Noah\", \"Emma\", \"Ava\"],  # dictionary data.\n",
    "        \"Years\": [21, 25, 29, 23, 27],\n",
    "        \"Rating\": [95, 80, 75, 98, 85]}\n",
    "df = pd.DataFrame(data)  # Creates DataFrame from dictionary.\n",
    "\n",
    "print(\"Original DataFrame:\\n\", df, \"\\n\") # Prints the new DataFrame.\n",
    "\n",
    "# Sorting by column\n",
    "print(\"Sorted by Rating:\\n\", df.sort_values(by=\"Rating\"), \"\\n\") # Sorts the DataFrame.\n",
    "\n",
    "# Grouping data\n",
    "grouped = df.groupby(\"Years\")[\"Rating\"].mean() # Groups by years and finds mean.\n",
    "print(\"Average rating grouped by Years:\\n\", grouped, \"\\n\") # Prints the grouped Series."
   ]
  },
  {
   "cell_type": "markdown",
   "id": "6276fbbb-f837-4e94-ab62-f71f80bc2f71",
   "metadata": {},
   "source": [
    "### Grouping Example"
   ]
  },
  {
   "cell_type": "code",
   "execution_count": 9,
   "id": "63390437-0e27-40a1-9572-5945cfbd8b4f",
   "metadata": {},
   "outputs": [
    {
     "name": "stdout",
     "output_type": "stream",
     "text": [
      "Grouped Series (just groups, no aggregation):\n",
      " <pandas.core.groupby.generic.SeriesGroupBy object at 0x70c96c6198b0> \n",
      "\n",
      "Sales group in Series:\n",
      " Liam      70000\n",
      "Olivia    75000\n",
      "dtype: int64 \n",
      "\n"
     ]
    }
   ],
   "source": [
    "# Grouping Example\n",
    "# A. Series\n",
    "import pandas as pd  # Imports the pandas library.\n",
    "\n",
    "# Salary series\n",
    "salary = pd.Series([70000, 75000, 80000, 82000],  # salary values.\n",
    "                   index=[\"Liam\", \"Olivia\", \"Noah\", \"Emma\"]) # employee names.\n",
    "# Department for each person\n",
    "department = pd.Series([\"Sales\", \"Sales\", \"Marketing\", \"Marketing\"],  # department names.\n",
    "                       index=[\"Liam\", \"Olivia\", \"Noah\", \"Emma\"]) # employee names.\n",
    "\n",
    "# Grouping by department (no aggregation yet)\n",
    "grouped_series = salary.groupby(department)  # Groups salary by department.\n",
    "print(\"Grouped Series (just groups, no aggregation):\\n\", grouped_series, \"\\n\") # Prints the groupby object.\n",
    "\n",
    "# You can access a group\n",
    "print(\"Sales group in Series:\\n\", grouped_series.get_group(\"Sales\"), \"\\n\") # Accesses the \"Sales\" group."
   ]
  },
  {
   "cell_type": "markdown",
   "id": "cb7556ad-0589-4628-8cd2-9a763857ea36",
   "metadata": {},
   "source": [
    "### Aggregation Example"
   ]
  },
  {
   "cell_type": "code",
   "execution_count": 10,
   "id": "80068cde-dc57-4056-998a-ab37ee7811aa",
   "metadata": {},
   "outputs": [
    {
     "name": "stdout",
     "output_type": "stream",
     "text": [
      "Aggregated Series (mean salary per department):\n",
      " Marketing    81000.0\n",
      "Sales        72500.0\n",
      "dtype: float64 \n",
      "\n",
      "Sum per department:\n",
      " Marketing    162000\n",
      "Sales        145000\n",
      "dtype: int64 \n",
      "\n",
      "Max per department:\n",
      " Marketing    82000\n",
      "Sales        75000\n",
      "dtype: int64 \n",
      "\n"
     ]
    }
   ],
   "source": [
    "# Aggregation Example\n",
    "# A. Series\n",
    "# Aggregation on grouped Series\n",
    "# Compute mean salary per department\n",
    "aggregated_series = grouped_series.mean()  # Computes the mean of each group.\n",
    "print(\"Aggregated Series (mean salary per department):\\n\", aggregated_series, \"\\n\")  # Prints the new aggregated Series.\n",
    "\n",
    "# Other aggregations\n",
    "print(\"Sum per department:\\n\", grouped_series.sum(), \"\\n\")  # Computes the sum of each group.\n",
    "print(\"Max per department:\\n\", grouped_series.max(), \"\\n\")  # Finds the maximum value in each group."
   ]
  },
  {
   "cell_type": "markdown",
   "id": "0177024e-114d-4627-a944-28e88adf5379",
   "metadata": {},
   "source": [
    "### Example: Grouping and Aggregating for Series / MultiLevel Series"
   ]
  },
  {
   "cell_type": "code",
   "execution_count": 11,
   "id": "d8175aa0-9dcf-4a54-a4e7-69230dad0290",
   "metadata": {},
   "outputs": [
    {
     "name": "stdout",
     "output_type": "stream",
     "text": [
      "Mean salary by department (Series):\n",
      " Marketing    81000.0\n",
      "Sales        72500.0\n",
      "dtype: float64 \n",
      "\n",
      "Mean salary by department (MultiLevel Series):\n",
      " Dept\n",
      "Marketing    81000.0\n",
      "Sales        72500.0\n",
      "dtype: float64 \n",
      "\n"
     ]
    }
   ],
   "source": [
    "#Example: Grouping and Aggregating for Series / MultiLevel Series\n",
    "import pandas as pd  # Imports the pandas library.\n",
    "\n",
    "# Single Series\n",
    "salary = pd.Series([70000, 75000, 80000, 82000], # salary values.\n",
    "                   index=[\"Liam\", \"Olivia\", \"Noah\", \"Emma\"]) # employee names.\n",
    "department = pd.Series([\"Sales\", \"Sales\", \"Marketing\", \"Marketing\"], # department names.\n",
    "                       index=[\"Liam\", \"Olivia\", \"Noah\", \"Emma\"]) # employee names.\n",
    "\n",
    "# Grouping salaries by department and calculating mean\n",
    "grouped_series = salary.groupby(department).mean() # Groups by department, calculates mean.\n",
    "print(\"Mean salary by department (Series):\\n\", grouped_series, \"\\n\") # Prints the aggregated series.\n",
    "\n",
    "# MultiLevel Series\n",
    "arrays = [\n",
    "    [\"Sales\", \"Sales\", \"Marketing\", \"Marketing\"], # first-level labels.\n",
    "    [\"Liam\", \"Olivia\", \"Noah\", \"Emma\"] # second-level labels.\n",
    "]\n",
    "index = pd.MultiIndex.from_arrays(arrays, names=(\"Dept\", \"Employee\")) # index names.\n",
    "multi_s = pd.Series([70000, 75000, 80000, 82000], index=index) # data values.\n",
    "\n",
    "# Group by first level (Dept)\n",
    "grouped_multi = multi_s.groupby(level=0).mean() # Groups by the first index level.\n",
    "print(\"Mean salary by department (MultiLevel Series):\\n\", grouped_multi, \"\\n\") # Prints the aggregated multi-level series."
   ]
  },
  {
   "cell_type": "markdown",
   "id": "7a048a72-d537-4e75-b530-cec952b67e1a",
   "metadata": {},
   "source": [
    "### Grouping (DataFrame)"
   ]
  },
  {
   "cell_type": "code",
   "execution_count": 12,
   "id": "c7d0d2e7-a9f7-42d6-a786-1d24d315b413",
   "metadata": {},
   "outputs": [
    {
     "name": "stdout",
     "output_type": "stream",
     "text": [
      "Grouped DataFrame (just groups, no aggregation):\n",
      " <pandas.core.groupby.generic.DataFrameGroupBy object at 0x70c9b33cc110> \n",
      "\n",
      "Sales group in DataFrame:\n",
      "   Department Employee  Salary\n",
      "0      Sales     Liam   70000\n",
      "1      Sales   Olivia   75000 \n",
      "\n"
     ]
    }
   ],
   "source": [
    "# Grouping (DataFrame)\n",
    "import pandas as pd  # Imports the pandas library.\n",
    "\n",
    "# DataFrame\n",
    "df = pd.DataFrame({\n",
    "    \"Department\": [\"Sales\", \"Sales\", \"Marketing\", \"Marketing\"],  # department names.\n",
    "    \"Employee\": [\"Liam\", \"Olivia\", \"Noah\", \"Emma\"],  # employee names.\n",
    "    \"Salary\": [70000, 75000, 80000, 82000]  # salary values.\n",
    "})\n",
    "\n",
    "# Grouping by Department\n",
    "grouped_df = df.groupby(\"Department\")  # Groups the DataFrame by the 'Department' column.\n",
    "print(\"Grouped DataFrame (just groups, no aggregation):\\n\", grouped_df, \"\\n\") # Prints the groupby object.\n",
    "\n",
    "# Accessing one group\n",
    "print(\"Sales group in DataFrame:\\n\", grouped_df.get_group(\"Sales\"), \"\\n\") # Retrieves the 'Sales' group."
   ]
  },
  {
   "cell_type": "markdown",
   "id": "7035e040-a7d9-4675-954d-ebaf3c5800ed",
   "metadata": {},
   "source": [
    "# Aggregating DataFrame \n",
    "# Aggregation on grouped DataFrame"
   ]
  },
  {
   "cell_type": "code",
   "execution_count": 13,
   "id": "ee1f99b4-1c8a-4df0-b19e-13f8c8e606c3",
   "metadata": {},
   "outputs": [
    {
     "name": "stdout",
     "output_type": "stream",
     "text": [
      "Aggregated DataFrame (mean salary per department):\n",
      " Department\n",
      "Marketing    81000.0\n",
      "Sales        72500.0\n",
      "Name: Salary, dtype: float64 \n",
      "\n",
      "Aggregated DataFrame (multiple stats):\n",
      "              Salary               \n",
      "               mean     sum    max\n",
      "Department                        \n",
      "Marketing   81000.0  162000  82000\n",
      "Sales       72500.0  145000  75000 \n",
      "\n"
     ]
    }
   ],
   "source": [
    "# Compute mean salary per department\n",
    "aggregated_df = grouped_df[\"Salary\"].mean() # Computes mean of 'Salary' for each group.\n",
    "print(\"Aggregated DataFrame (mean salary per department):\\n\", aggregated_df, \"\\n\") # Prints the aggregated DataFrame.\n",
    "\n",
    "# Multiple aggregations on DataFrame\n",
    "multi_agg_df = grouped_df.agg({\n",
    "    \"Salary\": [\"mean\", \"sum\", \"max\"] # Calculates mean, sum, and max for 'Salary'.\n",
    "})\n",
    "print(\"Aggregated DataFrame (multiple stats):\\n\", multi_agg_df, \"\\n\") # Prints DataFrame with multiple aggregations."
   ]
  },
  {
   "cell_type": "markdown",
   "id": "1f3eed42-bfef-4b9f-af31-06866b38ffb0",
   "metadata": {},
   "source": [
    "### performing functions"
   ]
  },
  {
   "cell_type": "code",
   "execution_count": 14,
   "id": "eb7e0b77-f736-45f6-ae7a-a1929d6c8029",
   "metadata": {},
   "outputs": [
    {
     "name": "stdout",
     "output_type": "stream",
     "text": [
      "Original DataFrame:\n",
      "   Team  Member  Score  Penalty\n",
      "0    A    Liam     90       10\n",
      "1    A  Olivia     85        5\n",
      "2    B    Noah     88        8\n",
      "3    B    Emma     92       12\n",
      "4    A     Ava     91        7\n",
      "5    B  Sophia     87        9 \n",
      "\n",
      "Groups formed:\n",
      " {'A': [0, 1, 4], 'B': [2, 3, 5]} \n",
      "\n",
      "Team A group:\n",
      "   Team  Member  Score  Penalty\n",
      "0    A    Liam     90       10\n",
      "1    A  Olivia     85        5\n",
      "4    A     Ava     91        7 \n",
      "\n",
      "Mean Score per Team:\n",
      " Team\n",
      "A    88.666667\n",
      "B    89.000000\n",
      "Name: Score, dtype: float64 \n",
      "\n",
      "Aggregated stats per Team:\n",
      "           Score         Penalty          \n",
      "           mean max min     sum      mean\n",
      "Team                                     \n",
      "A     88.666667  91  85      22  7.333333\n",
      "B     89.000000  92  87      29  9.666667 \n",
      "\n",
      "Teams with mean score > 88:\n",
      "   Team  Member  Score  Penalty\n",
      "0    A    Liam     90       10\n",
      "1    A  Olivia     85        5\n",
      "2    B    Noah     88        8\n",
      "3    B    Emma     92       12\n",
      "4    A     Ava     91        7\n",
      "5    B  Sophia     87        9 \n",
      "\n"
     ]
    }
   ],
   "source": [
    "import pandas as pd  # Import the pandas library.\n",
    "\n",
    "# ------------------------------------------\n",
    "# Sample DataFrame\n",
    "# ------------------------------------------\n",
    "df = pd.DataFrame({\n",
    "    \"Team\": [\"A\", \"A\", \"B\", \"B\", \"A\", \"B\"], # column name and values.\n",
    "    \"Member\": [\"Liam\", \"Olivia\", \"Noah\", \"Emma\", \"Ava\", \"Sophia\"], # employee names.\n",
    "    \"Score\": [90, 85, 88, 92, 91, 87], # column name and values.\n",
    "    \"Penalty\": [10, 5, 8, 12, 7, 9] # column name and values.\n",
    "})\n",
    "\n",
    "print(\"Original DataFrame:\\n\", df, \"\\n\") # Print the original DataFrame.\n",
    "\n",
    "# ------------------------------------------\n",
    "# Grouping by Team (no aggregation yet)\n",
    "# ------------------------------------------\n",
    "grouped = df.groupby(\"Team\") # Group the DataFrame by 'Team'.\n",
    "print(\"Groups formed:\\n\", grouped.groups, \"\\n\") # Show the group indices.\n",
    "\n",
    "# Access a specific group\n",
    "print(\"Team A group:\\n\", grouped.get_group(\"A\"), \"\\n\") # Accesses group \"A\".\n",
    "\n",
    "# ------------------------------------------\n",
    "# Aggregating after grouping\n",
    "# ------------------------------------------\n",
    "# 1. Single aggregation function (mean score)\n",
    "mean_score = grouped[\"Score\"].mean() # Calculate the mean score per team.\n",
    "print(\"Mean Score per Team:\\n\", mean_score, \"\\n\") # Print the mean score result.\n",
    "\n",
    "# 2. Multiple aggregation functions\n",
    "agg_stats = grouped.agg({\n",
    "    \"Score\": [\"mean\", \"max\", \"min\"], # Get mean, max, and min score.\n",
    "    \"Penalty\": [\"sum\", \"mean\"] # Get sum and mean of penalty.\n",
    "})\n",
    "print(\"Aggregated stats per Team:\\n\", agg_stats, \"\\n\") # Print multiple aggregated stats.\n",
    "\n",
    "# ------------------------------------------\n",
    "# Optional: filtering groups (e.g., mean score > 88)\n",
    "# ------------------------------------------\n",
    "high_score_team = grouped.filter(lambda x: x[\"Score\"].mean() > 88) # Filters groups based on condition.\n",
    "print(\"Teams with mean score > 88:\\n\", high_score_team, \"\\n\") # Print filtered DataFrame."
   ]
  },
  {
   "cell_type": "markdown",
   "id": "3f522272-fed3-457c-9817-f4529470501a",
   "metadata": {},
   "source": [
    "#### Difference between grouping/ aggregating in series and dataframes \n",
    "#### In grouping, a Series can be grouped only by another Series or index level, while a DataFrame can be grouped by one or more columns.\n",
    "\n",
    "#### Series aggregation operates on a single column and returns a Series, whereas DataFrame aggregation can operate on multiple columns and return a DataFrame.\n",
    "\n",
    "#### Series is simpler and suitable for single-column data, while DataFrame is more powerful for handling complex, multi-column datasets."
   ]
  },
  {
   "cell_type": "markdown",
   "id": "53c63e36-1f87-4cfd-97a5-61c437a8b243",
   "metadata": {},
   "source": [
    "# Series"
   ]
  },
  {
   "cell_type": "code",
   "execution_count": 15,
   "id": "fb0ecec1-bf4e-424c-ad41-8f14b336765d",
   "metadata": {},
   "outputs": [],
   "source": [
    "# Series\n",
    "import pandas as pd # Import pandas library.\n",
    "\n",
    "salary = pd.Series([70000, 75000, 80000, 82000], index=[\"Liam\", \"Olivia\", \"Noah\", \"Emma\"]) # salary data and index.\n",
    "department = pd.Series([\"Sales\", \"Sales\", \"Marketing\", \"Marketing\"], index=[\"Liam\", \"Olivia\", \"Noah\", \"Emma\"]) # department data and index.\n",
    "\n",
    "grouped_series = salary.groupby(department) # Group salary by department."
   ]
  },
  {
   "cell_type": "code",
   "execution_count": 19,
   "id": "f1c91d6e-b725-4911-b5f0-3606b21a81b0",
   "metadata": {},
   "outputs": [
    {
     "name": "stdout",
     "output_type": "stream",
     "text": [
      "[('Marketing', Noah    80000\n",
      "Emma    82000\n",
      "dtype: int64), ('Sales', Liam      70000\n",
      "Olivia    75000\n",
      "dtype: int64)]\n"
     ]
    }
   ],
   "source": [
    "print(list(grouped_series))"
   ]
  },
  {
   "cell_type": "markdown",
   "id": "c3997b52-7763-4730-9d12-dcc8a400bfa1",
   "metadata": {},
   "source": [
    "# dataframes"
   ]
  },
  {
   "cell_type": "code",
   "execution_count": 17,
   "id": "1a42778c-33d4-4c6c-9655-9533b715fd25",
   "metadata": {},
   "outputs": [],
   "source": [
    "# data frames\n",
    "import pandas as pd  # Import the pandas library.\n",
    "\n",
    "df = pd.DataFrame({\n",
    "    \"Team\": [\"Sales\", \"Sales\", \"Marketing\", \"Marketing\"],  # column name and values.\n",
    "    \"Member\": [\"Liam\", \"Olivia\", \"Noah\", \"Emma\"],  # employee names.\n",
    "    \"Pay\": [70000, 75000, 80000, 82000]  # column name and values.\n",
    "})\n",
    "\n",
    "grouped_df = df.groupby(\"Team\")  # Groups the DataFrame by the 'Team' column."
   ]
  },
  {
   "cell_type": "code",
   "execution_count": 20,
   "id": "7e854f12-2c2a-47f7-969d-b6b03f5e8949",
   "metadata": {},
   "outputs": [
    {
     "name": "stdout",
     "output_type": "stream",
     "text": [
      "[('Marketing',         Team Member    Pay\n",
      "2  Marketing   Noah  80000\n",
      "3  Marketing   Emma  82000), ('Sales',     Team  Member    Pay\n",
      "0  Sales    Liam  70000\n",
      "1  Sales  Olivia  75000)]\n"
     ]
    }
   ],
   "source": [
    "print(list(grouped_df)) # only grouped_df prints object"
   ]
  },
  {
   "cell_type": "markdown",
   "id": "b4d588ef-e2c9-4077-96eb-4bdc6e686ec5",
   "metadata": {},
   "source": [
    "# series , dataframe eg with grping and aggregrating functions"
   ]
  },
  {
   "cell_type": "code",
   "execution_count": 21,
   "id": "124730ce-19a0-41cb-826c-874c7a355eb4",
   "metadata": {},
   "outputs": [
    {
     "name": "stdout",
     "output_type": "stream",
     "text": [
      "Grouped Series (no aggregation):\n",
      "Marketing: [80000 82000]\n",
      "Sales: [70000 75000]\n",
      "\n",
      "Aggregated Series (mean salary per department):\n",
      "Marketing    81000.0\n",
      "Sales        72500.0\n",
      "dtype: float64\n",
      "\n",
      "==================================================\n",
      "\n",
      "Grouped DataFrame (no aggregation):\n",
      "Marketing group:\n",
      "        Team Member  Salary  Bonus\n",
      "2  Marketing   Noah   80000   8000\n",
      "3  Marketing   Emma   82000   8200\n",
      "\n",
      "Sales group:\n",
      "    Team  Member  Salary  Bonus\n",
      "0  Sales    Liam   70000   7000\n",
      "1  Sales  Olivia   75000   7500\n",
      "\n",
      "Aggregated DataFrame (Salary and Bonus stats per Team):\n",
      "            Salary           Bonus       \n",
      "              mean     sum    mean    sum\n",
      "Team                                     \n",
      "Marketing  81000.0  162000  8100.0  16200\n",
      "Sales      72500.0  145000  7250.0  14500\n"
     ]
    }
   ],
   "source": [
    "import pandas as pd  # Import the pandas library.\n",
    "\n",
    "# ------------------------------------------\n",
    "# 1. Series Example\n",
    "# ------------------------------------------\n",
    "salary_series = pd.Series([70000, 75000, 80000, 82000],  #salary values.\n",
    "                          index=[\"Liam\", \"Olivia\", \"Noah\", \"Emma\"])  # index labels.\n",
    "department_series = pd.Series([\"Sales\", \"Sales\", \"Marketing\", \"Marketing\"],  # department names.\n",
    "                              index=[\"Liam\", \"Olivia\", \"Noah\", \"Emma\"])  # index labels.\n",
    "\n",
    "# Grouping (creates groups, no aggregation yet)\n",
    "grouped_series = salary_series.groupby(department_series)  # Groups salaries by department.\n",
    "print(\"Grouped Series (no aggregation):\")  # Print a descriptive header.\n",
    "for dept, group in grouped_series:  # Iterate through the groups.\n",
    "    print(f\"{dept}: {group.values}\")  # Print the department and its values.\n",
    "print()  # Print a blank line for spacing.\n",
    "\n",
    "# Aggregating (mean per department)\n",
    "aggregated_series = grouped_series.mean()  # Calculate the mean for each group.\n",
    "print(\"Aggregated Series (mean salary per department):\")  # Print a descriptive header.\n",
    "print(aggregated_series)  # Print the new aggregated Series.\n",
    "print(\"\\n\" + \"=\"*50 + \"\\n\")  # Print a separator.\n",
    "\n",
    "# ------------------------------------------\n",
    "# 2. DataFrame Example\n",
    "# ------------------------------------------\n",
    "df = pd.DataFrame({\n",
    "    \"Team\": [\"Sales\", \"Sales\", \"Marketing\", \"Marketing\"],  \n",
    "    \"Member\": [\"Liam\", \"Olivia\", \"Noah\", \"Emma\"],  # creating a dataframe\n",
    "    \"Salary\": [70000, 75000, 80000, 82000],  \n",
    "    \"Bonus\": [7000, 7500, 8000, 8200] \n",
    "})\n",
    "\n",
    "# Grouping by Team (creates groups)\n",
    "grouped_df = df.groupby(\"Team\")  # Groups the DataFrame by the 'Team' column.\n",
    "print(\"Grouped DataFrame (no aggregation):\")  # Print a descriptive header.\n",
    "for team, group in grouped_df:  # Iterate through the groups.\n",
    "    print(f\"{team} group:\\n{group}\\n\")  # Print each group's DataFrame.\n",
    "\n",
    "# Aggregating (mean and sum for numeric columns)\n",
    "aggregated_df = grouped_df.agg({\n",
    "    \"Salary\": [\"mean\", \"sum\"],  # Calculate mean and sum of 'Salary'.\n",
    "    \"Bonus\": [\"mean\", \"sum\"]  # Calculate mean and sum of 'Bonus'.\n",
    "})\n",
    "print(\"Aggregated DataFrame (Salary and Bonus stats per Team):\")  # Print a descriptive header.\n",
    "print(aggregated_df)  # Print the aggregated DataFrame."
   ]
  },
  {
   "cell_type": "markdown",
   "id": "d4436513-7d7d-456e-8d7f-a97333573490",
   "metadata": {},
   "source": [
    "### Merging dataframes"
   ]
  },
  {
   "cell_type": "code",
   "execution_count": 22,
   "id": "8c03ff09-86a1-4acc-b585-9c1f1e9bbfae",
   "metadata": {},
   "outputs": [
    {
     "name": "stdout",
     "output_type": "stream",
     "text": [
      "Inner Merge:\n",
      "    Member Team  Score\n",
      "0    Liam    A     90\n",
      "1  Olivia    B     85\n",
      "2    Noah    A     88 \n",
      "\n",
      "Outer Merge:\n",
      "    Member Team  Score\n",
      "0    Emma    B    NaN\n",
      "1    Liam    A   90.0\n",
      "2    Noah    A   88.0\n",
      "3  Olivia    B   85.0\n",
      "4  Sophia  NaN   92.0 \n",
      "\n"
     ]
    }
   ],
   "source": [
    "# Merging DataFrames\n",
    "import pandas as pd  # Import the pandas library.\n",
    "\n",
    "# DataFrame 1\n",
    "df1 = pd.DataFrame({\n",
    "    \"Member\": [\"Liam\", \"Olivia\", \"Noah\", \"Emma\"],  \n",
    "    \"Team\": [\"A\", \"B\", \"A\", \"B\"] \n",
    "})\n",
    "\n",
    "# DataFrame 2\n",
    "df2 = pd.DataFrame({\n",
    "    \"Member\": [\"Liam\", \"Olivia\", \"Noah\", \"Sophia\"],  \n",
    "    \"Score\": [90, 85, 88, 92]  \n",
    "})\n",
    "\n",
    "# Inner merge (only common members)\n",
    "inner_merge = pd.merge(df1, df2, on=\"Member\", how=\"inner\")  # Merge on 'Member', keeping common.\n",
    "print(\"Inner Merge:\\n\", inner_merge, \"\\n\")  # Print the result of inner merge.\n",
    "\n",
    "# Outer merge (all members)\n",
    "outer_merge = pd.merge(df1, df2, on=\"Member\", how=\"outer\")  # Merge on 'Member', keeping all.\n",
    "print(\"Outer Merge:\\n\", outer_merge, \"\\n\")  # Print the result of outer merge."
   ]
  },
  {
   "cell_type": "markdown",
   "id": "e5bbc968-3c5e-4f03-b37d-bb4118dedbed",
   "metadata": {},
   "source": [
    "# Merging on different key columns"
   ]
  },
  {
   "cell_type": "code",
   "execution_count": 23,
   "id": "f8779c46-8e5f-4566-8106-9a7ca3db1856",
   "metadata": {},
   "outputs": [
    {
     "name": "stdout",
     "output_type": "stream",
     "text": [
      "Merge on different keys:\n",
      "    UserID    Name  AccountID  Score\n",
      "0     102  Olivia        102     90\n",
      "1     103    Noah        103     85\n"
     ]
    }
   ],
   "source": [
    "# You can merge two DataFrames using different column names in each DataFrame by using left_on and right_on.\n",
    "\n",
    "import pandas as pd  # Import the pandas library.\n",
    "\n",
    "df1 = pd.DataFrame({ # dataframe 1\n",
    "    \"UserID\": [101, 102, 103],  \n",
    "    \"Name\": [\"Liam\", \"Olivia\", \"Noah\"] \n",
    "})\n",
    "\n",
    "df2 = pd.DataFrame({ #dataframe 2\n",
    "    \"AccountID\": [102, 103, 104], \n",
    "    \"Score\": [90, 85, 88]  # \n",
    "})\n",
    "\n",
    "# Merge using different column names\n",
    "merged_df = pd.merge(df1, df2, left_on=\"UserID\", right_on=\"AccountID\", how=\"inner\")  # Merges on different key columns.\n",
    "print(\"Merge on different keys:\\n\", merged_df)  # Prints the merged DataFrame."
   ]
  },
  {
   "cell_type": "markdown",
   "id": "ada03334-8da9-4f37-adba-aef50793ad6f",
   "metadata": {},
   "source": [
    "### Handling overlapping column names"
   ]
  },
  {
   "cell_type": "code",
   "execution_count": 24,
   "id": "b9ba50aa-f3dc-4ca7-941d-321d405ffce4",
   "metadata": {},
   "outputs": [
    {
     "name": "stdout",
     "output_type": "stream",
     "text": [
      "Merge with custom suffixes:\n",
      "    Member  Score_Test1  Score_Test2\n",
      "0    Liam         90.0          NaN\n",
      "1    Noah          NaN         92.0\n",
      "2  Olivia         85.0         88.0\n"
     ]
    }
   ],
   "source": [
    "# If both DataFrames have columns with the same name other than the key, Pandas automatically adds suffixes: _x and _y.\n",
    "\n",
    "# You can customize suffixes using the suffixes parameter.\n",
    "\n",
    "import pandas as pd  # Import the pandas library.\n",
    "\n",
    "df1 = pd.DataFrame({ # dataframe 1\n",
    "    \"Member\": [\"Liam\", \"Olivia\"], \n",
    "    \"Score\": [90, 85] \n",
    "})\n",
    "\n",
    "df2 = pd.DataFrame({ #dataframe 2\n",
    "    \"Member\": [\"Olivia\", \"Noah\"],  \n",
    "    \"Score\": [88, 92]  \n",
    "})\n",
    "\n",
    "# Merge with custom suffixes\n",
    "merged_df = pd.merge(df1, df2, on=\"Member\", how=\"outer\", suffixes=(\"_Test1\", \"_Test2\"))  # Merges with custom suffixes.\n",
    "print(\"Merge with custom suffixes:\\n\", merged_df)  # Prints the merged DataFrame."
   ]
  },
  {
   "cell_type": "markdown",
   "id": "759c7c0e-a651-4684-ac36-dff6b720856e",
   "metadata": {},
   "source": [
    "### Merging using indexes"
   ]
  },
  {
   "cell_type": "code",
   "execution_count": 1,
   "id": "beb10374-130d-4c2b-a13a-71aa1ba6987a",
   "metadata": {},
   "outputs": [
    {
     "name": "stdout",
     "output_type": "stream",
     "text": [
      "Merge using indexes:\n",
      "        Salary Department\n",
      "Carol   70000    Finance\n",
      "Dave    80000  Marketing\n"
     ]
    }
   ],
   "source": [
    "import pandas as pd  # Import pandas library\n",
    "#Instead of merging on columns, you can merge using the row index with left_index=True and right_index=True.\n",
    "# Create df1 with names as index\n",
    "df1 = pd.DataFrame({\"Salary\": [70000, 80000]}, index=[\"Carol\", \"Dave\"])\n",
    "\n",
    "# Create df2 with names as index\n",
    "df2 = pd.DataFrame({\"Department\": [\"Finance\", \"Marketing\"]}, index=[\"Carol\", \"Dave\"])\n",
    "\n",
    "# Merge both DataFrames using row indexes\n",
    "merged_index_df = pd.merge(df1, df2, left_index=True, right_index=True)\n",
    "\n",
    "# Print merged DataFrame with index merge\n",
    "print(\"Merge using indexes:\\n\", merged_index_df)\n"
   ]
  },
  {
   "cell_type": "markdown",
   "id": "9cc30964-b914-4e0c-95f8-d4f7413ec7e8",
   "metadata": {},
   "source": [
    "#Summary table\n",
    "df.pivot_table(values='NumericColumn', index='RowCategory', columns='ColumnCategory', aggfunc='mean')\n",
    "values → numeric column to summarize\n",
    "\n",
    "index → row labels\n",
    "\n",
    "columns → column labels (optional)\n",
    "\n",
    "aggfunc → aggregation function (mean, sum, count, etc.)"
   ]
  },
  {
   "cell_type": "markdown",
   "id": "2a450097-705b-4bbc-a634-4e833db67797",
   "metadata": {},
   "source": [
    "### #Summary Tables"
   ]
  },
  {
   "cell_type": "code",
   "execution_count": 2,
   "id": "fe4e9866-cd92-4d85-b2fd-1b10df480942",
   "metadata": {},
   "outputs": [
    {
     "name": "stdout",
     "output_type": "stream",
     "text": [
      "Team              X        Y\n",
      "Department                  \n",
      "Finance     70000.0  75000.0\n",
      "Sales       80000.0  82000.0\n"
     ]
    }
   ],
   "source": [
    "import pandas as pd  # Import pandas library\n",
    "\n",
    "# Create DataFrame with departments, teams, salaries\n",
    "df = pd.DataFrame({\n",
    "    \"Department\": [\"Finance\", \"Finance\", \"Sales\", \"Sales\"],  # Department column\n",
    "    \"Team\": [\"X\", \"Y\", \"X\", \"Y\"],  # Team column\n",
    "    \"Salary\": [70000, 75000, 80000, 82000]  # Salary column\n",
    "})\n",
    "\n",
    "# Create summary pivot table by department and team\n",
    "summary = df.pivot_table(values=\"Salary\", index=\"Department\", columns=\"Team\", aggfunc=\"mean\")\n",
    "\n",
    "# Print summary table\n",
    "print(summary)\n"
   ]
  },
  {
   "cell_type": "markdown",
   "id": "aa902dcb-5405-42dd-a998-2ada29aae44c",
   "metadata": {},
   "source": [
    "### Pivot Table with Multiple Aggregation Functions\n",
    "\n",
    "#You can apply more than one aggregation function at once using a list:"
   ]
  },
  {
   "cell_type": "code",
   "execution_count": 3,
   "id": "9b3c0533-f1ce-476b-b63a-edc5013a8cb0",
   "metadata": {},
   "outputs": [
    {
     "name": "stdout",
     "output_type": "stream",
     "text": [
      "Pivot Table with Multiple Aggregations:\n",
      "                mean             sum           max       \n",
      "Team              X        Y      X      Y      X      Y\n",
      "Department                                              \n",
      "Finance     72000.0  76000.0  72000  76000  72000  76000\n",
      "Sales       81000.0  83000.0  81000  83000  81000  83000\n"
     ]
    }
   ],
   "source": [
    "import pandas as pd  # Import pandas library\n",
    "\n",
    "# Create DataFrame with departments, teams, salaries\n",
    "df = pd.DataFrame({\n",
    "    \"Department\": [\"Finance\", \"Finance\", \"Sales\", \"Sales\"],  # Department column\n",
    "    \"Team\": [\"X\", \"Y\", \"X\", \"Y\"],  # Team column\n",
    "    \"Salary\": [72000, 76000, 81000, 83000]  # Salary column\n",
    "})\n",
    "\n",
    "# Pivot table with multiple aggregation functions\n",
    "summary_table_multi = df.pivot_table(\n",
    "    values=\"Salary\",            # Column to aggregate\n",
    "    index=\"Department\",         # Rows based on Department\n",
    "    columns=\"Team\",             # Columns based on Team\n",
    "    aggfunc=[\"mean\", \"sum\", \"max\"]  # Aggregations: mean, sum, max\n",
    ")\n",
    "\n",
    "# Print pivot table with multiple aggregations\n",
    "print(\"Pivot Table with Multiple Aggregations:\\n\", summary_table_multi)\n"
   ]
  },
  {
   "cell_type": "markdown",
   "id": "1adb72a1-38c6-4215-a683-905fc6a01c60",
   "metadata": {},
   "source": [
    "### Handling Missing Data\n",
    "\n",
    "##### Pivot tables automatically fill missing combinations with NaN"
   ]
  },
  {
   "cell_type": "code",
   "execution_count": 4,
   "id": "5be14f7a-afb3-49cf-8548-c0c0666ff7d8",
   "metadata": {},
   "outputs": [
    {
     "name": "stdout",
     "output_type": "stream",
     "text": [
      "Pivot Table with Missing Values Filled:\n",
      " Team              X        Y\n",
      "Department                  \n",
      "Finance     72000.0  76000.0\n",
      "Sales       81000.0      0.0\n"
     ]
    }
   ],
   "source": [
    "import pandas as pd  # Import pandas library\n",
    "\n",
    "# Create DataFrame with departments, teams, salaries\n",
    "df = pd.DataFrame({\n",
    "    \"Department\": [\"Finance\", \"Finance\", \"Sales\"],  # Department column\n",
    "    \"Team\": [\"X\", \"Y\", \"X\"],  # Team column (missing Sales-Y)\n",
    "    \"Salary\": [72000, 76000, 81000]  # Salary column\n",
    "})\n",
    "\n",
    "# Pivot table with fill_value for missing cells\n",
    "summary_table_fill = df.pivot_table(\n",
    "    values=\"Salary\",       # Column to aggregate\n",
    "    index=\"Department\",    # Rows based on Department\n",
    "    columns=\"Team\",        # Columns based on Team\n",
    "    aggfunc=\"mean\",        # Mean aggregation\n",
    "    fill_value=0           # Replace missing values with zero\n",
    ")\n",
    "\n",
    "# Print pivot table with missing values filled\n",
    "print(\"Pivot Table with Missing Values Filled:\\n\", summary_table_fill)\n"
   ]
  },
  {
   "cell_type": "code",
   "execution_count": null,
   "id": "93142b57-db20-43ad-aed1-4ad0d4b99722",
   "metadata": {},
   "outputs": [],
   "source": []
  }
 ],
 "metadata": {
  "kernelspec": {
   "display_name": "Python 3 (ipykernel)",
   "language": "python",
   "name": "python3"
  },
  "language_info": {
   "codemirror_mode": {
    "name": "ipython",
    "version": 3
   },
   "file_extension": ".py",
   "mimetype": "text/x-python",
   "name": "python",
   "nbconvert_exporter": "python",
   "pygments_lexer": "ipython3",
   "version": "3.11.4"
  }
 },
 "nbformat": 4,
 "nbformat_minor": 5
}
