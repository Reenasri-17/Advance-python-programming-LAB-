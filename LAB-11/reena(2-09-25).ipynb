{
 "cells": [
  {
   "cell_type": "markdown",
   "id": "aa440d14-36d4-4c9d-84d2-86e0978b2d6a",
   "metadata": {},
   "source": [
    "## LAB ACTIVITY 11\n",
    "## NAME : Reena sri; REG NO : 22MID0009;\n",
    "## 02/09/2025\n",
    "\n",
    "# MULTITHREADING\n",
    "# Task-1"
   ]
  },
  {
   "cell_type": "code",
   "execution_count": 3,
   "id": "9fcf5464-7d1d-4056-90ad-837672fa63ba",
   "metadata": {},
   "outputs": [
    {
     "name": "stdout",
     "output_type": "stream",
     "text": [
      "Sleeping 1 second...\n",
      "Done Sleeping\n",
      "Finished in 1.0 seconds\n"
     ]
    }
   ],
   "source": [
    "# Threading significantly speed up the program depending on tasks\n",
    "\n",
    "import time\n",
    "start = time.perf_counter() #used to find the time taken by the entire sequence\n",
    "def do_something():\n",
    "    print('Sleeping 1 second...')\n",
    "    time.sleep(1)\n",
    "    print('Done Sleeping')\n",
    "\n",
    "do_something()\n",
    "finish = time.perf_counter() #using to find the time the entirer sequecnce takes from here\n",
    "print(f'Finished in {round(finish-start,2)} seconds')"
   ]
  },
  {
   "cell_type": "markdown",
   "id": "a3252b52-c66d-4c9d-ba83-8aad40b249a7",
   "metadata": {},
   "source": [
    "# Task 2"
   ]
  },
  {
   "cell_type": "code",
   "execution_count": 4,
   "id": "826cf809-bd3f-494a-a7e4-cfaf79d39a04",
   "metadata": {},
   "outputs": [
    {
     "name": "stdout",
     "output_type": "stream",
     "text": [
      "Sleeping 1 second...\n",
      "Done Sleeping\n",
      "Sleeping 1 second...\n",
      "Done Sleeping\n",
      "Finished in 2.0 seconds\n"
     ]
    }
   ],
   "source": [
    "# TASK-2\n",
    "# Run the function twice\n",
    "import time\n",
    "start = time.perf_counter() #to find the time taken entrire sequecnce taken from here\n",
    "\n",
    "def do_something():\n",
    "    print('Sleeping 1 second...')\n",
    "    time.sleep(1)\n",
    "    print('Done Sleeping')\n",
    "\n",
    "do_something()\n",
    "do_something() #function called twice\n",
    "\n",
    "finish = time.perf_counter() #to find the time taken by entire sequecnce here\n",
    "print(f'Finished in {round(finish-start,2)} seconds')"
   ]
  },
  {
   "cell_type": "markdown",
   "id": "92c537c4-815c-40a4-b6bb-3dfe713ed6c1",
   "metadata": {},
   "source": [
    "# There are two kinds of tasks - CPU bound (Working on huge datasets) and I/O Bound (Not CPU intensive, just reading and writing data from disk, files, network operations, downloading files etc.,)\n",
    "\n",
    "# Threading is useful in I/O Bound Tasks, but not so beneficial for CPU based tasks. Infact, threading CPU tasks can be a disadvnatage\n",
    "# with the overhead of creating and destroying threads\n",
    "# For CPU tasks, Multiprocessing is best as it can run operations in parallel\n",
    "\n",
    "# THREADS:\n",
    "# Threads do not run the code at the sametime\n",
    "# It just gives the illusion of running code at the same time because when it comes to a point it has to wait, \n",
    "# it is just going to move further in the script and run other code while the i/o operations finish\n"
   ]
  },
  {
   "cell_type": "markdown",
   "id": "4e17f534-7fcf-49e0-8583-c6abed666e4a",
   "metadata": {},
   "source": [
    "# Task 3"
   ]
  },
  {
   "cell_type": "code",
   "execution_count": 6,
   "id": "4c7facf7-5141-4b3a-8609-f8a3742af309",
   "metadata": {},
   "outputs": [
    {
     "name": "stdout",
     "output_type": "stream",
     "text": [
      "Finished in 0.0 seconds\n"
     ]
    }
   ],
   "source": [
    "# TASK-3\n",
    "import threading     #its a existing python package, this is the traditional way of doing threading, more effective ways are done with pools\n",
    "import time\n",
    "\n",
    "start = time.perf_counter()  # time calculation for sequence\n",
    "def do_something():\n",
    "    print('Sleeping 1 second...')\n",
    "    time.sleep(1)\n",
    "    print('Done Sleeping')\n",
    "\n",
    "#instead the running the two functions repeatedly , threads are used both of these\n",
    "t1 = threading.Thread(target = do_something) #do not pass the function with (), as we dont intend to run the function, just pass it\n",
    "t2 = threading.Thread(target = do_something)\n",
    "\n",
    "finish = time.perf_counter() #using to find the time the entier sequecnce\n",
    "\n",
    "\n",
    "print(f'Finished in {round(finish-start,2)} seconds')\n",
    "\n",
    "# when you run the above code you can see that it did not run anything\n",
    "# To get the threads to run, we need to use start methods on these threads"
   ]
  },
  {
   "cell_type": "markdown",
   "id": "c948ed44-e4c1-40f3-9d9a-1e2c320a26a7",
   "metadata": {},
   "source": [
    "# Task 4"
   ]
  },
  {
   "cell_type": "code",
   "execution_count": 7,
   "id": "e0ee1da5-386a-4908-8cee-6213f2b3b275",
   "metadata": {},
   "outputs": [
    {
     "name": "stdout",
     "output_type": "stream",
     "text": [
      "Sleeping 1 second...\n",
      "Sleeping 1 second...\n",
      "Finished in 0.01 seconds\n",
      "Done Sleeping\n",
      "Done Sleeping\n"
     ]
    }
   ],
   "source": [
    "# TASK-4\n",
    "import threading     \n",
    "import time\n",
    "\n",
    "start = time.perf_counter() # calculating time sequence from here\n",
    "\n",
    "def do_something():\n",
    "    print('Sleeping 1 second...')\n",
    "    time.sleep(1)\n",
    "    print('Done Sleeping')\n",
    "\n",
    "t1 = threading.Thread(target = do_something) #do not pass the function with (), as we dont intend to run the function, just pass it\n",
    "t2 = threading.Thread(target = do_something)\n",
    "\n",
    "t1.start() \n",
    "t2.start() # using start to trigger the threads\n",
    "\n",
    "finish = time.perf_counter() #using to find the time the entrirer sequecnce takes from here\n",
    "\n",
    "\n",
    "print(f'Finished in {round(finish-start,2)} seconds')"
   ]
  },
  {
   "cell_type": "code",
   "execution_count": 1,
   "id": "706b7088-dc65-41b3-ae0e-5d97d754a72c",
   "metadata": {},
   "outputs": [],
   "source": [
    "# Threads started but did not work as the way we wanted it to \n",
    "# It printed the first lines of both methods\n",
    "# Finished in 0 seconds when each sleep is for 1 second\n",
    "# Then executed the Print 'Done Sleeping' in both methods\n",
    "\n",
    "# EXPLANATION\n",
    "# It started both threads, while the threads were sleeping it moved on to calculate the next part of the script, calculates the finish time, printed it, by now 1 second had passed, the threads continued to both prints ' Done Sleeping'\n",
    "# We want the finished timings to be calculated after the completion of both threads\n",
    "# JOIN() is used\n",
    "# It makes sure the threads complete before moving on to the next part of the code"
   ]
  },
  {
   "cell_type": "markdown",
   "id": "00bb87d2-01c9-44d8-af12-1f0d753eac6f",
   "metadata": {},
   "source": [
    "# #TASK-5"
   ]
  },
  {
   "cell_type": "code",
   "execution_count": 8,
   "id": "0f015b62-0844-47aa-acae-9a665c41da4e",
   "metadata": {},
   "outputs": [
    {
     "name": "stdout",
     "output_type": "stream",
     "text": [
      "Sleeping 1 second...\n",
      "Sleeping 1 second...\n",
      "Done Sleeping\n",
      "Done Sleeping\n",
      "Finished in 1.01 seconds\n"
     ]
    }
   ],
   "source": [
    "import threading    \n",
    "import time\n",
    "\n",
    "start = time.perf_counter() #calculate time for entire sequence\n",
    "def do_something():\n",
    "    print('Sleeping 1 second...')\n",
    "    time.sleep(1)\n",
    "    print('Done Sleeping')\n",
    "\n",
    "t1 = threading.Thread(target = do_something) #do not pass the function with (), as we dont intend to run the function, just pass it\n",
    "t2 = threading.Thread(target = do_something)\n",
    "\n",
    "t1.start()\n",
    "t2.start()\n",
    "\n",
    "t1.join()\n",
    "t2.join()\n",
    "\n",
    "finish = time.perf_counter() #using to find the time the entrirer sequecnce takes from here\n",
    "print(f'Finished in {round(finish-start,2)} seconds')"
   ]
  },
  {
   "cell_type": "code",
   "execution_count": 9,
   "id": "c6b0997b-7b01-4e71-8ca9-eea7c90ce943",
   "metadata": {},
   "outputs": [],
   "source": [
    "# The threads started almost at the same time and were done in a second and printed\n",
    "\n",
    "# Observation\n",
    "# when it took 2 seconds before, with threading, it took 1 second, might seem insignificant, but when big time slots are required, threading is useful\n",
    "\n",
    "# Extension\n",
    "# There are alternatives to manualyy writing the start() and join() "
   ]
  },
  {
   "cell_type": "markdown",
   "id": "c50e0af3-a502-48cf-b681-16ed3397dde6",
   "metadata": {},
   "source": [
    "# Task 6"
   ]
  },
  {
   "cell_type": "code",
   "execution_count": 10,
   "id": "4bcc5255-a47e-4311-954d-af2f06bd3247",
   "metadata": {},
   "outputs": [
    {
     "name": "stdout",
     "output_type": "stream",
     "text": [
      "Sleeping 1 second...\n",
      "Sleeping 1 second...\n",
      "Sleeping 1 second...\n",
      "Sleeping 1 second...\n",
      "Sleeping 1 second...\n",
      "Sleeping 1 second...\n",
      "Sleeping 1 second...\n",
      "Sleeping 1 second...\n",
      "Sleeping 1 second...\n",
      "Sleeping 1 second...\n",
      "Finished in 0.01 seconds\n",
      "Done Sleeping\n",
      "Done Sleeping\n",
      "Done Sleeping\n",
      "Done Sleeping\n",
      "Done Sleeping\n",
      "Done Sleeping\n",
      "Done Sleeping\n",
      "Done Sleeping\n",
      "Done Sleeping\n",
      "Done Sleeping\n"
     ]
    }
   ],
   "source": [
    "#TASK-6\n",
    "import threading     \n",
    "import time\n",
    "\n",
    "start = time.perf_counter() #using to find the time the entier sequecnce takes from here\n",
    "\n",
    "def do_something():\n",
    "    print('Sleeping 1 second...')\n",
    "    time.sleep(1)\n",
    "    print('Done Sleeping')\n",
    "\n",
    "for _ in range(10):      # underscore variable is a throwaway variable to simply loop for 10 times and we are not doing anything else with it in the loop\n",
    "    t = threading.Thread(target = do_something)\n",
    "    t.start()            # We cant use join() within the loop as it will join on the thread before looping through, creating and starting the next thread, it becomes like synchronous execution \n",
    "                         # To do this we can create a list of threads and perform join()\n",
    "\n",
    "\n",
    "finish = time.perf_counter() #using to find the time the entrirer sequecnce takes from here\n",
    "print(f'Finished in {round(finish-start,2)} seconds')"
   ]
  },
  {
   "cell_type": "markdown",
   "id": "2a5016b8-3927-4161-9b01-49f426096c32",
   "metadata": {},
   "source": [
    "# Task 7"
   ]
  },
  {
   "cell_type": "code",
   "execution_count": 11,
   "id": "7852e610-09cb-4c8e-be99-fde59edcaccc",
   "metadata": {},
   "outputs": [
    {
     "name": "stdout",
     "output_type": "stream",
     "text": [
      "Sleeping 1 second...\n",
      "Sleeping 1 second...\n",
      "Sleeping 1 second...\n",
      "Sleeping 1 second...\n",
      "Sleeping 1 second...\n",
      "Sleeping 1 second...\n",
      "Sleeping 1 second...\n",
      "Sleeping 1 second...\n",
      "Sleeping 1 second...\n",
      "Sleeping 1 second...\n",
      "Done Sleeping\n",
      "Done Sleeping\n",
      "Done Sleeping\n",
      "Done Sleeping\n",
      "Done Sleeping\n",
      "Done Sleeping\n",
      "Done Sleeping\n",
      "Done Sleeping\n",
      "Done Sleeping\n",
      "Done Sleeping\n",
      "Finished in 1.01 seconds\n"
     ]
    }
   ],
   "source": [
    "#TASK-7\n",
    "# Threading effect with 10 calls\n",
    "import threading    \n",
    "import time\n",
    "\n",
    "start = time.perf_counter() \n",
    "def do_something():\n",
    "    print('Sleeping 1 second...')\n",
    "    time.sleep(1)\n",
    "    print('Done Sleeping')\n",
    "\n",
    "threads = []\n",
    "    \n",
    "for _ in range(10):     \n",
    "    t = threading.Thread(target = do_something)\n",
    "    t.start()  \n",
    "    threads.append(t)\n",
    "\n",
    "for thread in threads:\n",
    "    thread.join()    \n",
    "    \n",
    "finish = time.perf_counter()\n",
    "print(f'Finished in {round(finish-start,2)} seconds')"
   ]
  },
  {
   "cell_type": "markdown",
   "id": "b2bef159-fa10-489e-bfcc-2e4fbdd594e1",
   "metadata": {},
   "source": [
    "# task 8"
   ]
  },
  {
   "cell_type": "code",
   "execution_count": 2,
   "id": "e65a38bc-fdaa-4b0f-b10e-a19785c6f0f0",
   "metadata": {},
   "outputs": [
    {
     "name": "stdout",
     "output_type": "stream",
     "text": [
      "Sleeping 1.5 second(s)...Sleeping 1.5 second(s)...\n",
      "\n",
      "Sleeping 1.5 second(s)...\n",
      "Sleeping 1.5 second(s)...\n",
      "Sleeping 1.5 second(s)...\n",
      "Sleeping 1.5 second(s)...\n",
      "Sleeping 1.5 second(s)...\n",
      "Sleeping 1.5 second(s)...\n",
      "Sleeping 1.5 second(s)...\n",
      "Sleeping 1.5 second(s)...\n",
      "Done Sleeping\n",
      "Done Sleeping\n",
      "Done Sleeping\n",
      "Done Sleeping\n",
      "Done Sleeping\n",
      "Done Sleeping\n",
      "Done Sleeping\n",
      "Done Sleeping\n",
      "Done Sleeping\n",
      "Done Sleeping\n",
      "Finished in 1.52 seconds\n"
     ]
    }
   ],
   "source": [
    "# Threading fucntions with arguments\n",
    "# Threading effect with 10 calls\n",
    "import threading    \n",
    "import time\n",
    "\n",
    "start = time.perf_counter()  # calculating time spent for entire sequence\n",
    "def do_something(seconds):                    #argument passed here\n",
    "    print(f'Sleeping {seconds} second(s)...') #fstring\n",
    "    time.sleep(seconds)\n",
    "    print('Done Sleeping')\n",
    "\n",
    "threads = [] # storing events in lists to synchronise \n",
    "    \n",
    "for _ in range(10):     \n",
    "    t = threading.Thread(target = do_something, args = [1.5]) #same argument for all threads in the list\n",
    "    t.start()  \n",
    "    threads.append(t)\n",
    "\n",
    "for thread in threads:\n",
    "    thread.join()    #join function to execute one after other\n",
    "\n",
    "    \n",
    "finish = time.perf_counter()\n",
    "print(f'Finished in {round(finish-start,2)} seconds')\n"
   ]
  },
  {
   "cell_type": "code",
   "execution_count": 3,
   "id": "07e6a0e3-54a4-43cd-888b-4ff6f43b0f75",
   "metadata": {},
   "outputs": [],
   "source": [
    "# Python 3.2 introduced Threadpool Executor\n",
    "# This is not in the Threading module but in the concurrent  futures module\n",
    "# ThreadPoolExecutor is also useful to switch between different processes"
   ]
  },
  {
   "cell_type": "markdown",
   "id": "6843af25-12c1-4e8e-baee-f88cef3adec5",
   "metadata": {},
   "source": [
    "# Task 9"
   ]
  },
  {
   "cell_type": "code",
   "execution_count": 5,
   "id": "647b23a2-0709-407c-9411-3ac80272ea82",
   "metadata": {},
   "outputs": [
    {
     "name": "stdout",
     "output_type": "stream",
     "text": [
      "Sleeping 1 second(s)...\n",
      "Done Sleeping...\n",
      "Finished in 1.01 seconds\n",
      "John\n",
      "32\n",
      "28\n",
      "Mark\n",
      "22\n",
      "Elon\n",
      "21\n",
      "Callahan\n"
     ]
    }
   ],
   "source": [
    "#TASK-9\n",
    "import concurrent.futures\n",
    "# import threading    - Not required\n",
    "import time\n",
    "\n",
    "start = time.perf_counter() \n",
    "\n",
    "def do_something(seconds):                    \n",
    "    print(f'Sleeping {seconds} second(s)...') \n",
    "    time.sleep(seconds)\n",
    "    #print('Done Sleeping')\n",
    "    return 'Done Sleeping...'\n",
    "\n",
    "with concurrent.futures.ThreadPoolExecutor() as executor:\n",
    "    f1 = executor.submit(do_something, 1)  #submit function will schedule the execution of function and returns a furture object\n",
    "    print(f1.result())\n",
    "\n",
    "   \n",
    "finish = time.perf_counter()\n",
    "\n",
    "\n",
    "print(f'Finished in {round(finish-start,2)} seconds')\n",
    "import threading\n",
    "import time\n",
    "import random\n",
    "\n",
    "def print_names():\n",
    "    for name in ('John', 'Mark', 'Elon', 'Callahan'):\n",
    "        print (name)\n",
    "        time.sleep(random.uniform ( 0.5, 1.5))\n",
    "\n",
    "def print_ages():\n",
    "    for _ in range(4):\n",
    "        print(random.randint(20,50))\n",
    "        time.sleep(random.uniform(0.5,1.5))\n",
    "\n",
    "\n",
    "t1 = threading.Thread(target = print_names)\n",
    "t2 = threading.Thread(target = print_ages)\n",
    "\n",
    "# The above threads are not doing anything yet. To do that, use start()\n",
    "\n",
    "t1.start()\n",
    "t2.start()\n",
    "\n",
    "# Running the above code multiple times\n",
    "# submit will have to be run multiple times\n",
    "        "
   ]
  },
  {
   "cell_type": "markdown",
   "id": "ef8925ce-6039-4d41-ab87-48df43aabd51",
   "metadata": {},
   "source": [
    "# Task 10"
   ]
  },
  {
   "cell_type": "code",
   "execution_count": 6,
   "id": "192e15c4-8bae-4c59-919b-24b8b5aa93ae",
   "metadata": {},
   "outputs": [
    {
     "name": "stdout",
     "output_type": "stream",
     "text": [
      "Sleeping 1 second(s)...\n",
      "Sleeping 1 second(s)...\n",
      "Done Sleeping...\n",
      "Done Sleeping...\n",
      "Finished in 1.01 seconds\n"
     ]
    }
   ],
   "source": [
    "import concurrent.futures\n",
    "# import threading    - Not required\n",
    "import time\n",
    "\n",
    "start = time.perf_counter() \n",
    "\n",
    "def do_something(seconds):                    \n",
    "    print(f'Sleeping {seconds} second(s)...') \n",
    "    time.sleep(seconds)\n",
    "    #print('Done Sleeping')\n",
    "    return 'Done Sleeping...'\n",
    "\n",
    "with concurrent.futures.ThreadPoolExecutor() as executor:\n",
    "    f1 = executor.submit(do_something, 1)  #submit function will schedule the execution of function and returns a furture object\n",
    "    f2 = executor.submit(do_something, 1)\n",
    "    print(f1.result())\n",
    "    print(f2.result())\n",
    "\n",
    "   \n",
    "finish = time.perf_counter() #calculating overall time at a sequence\n",
    "print(f'Finished in {round(finish-start,2)} seconds')\n"
   ]
  },
  {
   "cell_type": "markdown",
   "id": "96aaf83a-1f6e-43d1-9067-fcc111897263",
   "metadata": {},
   "source": [
    "# Task 11"
   ]
  },
  {
   "cell_type": "code",
   "execution_count": 7,
   "id": "25d02900-1314-496d-b619-208650106488",
   "metadata": {},
   "outputs": [
    {
     "name": "stdout",
     "output_type": "stream",
     "text": [
      "Sleeping 1 second(s)...\n",
      "Sleeping 1 second(s)...\n",
      "Sleeping 1 second(s)...\n",
      "Sleeping 1 second(s)...\n",
      "Sleeping 1 second(s)...\n",
      "Sleeping 1 second(s)...\n",
      "Sleeping 1 second(s)...\n",
      "Sleeping 1 second(s)...\n",
      "Sleeping 1 second(s)...\n",
      "Sleeping 1 second(s)...\n",
      "Done Sleeping...\n",
      "Done Sleeping...\n",
      "Done Sleeping...\n",
      "Done Sleeping...\n",
      "Done Sleeping...\n",
      "Done Sleeping...\n",
      "Done Sleeping...\n",
      "Done Sleeping...\n",
      "Done Sleeping...\n",
      "Done Sleeping...\n",
      "Finished in 1.02 seconds\n"
     ]
    }
   ],
   "source": [
    "#TASK-11\n",
    "import concurrent.futures\n",
    "import time\n",
    "\n",
    "start = time.perf_counter() \n",
    "\n",
    "def do_something(seconds):                    \n",
    "    print(f'Sleeping {seconds} second(s)...') \n",
    "    time.sleep(seconds)\n",
    "    return 'Done Sleeping...'\n",
    "\n",
    "with concurrent.futures.ThreadPoolExecutor() as executor:\n",
    "    results = [executor.submit(do_something, 1) for _ in range(10)] #list comprehension, alternative to loop\n",
    "\n",
    "    for f in concurrent.futures.as_completed(results):\n",
    "        print(f.result())\n",
    "   \n",
    "finish = time.perf_counter()\n",
    "print(f'Finished in {round(finish-start,2)} seconds')\n"
   ]
  },
  {
   "cell_type": "markdown",
   "id": "5db6de71-0b3e-4be6-b42c-da7530f2fb5c",
   "metadata": {},
   "source": [
    "# Task 12"
   ]
  },
  {
   "cell_type": "code",
   "execution_count": 8,
   "id": "58605025-6e11-40bc-933f-2af66517ff21",
   "metadata": {},
   "outputs": [
    {
     "name": "stdout",
     "output_type": "stream",
     "text": [
      "Sleeping [5, 4, 3, 2, 1] second(s)...\n",
      "Sleeping [5, 4, 3, 2, 1] second(s)...\n",
      "Sleeping [5, 4, 3, 2, 1] second(s)...\n",
      "Sleeping [5, 4, 3, 2, 1] second(s)...\n",
      "Sleeping [5, 4, 3, 2, 1] second(s)...\n"
     ]
    },
    {
     "ename": "TypeError",
     "evalue": "'list' object cannot be interpreted as an integer",
     "output_type": "error",
     "traceback": [
      "\u001b[31m---------------------------------------------------------------------------\u001b[39m",
      "\u001b[31mTypeError\u001b[39m                                 Traceback (most recent call last)",
      "\u001b[36mCell\u001b[39m\u001b[36m \u001b[39m\u001b[32mIn[8]\u001b[39m\u001b[32m, line 17\u001b[39m\n\u001b[32m     14\u001b[39m      results = [executor.submit(do_something, s) \u001b[38;5;28;01mfor\u001b[39;00m sec \u001b[38;5;129;01min\u001b[39;00m s] \u001b[38;5;66;03m#list comprehension, alternative to loop\u001b[39;00m\n\u001b[32m     16\u001b[39m      \u001b[38;5;28;01mfor\u001b[39;00m f \u001b[38;5;129;01min\u001b[39;00m concurrent.futures.as_completed(results):\n\u001b[32m---> \u001b[39m\u001b[32m17\u001b[39m          \u001b[38;5;28mprint\u001b[39m(\u001b[43mf\u001b[49m\u001b[43m.\u001b[49m\u001b[43mresult\u001b[49m\u001b[43m(\u001b[49m\u001b[43m)\u001b[49m)\n\u001b[32m     19\u001b[39m finish = time.perf_counter()\n\u001b[32m     20\u001b[39m \u001b[38;5;28mprint\u001b[39m(\u001b[33mf\u001b[39m\u001b[33m'\u001b[39m\u001b[33mFinished in \u001b[39m\u001b[38;5;132;01m{\u001b[39;00m\u001b[38;5;28mround\u001b[39m(finish-start,\u001b[32m2\u001b[39m)\u001b[38;5;132;01m}\u001b[39;00m\u001b[33m seconds\u001b[39m\u001b[33m'\u001b[39m)\n",
      "\u001b[36mFile \u001b[39m\u001b[32mC:\\Program Files\\Python311\\Lib\\concurrent\\futures\\_base.py:449\u001b[39m, in \u001b[36mFuture.result\u001b[39m\u001b[34m(self, timeout)\u001b[39m\n\u001b[32m    447\u001b[39m     \u001b[38;5;28;01mraise\u001b[39;00m CancelledError()\n\u001b[32m    448\u001b[39m \u001b[38;5;28;01melif\u001b[39;00m \u001b[38;5;28mself\u001b[39m._state == FINISHED:\n\u001b[32m--> \u001b[39m\u001b[32m449\u001b[39m     \u001b[38;5;28;01mreturn\u001b[39;00m \u001b[38;5;28;43mself\u001b[39;49m\u001b[43m.\u001b[49m\u001b[43m__get_result\u001b[49m\u001b[43m(\u001b[49m\u001b[43m)\u001b[49m\n\u001b[32m    451\u001b[39m \u001b[38;5;28mself\u001b[39m._condition.wait(timeout)\n\u001b[32m    453\u001b[39m \u001b[38;5;28;01mif\u001b[39;00m \u001b[38;5;28mself\u001b[39m._state \u001b[38;5;129;01min\u001b[39;00m [CANCELLED, CANCELLED_AND_NOTIFIED]:\n",
      "\u001b[36mFile \u001b[39m\u001b[32mC:\\Program Files\\Python311\\Lib\\concurrent\\futures\\_base.py:401\u001b[39m, in \u001b[36mFuture.__get_result\u001b[39m\u001b[34m(self)\u001b[39m\n\u001b[32m    399\u001b[39m \u001b[38;5;28;01mif\u001b[39;00m \u001b[38;5;28mself\u001b[39m._exception:\n\u001b[32m    400\u001b[39m     \u001b[38;5;28;01mtry\u001b[39;00m:\n\u001b[32m--> \u001b[39m\u001b[32m401\u001b[39m         \u001b[38;5;28;01mraise\u001b[39;00m \u001b[38;5;28mself\u001b[39m._exception\n\u001b[32m    402\u001b[39m     \u001b[38;5;28;01mfinally\u001b[39;00m:\n\u001b[32m    403\u001b[39m         \u001b[38;5;66;03m# Break a reference cycle with the exception in self._exception\u001b[39;00m\n\u001b[32m    404\u001b[39m         \u001b[38;5;28mself\u001b[39m = \u001b[38;5;28;01mNone\u001b[39;00m\n",
      "\u001b[36mFile \u001b[39m\u001b[32mC:\\Program Files\\Python311\\Lib\\concurrent\\futures\\thread.py:58\u001b[39m, in \u001b[36m_WorkItem.run\u001b[39m\u001b[34m(self)\u001b[39m\n\u001b[32m     55\u001b[39m     \u001b[38;5;28;01mreturn\u001b[39;00m\n\u001b[32m     57\u001b[39m \u001b[38;5;28;01mtry\u001b[39;00m:\n\u001b[32m---> \u001b[39m\u001b[32m58\u001b[39m     result = \u001b[38;5;28;43mself\u001b[39;49m\u001b[43m.\u001b[49m\u001b[43mfn\u001b[49m\u001b[43m(\u001b[49m\u001b[43m*\u001b[49m\u001b[38;5;28;43mself\u001b[39;49m\u001b[43m.\u001b[49m\u001b[43margs\u001b[49m\u001b[43m,\u001b[49m\u001b[43m \u001b[49m\u001b[43m*\u001b[49m\u001b[43m*\u001b[49m\u001b[38;5;28;43mself\u001b[39;49m\u001b[43m.\u001b[49m\u001b[43mkwargs\u001b[49m\u001b[43m)\u001b[49m\n\u001b[32m     59\u001b[39m \u001b[38;5;28;01mexcept\u001b[39;00m \u001b[38;5;167;01mBaseException\u001b[39;00m \u001b[38;5;28;01mas\u001b[39;00m exc:\n\u001b[32m     60\u001b[39m     \u001b[38;5;28mself\u001b[39m.future.set_exception(exc)\n",
      "\u001b[36mCell\u001b[39m\u001b[36m \u001b[39m\u001b[32mIn[8]\u001b[39m\u001b[32m, line 9\u001b[39m, in \u001b[36mdo_something\u001b[39m\u001b[34m(seconds)\u001b[39m\n\u001b[32m      7\u001b[39m \u001b[38;5;28;01mdef\u001b[39;00m\u001b[38;5;250m \u001b[39m\u001b[34mdo_something\u001b[39m(seconds):                    \n\u001b[32m      8\u001b[39m      \u001b[38;5;28mprint\u001b[39m(\u001b[33mf\u001b[39m\u001b[33m'\u001b[39m\u001b[33mSleeping \u001b[39m\u001b[38;5;132;01m{\u001b[39;00mseconds\u001b[38;5;132;01m}\u001b[39;00m\u001b[33m second(s)...\u001b[39m\u001b[33m'\u001b[39m) \n\u001b[32m----> \u001b[39m\u001b[32m9\u001b[39m      \u001b[43mtime\u001b[49m\u001b[43m.\u001b[49m\u001b[43msleep\u001b[49m\u001b[43m(\u001b[49m\u001b[43mseconds\u001b[49m\u001b[43m)\u001b[49m\n\u001b[32m     10\u001b[39m      \u001b[38;5;28;01mreturn\u001b[39;00m \u001b[33mf\u001b[39m\u001b[33m'\u001b[39m\u001b[33mDone Sleeping...\u001b[39m\u001b[38;5;132;01m{\u001b[39;00mseconds\u001b[38;5;132;01m}\u001b[39;00m\u001b[33m'\u001b[39m\n",
      "\u001b[31mTypeError\u001b[39m: 'list' object cannot be interpreted as an integer"
     ]
    }
   ],
   "source": [
    "#TASK-12\n",
    "import concurrent.futures\n",
    "import time\n",
    "\n",
    "start = time.perf_counter() \n",
    "\n",
    "def do_something(seconds):                    \n",
    "     print(f'Sleeping {seconds} second(s)...') \n",
    "     time.sleep(seconds)\n",
    "     return f'Done Sleeping...{seconds}'\n",
    "\n",
    "with concurrent.futures.ThreadPoolExecutor() as executor:\n",
    "     s = [5,4,3,2,1] #different sleeping time for threads\n",
    "     results = [executor.submit(do_something, s) for sec in s] #list comprehension, alternative to loop\n",
    "\n",
    "     for f in concurrent.futures.as_completed(results):\n",
    "         print(f.result())\n",
    "      \n",
    "finish = time.perf_counter()\n",
    "print(f'Finished in {round(finish-start,2)} seconds')\n"
   ]
  },
  {
   "cell_type": "markdown",
   "id": "b39bfb01-693a-4d43-bdc0-f8e54c53043e",
   "metadata": {},
   "source": [
    "# ERROR\n",
    "# The time.sleep() function expects a single numerical value (an integer or float) representing the number of seconds to pause execution. However, in your original list comprehension [executor.submit(do_something, s) for sec in s], you are repeatedly passing the entire list s to the function."
   ]
  },
  {
   "cell_type": "markdown",
   "id": "1a352fa6-a2d3-4b5a-ac07-6376d5dc7ca7",
   "metadata": {},
   "source": [
    "# Task 12- corrected"
   ]
  },
  {
   "cell_type": "code",
   "execution_count": 9,
   "id": "0f544eb7-4609-46aa-b6f0-21cd309ba552",
   "metadata": {},
   "outputs": [
    {
     "name": "stdout",
     "output_type": "stream",
     "text": [
      "Sleeping 5 second(s)...\n",
      "Sleeping 4 second(s)...\n",
      "Sleeping 3 second(s)...\n",
      "Sleeping 2 second(s)...\n",
      "Sleeping 1 second(s)...\n",
      "Done Sleeping...1\n",
      "Done Sleeping...2\n",
      "Done Sleeping...3\n",
      "Done Sleeping...4\n",
      "Done Sleeping...5\n",
      "Finished in 5.01 seconds\n"
     ]
    }
   ],
   "source": [
    "#TASK-12 (CORRECTED CODE)\n",
    "import concurrent.futures\n",
    "import time\n",
    "\n",
    "start = time.perf_counter()\n",
    "\n",
    "def do_something(seconds):\n",
    "    print(f'Sleeping {seconds} second(s)...')\n",
    "    time.sleep(seconds)\n",
    "    return f'Done Sleeping...{seconds}'\n",
    "\n",
    "with concurrent.futures.ThreadPoolExecutor() as executor:\n",
    "    s = [5, 4, 3, 2, 1]  # different sleeping time for threads\n",
    "    results = [executor.submit(do_something, sec) for sec in s]\n",
    "\n",
    "    for f in concurrent.futures.as_completed(results):\n",
    "        print(f.result())\n",
    "\n",
    "finish = time.perf_counter()\n",
    "print(f'Finished in {round(finish - start, 2)} seconds')"
   ]
  },
  {
   "cell_type": "markdown",
   "id": "644e1757-1d5d-4036-89dc-41d87d2f86e5",
   "metadata": {},
   "source": [
    "# Task 13"
   ]
  },
  {
   "cell_type": "code",
   "execution_count": 10,
   "id": "a3a56792-57c5-485e-9547-8c4d38a3af7b",
   "metadata": {},
   "outputs": [
    {
     "name": "stdout",
     "output_type": "stream",
     "text": [
      "John\n",
      "Mark\n",
      "Elon\n",
      "Callahan\n",
      "24\n",
      "32\n",
      "34\n",
      "42\n"
     ]
    }
   ],
   "source": [
    "#TASK-13\n",
    "import threading\n",
    "import time\n",
    "import random\n",
    "\n",
    "def print_names():\n",
    "    for name in ('John', 'Mark', 'Elon', 'Callahan'):\n",
    "        print (name)\n",
    "        time.sleep(random.uniform ( 0.5, 1.5))\n",
    "\n",
    "def print_ages():\n",
    "    for _ in range(4):\n",
    "        print(random.randint(20,50))\n",
    "        time.sleep(random.uniform(0.5,1.5))\n",
    "\n",
    "print_names()\n",
    "print_ages()\n",
    "# without using thread concept, simply calling the function"
   ]
  },
  {
   "cell_type": "markdown",
   "id": "f05aca2b-de6e-4a25-bf0d-d29df44bd019",
   "metadata": {},
   "source": [
    " # Task 14"
   ]
  },
  {
   "cell_type": "code",
   "execution_count": 11,
   "id": "5e6fe520-9179-4f14-a5ee-db3a975c7da5",
   "metadata": {},
   "outputs": [
    {
     "name": "stdout",
     "output_type": "stream",
     "text": [
      "John\n",
      "32\n",
      "49\n",
      "Mark\n",
      "42\n",
      "Elon\n",
      "26\n",
      "Callahan\n"
     ]
    }
   ],
   "source": [
    "#TASK-14\n",
    "import threading\n",
    "import time\n",
    "import random\n",
    "\n",
    "def print_names():\n",
    "    for name in ('John', 'Mark', 'Elon', 'Callahan'):\n",
    "        print (name)\n",
    "        time.sleep(random.uniform ( 0.5, 1.5))\n",
    "\n",
    "def print_ages():\n",
    "    for _ in range(4):\n",
    "        print(random.randint(20,50))\n",
    "        time.sleep(random.uniform(0.5,1.5))\n",
    "\n",
    "\n",
    "t1 = threading.Thread(target = print_names)\n",
    "t2 = threading.Thread(target = print_ages)\n",
    "\n",
    "# The above threads are not doing anything yet. To do that, use start()\n",
    "\n",
    "t1.start()\n",
    "t2.start()\n",
    "\n",
    "# t1.join()\n",
    "# t2.join()\n",
    "# JOIN() NOT used - So, it will not make sure that the threads complete before moving on to the next part of the code"
   ]
  },
  {
   "cell_type": "markdown",
   "id": "11f38f3e-2219-4cf9-ac7b-a5203703328e",
   "metadata": {},
   "source": [
    "# TASK-15"
   ]
  },
  {
   "cell_type": "code",
   "execution_count": 12,
   "id": "5a2160f3-4d2d-4f9c-9520-ba24f497efd1",
   "metadata": {},
   "outputs": [
    {
     "name": "stdout",
     "output_type": "stream",
     "text": [
      "John\n",
      "35\n",
      "43\n",
      "Mark\n",
      "Elon\n",
      "48\n",
      "Callahan\n",
      "45\n"
     ]
    }
   ],
   "source": [
    "#TASK-15\n",
    "import threading\n",
    "import time\n",
    "import random\n",
    "\n",
    "def print_names():\n",
    "    for name in ('John', 'Mark', 'Elon', 'Callahan'):\n",
    "        print (name)\n",
    "        time.sleep(random.uniform ( 0.5, 1.5))\n",
    "\n",
    "def print_ages():\n",
    "    for _ in range(4):\n",
    "        print(random.randint(20,50))\n",
    "        time.sleep(random.uniform(0.5,1.5))\n",
    "\n",
    "\n",
    "t1 = threading.Thread(target = print_names)\n",
    "t2 = threading.Thread(target = print_ages)\n",
    "\n",
    "# The above threads are not doing anything yet. To do that, use start()\n",
    "\n",
    "t1.start()\n",
    "t2.start()\n",
    "\n",
    "t1.join()\n",
    "t2.join()\n",
    "# JOIN() is used - It makes sure that the threads complete before moving on to the next part of the code"
   ]
  },
  {
   "cell_type": "code",
   "execution_count": 13,
   "id": "695f9831-c7da-4c48-9bdb-9fe2713c695e",
   "metadata": {},
   "outputs": [],
   "source": [
    "#The execution moves between the threads when one is sleeping to the other"
   ]
  },
  {
   "cell_type": "markdown",
   "id": "887062d1-5a1d-4f0c-b4d0-5d7092884c8b",
   "metadata": {},
   "source": [
    "# TASK-16"
   ]
  },
  {
   "cell_type": "code",
   "execution_count": 16,
   "id": "9ffb6fe4-5bcb-4cdb-a5d3-740e1cb038b3",
   "metadata": {},
   "outputs": [
    {
     "name": "stdout",
     "output_type": "stream",
     "text": [
      "Downloading https://github.com/Reenasri-17/Advance-python-programming-LAB-/blob/main/lab(01-08-25)/lab(1-8-25)_reena.ipynb to Downloads\\lab(1-8-25)_reena.ipynb\n",
      "Downloading https://github.com/Reenasri-17/Advance-python-programming-LAB-/blob/main/Lab2(15-07-25)/reena_lab2(1).ipynb to Downloads\\reena_lab2(1).ipynb\n",
      "Finished Downloading Downloads\\reena_lab2(1).ipynb\n",
      "Finished Downloading Downloads\\lab(1-8-25)_reena.ipynb\n",
      "All downloads complete.\n"
     ]
    }
   ],
   "source": [
    "#TASK-16\n",
    "import threading\n",
    "import requests\n",
    "from pathlib import Path\n",
    "\n",
    "# Create the Downloads directory if it doesn't exist\n",
    "Path(\"Downloads\").mkdir(exist_ok=True)\n",
    "\n",
    "def download_file(url, filename):\n",
    "    print(f'Downloading {url} to {filename}')\n",
    "    try:\n",
    "        response = requests.get(url)\n",
    "        response.raise_for_status() # Raise an exception for bad status codes (4xx or 5xx)\n",
    "        Path(filename).write_bytes(response.content)\n",
    "        print(f'Finished Downloading {filename}')\n",
    "    except requests.exceptions.RequestException as e:\n",
    "        print(f'Error downloading {url}: {e}')\n",
    "\n",
    "# Replace these URLs with your GitHub raw file URLs\n",
    "urls = [\n",
    "'https://github.com/Reenasri-17/Advance-python-programming-LAB-/blob/main/lab(01-08-25)/lab(1-8-25)_reena.ipynb',\n",
    "'https://github.com/Reenasri-17/Advance-python-programming-LAB-/blob/main/Lab2(15-07-25)/reena_lab2(1).ipynb',\n",
    "]\n",
    "\n",
    "threads = []\n",
    "for url in urls:\n",
    "    # Use the last part of the URL as the filename\n",
    "    filename = Path(\"Downloads\") / url.split(\"/\")[-1]\n",
    "    t = threading.Thread(target=download_file, args=(url, filename))\n",
    "    t.start()\n",
    "    threads.append(t)\n",
    "\n",
    "# Wait for all threads to complete\n",
    "[t.join() for t in threads]\n",
    "\n",
    "print(\"All downloads complete.\")"
   ]
  },
  {
   "cell_type": "markdown",
   "id": "f9c48321-6ef4-434a-ade9-79fa8175c66d",
   "metadata": {},
   "source": [
    "# Task 17"
   ]
  },
  {
   "cell_type": "code",
   "execution_count": 15,
   "id": "b5fad323-9170-4d24-afde-bcf5270ff93c",
   "metadata": {},
   "outputs": [
    {
     "name": "stdout",
     "output_type": "stream",
     "text": [
      "Starting request for https://jsonplaceholder.typicode.com/posts/1Starting request for https://jsonplaceholder.typicode.com/comments/1\n",
      "\n",
      "Starting request for https://jsonplaceholder.typicode.com/users/1\n",
      "Finished request for https://jsonplaceholder.typicode.com/posts/1.Finished request for https://jsonplaceholder.typicode.com/users/1.\n",
      "\n",
      "Finished request for https://jsonplaceholder.typicode.com/comments/1.\n",
      "\n",
      "--- All Data Fetched ---\n",
      "\n",
      "Data for endpoint 'users/1':\n",
      "{\n",
      "  \"id\": 1,\n",
      "  \"name\": \"Leanne Graham\",\n",
      "  \"username\": \"Bret\",\n",
      "  \"email\": \"Sincere@april.biz\",\n",
      "  \"address\": {\n",
      "    \"street\": \"Kulas Light\",\n",
      "    \"suite\": \"Apt. 556\",\n",
      "    \"city\": \"Gwenborough\",\n",
      "    \"zipcode\": \"92998-3874\",\n",
      "    \"geo\": {\n",
      "      \"lat\": \"-37.3159\",\n",
      "      \"lng\": \"81.1496\"\n",
      "    }\n",
      "  },\n",
      "  \"phone\": \"1-770-736-8031 x56442\",\n",
      "  \"website\": \"hildegard.org\",\n",
      "  \"company\": {\n",
      "    \"name\": \"Romaguera-Crona\",\n",
      "    \"catchPhrase\": \"Multi-layered client-server neural-net\",\n",
      "    \"bs\": \"harness real-time e-markets\"\n",
      "  }\n",
      "}\n",
      "\n",
      "Data for endpoint 'comments/1':\n",
      "{\n",
      "  \"postId\": 1,\n",
      "  \"id\": 1,\n",
      "  \"name\": \"id labore ex et quam laborum\",\n",
      "  \"email\": \"Eliseo@gardner.biz\",\n",
      "  \"body\": \"laudantium enim quasi est quidem magnam voluptate ipsam eos\\ntempora quo necessitatibus\\ndolor quam autem quasi\\nreiciendis et nam sapiente accusantium\"\n",
      "}\n",
      "\n",
      "Data for endpoint 'posts/1':\n",
      "{\n",
      "  \"userId\": 1,\n",
      "  \"id\": 1,\n",
      "  \"title\": \"sunt aut facere repellat provident occaecati excepturi optio reprehenderit\",\n",
      "  \"body\": \"quia et suscipit\\nsuscipit recusandae consequuntur expedita et cum\\nreprehenderit molestiae ut ut quas totam\\nnostrum rerum est autem sunt rem eveniet architecto\"\n",
      "}\n",
      "\n",
      "All API requests finished in 0.96 seconds.\n"
     ]
    }
   ],
   "source": [
    "#TASK-17\n",
    "import threading\n",
    "import requests\n",
    "import time\n",
    "\n",
    "def fetch_api_data(endpoint):\n",
    "    \"\"\"\n",
    "    Function to make a GET request to an API endpoint and return the fetched data.\n",
    "    \"\"\"\n",
    "    url = f\"https://jsonplaceholder.typicode.com/{endpoint}\"\n",
    "    print(f'Starting request for {url}')\n",
    "    try:\n",
    "        response = requests.get(url, timeout=10)\n",
    "        response.raise_for_status()\n",
    "        data = response.json()\n",
    "        print(f'Finished request for {url}.')\n",
    "        return {endpoint: data} # Return a dictionary with the endpoint as key\n",
    "    except requests.exceptions.RequestException as e:\n",
    "        print(f'Error fetching data from {url}: {e}')\n",
    "        return {endpoint: None} # Return None on error\n",
    "\n",
    "# A shared list to store the results from each thread\n",
    "results = []\n",
    "results_lock = threading.Lock() # A lock to ensure thread-safe appending\n",
    "\n",
    "def thread_worker(endpoint):\n",
    "    \"\"\"\n",
    "    Worker function to run in each thread.\n",
    "    \"\"\"\n",
    "    data = fetch_api_data(endpoint)\n",
    "    if data:\n",
    "        with results_lock:\n",
    "            results.append(data)\n",
    "\n",
    "start_time = time.perf_counter()\n",
    "\n",
    "# A list of API endpoints to fetch data from\n",
    "endpoints = [\n",
    "    'posts/1',    # Fetches a single post\n",
    "    'comments/1', # Fetches a single comment\n",
    "    'users/1'     # Fetches a single user\n",
    "]\n",
    "\n",
    "threads = []\n",
    "for endpoint in endpoints:\n",
    "    t = threading.Thread(target=thread_worker, args=(endpoint,))\n",
    "    t.start()\n",
    "    threads.append(t)\n",
    "\n",
    "# Wait for all threads to complete\n",
    "for t in threads:\n",
    "    t.join()\n",
    "\n",
    "end_time = time.perf_counter()\n",
    "\n",
    "print(\"\\n--- All Data Fetched ---\")\n",
    "for item in results:\n",
    "    for endpoint, data in item.items():\n",
    "        print(f\"\\nData for endpoint '{endpoint}':\")\n",
    "        if data:\n",
    "            # Print the fetched data in a readable format\n",
    "            import json\n",
    "            print(json.dumps(data, indent=2))\n",
    "        else:\n",
    "            print(\"No data received.\")\n",
    "\n",
    "print(f'\\nAll API requests finished in {round(end_time - start_time, 2)} seconds.')"
   ]
  },
  {
   "cell_type": "code",
   "execution_count": null,
   "id": "7aa8b88f-edca-45f8-ad81-69ae6f0c306d",
   "metadata": {},
   "outputs": [],
   "source": []
  }
 ],
 "metadata": {
  "kernelspec": {
   "display_name": "Python 3 (ipykernel)",
   "language": "python",
   "name": "python3"
  },
  "language_info": {
   "codemirror_mode": {
    "name": "ipython",
    "version": 3
   },
   "file_extension": ".py",
   "mimetype": "text/x-python",
   "name": "python",
   "nbconvert_exporter": "python",
   "pygments_lexer": "ipython3",
   "version": "3.11.4"
  }
 },
 "nbformat": 4,
 "nbformat_minor": 5
}
