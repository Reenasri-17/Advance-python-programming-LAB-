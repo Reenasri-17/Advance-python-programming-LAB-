{
 "cells": [
  {
   "cell_type": "markdown",
   "id": "0897927a-27fb-4e89-a48f-958788720e06",
   "metadata": {},
   "source": [
    "# LAB -13 \n",
    "## ADVANCE PYTHON PROGRAMMING\n",
    "## G REENA SRI - 22MID0009"
   ]
  },
  {
   "cell_type": "markdown",
   "id": "a1eda62c-43c2-4412-adb3-796ed2391432",
   "metadata": {},
   "source": [
    "## 1. Read from an Excel file"
   ]
  },
  {
   "cell_type": "code",
   "execution_count": 1,
   "id": "a4f10d3f-034f-4e00-9e1d-9400176252c2",
   "metadata": {},
   "outputs": [
    {
     "name": "stdout",
     "output_type": "stream",
     "text": [
      "Excel Data:\n",
      "   ID      Name  Age Department  Salary  Experience Joining_Date  \\\n",
      "0   1  Person_1   53    Finance  116904           5   2010-01-01   \n",
      "1   2  Person_2   26         IT  107729           6   2010-01-02   \n",
      "2   3  Person_3   42    Finance   74951           5   2010-01-03   \n",
      "3   4  Person_4   58      Sales   69412           4   2010-01-04   \n",
      "4   5  Person_5   44      Sales  107648           7   2010-01-05   \n",
      "\n",
      "   Performance_Score  \n",
      "0                  8  \n",
      "1                  6  \n",
      "2                  9  \n",
      "3                  9  \n",
      "4                  3  \n"
     ]
    }
   ],
   "source": [
    "import pandas as pd\n",
    "\n",
    "# Read Excel file (first sheet by default)\n",
    "df = pd.read_excel(\"input.xlsx\")\n",
    "\n",
    "print(\"Excel Data:\")\n",
    "print(df.head())  # show first few rows\n"
   ]
  },
  {
   "cell_type": "markdown",
   "id": "c2481eaf-0661-4a91-a2a1-d66b9545e99e",
   "metadata": {},
   "source": [
    "## 2. Extract the contents"
   ]
  },
  {
   "cell_type": "code",
   "execution_count": 3,
   "id": "0bf037af-6bce-4ac0-a156-55a5e6eb7d33",
   "metadata": {},
   "outputs": [
    {
     "name": "stdout",
     "output_type": "stream",
     "text": [
      "Filtered Data:\n",
      "        ID         Name  Age Department  Salary  Experience Joining_Date  \\\n",
      "0        1     Person_1   53    Finance  116904           5   2010-01-01   \n",
      "1        2     Person_2   26         IT  107729           6   2010-01-02   \n",
      "2        3     Person_3   42    Finance   74951           5   2010-01-03   \n",
      "3        4     Person_4   58      Sales   69412           4   2010-01-04   \n",
      "4        5     Person_5   44      Sales  107648           7   2010-01-05   \n",
      "...    ...          ...  ...        ...     ...         ...          ...   \n",
      "2994  2995  Person_2995   29      Sales   40714           9   2018-03-14   \n",
      "2995  2996  Person_2996   51         HR  107438          11   2018-03-15   \n",
      "2996  2997  Person_2997   45         HR   83688          28   2018-03-16   \n",
      "2998  2999  Person_2999   57      Sales   90998          25   2018-03-18   \n",
      "2999  3000  Person_3000   33  Marketing   58066          20   2018-03-19   \n",
      "\n",
      "      Performance_Score  \n",
      "0                     8  \n",
      "1                     6  \n",
      "2                     9  \n",
      "3                     9  \n",
      "4                     3  \n",
      "...                 ...  \n",
      "2994                  7  \n",
      "2995                  6  \n",
      "2996                  7  \n",
      "2998                  4  \n",
      "2999                  8  \n",
      "\n",
      "[2446 rows x 8 columns]\n"
     ]
    }
   ],
   "source": [
    "# Extract one column\n",
    "names = df[\"Name\"]\n",
    "\n",
    "# Extract rows where Age > 25\n",
    "filtered = df[df[\"Age\"] > 25]\n",
    "\n",
    "print(\"Filtered Data:\")\n",
    "print(filtered) #displaying data whose age is greater than 25\n"
   ]
  },
  {
   "cell_type": "code",
   "execution_count": 4,
   "id": "5eb5b09b-ad69-43ca-b67b-48fd133830f0",
   "metadata": {},
   "outputs": [
    {
     "name": "stdout",
     "output_type": "stream",
     "text": [
      "0          Person_1\n",
      "1          Person_2\n",
      "2          Person_3\n",
      "3          Person_4\n",
      "4          Person_5\n",
      "           ...     \n",
      "2995    Person_2996\n",
      "2996    Person_2997\n",
      "2997    Person_2998\n",
      "2998    Person_2999\n",
      "2999    Person_3000\n",
      "Name: Name, Length: 3000, dtype: object\n"
     ]
    }
   ],
   "source": [
    "print(names)"
   ]
  },
  {
   "cell_type": "markdown",
   "id": "13bcfcbb-b9a4-4f19-a2cd-03ea430320b2",
   "metadata": {},
   "source": [
    "## 3. Write the output of a Query into an Excel file"
   ]
  },
  {
   "cell_type": "code",
   "execution_count": 6,
   "id": "7701d108-c852-4163-bf01-43d2c709fa63",
   "metadata": {},
   "outputs": [
    {
     "name": "stdout",
     "output_type": "stream",
     "text": [
      "Filtered results written to output.xlsx\n"
     ]
    }
   ],
   "source": [
    "# Write filtered data to new Excel file\n",
    "filtered.to_excel(\"output.xlsx\", index=False)\n",
    "\n",
    "print(\"Filtered results written to output.xlsx\")\n"
   ]
  },
  {
   "cell_type": "markdown",
   "id": "b66770c2-2dab-4b61-8b24-cb568885fa4e",
   "metadata": {},
   "source": [
    "## some other operations"
   ]
  },
  {
   "cell_type": "code",
   "execution_count": 8,
   "id": "de91c5ca-6bf6-4d1b-a50d-396871b15cc0",
   "metadata": {},
   "outputs": [
    {
     "name": "stdout",
     "output_type": "stream",
     "text": [
      "0       2010\n",
      "1       2010\n",
      "2       2010\n",
      "3       2010\n",
      "4       2010\n",
      "        ... \n",
      "2995    2018\n",
      "2996    2018\n",
      "2997    2018\n",
      "2998    2018\n",
      "2999    2018\n",
      "Name: Joining_Date, Length: 3000, dtype: int32\n"
     ]
    }
   ],
   "source": [
    "#Date & Time Operations\n",
    "print(df[\"Joining_Date\"].dt.year)"
   ]
  },
  {
   "cell_type": "code",
   "execution_count": 10,
   "id": "ee3704aa-6c0b-432e-bb8c-047c1d293f53",
   "metadata": {},
   "outputs": [
    {
     "name": "stdout",
     "output_type": "stream",
     "text": [
      "0       1\n",
      "1       1\n",
      "2       1\n",
      "3       1\n",
      "4       1\n",
      "       ..\n",
      "2995    3\n",
      "2996    3\n",
      "2997    3\n",
      "2998    3\n",
      "2999    3\n",
      "Name: Joining_Date, Length: 3000, dtype: int32\n"
     ]
    }
   ],
   "source": [
    "print(df[\"Joining_Date\"].dt.month)"
   ]
  },
  {
   "cell_type": "code",
   "execution_count": 12,
   "id": "ab4f7669-a796-4639-9010-e6e1545fe3ad",
   "metadata": {},
   "outputs": [
    {
     "name": "stdout",
     "output_type": "stream",
     "text": [
      "38.792\n",
      "26095.502090566384\n",
      "111286.0\n"
     ]
    }
   ],
   "source": [
    "#Statistical & Numerical Ops (NumPy + Pandas)\n",
    "import numpy as np \n",
    "print(np.mean(df[\"Age\"]))\n",
    "print(np.std(df[\"Salary\"]))\n",
    "print(np.percentile(df[\"Salary\"], 90))\n"
   ]
  },
  {
   "cell_type": "markdown",
   "id": "d9a50671-a0c3-4147-bb59-e79c23f63e48",
   "metadata": {},
   "source": [
    "### Notes\n",
    "- Data Cleaning\n",
    "\n",
    "        - Drop missing values: df.dropna()\n",
    "\n",
    "        - Fill missing values: df.fillna(0)\n",
    "\n",
    "        - Remove duplicates: df.drop_duplicates()\n",
    "\n",
    "        - Replace values: df.replace(\"HR\", \"Human Resources\")"
   ]
  },
  {
   "cell_type": "code",
   "execution_count": 13,
   "id": "5d532611-8581-49e2-97f0-76e17bf38efd",
   "metadata": {},
   "outputs": [
    {
     "name": "stdout",
     "output_type": "stream",
     "text": [
      "0          PERSON_1\n",
      "1          PERSON_2\n",
      "2          PERSON_3\n",
      "3          PERSON_4\n",
      "4          PERSON_5\n",
      "           ...     \n",
      "2995    PERSON_2996\n",
      "2996    PERSON_2997\n",
      "2997    PERSON_2998\n",
      "2998    PERSON_2999\n",
      "2999    PERSON_3000\n",
      "Name: Name, Length: 3000, dtype: object\n",
      "0       False\n",
      "1        True\n",
      "2       False\n",
      "3       False\n",
      "4       False\n",
      "        ...  \n",
      "2995    False\n",
      "2996    False\n",
      "2997     True\n",
      "2998    False\n",
      "2999    False\n",
      "Name: Department, Length: 3000, dtype: bool\n"
     ]
    }
   ],
   "source": [
    "#String Operations\n",
    "print(df[\"Name\"].str.upper())\n",
    "\n",
    "print(df[\"Department\"].str.contains(\"IT\"))"
   ]
  },
  {
   "cell_type": "code",
   "execution_count": 14,
   "id": "1bc7b2f0-0817-4e1f-8691-5f2f6781bf6b",
   "metadata": {},
   "outputs": [
    {
     "data": {
      "text/html": [
       "<div>\n",
       "<style scoped>\n",
       "    .dataframe tbody tr th:only-of-type {\n",
       "        vertical-align: middle;\n",
       "    }\n",
       "\n",
       "    .dataframe tbody tr th {\n",
       "        vertical-align: top;\n",
       "    }\n",
       "\n",
       "    .dataframe thead th {\n",
       "        text-align: right;\n",
       "    }\n",
       "</style>\n",
       "<table border=\"1\" class=\"dataframe\">\n",
       "  <thead>\n",
       "    <tr style=\"text-align: right;\">\n",
       "      <th></th>\n",
       "      <th>ID</th>\n",
       "      <th>Name</th>\n",
       "      <th>Age</th>\n",
       "      <th>Department</th>\n",
       "      <th>Salary</th>\n",
       "      <th>Experience</th>\n",
       "      <th>Joining_Date</th>\n",
       "      <th>Performance_Score</th>\n",
       "      <th>Year</th>\n",
       "      <th>Month</th>\n",
       "    </tr>\n",
       "  </thead>\n",
       "  <tbody>\n",
       "    <tr>\n",
       "      <th>6</th>\n",
       "      <td>7</td>\n",
       "      <td>Person_7</td>\n",
       "      <td>41</td>\n",
       "      <td>IT</td>\n",
       "      <td>31040</td>\n",
       "      <td>6</td>\n",
       "      <td>2010-01-07</td>\n",
       "      <td>1</td>\n",
       "      <td>2010</td>\n",
       "      <td>1</td>\n",
       "    </tr>\n",
       "    <tr>\n",
       "      <th>24</th>\n",
       "      <td>25</td>\n",
       "      <td>Person_25</td>\n",
       "      <td>58</td>\n",
       "      <td>IT</td>\n",
       "      <td>92271</td>\n",
       "      <td>29</td>\n",
       "      <td>2010-01-25</td>\n",
       "      <td>1</td>\n",
       "      <td>2010</td>\n",
       "      <td>1</td>\n",
       "    </tr>\n",
       "    <tr>\n",
       "      <th>36</th>\n",
       "      <td>37</td>\n",
       "      <td>Person_37</td>\n",
       "      <td>46</td>\n",
       "      <td>IT</td>\n",
       "      <td>106021</td>\n",
       "      <td>5</td>\n",
       "      <td>2010-02-06</td>\n",
       "      <td>2</td>\n",
       "      <td>2010</td>\n",
       "      <td>2</td>\n",
       "    </tr>\n",
       "    <tr>\n",
       "      <th>46</th>\n",
       "      <td>47</td>\n",
       "      <td>Person_47</td>\n",
       "      <td>38</td>\n",
       "      <td>IT</td>\n",
       "      <td>77585</td>\n",
       "      <td>26</td>\n",
       "      <td>2010-02-16</td>\n",
       "      <td>1</td>\n",
       "      <td>2010</td>\n",
       "      <td>2</td>\n",
       "    </tr>\n",
       "    <tr>\n",
       "      <th>55</th>\n",
       "      <td>56</td>\n",
       "      <td>Person_56</td>\n",
       "      <td>49</td>\n",
       "      <td>IT</td>\n",
       "      <td>111236</td>\n",
       "      <td>27</td>\n",
       "      <td>2010-02-25</td>\n",
       "      <td>5</td>\n",
       "      <td>2010</td>\n",
       "      <td>2</td>\n",
       "    </tr>\n",
       "    <tr>\n",
       "      <th>...</th>\n",
       "      <td>...</td>\n",
       "      <td>...</td>\n",
       "      <td>...</td>\n",
       "      <td>...</td>\n",
       "      <td>...</td>\n",
       "      <td>...</td>\n",
       "      <td>...</td>\n",
       "      <td>...</td>\n",
       "      <td>...</td>\n",
       "      <td>...</td>\n",
       "    </tr>\n",
       "    <tr>\n",
       "      <th>2970</th>\n",
       "      <td>2971</td>\n",
       "      <td>Person_2971</td>\n",
       "      <td>39</td>\n",
       "      <td>IT</td>\n",
       "      <td>116105</td>\n",
       "      <td>28</td>\n",
       "      <td>2018-02-18</td>\n",
       "      <td>5</td>\n",
       "      <td>2018</td>\n",
       "      <td>2</td>\n",
       "    </tr>\n",
       "    <tr>\n",
       "      <th>2973</th>\n",
       "      <td>2974</td>\n",
       "      <td>Person_2974</td>\n",
       "      <td>57</td>\n",
       "      <td>IT</td>\n",
       "      <td>37789</td>\n",
       "      <td>21</td>\n",
       "      <td>2018-02-21</td>\n",
       "      <td>9</td>\n",
       "      <td>2018</td>\n",
       "      <td>2</td>\n",
       "    </tr>\n",
       "    <tr>\n",
       "      <th>2977</th>\n",
       "      <td>2978</td>\n",
       "      <td>Person_2978</td>\n",
       "      <td>42</td>\n",
       "      <td>IT</td>\n",
       "      <td>53029</td>\n",
       "      <td>7</td>\n",
       "      <td>2018-02-25</td>\n",
       "      <td>5</td>\n",
       "      <td>2018</td>\n",
       "      <td>2</td>\n",
       "    </tr>\n",
       "    <tr>\n",
       "      <th>2984</th>\n",
       "      <td>2985</td>\n",
       "      <td>Person_2985</td>\n",
       "      <td>43</td>\n",
       "      <td>IT</td>\n",
       "      <td>62781</td>\n",
       "      <td>6</td>\n",
       "      <td>2018-03-04</td>\n",
       "      <td>9</td>\n",
       "      <td>2018</td>\n",
       "      <td>3</td>\n",
       "    </tr>\n",
       "    <tr>\n",
       "      <th>2992</th>\n",
       "      <td>2993</td>\n",
       "      <td>Person_2993</td>\n",
       "      <td>56</td>\n",
       "      <td>IT</td>\n",
       "      <td>76055</td>\n",
       "      <td>26</td>\n",
       "      <td>2018-03-12</td>\n",
       "      <td>1</td>\n",
       "      <td>2018</td>\n",
       "      <td>3</td>\n",
       "    </tr>\n",
       "  </tbody>\n",
       "</table>\n",
       "<p>393 rows × 10 columns</p>\n",
       "</div>"
      ],
      "text/plain": [
       "        ID         Name  Age Department  Salary  Experience Joining_Date  \\\n",
       "6        7     Person_7   41         IT   31040           6   2010-01-07   \n",
       "24      25    Person_25   58         IT   92271          29   2010-01-25   \n",
       "36      37    Person_37   46         IT  106021           5   2010-02-06   \n",
       "46      47    Person_47   38         IT   77585          26   2010-02-16   \n",
       "55      56    Person_56   49         IT  111236          27   2010-02-25   \n",
       "...    ...          ...  ...        ...     ...         ...          ...   \n",
       "2970  2971  Person_2971   39         IT  116105          28   2018-02-18   \n",
       "2973  2974  Person_2974   57         IT   37789          21   2018-02-21   \n",
       "2977  2978  Person_2978   42         IT   53029           7   2018-02-25   \n",
       "2984  2985  Person_2985   43         IT   62781           6   2018-03-04   \n",
       "2992  2993  Person_2993   56         IT   76055          26   2018-03-12   \n",
       "\n",
       "      Performance_Score  Year  Month  \n",
       "6                     1  2010      1  \n",
       "24                    1  2010      1  \n",
       "36                    2  2010      2  \n",
       "46                    1  2010      2  \n",
       "55                    5  2010      2  \n",
       "...                 ...   ...    ...  \n",
       "2970                  5  2018      2  \n",
       "2973                  9  2018      2  \n",
       "2977                  5  2018      2  \n",
       "2984                  9  2018      3  \n",
       "2992                  1  2018      3  \n",
       "\n",
       "[393 rows x 10 columns]"
      ]
     },
     "execution_count": 14,
     "metadata": {},
     "output_type": "execute_result"
    }
   ],
   "source": [
    "#Data Selection & Filtering\n",
    "df[(df[\"Age\"] > 30) & (df[\"Department\"] == \"IT\")]"
   ]
  },
  {
   "cell_type": "markdown",
   "id": "e8ba4199-71aa-441c-beab-876b21bb5ee3",
   "metadata": {},
   "source": [
    "### Notes:\n",
    "- Sorting & Ranking\n",
    "\n",
    "        - Sort values: df.sort_values(by=\"Salary\", ascending=False)\n",
    "\n",
    "        - Rank: df[\"Salary_Rank\"] = df[\"Salary\"].rank(ascending=False)"
   ]
  },
  {
   "cell_type": "code",
   "execution_count": 15,
   "id": "29594ef8-b385-453c-b7c1-1da28ad97772",
   "metadata": {},
   "outputs": [
    {
     "data": {
      "image/png": "[encoded data removed]",
      "text/plain": [
       "<Figure size 640x480 with 1 Axes>"
      ]
     },
     "metadata": {},
     "output_type": "display_data"
    }
   ],
   "source": [
    "#Visualization (with Matplotlib/Seaborn)\n",
    "import matplotlib.pyplot as plt\n",
    "df[\"Salary\"].hist()\n",
    "plt.show()\n"
   ]
  },
  {
   "cell_type": "code",
   "execution_count": null,
   "id": "7afb6bcd-762a-45c5-bb48-1a7ba5bd3058",
   "metadata": {},
   "outputs": [],
   "source": []
  }
 ],
 "metadata": {
  "kernelspec": {
   "display_name": "Python 3 (ipykernel)",
   "language": "python",
   "name": "python3"
  },
  "language_info": {
   "codemirror_mode": {
    "name": "ipython",
    "version": 3
   },
   "file_extension": ".py",
   "mimetype": "text/x-python",
   "name": "python",
   "nbconvert_exporter": "python",
   "pygments_lexer": "ipython3",
   "version": "3.11.4"
  }
 },
 "nbformat": 4,
 "nbformat_minor": 5
}
