{
 "cells": [
  {
   "cell_type": "markdown",
   "id": "f3562f34-ca3b-4dfc-8af8-bb1380fff7c2",
   "metadata": {},
   "source": [
    "Functions"
   ]
  },
  {
   "cell_type": "markdown",
   "id": "71d41bb4-bfc6-401c-bd83-387eb5bee272",
   "metadata": {},
   "source": [
    "1.PASSING ARGUMENTS -POSITIONAL ARGUMENTS"
   ]
  },
  {
   "cell_type": "code",
   "execution_count": 1,
   "id": "0bf88c20-2211-44e5-abb5-e6c4f6b14645",
   "metadata": {},
   "outputs": [
    {
     "name": "stdout",
     "output_type": "stream",
     "text": [
      "Jimi Hendrix\n"
     ]
    }
   ],
   "source": [
    "#returning a simple value\n",
    "def get_formatted_name(first_name,last_name): #defining a function\n",
    "    \"\"\" Return a full name,neatly formatted.\"\"\"\n",
    "    full_name=f\"{first_name} {last_name}\"  \n",
    "    return full_name.title() #returning the passed_arguments\n",
    "\n",
    "musician =get_formatted_name('jimi','hendrix') #passing arguments\n",
    "print(musician)"
   ]
  },
  {
   "cell_type": "code",
   "execution_count": 2,
   "id": "d5308a06-521a-45e7-a80f-e1245c7393cc",
   "metadata": {},
   "outputs": [
    {
     "name": "stdout",
     "output_type": "stream",
     "text": [
      "Jimi Hendrix\n"
     ]
    }
   ],
   "source": [
    "#trying without assignment\n",
    "def get_formatted_name(first_name,last_name): #defining a function\n",
    "    \"\"\" Return a full name,neatly formatted.\"\"\"\n",
    "    full_name=f\"{first_name} {last_name}\" #returning the passed_arguments\n",
    "    return full_name.title()\n",
    "\n",
    "print(get_formatted_name('jimi','hendrix')) #passing arguments"
   ]
  },
  {
   "cell_type": "code",
   "execution_count": 3,
   "id": "db614968-476c-4e70-8389-ece7b5c7b8b8",
   "metadata": {},
   "outputs": [
    {
     "data": {
      "text/plain": [
       "'Jimi Hendrix'"
      ]
     },
     "execution_count": 3,
     "metadata": {},
     "output_type": "execute_result"
    }
   ],
   "source": [
    "#without printing , it displays the returned value as strings\n",
    "def get_formatted_name(first_name,last_name): #defining a function\n",
    "    \"\"\" Return a full name,neatly formatted.\"\"\"\n",
    "    full_name=f\"{first_name} {last_name}\" #returning the passed_arguments\n",
    "    return full_name.title()\n",
    "get_formatted_name('jimi','hendrix')"
   ]
  },
  {
   "cell_type": "markdown",
   "id": "e5e3a27f-86d0-4130-9c9b-b96c812e166b",
   "metadata": {},
   "source": [
    "2.Multiple Function Call"
   ]
  },
  {
   "cell_type": "code",
   "execution_count": 4,
   "id": "3859489e-779d-4cd4-b51b-0972f7acf186",
   "metadata": {},
   "outputs": [
    {
     "name": "stdout",
     "output_type": "stream",
     "text": [
      "\n",
      " I have a pet Hamster.\n",
      "My Hamster's name is Harry.\n",
      "\n",
      " I have a pet Dog.\n",
      "My Dog's name is Bruno.\n"
     ]
    }
   ],
   "source": [
    "def describe_pet(animal_type, pet_name): #defining a function\n",
    "    \"\"\"Display information about a pet\"\"\"\n",
    "    print(f\"\\n I have a pet {animal_type}.\") \n",
    "    print(f\"My {animal_type}'s name is {pet_name.title()}.\")\n",
    "\n",
    "describe_pet(\"Hamster\",\"Harry\")  # function call\n",
    "describe_pet(\"Dog\",\"Bruno\") "
   ]
  },
  {
   "cell_type": "markdown",
   "id": "169a5ad9-d2ac-4711-a048-27d6a532dda3",
   "metadata": {},
   "source": [
    "3. Order matters in positional Arguments"
   ]
  },
  {
   "cell_type": "code",
   "execution_count": 5,
   "id": "c5ba0d97-2794-4732-83aa-2b0ae3195ebd",
   "metadata": {},
   "outputs": [
    {
     "name": "stdout",
     "output_type": "stream",
     "text": [
      "\n",
      " I have a pet Harry.\n",
      "My Harry's name is Hamster.\n"
     ]
    }
   ],
   "source": [
    "#what if we change the order ?\n",
    "def describe_pet(animal_type, pet_name): #defining a function\n",
    "    \"\"\"Display information about a pet\"\"\"\n",
    "    print(f\"\\n I have a pet {animal_type}.\") \n",
    "    print(f\"My {animal_type}'s name is {pet_name.title()}.\")\n",
    "\n",
    "describe_pet(\"Harry\",\"Hamster\")  # function call"
   ]
  },
  {
   "cell_type": "markdown",
   "id": "97b9e83f-15fc-492a-b5b4-474ea242f850",
   "metadata": {},
   "source": [
    "4. Keyword Arguments"
   ]
  },
  {
   "cell_type": "code",
   "execution_count": 6,
   "id": "225de8ce-2bff-4163-9fcb-14bd910ac82b",
   "metadata": {},
   "outputs": [
    {
     "name": "stdout",
     "output_type": "stream",
     "text": [
      "\n",
      " I have a pet Hamster.\n",
      "My Hamster's name is Harry.\n"
     ]
    }
   ],
   "source": [
    "def describe_pet(animal_type, pet_name): #function definition\n",
    "    \"\"\"Display information about a pet\"\"\"\n",
    "    print(f\"\\n I have a pet {animal_type}.\") \n",
    "    print(f\"My {animal_type}'s name is {pet_name.title()}.\")\n",
    "\n",
    "describe_pet(animal_type = \"Hamster\",pet_name = \"Harry\") # function call (using keyword arguments)"
   ]
  },
  {
   "cell_type": "markdown",
   "id": "c9b9c04e-b8f6-40f1-b624-8067505ade34",
   "metadata": {},
   "source": [
    "5. Default Values"
   ]
  },
  {
   "cell_type": "code",
   "execution_count": 7,
   "id": "8444426e-ceaf-4128-ab88-66da88a84b05",
   "metadata": {},
   "outputs": [
    {
     "name": "stdout",
     "output_type": "stream",
     "text": [
      "\n",
      " I have a pet dog.\n",
      "My dog's name is Bruno.\n"
     ]
    }
   ],
   "source": [
    "def describe_pet(pet_name, animal_type = \"dog\"): #function defition\n",
    "    \"\"\"Display information about a pet\"\"\"\n",
    "    print(f\"\\n I have a pet {animal_type}.\")\n",
    "    print(f\"My {animal_type}'s name is {pet_name.title()}.\")\n",
    "\n",
    "describe_pet(pet_name = \"Bruno\") # function call ( calling default value)"
   ]
  },
  {
   "cell_type": "markdown",
   "id": "aa5139b6-7ce1-49e8-861f-d04bb0edcf7f",
   "metadata": {},
   "source": [
    "6. Hence many ways to call a function"
   ]
  },
  {
   "cell_type": "code",
   "execution_count": 9,
   "id": "864218cf-60a4-446f-a28f-a820bcb73439",
   "metadata": {},
   "outputs": [
    {
     "name": "stdout",
     "output_type": "stream",
     "text": [
      "\n",
      " I have a pet dog.\n",
      "My dog's name is Bruno.\n",
      "\n",
      " I have a pet Hamster.\n",
      "My Hamster's name is Harry.\n",
      "\n",
      " I have a pet Hamster.\n",
      "My Hamster's name is Harry.\n",
      "\n",
      " I have a pet Harry.\n",
      "My Harry's name is Hamster.\n"
     ]
    }
   ],
   "source": [
    "#many ways to call a function.\n",
    "describe_pet(pet_name = \"Bruno\") #Keyword and default assignments\n",
    "describe_pet(animal_type = \"Hamster\",pet_name = \"Harry\") #keyword Arguments\n",
    "describe_pet(\"Harry\",\"Hamster\")  #Positional arguments\n",
    "describe_pet(\"Hamster\",animal_type=\"Harry\") #Both positional and keyword arguments"
   ]
  },
  {
   "cell_type": "markdown",
   "id": "56cd4d8d-8c85-4349-90b9-f36ebb9a550b",
   "metadata": {},
   "source": [
    "7. Returning a simple value"
   ]
  },
  {
   "cell_type": "code",
   "execution_count": 10,
   "id": "d7e3b83f-accf-411a-aedc-bee95278ed29",
   "metadata": {},
   "outputs": [
    {
     "name": "stdout",
     "output_type": "stream",
     "text": [
      "Jimi Hendrix\n"
     ]
    }
   ],
   "source": [
    "def get_formatted_name(first_name, last_name): #function definition.\n",
    "    \"\"\"\"Return a full name, neatly formatted\"\"\"\n",
    "    full_name = f\"{first_name} {last_name}\"\n",
    "    return full_name.title() #returning a value\n",
    "\n",
    "musician = get_formatted_name('jimi','hendrix') #passing arguments\n",
    "print(musician)"
   ]
  },
  {
   "cell_type": "markdown",
   "id": "f136a4fd-b515-4b74-ab20-37a74e15f872",
   "metadata": {},
   "source": [
    "8. Making an argument optional"
   ]
  },
  {
   "cell_type": "code",
   "execution_count": 7,
   "id": "e5d34413-ee0d-40e6-a5be-ecd96c30a911",
   "metadata": {},
   "outputs": [
    {
     "name": "stdout",
     "output_type": "stream",
     "text": [
      "John Lee Doe\n",
      "Jane Doe\n"
     ]
    }
   ],
   "source": [
    "#Optional arguments always come after required ones in a function definition.\n",
    "def get_formatted_name(first_name, last_name, middle_name=''): #defining a function with optional arguments\n",
    "    \"\"\"Return a full name, neatly formatted.\"\"\"\n",
    "    if middle_name:\n",
    "        full_name = f\"{first_name} {middle_name} {last_name}\" #using format string to make a name\n",
    "    else:\n",
    "        full_name = f\"{first_name} {last_name}\"\n",
    "    return full_name.title() #returning name as value\n",
    "\n",
    "#function call\n",
    "musician1 = get_formatted_name('john', 'doe', 'lee') #with middle name\n",
    "print(musician1) \n",
    "\n",
    "musician2 = get_formatted_name('jane', 'doe') #without middle name\n",
    "print(musician2)"
   ]
  },
  {
   "cell_type": "markdown",
   "id": "7c6e1cbc-4498-4a90-9920-fd2a6b36dd94",
   "metadata": {},
   "source": [
    "9. Returning a dictionary"
   ]
  },
  {
   "cell_type": "code",
   "execution_count": 1,
   "id": "e295df23-ab95-4d4d-981f-843da84154fd",
   "metadata": {},
   "outputs": [
    {
     "name": "stdout",
     "output_type": "stream",
     "text": [
      "{'first_name': 'Jimi', 'last_name': 'Hendrix', 'full_name': 'Jimi Hendrix'}\n"
     ]
    }
   ],
   "source": [
    "def get_formatted_name(first_name, last_name): #function definition\n",
    "    \"\"\"Return a dictionary with full name, first name, and last name, neatly formatted\"\"\"\n",
    "    full_name = f\"{first_name} {last_name}\".title()\n",
    "    return {\n",
    "        'first_name': first_name.title(),\n",
    "        'last_name': last_name.title(),\n",
    "        'full_name': full_name\n",
    "    } #returning a value\n",
    "\n",
    "musician = get_formatted_name('jimi', 'hendrix') #passing parameters\n",
    "print(musician)\n"
   ]
  },
  {
   "cell_type": "markdown",
   "id": "8281da31-936e-44a0-82bd-7548b5d762c3",
   "metadata": {},
   "source": [
    "10. Passing a list"
   ]
  },
  {
   "cell_type": "code",
   "execution_count": 12,
   "id": "569672fd-25aa-43c4-8533-6ac16b74c84f",
   "metadata": {},
   "outputs": [
    {
     "name": "stdout",
     "output_type": "stream",
     "text": [
      "Hello, Reena\n",
      "Hello, Kamesh\n",
      "Hello, Anu\n",
      "Hello, Sri\n"
     ]
    }
   ],
   "source": [
    "def greet_user(names): #function defition\n",
    "    # printing a list of elements\n",
    "    for name in names:\n",
    "        msg = f\"Hello, {name}\"\n",
    "        print(msg)\n",
    "\n",
    "names = ['Reena','Kamesh','Anu','Sri'] #list of names\n",
    "greet_user(names)"
   ]
  },
  {
   "cell_type": "markdown",
   "id": "8e93ea4a-bd36-47cf-8b28-0f70bc254108",
   "metadata": {},
   "source": [
    "11. Modifying a list"
   ]
  },
  {
   "cell_type": "code",
   "execution_count": 8,
   "id": "e7cf1f18-5bb5-431c-802a-1b0c2658136a",
   "metadata": {},
   "outputs": [
    {
     "name": "stdout",
     "output_type": "stream",
     "text": [
      "['apple', 'blueberry', 'cherry']\n"
     ]
    }
   ],
   "source": [
    "fruits = ['apple', 'banana', 'cherry'] #lists\n",
    "fruits[1] = 'blueberry' #modifying the elements through index\n",
    "print(fruits) \n"
   ]
  },
  {
   "cell_type": "markdown",
   "id": "f2c1ba86-f71a-49e2-b9a7-a9abb02b3c44",
   "metadata": {},
   "source": [
    "12. Protecting a list from updates"
   ]
  },
  {
   "cell_type": "code",
   "execution_count": 10,
   "id": "801040ee-258a-40fb-8339-949636ccb032",
   "metadata": {},
   "outputs": [
    {
     "name": "stdout",
     "output_type": "stream",
     "text": [
      "('red', 'green', 'blue')\n"
     ]
    }
   ],
   "source": [
    "#1 Changing a list into tuple\n",
    "colors = ['red', 'green', 'blue']  # Tuple instead of list\n",
    "my_tuple = tuple(colors)\n",
    "\n",
    "print(my_tuple)\n"
   ]
  },
  {
   "cell_type": "code",
   "execution_count": 11,
   "id": "e9e6b1e6-53c4-4d6f-8f69-d2648d9589c7",
   "metadata": {},
   "outputs": [
    {
     "name": "stdout",
     "output_type": "stream",
     "text": [
      "['a', 'b', 'c']\n",
      "['a', 'b', 'c', 'd']\n"
     ]
    }
   ],
   "source": [
    "#2 Return a Copy of the List (not the original)\n",
    "def get_items_copy(items):\n",
    "    return items[:]  # or list(items)\n",
    "\n",
    "original = ['a', 'b', 'c']\n",
    "copy = get_items_copy(original) # this allows us to protect the original list\n",
    "copy.append('d')\n",
    "\n",
    "print(original)  # ['a', 'b', 'c']\n",
    "print(copy)      # ['a', 'b', 'c', 'd']\n"
   ]
  },
  {
   "cell_type": "markdown",
   "id": "1d00d47a-39e4-4797-a960-7812953a9f62",
   "metadata": {},
   "source": [
    "13. Passing an Arbitrary number of arguments"
   ]
  },
  {
   "cell_type": "code",
   "execution_count": 13,
   "id": "434d35c7-5591-4d57-92aa-f9c20b889902",
   "metadata": {},
   "outputs": [
    {
     "name": "stdout",
     "output_type": "stream",
     "text": [
      "('pepperoni',)\n",
      "('pepperoni', 'mushrooms', 'green pepper', 'extra cheese')\n"
     ]
    }
   ],
   "source": [
    "def make_pizza(*toppings): #sequence unpacking \n",
    "    # printing n number of arguments\n",
    "    print(toppings)\n",
    "    \n",
    "make_pizza(\"pepperoni\") #function call with single argument\n",
    "make_pizza(\"pepperoni\",\"mushrooms\", \"green pepper\",\"extra cheese\") #function call with multiple arguments"
   ]
  },
  {
   "cell_type": "markdown",
   "id": "f8131ee6-aeb1-4ffe-85ef-23c8c08f56dd",
   "metadata": {},
   "source": [
    "14. Mixing Positional and Arbitrary Arguments"
   ]
  },
  {
   "cell_type": "code",
   "execution_count": 14,
   "id": "46dfe247-061b-4df8-ba8f-74336f2f1185",
   "metadata": {},
   "outputs": [
    {
     "name": "stdout",
     "output_type": "stream",
     "text": [
      "\n",
      " Making a 16-inch pizza with the following toppings\n",
      "('pepperoni',)\n",
      "\n",
      " Making a 22-inch pizza with the following toppings\n",
      "('pepperoni', 'mushrooms', 'green pepper', 'extra cheese')\n",
      "('pepperoni', 'mushrooms', 'green pepper', 'extra cheese')\n",
      "('pepperoni', 'mushrooms', 'green pepper', 'extra cheese')\n",
      "('pepperoni', 'mushrooms', 'green pepper', 'extra cheese')\n"
     ]
    }
   ],
   "source": [
    "def make_pizza(size, *toppings): #sequence unpacking\n",
    "    # size is a postional and toppings is a keyword argument\n",
    "    print(f\"\\n Making a {size}-inch pizza with the following toppings\")\n",
    "    for topping in toppings: #traversal\n",
    "        print(toppings)\n",
    "    \n",
    "make_pizza(16,\"pepperoni\") #positional with sequence unpacking\n",
    "make_pizza(22,\"pepperoni\",\"mushrooms\", \"green pepper\",\"extra cheese\")"
   ]
  },
  {
   "cell_type": "markdown",
   "id": "afb15520-6469-48cf-9267-6b115dc87cd3",
   "metadata": {},
   "source": [
    "15. Using Arbitrary Keyword Arguments"
   ]
  },
  {
   "cell_type": "code",
   "execution_count": 15,
   "id": "a2c90a76-0dce-4174-9b7c-8803f4e000e6",
   "metadata": {},
   "outputs": [
    {
     "name": "stdout",
     "output_type": "stream",
     "text": [
      "{'location': 'princeton', 'field': 'physics', 'first_name': 'albert', 'last_name': 'einstein'}\n"
     ]
    }
   ],
   "source": [
    "def build_profile(first, last, **user_info): #defintion with dictionary unpacking\n",
    "    # positional and keyword arguments returning a dict\n",
    "    user_info['first_name'] = first\n",
    "    user_info['last_name'] = last\n",
    "    return user_info #returning information\n",
    "\n",
    "user_profile = build_profile('albert','einstein',location='princeton',field='physics') #passing arguments as dictionary keuy and values.\n",
    "print(user_profile)\n"
   ]
  },
  {
   "cell_type": "markdown",
   "id": "b15bd9de-02ce-44c6-9c3c-7801b5eaa141",
   "metadata": {},
   "source": [
    "16. Storing your function in modules"
   ]
  },
  {
   "cell_type": "code",
   "execution_count": 2,
   "id": "0dcea45a-bb0e-48a3-8515-e61a53cb6c91",
   "metadata": {},
   "outputs": [],
   "source": [
    "##refer to the new notebook ;"
   ]
  },
  {
   "cell_type": "markdown",
   "id": "d8bbd900-d17e-436c-8b59-14a8f2acb990",
   "metadata": {},
   "source": [
    "17.Importing Specific Functions"
   ]
  },
  {
   "cell_type": "code",
   "execution_count": 3,
   "id": "340d41e3-8334-43df-8705-359bee97b65d",
   "metadata": {},
   "outputs": [
    {
     "name": "stdout",
     "output_type": "stream",
     "text": [
      "The square root of 25 is 5.0\n"
     ]
    }
   ],
   "source": [
    "from math import sqrt #importing specific function\n",
    "num = 25 \n",
    "result = sqrt(num) #calculating the square of a number\n",
    "print(f\"The square root of {num} is {result}\") #displaying results\n"
   ]
  },
  {
   "cell_type": "markdown",
   "id": "99cca72d-2cfc-499f-a1a7-0ea5b06c4651",
   "metadata": {},
   "source": [
    "18. Give a Function an Alias using 'as'"
   ]
  },
  {
   "cell_type": "code",
   "execution_count": 4,
   "id": "b2bf65dc-56b1-4b36-bfee-f0aa6a59eb2d",
   "metadata": {},
   "outputs": [
    {
     "name": "stdout",
     "output_type": "stream",
     "text": [
      "The square root of 49 is 7.0\n"
     ]
    }
   ],
   "source": [
    "from math import sqrt as square_root #importing specific function\n",
    "num = 49\n",
    "result = square_root(num) #calculating the square of a number\n",
    "print(f\"The square root of {num} is {result}\") #displaying results"
   ]
  },
  {
   "cell_type": "markdown",
   "id": "8ac8d4dc-7035-443e-b7ed-fc68a1d36315",
   "metadata": {},
   "source": [
    "19. Give a Module an Alias uisng 'as'"
   ]
  },
  {
   "cell_type": "code",
   "execution_count": 5,
   "id": "6e5ca43a-42fd-4609-89d2-6a7200bd93ce",
   "metadata": {},
   "outputs": [
    {
     "name": "stdout",
     "output_type": "stream",
     "text": [
      "[1 2 3]\n"
     ]
    }
   ],
   "source": [
    "import numpy as np #renaming module name using alias \n",
    "array = np.array([1, 2, 3]) #making a array\n",
    "print(array)\n"
   ]
  },
  {
   "cell_type": "markdown",
   "id": "ae89a44e-805e-4982-b2cc-7fa3dce80552",
   "metadata": {},
   "source": [
    "20.Importing All Functions in a Module"
   ]
  },
  {
   "cell_type": "code",
   "execution_count": 6,
   "id": "9cbf37d2-dd38-49f7-a250-9a7151a88e6b",
   "metadata": {},
   "outputs": [
    {
     "name": "stdout",
     "output_type": "stream",
     "text": [
      "4.0\n",
      "120\n"
     ]
    }
   ],
   "source": [
    "from math import *  #importing all functions from the module math\n",
    "\n",
    "print(sqrt(16))       # Uses sqrt() without math. prefix\n",
    "print(factorial(5))   # Uses factorial() directly\n"
   ]
  },
  {
   "cell_type": "code",
   "execution_count": null,
   "id": "eb2b059d-fe4f-4973-a81d-0098535589c8",
   "metadata": {},
   "outputs": [],
   "source": []
  }
 ],
 "metadata": {
  "kernelspec": {
   "display_name": "Python 3 (ipykernel)",
   "language": "python",
   "name": "python3"
  },
  "language_info": {
   "codemirror_mode": {
    "name": "ipython",
    "version": 3
   },
   "file_extension": ".py",
   "mimetype": "text/x-python",
   "name": "python",
   "nbconvert_exporter": "python",
   "pygments_lexer": "ipython3",
   "version": "3.11.4"
  }
 },
 "nbformat": 4,
 "nbformat_minor": 5
}
