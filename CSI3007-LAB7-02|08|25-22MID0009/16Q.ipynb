{
 "cells": [
  {
   "cell_type": "code",
   "execution_count": 1,
   "id": "27820417-4b05-46e6-98c8-31b6a44d2100",
   "metadata": {},
   "outputs": [
    {
     "name": "stdout",
     "output_type": "stream",
     "text": [
      "Defaulting to user installation because normal site-packages is not writeable\n",
      "Requirement already satisfied: ipynb in c:\\users\\anushree\\appdata\\roaming\\python\\python311\\site-packages (0.5.1)\n"
     ]
    },
    {
     "name": "stderr",
     "output_type": "stream",
     "text": [
      "\n",
      "[notice] A new release of pip is available: 22.3 -> 25.2\n",
      "[notice] To update, run: python.exe -m pip install --upgrade pip\n"
     ]
    }
   ],
   "source": [
    "!pip install ipynb\n",
    "from ipynb.fs.full.pizza import make_pizza"
   ]
  },
  {
   "cell_type": "code",
   "execution_count": 2,
   "id": "103e6ce1-b305-40d8-864f-a4c87dbb4b28",
   "metadata": {},
   "outputs": [
    {
     "name": "stdout",
     "output_type": "stream",
     "text": [
      "('mushrooms', 'onions', 'olives')\n"
     ]
    }
   ],
   "source": [
    "make_pizza('mushrooms','onions','olives')"
   ]
  },
  {
   "cell_type": "code",
   "execution_count": null,
   "id": "65e8c76f-b9ff-4be2-bdec-f78cf57f0daf",
   "metadata": {},
   "outputs": [],
   "source": [
    "#can import pizza by just saving the pizza file as pizza.py"
   ]
  }
 ],
 "metadata": {
  "kernelspec": {
   "display_name": "Python 3 (ipykernel)",
   "language": "python",
   "name": "python3"
  },
  "language_info": {
   "codemirror_mode": {
    "name": "ipython",
    "version": 3
   },
   "file_extension": ".py",
   "mimetype": "text/x-python",
   "name": "python",
   "nbconvert_exporter": "python",
   "pygments_lexer": "ipython3",
   "version": "3.11.4"
  }
 },
 "nbformat": 4,
 "nbformat_minor": 5
}
