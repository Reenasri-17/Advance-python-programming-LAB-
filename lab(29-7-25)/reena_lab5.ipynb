{
 "cells": [
  {
   "cell_type": "markdown",
   "id": "624da571-37fe-446b-bf66-c586fabb54c6",
   "metadata": {},
   "source": [
    "OFF-BY-ONE BEHAVIOR"
   ]
  },
  {
   "cell_type": "code",
   "execution_count": 13,
   "id": "84872006-17c4-43ea-a5fc-0de8105fdcc2",
   "metadata": {},
   "outputs": [
    {
     "name": "stdout",
     "output_type": "stream",
     "text": [
      "0\n",
      "1\n",
      "2\n",
      "3\n",
      "4\n"
     ]
    }
   ],
   "source": [
    "for i in range(5): #i value ranges from 0 to 5-1\n",
    "    print(i)"
   ]
  },
  {
   "cell_type": "code",
   "execution_count": 14,
   "id": "3cb84fe4-490f-4ebb-a9b9-66c1336642f5",
   "metadata": {},
   "outputs": [
    {
     "name": "stdout",
     "output_type": "stream",
     "text": [
      "1\n",
      "2\n",
      "3\n",
      "4\n"
     ]
    }
   ],
   "source": [
    "for i in range(1,5): #i value ranges from (1 to 5-1)\n",
    "    print(i)"
   ]
  },
  {
   "cell_type": "markdown",
   "id": "6da15a43-6420-4a4b-94b1-97ed41c44149",
   "metadata": {},
   "source": [
    "SLICING A LIST"
   ]
  },
  {
   "cell_type": "code",
   "execution_count": 17,
   "id": "cafb0e98-7dd9-4ea4-abcd-8c1708cb18c7",
   "metadata": {},
   "outputs": [
    {
     "name": "stdout",
     "output_type": "stream",
     "text": [
      "[3, 6, 7] first three elements\n"
     ]
    }
   ],
   "source": [
    "l=[3,6,7,8,9] #original list\n",
    "print(l[:3],\"first three elements\") #accessing first three elements"
   ]
  },
  {
   "cell_type": "code",
   "execution_count": 18,
   "id": "7c3533db-3b1f-41ad-9601-2c7b305b7b44",
   "metadata": {},
   "outputs": [
    {
     "name": "stdout",
     "output_type": "stream",
     "text": [
      "[8, 9] last two elements\n"
     ]
    }
   ],
   "source": [
    "print(l[-2:],\"last two elements\") #accessing last 2 elements"
   ]
  },
  {
   "cell_type": "code",
   "execution_count": 19,
   "id": "fd8a84d2-fcd4-4ed8-9811-0b20899e2239",
   "metadata": {},
   "outputs": [
    {
     "name": "stdout",
     "output_type": "stream",
     "text": [
      "[7, 8, 9] third to last\n"
     ]
    }
   ],
   "source": [
    "print(l[2:],\"third to last\") # accesing 3rd to last element"
   ]
  },
  {
   "cell_type": "markdown",
   "id": "e1b6ea6f-99ee-40ba-b559-331e2bc136e9",
   "metadata": {},
   "source": [
    "COPYING A LIST"
   ]
  },
  {
   "cell_type": "code",
   "execution_count": 20,
   "id": "72b01cff-9fca-489b-a951-554cc3e3a63b",
   "metadata": {},
   "outputs": [
    {
     "name": "stdout",
     "output_type": "stream",
     "text": [
      "['cake', 'pizza', 'stew']\n"
     ]
    }
   ],
   "source": [
    "my_fav=['cake','pizza','stew'] #original list\n",
    "friend_fav=my_fav[:]      #copying the elements of list\n",
    "print(friend_fav)       #printing elements"
   ]
  },
  {
   "cell_type": "code",
   "execution_count": 21,
   "id": "49da8e05-c3fe-4511-b0bf-4e265d81c16b",
   "metadata": {},
   "outputs": [
    {
     "name": "stdout",
     "output_type": "stream",
     "text": [
      "['cake', 'pizza', 'stew']\n"
     ]
    }
   ],
   "source": [
    "friend_favs=my_fav     #copying list\n",
    "print(friend_favs)"
   ]
  },
  {
   "cell_type": "code",
   "execution_count": 22,
   "id": "979f3ac3-78cd-4bdd-9eb2-6f2b43d23479",
   "metadata": {},
   "outputs": [
    {
     "name": "stdout",
     "output_type": "stream",
     "text": [
      "131056409705920\n",
      "131056365789888\n"
     ]
    }
   ],
   "source": [
    "print(id(friend_fav))    #id of pass_by_value\n",
    "print(id(friend_favs))   #id of pass_by_reference"
   ]
  },
  {
   "cell_type": "code",
   "execution_count": 23,
   "id": "c67b258f-7e2f-41b6-bdd7-3e4e53c8372c",
   "metadata": {},
   "outputs": [],
   "source": [
    "my_fav.append('porridge') # adding new elements to the org list"
   ]
  },
  {
   "cell_type": "code",
   "execution_count": 24,
   "id": "a4a3c5c0-0c7e-4f71-9e1a-2f1457b39996",
   "metadata": {},
   "outputs": [
    {
     "name": "stdout",
     "output_type": "stream",
     "text": [
      "['cake', 'pizza', 'stew', 'porridge']\n",
      "['cake', 'pizza', 'stew']\n",
      "['cake', 'pizza', 'stew', 'porridge']\n"
     ]
    }
   ],
   "source": [
    "print(my_fav)        # printing org list\n",
    "print(friend_fav)    # pass_by_value list\n",
    "print(friend_favs)   #pass_by_refrence list"
   ]
  },
  {
   "cell_type": "markdown",
   "id": "49997647-2139-4926-93a5-bd16ccf8bbd3",
   "metadata": {},
   "source": [
    "LOOPING THROUGH SLICE"
   ]
  },
  {
   "cell_type": "code",
   "execution_count": 29,
   "id": "d9c287d5-3026-400c-afac-455740905f71",
   "metadata": {},
   "outputs": [
    {
     "name": "stdout",
     "output_type": "stream",
     "text": [
      "Cake\n",
      "Pizza\n",
      "Stew\n"
     ]
    }
   ],
   "source": [
    "for s in my_fav[:3]: #Looping through my_fav list\n",
    "    print(s.title()) #using title() function "
   ]
  },
  {
   "cell_type": "markdown",
   "id": "ea0bf69f-e366-41ff-9438-edad1898b9c8",
   "metadata": {},
   "source": [
    "TUPLES ARE IMMUTABLE"
   ]
  },
  {
   "cell_type": "code",
   "execution_count": 26,
   "id": "74f6a5a1-4396-4027-b2e6-93b78a2af799",
   "metadata": {},
   "outputs": [
    {
     "name": "stdout",
     "output_type": "stream",
     "text": [
      "(100, 200, 300, 400, 500)\n",
      "200\n"
     ]
    }
   ],
   "source": [
    "t=(100,200,300,400,500)    #tuple assingment\n",
    "print(t) #printing tuple\n",
    "print(t[1])    #accessing 2nd element "
   ]
  },
  {
   "cell_type": "code",
   "execution_count": 28,
   "id": "89bd8067-789f-4560-bb9d-82f0b6f71622",
   "metadata": {},
   "outputs": [
    {
     "ename": "TypeError",
     "evalue": "'tuple' object does not support item assignment",
     "output_type": "error",
     "traceback": [
      "\u001b[0;31m---------------------------------------------------------------------------\u001b[0m",
      "\u001b[0;31mTypeError\u001b[0m                                 Traceback (most recent call last)",
      "Cell \u001b[0;32mIn[28], line 1\u001b[0m\n\u001b[0;32m----> 1\u001b[0m t[\u001b[38;5;241m1\u001b[39m]\u001b[38;5;241m=\u001b[39m\u001b[38;5;241m-\u001b[39m\u001b[38;5;241m50\u001b[39m\n",
      "\u001b[0;31mTypeError\u001b[0m: 'tuple' object does not support item assignment"
     ]
    }
   ],
   "source": [
    "t[1]=-50 # tuple are immutable(error)"
   ]
  },
  {
   "cell_type": "markdown",
   "id": "21e03151-0ea9-44d3-9e43-28dc1b82a42e",
   "metadata": {},
   "source": [
    "LOOPING THROUGH TUPLE"
   ]
  },
  {
   "cell_type": "code",
   "execution_count": 31,
   "id": "3c7fd9ad-00d2-425f-a3cc-5eacb47ad1e5",
   "metadata": {},
   "outputs": [
    {
     "name": "stdout",
     "output_type": "stream",
     "text": [
      "200\n",
      "300\n",
      "400\n",
      "500\n"
     ]
    }
   ],
   "source": [
    "for i in t[1:]:    #slicing tuple, accessing elements from 2nd element\n",
    "    print(i)"
   ]
  },
  {
   "cell_type": "code",
   "execution_count": 32,
   "id": "d68124a4-ad84-49d1-bc35-2915c0dc9394",
   "metadata": {},
   "outputs": [
    {
     "name": "stdout",
     "output_type": "stream",
     "text": [
      "(1, 2, 3, 4, 5)\n"
     ]
    }
   ],
   "source": [
    "t=(1,2,3,4,5)    #doesnt raise an error\n",
    "print(t)"
   ]
  },
  {
   "cell_type": "markdown",
   "id": "8f993cf8-5b57-42ea-851b-eac3dbbd9189",
   "metadata": {},
   "source": [
    "DICTIONARIES"
   ]
  },
  {
   "cell_type": "code",
   "execution_count": 36,
   "id": "5cc76c87-6e5e-4830-971b-8ed2fbf23569",
   "metadata": {},
   "outputs": [],
   "source": [
    "d={ 'a':'reena','b':'sri'} #ORIGINAL DICTIONARY"
   ]
  },
  {
   "cell_type": "code",
   "execution_count": 37,
   "id": "da8540b1-06cf-435c-a68c-b18f95a9e1f1",
   "metadata": {},
   "outputs": [
    {
     "name": "stdout",
     "output_type": "stream",
     "text": [
      "{'a': 'reena', 'b': 'sri'}\n"
     ]
    }
   ],
   "source": [
    "print(d) #printing dictionary"
   ]
  },
  {
   "cell_type": "code",
   "execution_count": 38,
   "id": "95f81e61-3692-4829-be52-d35ae3ddbd02",
   "metadata": {},
   "outputs": [
    {
     "name": "stdout",
     "output_type": "stream",
     "text": [
      "reena\n"
     ]
    }
   ],
   "source": [
    "print(d['a']) #accessing value through key"
   ]
  },
  {
   "cell_type": "code",
   "execution_count": 39,
   "id": "4d78eb2f-5068-4e76-afb6-6d10ad6fba6a",
   "metadata": {},
   "outputs": [],
   "source": [
    "ad={ 'a':'reena','b':7} #can hold different data types"
   ]
  },
  {
   "cell_type": "code",
   "execution_count": null,
   "id": "74137f67-8ba3-45a1-b3da-ecc4f0ec6e05",
   "metadata": {},
   "outputs": [],
   "source": []
  }
 ],
 "metadata": {
  "kernelspec": {
   "display_name": "Python 3 (ipykernel)",
   "language": "python",
   "name": "python3"
  },
  "language_info": {
   "codemirror_mode": {
    "name": "ipython",
    "version": 3
   },
   "file_extension": ".py",
   "mimetype": "text/x-python",
   "name": "python",
   "nbconvert_exporter": "python",
   "pygments_lexer": "ipython3",
   "version": "3.12.4"
  }
 },
 "nbformat": 4,
 "nbformat_minor": 5
}
