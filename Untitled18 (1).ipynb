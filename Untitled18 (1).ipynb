{
 "cells": [
  {
   "cell_type": "markdown",
   "id": "5ecdf0cf-a2e2-4c91-b8a7-579333edbc78",
   "metadata": {},
   "source": [
    "1.PASSING ARGUMENTS -POSITIONAL ARGUMENTS"
   ]
  },
  {
   "cell_type": "code",
   "execution_count": 3,
   "id": "1d1201a9-bb5d-47d9-8dd9-008221040ed1",
   "metadata": {},
   "outputs": [
    {
     "name": "stdout",
     "output_type": "stream",
     "text": [
      "Jimihendrix\n"
     ]
    }
   ],
   "source": [
    "#returning a simple value\n",
    "def get_formatted_name(first_name,last_name):\n",
    "    \"\"\" Return a full name,neatly formatted.\"\"\"\n",
    "    full_name=f\"{first_name}{last_name}\"\n",
    "    return full_name.title()\n",
    "\n",
    "musician =get_formatted_name('jimi','hendrix')\n",
    "print(musician)"
   ]
  },
  {
   "cell_type": "code",
   "execution_count": 5,
   "id": "5db1916b-c27a-4302-8380-db8a4ad56213",
   "metadata": {},
   "outputs": [
    {
     "name": "stdout",
     "output_type": "stream",
     "text": [
      "Jimihendrix\n"
     ]
    }
   ],
   "source": [
    "#without assignment\n",
    "def get_formatted_name(first_name,last_name):\n",
    "    \"\"\" Return a full name,neatly formatted.\"\"\"\n",
    "    full_name=f\"{first_name}{last_name}\"\n",
    "    return full_name.title()\n",
    "\n",
    "print(get_formatted_name('jimi','hendrix'))\n"
   ]
  },
  {
   "cell_type": "code",
   "execution_count": 6,
   "id": "2c536837-abc5-4c4b-b09c-5ddf7c3b7376",
   "metadata": {},
   "outputs": [
    {
     "data": {
      "text/plain": [
       "'Jimihendrix'"
      ]
     },
     "execution_count": 6,
     "metadata": {},
     "output_type": "execute_result"
    }
   ],
   "source": [
    "def get_formatted_name(first_name,last_name):\n",
    "    \"\"\" Return a full name,neatly formatted.\"\"\"\n",
    "    full_name=f\"{first_name}{last_name}\"\n",
    "    return full_name.title()\n",
    "get_formatted_name('jimi','hendrix')"
   ]
  },
  {
   "cell_type": "markdown",
   "id": "33a2d0e1-6577-4c1b-8cfe-53ca8723da13",
   "metadata": {},
   "source": [
    "##Returning a dictionary"
   ]
  },
  {
   "cell_type": "code",
   "execution_count": null,
   "id": "a892398e-b109-485c-aef8-782964bc90a6",
   "metadata": {},
   "outputs": [],
   "source": [
    "def build_person(first_name,last_name):\n",
    "    \"\"\" Return a full name,neatly formatted.\"\"\"\n",
    "    full_name=f\"{first_name}{last_name}\"\n",
    "    return person\n",
    "\n"
   ]
  },
  {
   "cell_type": "code",
   "execution_count": 7,
   "id": "57f89120-9fc2-47da-b96c-4de974219e78",
   "metadata": {},
   "outputs": [
    {
     "name": "stdout",
     "output_type": "stream",
     "text": [
      "('pepperoni',)\n",
      "('mushrooms', 'olives', 'onion')\n"
     ]
    }
   ],
   "source": [
    "def make_pizza(*toppings):\n",
    "    print(toppings)\n",
    "\n",
    "make_pizza('pepperoni')\n",
    "make_pizza('mushrooms','olives','onion')"
   ]
  },
  {
   "cell_type": "markdown",
   "id": "84e48cc2-d88e-4736-9e3b-81aa02b91ce1",
   "metadata": {},
   "source": [
    "#using keyword arguments"
   ]
  },
  {
   "cell_type": "code",
   "execution_count": 10,
   "id": "25c1414a-6292-4080-b7dd-09ee55b0f467",
   "metadata": {},
   "outputs": [
    {
     "ename": "SyntaxError",
     "evalue": "keyword argument repeated: toppings (1206578755.py, line 5)",
     "output_type": "error",
     "traceback": [
      "\u001b[0;36m  Cell \u001b[0;32mIn[10], line 5\u001b[0;36m\u001b[0m\n\u001b[0;31m    make_pizza(size=15,toppings='mushrooms',toppings='olives')\u001b[0m\n\u001b[0m                                            ^\u001b[0m\n\u001b[0;31mSyntaxError\u001b[0m\u001b[0;31m:\u001b[0m keyword argument repeated: toppings\n"
     ]
    }
   ],
   "source": [
    "def make_pizza(size,*toppings):\n",
    "    print(size)\n",
    "    print(toppings)\n",
    "\n",
    "make_pizza(size=15,toppings='mushrooms',toppings='olives')"
   ]
  },
  {
   "cell_type": "code",
   "execution_count": 11,
   "id": "26bc78ae-8fb5-48e1-a3ec-c4a504a95017",
   "metadata": {},
   "outputs": [
    {
     "ename": "TypeError",
     "evalue": "make_pizza() got an unexpected keyword argument 'toppings'",
     "output_type": "error",
     "traceback": [
      "\u001b[0;31m---------------------------------------------------------------------------\u001b[0m",
      "\u001b[0;31mTypeError\u001b[0m                                 Traceback (most recent call last)",
      "Cell \u001b[0;32mIn[11], line 4\u001b[0m\n\u001b[1;32m      2\u001b[0m     \u001b[38;5;28mprint\u001b[39m(size)\n\u001b[1;32m      3\u001b[0m     \u001b[38;5;28mprint\u001b[39m(toppings)\n\u001b[0;32m----> 4\u001b[0m make_pizza(size\u001b[38;5;241m=\u001b[39m\u001b[38;5;241m15\u001b[39m,toppings\u001b[38;5;241m=\u001b[39m(\u001b[38;5;124m'\u001b[39m\u001b[38;5;124mmushrooms\u001b[39m\u001b[38;5;124m'\u001b[39m,\u001b[38;5;124m'\u001b[39m\u001b[38;5;124molives\u001b[39m\u001b[38;5;124m'\u001b[39m))\n",
      "\u001b[0;31mTypeError\u001b[0m: make_pizza() got an unexpected keyword argument 'toppings'"
     ]
    }
   ],
   "source": [
    "def make_pizza(size,*toppings):\n",
    "    print(size)\n",
    "    print(toppings)\n",
    "make_pizza(size=15,toppings=('mushrooms','olives'))"
   ]
  },
  {
   "cell_type": "code",
   "execution_count": 13,
   "id": "eebc566f-8b51-4183-8db5-e0f8f9999f01",
   "metadata": {},
   "outputs": [
    {
     "ename": "TypeError",
     "evalue": "make_pizza() got an unexpected keyword argument 'toppings'",
     "output_type": "error",
     "traceback": [
      "\u001b[0;31m---------------------------------------------------------------------------\u001b[0m",
      "\u001b[0;31mTypeError\u001b[0m                                 Traceback (most recent call last)",
      "Cell \u001b[0;32mIn[13], line 5\u001b[0m\n\u001b[1;32m      3\u001b[0m     \u001b[38;5;28;01mfor\u001b[39;00m toppings \u001b[38;5;129;01min\u001b[39;00m toppings:\n\u001b[1;32m      4\u001b[0m         \u001b[38;5;28mprint\u001b[39m(toppings)\n\u001b[0;32m----> 5\u001b[0m make_pizza(size\u001b[38;5;241m=\u001b[39m\u001b[38;5;241m15\u001b[39m,toppings\u001b[38;5;241m=\u001b[39m(\u001b[38;5;124m'\u001b[39m\u001b[38;5;124mmushrooms\u001b[39m\u001b[38;5;124m'\u001b[39m,\u001b[38;5;124m'\u001b[39m\u001b[38;5;124molives\u001b[39m\u001b[38;5;124m'\u001b[39m))\n",
      "\u001b[0;31mTypeError\u001b[0m: make_pizza() got an unexpected keyword argument 'toppings'"
     ]
    }
   ],
   "source": [
    "def make_pizza(size,*toppings):\n",
    "    print(size)\n",
    "    for toppings in toppings:\n",
    "        print(toppings)\n",
    "make_pizza(size=15,toppings=('mushrooms','olives'))"
   ]
  },
  {
   "cell_type": "code",
   "execution_count": null,
   "id": "078c9bbf-ccdd-4f1f-b8f3-78ac9aa66904",
   "metadata": {},
   "outputs": [],
   "source": []
  }
 ],
 "metadata": {
  "kernelspec": {
   "display_name": "Python 3 (ipykernel)",
   "language": "python",
   "name": "python3"
  },
  "language_info": {
   "codemirror_mode": {
    "name": "ipython",
    "version": 3
   },
   "file_extension": ".py",
   "mimetype": "text/x-python",
   "name": "python",
   "nbconvert_exporter": "python",
   "pygments_lexer": "ipython3",
   "version": "3.12.4"
  }
 },
 "nbformat": 4,
 "nbformat_minor": 5
}
