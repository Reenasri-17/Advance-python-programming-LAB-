{
 "cells": [
  {
   "cell_type": "code",
   "execution_count": 2,
   "id": "03eedaf7-6487-426a-b732-ca2476cb8faf",
   "metadata": {},
   "outputs": [
    {
     "name": "stdin",
     "output_type": "stream",
     "text": [
      "Enter places you have visited:  Goa,Chennai,Delhi,London\n",
      "How many places did you like and want to revisit?  2\n",
      "Enter the place:  Goa\n",
      "Why do you want to revisit Goa?  Beach\n",
      "Enter the place:  London\n",
      "Why do you want to revisit London?  Tower\n",
      "Enter the places you didn’t like :  Chennai\n"
     ]
    },
    {
     "name": "stdout",
     "output_type": "stream",
     "text": [
      "\n",
      "Recommended Places Based on Your Preferences:\n",
      "Since you liked Goa, you might also like: Bali, Maldives\n",
      "Since you liked London, you might also like: New York, Tokyo\n"
     ]
    }
   ],
   "source": [
    "visited_places = input(\"Enter places you have visited: \").split(',')         # Places the user has visited\n",
    "\n",
    "liked_places = []     #Places user liked and want to revisit (2D list - [place, reason])\n",
    "\n",
    "n = int(input(\"How many places did you like and want to revisit? \"))\n",
    "for _ in range(n):\n",
    "    place = input(\"Enter the place: \").strip()\n",
    "    reason = input(f\"Why do you want to revisit {place}? \").strip() \n",
    "    liked_places.append([place, reason])\n",
    "\n",
    "disliked_places = input(\"Enter the places you didn’t like : \").split(',')     # Places user didn't like\n",
    "\n",
    "# Delete disliked places from visited list\n",
    "for place in disliked_places:\n",
    "    place = place.strip()\n",
    "    if place in visited_places:\n",
    "        visited_places.remove(place)\n",
    "\n",
    "# Collaborative Filtering Simulation:\n",
    "# Predefined user-likes for similar destinations\n",
    "user_preferences = {\n",
    "    \"Beach\": [\"Goa\", \"Bali\", \"Maldives\"],\n",
    "    \"Mountain\": [\"Manali\", \"Leh\", \"Darjeeling\"],\n",
    "    \"City\": [\"New York\", \"Tokyo\", \"London\"]\n",
    "}\n",
    "\n",
    "# Recommend based on liked_places\n",
    "print(\"\\nRecommended Places Based on Your Preferences:\")\n",
    "for liked in liked_places:\n",
    "    place = liked[0].strip()\n",
    "    for category, suggestions in user_preferences.items():\n",
    "        if place in suggestions:\n",
    "            print(f\"Since you liked {place}, you might also like: \", end='')\n",
    "            print(', '.join([p for p in suggestions if p != place]))\n"
   ]
  },
  {
   "cell_type": "code",
   "execution_count": null,
   "id": "3f6c3b8d-188e-4168-9fb9-fec4ec5014a1",
   "metadata": {},
   "outputs": [],
   "source": []
  }
 ],
 "metadata": {
  "kernelspec": {
   "display_name": "Python 3 (ipykernel)",
   "language": "python",
   "name": "python3"
  },
  "language_info": {
   "codemirror_mode": {
    "name": "ipython",
    "version": 3
   },
   "file_extension": ".py",
   "mimetype": "text/x-python",
   "name": "python",
   "nbconvert_exporter": "python",
   "pygments_lexer": "ipython3",
   "version": "3.11.4"
  }
 },
 "nbformat": 4,
 "nbformat_minor": 5
}
